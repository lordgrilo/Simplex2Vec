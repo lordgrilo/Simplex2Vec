{
 "cells": [
  {
   "cell_type": "code",
   "execution_count": 1,
   "metadata": {},
   "outputs": [],
   "source": [
    "import math\n",
    "import numpy as np\n",
    "import matplotlib.pyplot as plt\n",
    "import networkx as nx\n",
    "import pickle\n",
    "import json\n",
    "import itertools\n",
    "from tqdm import tqdm_notebook\n",
    "from IPython.display import clear_output\n",
    "\n",
    "from kleinberg_experiment import *\n",
    "plt.style.use('seaborn')"
   ]
  },
  {
   "cell_type": "markdown",
   "metadata": {},
   "source": [
    "# Upload the data into memory"
   ]
  },
  {
   "cell_type": "markdown",
   "metadata": {},
   "source": [
    "We use the dataset of primary school contacts first (from Sociopatterns). We use the dataset provided by Kleinberg et al. Below we upload the simplices to the memory."
   ]
  },
  {
   "cell_type": "code",
   "execution_count": 2,
   "metadata": {},
   "outputs": [],
   "source": [
    "dataset = \"contact-primary-school\"\n",
    "data_dir = \"./data/kleinberg/{}/\".format(dataset)\n",
    "simplex_file = \"{}-simplices.txt\".format(dataset)\n",
    "size_file = \"{}-nverts.txt\".format(dataset)\n",
    "\n",
    "simplexf = open(data_dir + simplex_file, 'r')\n",
    "sizef = open(data_dir + size_file, 'r')"
   ]
  },
  {
   "cell_type": "code",
   "execution_count": 3,
   "metadata": {},
   "outputs": [
    {
     "data": {
      "application/vnd.jupyter.widget-view+json": {
       "model_id": "58a4d58afa034364a3d484fcd7990b67",
       "version_major": 2,
       "version_minor": 0
      },
      "text/plain": [
       "HBox(children=(IntProgress(value=1, bar_style='info', max=1), HTML(value='')))"
      ]
     },
     "metadata": {},
     "output_type": "display_data"
    },
    {
     "name": "stdout",
     "output_type": "stream",
     "text": [
      "\n"
     ]
    }
   ],
   "source": [
    "simplex_sizes = []\n",
    "for s in tqdm_notebook(sizef):\n",
    "    ss = s.strip()\n",
    "    simplex_sizes.append(int(ss))"
   ]
  },
  {
   "cell_type": "code",
   "execution_count": 4,
   "metadata": {},
   "outputs": [
    {
     "data": {
      "application/vnd.jupyter.widget-view+json": {
       "model_id": "c356048655314eb2a0ab52ae648c0492",
       "version_major": 2,
       "version_minor": 0
      },
      "text/plain": [
       "HBox(children=(IntProgress(value=0, max=106879), HTML(value='')))"
      ]
     },
     "metadata": {},
     "output_type": "display_data"
    },
    {
     "name": "stdout",
     "output_type": "stream",
     "text": [
      "\n",
      "Exceptions: 0\n"
     ]
    }
   ],
   "source": [
    "node_list = set([])\n",
    "simplex_list = []\n",
    "exceptions = []\n",
    "cut_size = 1000000\n",
    "for s in tqdm_notebook(simplex_sizes):\n",
    "    one_simplex = []\n",
    "    for i in range(s):\n",
    "        rl = simplexf.readline()\n",
    "        n = rl.strip()\n",
    "        try:\n",
    "            one_simplex.append(int(n))\n",
    "            node_list.add(int(n))\n",
    "        except:\n",
    "            exceptions.append(rl)\n",
    "    simplex_list.append(frozenset(one_simplex))\n",
    "    if len(simplex_list) > cut_size:\n",
    "        break\n",
    "print(\"Exceptions:\", len(exceptions))"
   ]
  },
  {
   "cell_type": "markdown",
   "metadata": {},
   "source": [
    "Kleinberg's sets their experiment as follows. On the first 80% of data they find the set of *open* triangles, i.e. the triangles in the projected graph (the one you obtain by projecting all interactions) which have all edges participating in some cliques, but not all three together in one clique. \n",
    "\n",
    "Then on the test set, they make a prediction  which open triangles from the test set will close (there will appear a clique containing this triangle). \n",
    "\n",
    "They compare their prediction with random null model, where each clique has independent probability to close which is equal to the number of closed triangles/total number of open triangles. \n",
    "\n",
    "The measure they compare is the AUC PR (area under the precision-recall curve), relative to AUC PR of the random null model. "
   ]
  },
  {
   "cell_type": "markdown",
   "metadata": {},
   "source": [
    "# Find open triangles"
   ]
  },
  {
   "cell_type": "markdown",
   "metadata": {},
   "source": [
    "Split the set of all simplices to train set (first 80%) and test set (rest 20%)."
   ]
  },
  {
   "cell_type": "code",
   "execution_count": 5,
   "metadata": {},
   "outputs": [],
   "source": [
    "threshold = int(0.8*len(simplex_list))\n",
    "train_simplices = simplex_list[:threshold]\n",
    "test_simplices = simplex_list[threshold:]"
   ]
  },
  {
   "cell_type": "markdown",
   "metadata": {},
   "source": [
    "Find all closed and open triangles in the train and test set"
   ]
  },
  {
   "cell_type": "code",
   "execution_count": 6,
   "metadata": {},
   "outputs": [
    {
     "data": {
      "application/vnd.jupyter.widget-view+json": {
       "model_id": "5ed42bcfc73c4e4a99b3b6ae6aaca0f5",
       "version_major": 2,
       "version_minor": 0
      },
      "text/plain": [
       "HBox(children=(IntProgress(value=0, max=85503), HTML(value='')))"
      ]
     },
     "metadata": {},
     "output_type": "display_data"
    },
    {
     "name": "stdout",
     "output_type": "stream",
     "text": [
      "\n",
      "Name: \n",
      "Type: Graph\n",
      "Number of nodes: 242\n",
      "Number of edges: 7575\n",
      "Average degree:  62.6033\n"
     ]
    },
    {
     "data": {
      "application/vnd.jupyter.widget-view+json": {
       "model_id": "1f66dc35d6554cf68b724f2f45f844ac",
       "version_major": 2,
       "version_minor": 0
      },
      "text/plain": [
       "HBox(children=(IntProgress(value=0, max=242), HTML(value='')))"
      ]
     },
     "metadata": {},
     "output_type": "display_data"
    },
    {
     "name": "stdout",
     "output_type": "stream",
     "text": [
      "\n",
      "Open: 80447, Closed: 4258\n"
     ]
    }
   ],
   "source": [
    "g_train = get_projected_graph(train_simplices, info = True)\n",
    "open_train, closed_train = get_open_closed_triangles(g_train, info = True)"
   ]
  },
  {
   "cell_type": "code",
   "execution_count": 7,
   "metadata": {},
   "outputs": [
    {
     "data": {
      "application/vnd.jupyter.widget-view+json": {
       "model_id": "9e3b474fbb5a4fb380e3879bc313d5fd",
       "version_major": 2,
       "version_minor": 0
      },
      "text/plain": [
       "HBox(children=(IntProgress(value=0, max=106879), HTML(value='')))"
      ]
     },
     "metadata": {},
     "output_type": "display_data"
    },
    {
     "name": "stdout",
     "output_type": "stream",
     "text": [
      "\n",
      "Name: \n",
      "Type: Graph\n",
      "Number of nodes: 242\n",
      "Number of edges: 8317\n",
      "Average degree:  68.7355\n"
     ]
    },
    {
     "data": {
      "application/vnd.jupyter.widget-view+json": {
       "model_id": "71bf9e2937b4410ea2abf625a5c8c443",
       "version_major": 2,
       "version_minor": 0
      },
      "text/plain": [
       "HBox(children=(IntProgress(value=0, max=242), HTML(value='')))"
      ]
     },
     "metadata": {},
     "output_type": "display_data"
    },
    {
     "name": "stdout",
     "output_type": "stream",
     "text": [
      "\n",
      "Open: 98621, Closed: 5139\n"
     ]
    }
   ],
   "source": [
    "g_total = get_projected_graph(simplex_list, info = True)\n",
    "open_total, closed_total = get_open_closed_triangles(g_total, info = True)"
   ]
  },
  {
   "cell_type": "markdown",
   "metadata": {},
   "source": [
    "Look which triangles have closed"
   ]
  },
  {
   "cell_type": "code",
   "execution_count": 8,
   "metadata": {},
   "outputs": [
    {
     "name": "stdout",
     "output_type": "stream",
     "text": [
      "685\n"
     ]
    }
   ],
   "source": [
    "closed_test = [t for t in closed_total if t in open_train]\n",
    "print(len(closed_test))"
   ]
  },
  {
   "cell_type": "code",
   "execution_count": 112,
   "metadata": {},
   "outputs": [
    {
     "name": "stdout",
     "output_type": "stream",
     "text": [
      "80447\n",
      "684.9999999999158\n"
     ]
    }
   ],
   "source": [
    "y_test = [1 if t in closed_test else 0 for t in open_train]\n",
    "print(len(y_test))\n",
    "y_rnd_prob = [len(closed_test)/len(open_train)]*len(y_test)\n",
    "print(sum(y_rnd_prob))"
   ]
  },
  {
   "cell_type": "markdown",
   "metadata": {},
   "source": [
    "# Simplex2Vec  test\n",
    "\n",
    "Launch and train the Simplex2Vec model. "
   ]
  },
  {
   "cell_type": "code",
   "execution_count": 9,
   "metadata": {},
   "outputs": [
    {
     "name": "stdout",
     "output_type": "stream",
     "text": [
      "DendroPY not supported.\n"
     ]
    },
    {
     "data": {
      "application/vnd.jupyter.widget-view+json": {
       "model_id": "510d02820e114640ab5a3dc1a38e131a",
       "version_major": 2,
       "version_minor": 0
      },
      "text/plain": [
       "HBox(children=(IntProgress(value=0, description='Creating Hasse diagram', max=11179, style=ProgressStyle(descr…"
      ]
     },
     "metadata": {},
     "output_type": "display_data"
    },
    {
     "name": "stdout",
     "output_type": "stream",
     "text": [
      "\n",
      "Name: \n",
      "Type: Graph\n",
      "Number of nodes: 12394\n",
      "Number of edges: 29209\n",
      "Average degree:   4.7134\n"
     ]
    }
   ],
   "source": [
    "import clusim.sim as sim\n",
    "from clusim.clustering import Clustering\n",
    "from sklearn.cluster import KMeans, DBSCAN, AgglomerativeClustering\n",
    "from sklearn.manifold import TSNE\n",
    "\n",
    "from Simplex2Vec.Simplex2Vec import Simplex2Vec\n",
    "from Simplex2Vec.utils import check_prediction\n",
    "from Simplex2Vec.utils import read_simplex_json\n",
    "from Simplex2Vec.simplex2hasse import simplex2hasse_HOexponential\n",
    "\n",
    "\n",
    "g_hasse = simplex2hasse_HOexponential(train_simplices, max_order=5)\n",
    "print(nx.info(g_hasse))"
   ]
  },
  {
   "cell_type": "code",
   "execution_count": 182,
   "metadata": {},
   "outputs": [
    {
     "data": {
      "application/vnd.jupyter.widget-view+json": {
       "model_id": "abe0fbc671384b5480b8ff2d12da38d8",
       "version_major": 2,
       "version_minor": 0
      },
      "text/plain": [
       "HBox(children=(IntProgress(value=0, description='Precomputing probabilities', max=12394, style=ProgressStyle(d…"
      ]
     },
     "metadata": {},
     "output_type": "display_data"
    },
    {
     "name": "stdout",
     "output_type": "stream",
     "text": [
      "\n",
      " "
     ]
    },
    {
     "data": {
      "application/vnd.jupyter.widget-view+json": {
       "model_id": "346c44bab259444880a2c99e60bee446",
       "version_major": 2,
       "version_minor": 0
      },
      "text/plain": [
       "HBox(children=(IntProgress(value=0, description='Generating walks : CPU: 0', max=4132, style=ProgressStyle(des…"
      ]
     },
     "metadata": {},
     "output_type": "display_data"
    },
    {
     "name": "stdout",
     "output_type": "stream",
     "text": [
      " "
     ]
    },
    {
     "data": {
      "application/vnd.jupyter.widget-view+json": {
       "model_id": "e686c0f1dccf408884d4072528974601",
       "version_major": 2,
       "version_minor": 0
      },
      "text/plain": [
       "HBox(children=(IntProgress(value=0, description='Generating walks : CPU: 1', max=4131, style=ProgressStyle(des…"
      ]
     },
     "metadata": {},
     "output_type": "display_data"
    },
    {
     "name": "stdout",
     "output_type": "stream",
     "text": [
      " "
     ]
    },
    {
     "data": {
      "application/vnd.jupyter.widget-view+json": {
       "model_id": "9f7763bb564448e69d2a617eae993ac5",
       "version_major": 2,
       "version_minor": 0
      },
      "text/plain": [
       "HBox(children=(IntProgress(value=0, description='Generating walks : CPU: 2', max=4131, style=ProgressStyle(des…"
      ]
     },
     "metadata": {},
     "output_type": "display_data"
    },
    {
     "name": "stdout",
     "output_type": "stream",
     "text": [
      "\n",
      "\n",
      "\n",
      "DONE!\n"
     ]
    }
   ],
   "source": [
    "s2v = Simplex2Vec.from_hasse_diagram(g_hasse, p = 10**10, n_walks=30, \n",
    "                                     walk_length=120, workers = 3)"
   ]
  },
  {
   "cell_type": "code",
   "execution_count": 179,
   "metadata": {
    "scrolled": true
   },
   "outputs": [
    {
     "name": "stdout",
     "output_type": "stream",
     "text": [
      "Fitting the Word2Vec..\n",
      "Epoch 0 - Model loss: 2360180.25\n",
      "Epoch 1 - Model loss: 3363936.25\n",
      "Epoch 2 - Model loss: 4239066.0\n"
     ]
    }
   ],
   "source": [
    "class EpochShowLoss():\n",
    "    '''Callback to show training loss after each epoch '''\n",
    "\n",
    "    def __init__(self):\n",
    "        self.epoch = 0\n",
    "    \n",
    "    def on_train_begin(self, model):\n",
    "        pass\n",
    "    def on_train_end(self, model):\n",
    "        pass\n",
    "    def on_epoch_begin(self, model):\n",
    "        pass\n",
    "    def on_batch_begin(self, model):\n",
    "        pass\n",
    "    def on_batch_end(self, model):\n",
    "        pass\n",
    "        \n",
    "    def on_epoch_end(self, model):\n",
    "        print(\"Epoch {} - Model loss: {}\".format(self.epoch,\n",
    "                                              model.get_latest_training_loss()))\n",
    "        model_loss.append((self.epoch, model.get_latest_training_loss()))\n",
    "        self.epoch += 1\n",
    "model_loss = []\n",
    "model = s2v.fit(iter = 3, callbacks = [EpochShowLoss()])\n",
    "# for _ in range(20):  \n",
    "#     model = s2v.refit(epochs = 1, callbacks = [EpochShowLoss()])\n",
    "    "
   ]
  },
  {
   "cell_type": "markdown",
   "metadata": {},
   "source": [
    "## Plot the embedding\n",
    "\n",
    "Extract the embedding vectors for nodes or edges and plot it on the plane using tSNE embedding."
   ]
  },
  {
   "cell_type": "code",
   "execution_count": 180,
   "metadata": {},
   "outputs": [
    {
     "name": "stderr",
     "output_type": "stream",
     "text": [
      "/Users/amedvede/anaconda3/lib/python3.7/site-packages/ipykernel_launcher.py:6: DeprecationWarning: Call to deprecated `__getitem__` (Method will be removed in 4.0.0, use self.wv.__getitem__() instead).\n",
      "  \n"
     ]
    }
   ],
   "source": [
    "X = []\n",
    "X_labels = []\n",
    "\n",
    "for u in model.wv.vocab.keys():\n",
    "    if len(u.split(',')) == 1: # get all embedding vectors \n",
    "        X.append(model[u])\n",
    "        \n",
    "X_transform = TSNE(n_components=2).fit_transform(X)"
   ]
  },
  {
   "cell_type": "code",
   "execution_count": 181,
   "metadata": {},
   "outputs": [
    {
     "data": {
      "image/png": "[encoded data removed]",
      "text/plain": [
       "<Figure size 576x576 with 1 Axes>"
      ]
     },
     "metadata": {
      "needs_background": "light"
     },
     "output_type": "display_data"
    }
   ],
   "source": [
    "fig = plt.figure(figsize = (6,6), dpi = 96)\n",
    "# colors_list = cm.nipy_spectral(np.asarray(pred_cluster_labels).astype(float) / num_classes)\n",
    "plt.scatter(*zip(*X_transform), marker='o', s=50, lw=0, alpha=0.7,)\n",
    "#                      c = colors_list)\n",
    "text_params = {'ha': 'center', 'va': 'center', 'family': 'oswald-light',\n",
    "                   'fontweight': 'normal', \"size\": 12}\n",
    "# for i, z in enumerate(Z_labels):\n",
    "#     x,y = X_transform[i]\n",
    "#     plt.text(x,y, z, color = \"black\", alpha=0.8)\n",
    "\n",
    "plt.title(\"Node clusters\", fontsize = 16)\n",
    "plt.show()"
   ]
  },
  {
   "cell_type": "markdown",
   "metadata": {},
   "source": [
    "# Scoring the closing triangles - v1\n",
    "\n",
    "Now we test the predictive model based on cosine similarity. The idea is simple: if an open triangle has all nodes that have high cosine similarity to each other, then this triangle is highly likely to close in future. We use simple sum of all three similarities as a decision function.\n",
    "\n",
    "In v1 we use the similarity of pairs of nodes in a triangle."
   ]
  },
  {
   "cell_type": "code",
   "execution_count": 199,
   "metadata": {},
   "outputs": [
    {
     "data": {
      "application/vnd.jupyter.widget-view+json": {
       "model_id": "c1ffdcbe13184f7fb607bed74dfd545e",
       "version_major": 2,
       "version_minor": 0
      },
      "text/plain": [
       "HBox(children=(IntProgress(value=0, max=80447), HTML(value='')))"
      ]
     },
     "metadata": {},
     "output_type": "display_data"
    },
    {
     "name": "stdout",
     "output_type": "stream",
     "text": [
      "\n",
      "80447\n"
     ]
    }
   ],
   "source": [
    "from sklearn.metrics import average_precision_score, roc_auc_score, auc, f1_score\n",
    "closure_similarity = []\n",
    "for t in tqdm_notebook(open_train):\n",
    "    similarity_scores = []\n",
    "    for u,v in itertools.combinations(t,2):\n",
    "        uf = str(u)\n",
    "        vf = str(v)\n",
    "        similarity_scores.append(model.wv.similarity(uf,vf))\n",
    "    closure_similarity.append(np.sum(similarity_scores))\n",
    "  \n",
    "print(len(closure_similarity))"
   ]
  },
  {
   "cell_type": "code",
   "execution_count": 200,
   "metadata": {},
   "outputs": [
    {
     "name": "stdout",
     "output_type": "stream",
     "text": [
      "AUCPR RND: 0.008514922868472411 | AUCPR S2V: 0.020473234008794677\n",
      "Ratio as in Kleinberg --  AUCPR S2V/AUCPR RND : 2.404394534752562\n"
     ]
    },
    {
     "data": {
      "image/png": "[encoded data removed]",
      "text/plain": [
       "<Figure size 432x288 with 1 Axes>"
      ]
     },
     "metadata": {
      "needs_background": "light"
     },
     "output_type": "display_data"
    }
   ],
   "source": [
    "s2v_precision, s2v_recall, _ = precision_recall_curve(y_test, closure_similarity)\n",
    "\n",
    "p = len([y for y in y_test if y == 1])/len(y_test)\n",
    "rnd_precision = [p]*len(s2v_recall)\n",
    "\n",
    "s2v_precision, s2v_recall = s2v_precision[::-1], s2v_recall[::-1]\n",
    "\n",
    "aucpr_rnd = auc(s2v_recall, rnd_precision)\n",
    "aucpr_s2v = auc(s2v_recall, s2v_precision)\n",
    "\n",
    "print(\"AUCPR RND: {} | AUCPR S2V: {}\".format(aucpr_rnd, aucpr_s2v))\n",
    "kleinberg_ratio = aucpr_s2v/aucpr_rnd\n",
    "print(\"Ratio as in Kleinberg --  AUCPR S2V/AUCPR RND :\", kleinberg_ratio)\n",
    "\n",
    "plt.plot(s2v_recall, rnd_precision)\n",
    "plt.plot(s2v_recall, s2v_precision)\n",
    "plt.show()"
   ]
  },
  {
   "cell_type": "code",
   "execution_count": 100,
   "metadata": {
    "collapsed": true
   },
   "outputs": [
    {
     "name": "stdout",
     "output_type": "stream",
     "text": [
      "0.5 0.7726114387382755\n"
     ]
    },
    {
     "ename": "ValueError",
     "evalue": "Classification metrics can't handle a mix of binary and continuous targets",
     "output_type": "error",
     "traceback": [
      "\u001b[0;31m---------------------------------------------------------------------------\u001b[0m",
      "\u001b[0;31mValueError\u001b[0m                                Traceback (most recent call last)",
      "\u001b[0;32m<ipython-input-100-abfd561b6c6a>\u001b[0m in \u001b[0;36m<module>\u001b[0;34m\u001b[0m\n\u001b[1;32m      1\u001b[0m \u001b[0mprint\u001b[0m\u001b[0;34m(\u001b[0m\u001b[0mroc_auc_score\u001b[0m\u001b[0;34m(\u001b[0m\u001b[0my_test\u001b[0m\u001b[0;34m,\u001b[0m \u001b[0my_rnd_prob\u001b[0m\u001b[0;34m)\u001b[0m\u001b[0;34m,\u001b[0m \u001b[0mroc_auc_score\u001b[0m\u001b[0;34m(\u001b[0m\u001b[0my_test\u001b[0m\u001b[0;34m,\u001b[0m \u001b[0mclosure_similarity\u001b[0m\u001b[0;34m)\u001b[0m\u001b[0;34m)\u001b[0m\u001b[0;34m\u001b[0m\u001b[0;34m\u001b[0m\u001b[0m\n\u001b[0;32m----> 2\u001b[0;31m \u001b[0mprint\u001b[0m\u001b[0;34m(\u001b[0m\u001b[0mf1_score\u001b[0m\u001b[0;34m(\u001b[0m\u001b[0my_test\u001b[0m\u001b[0;34m,\u001b[0m \u001b[0my_rnd_prob\u001b[0m\u001b[0;34m)\u001b[0m\u001b[0;34m)\u001b[0m\u001b[0;34m\u001b[0m\u001b[0;34m\u001b[0m\u001b[0m\n\u001b[0m",
      "\u001b[0;32m~/anaconda3/lib/python3.7/site-packages/sklearn/metrics/classification.py\u001b[0m in \u001b[0;36mf1_score\u001b[0;34m(y_true, y_pred, labels, pos_label, average, sample_weight)\u001b[0m\n\u001b[1;32m   1057\u001b[0m     return fbeta_score(y_true, y_pred, 1, labels=labels,\n\u001b[1;32m   1058\u001b[0m                        \u001b[0mpos_label\u001b[0m\u001b[0;34m=\u001b[0m\u001b[0mpos_label\u001b[0m\u001b[0;34m,\u001b[0m \u001b[0maverage\u001b[0m\u001b[0;34m=\u001b[0m\u001b[0maverage\u001b[0m\u001b[0;34m,\u001b[0m\u001b[0;34m\u001b[0m\u001b[0;34m\u001b[0m\u001b[0m\n\u001b[0;32m-> 1059\u001b[0;31m                        sample_weight=sample_weight)\n\u001b[0m\u001b[1;32m   1060\u001b[0m \u001b[0;34m\u001b[0m\u001b[0m\n\u001b[1;32m   1061\u001b[0m \u001b[0;34m\u001b[0m\u001b[0m\n",
      "\u001b[0;32m~/anaconda3/lib/python3.7/site-packages/sklearn/metrics/classification.py\u001b[0m in \u001b[0;36mfbeta_score\u001b[0;34m(y_true, y_pred, beta, labels, pos_label, average, sample_weight)\u001b[0m\n\u001b[1;32m   1180\u001b[0m                                                  \u001b[0maverage\u001b[0m\u001b[0;34m=\u001b[0m\u001b[0maverage\u001b[0m\u001b[0;34m,\u001b[0m\u001b[0;34m\u001b[0m\u001b[0;34m\u001b[0m\u001b[0m\n\u001b[1;32m   1181\u001b[0m                                                  \u001b[0mwarn_for\u001b[0m\u001b[0;34m=\u001b[0m\u001b[0;34m(\u001b[0m\u001b[0;34m'f-score'\u001b[0m\u001b[0;34m,\u001b[0m\u001b[0;34m)\u001b[0m\u001b[0;34m,\u001b[0m\u001b[0;34m\u001b[0m\u001b[0;34m\u001b[0m\u001b[0m\n\u001b[0;32m-> 1182\u001b[0;31m                                                  sample_weight=sample_weight)\n\u001b[0m\u001b[1;32m   1183\u001b[0m     \u001b[0;32mreturn\u001b[0m \u001b[0mf\u001b[0m\u001b[0;34m\u001b[0m\u001b[0;34m\u001b[0m\u001b[0m\n\u001b[1;32m   1184\u001b[0m \u001b[0;34m\u001b[0m\u001b[0m\n",
      "\u001b[0;32m~/anaconda3/lib/python3.7/site-packages/sklearn/metrics/classification.py\u001b[0m in \u001b[0;36mprecision_recall_fscore_support\u001b[0;34m(y_true, y_pred, beta, labels, pos_label, average, warn_for, sample_weight)\u001b[0m\n\u001b[1;32m   1413\u001b[0m         \u001b[0;32mraise\u001b[0m \u001b[0mValueError\u001b[0m\u001b[0;34m(\u001b[0m\u001b[0;34m\"beta should be >0 in the F-beta score\"\u001b[0m\u001b[0;34m)\u001b[0m\u001b[0;34m\u001b[0m\u001b[0;34m\u001b[0m\u001b[0m\n\u001b[1;32m   1414\u001b[0m     labels = _check_set_wise_labels(y_true, y_pred, average, labels,\n\u001b[0;32m-> 1415\u001b[0;31m                                     pos_label)\n\u001b[0m\u001b[1;32m   1416\u001b[0m \u001b[0;34m\u001b[0m\u001b[0m\n\u001b[1;32m   1417\u001b[0m     \u001b[0;31m# Calculate tp_sum, pred_sum, true_sum ###\u001b[0m\u001b[0;34m\u001b[0m\u001b[0;34m\u001b[0m\u001b[0;34m\u001b[0m\u001b[0m\n",
      "\u001b[0;32m~/anaconda3/lib/python3.7/site-packages/sklearn/metrics/classification.py\u001b[0m in \u001b[0;36m_check_set_wise_labels\u001b[0;34m(y_true, y_pred, average, labels, pos_label)\u001b[0m\n\u001b[1;32m   1237\u001b[0m                          str(average_options))\n\u001b[1;32m   1238\u001b[0m \u001b[0;34m\u001b[0m\u001b[0m\n\u001b[0;32m-> 1239\u001b[0;31m     \u001b[0my_type\u001b[0m\u001b[0;34m,\u001b[0m \u001b[0my_true\u001b[0m\u001b[0;34m,\u001b[0m \u001b[0my_pred\u001b[0m \u001b[0;34m=\u001b[0m \u001b[0m_check_targets\u001b[0m\u001b[0;34m(\u001b[0m\u001b[0my_true\u001b[0m\u001b[0;34m,\u001b[0m \u001b[0my_pred\u001b[0m\u001b[0;34m)\u001b[0m\u001b[0;34m\u001b[0m\u001b[0;34m\u001b[0m\u001b[0m\n\u001b[0m\u001b[1;32m   1240\u001b[0m     \u001b[0mpresent_labels\u001b[0m \u001b[0;34m=\u001b[0m \u001b[0munique_labels\u001b[0m\u001b[0;34m(\u001b[0m\u001b[0my_true\u001b[0m\u001b[0;34m,\u001b[0m \u001b[0my_pred\u001b[0m\u001b[0;34m)\u001b[0m\u001b[0;34m\u001b[0m\u001b[0;34m\u001b[0m\u001b[0m\n\u001b[1;32m   1241\u001b[0m     \u001b[0;32mif\u001b[0m \u001b[0maverage\u001b[0m \u001b[0;34m==\u001b[0m \u001b[0;34m'binary'\u001b[0m\u001b[0;34m:\u001b[0m\u001b[0;34m\u001b[0m\u001b[0;34m\u001b[0m\u001b[0m\n",
      "\u001b[0;32m~/anaconda3/lib/python3.7/site-packages/sklearn/metrics/classification.py\u001b[0m in \u001b[0;36m_check_targets\u001b[0;34m(y_true, y_pred)\u001b[0m\n\u001b[1;32m     79\u001b[0m     \u001b[0;32mif\u001b[0m \u001b[0mlen\u001b[0m\u001b[0;34m(\u001b[0m\u001b[0my_type\u001b[0m\u001b[0;34m)\u001b[0m \u001b[0;34m>\u001b[0m \u001b[0;36m1\u001b[0m\u001b[0;34m:\u001b[0m\u001b[0;34m\u001b[0m\u001b[0;34m\u001b[0m\u001b[0m\n\u001b[1;32m     80\u001b[0m         raise ValueError(\"Classification metrics can't handle a mix of {0} \"\n\u001b[0;32m---> 81\u001b[0;31m                          \"and {1} targets\".format(type_true, type_pred))\n\u001b[0m\u001b[1;32m     82\u001b[0m \u001b[0;34m\u001b[0m\u001b[0m\n\u001b[1;32m     83\u001b[0m     \u001b[0;31m# We can't have more than one value on y_type => The set is no more needed\u001b[0m\u001b[0;34m\u001b[0m\u001b[0;34m\u001b[0m\u001b[0;34m\u001b[0m\u001b[0m\n",
      "\u001b[0;31mValueError\u001b[0m: Classification metrics can't handle a mix of binary and continuous targets"
     ]
    }
   ],
   "source": [
    "print(roc_auc_score(y_test, y_rnd_prob), roc_auc_score(y_test, closure_similarity))\n",
    "print(f1_score(y_test, y_rnd_prob))"
   ]
  },
  {
   "cell_type": "code",
   "execution_count": 120,
   "metadata": {
    "collapsed": true
   },
   "outputs": [
    {
     "name": "stdout",
     "output_type": "stream",
     "text": [
      "0.44 1\n",
      "1.1 1\n",
      "0.78 1\n",
      "0.99 1\n",
      "1.14 1\n",
      "0.96 1\n",
      "1.12 1\n",
      "1.17 1\n",
      "1.25 1\n",
      "0.76 1\n",
      "1.25 1\n",
      "0.97 1\n",
      "1.18 1\n",
      "0.27 1\n",
      "1.43 1\n",
      "0.87 1\n",
      "1.11 1\n",
      "1.4 1\n",
      "1.38 1\n",
      "0.84 1\n",
      "0.82 1\n",
      "1.0 1\n",
      "1.0 1\n",
      "1.15 1\n",
      "1.13 1\n",
      "0.96 1\n",
      "0.98 1\n",
      "1.08 1\n",
      "0.91 1\n",
      "1.3 1\n",
      "0.98 1\n",
      "1.67 1\n",
      "1.68 1\n",
      "1.17 1\n",
      "1.66 1\n",
      "1.26 1\n",
      "0.95 1\n",
      "1.1 1\n",
      "1.13 1\n",
      "1.02 1\n",
      "0.78 1\n",
      "0.78 1\n",
      "0.73 1\n",
      "0.45 1\n",
      "1.82 1\n",
      "0.95 1\n",
      "1.82 1\n",
      "0.51 1\n",
      "1.42 1\n",
      "0.37 1\n",
      "0.53 1\n",
      "1.18 1\n",
      "1.12 1\n",
      "1.46 1\n",
      "1.54 1\n",
      "0.83 1\n",
      "0.95 1\n",
      "1.17 1\n",
      "0.66 1\n",
      "1.26 1\n",
      "0.11 1\n",
      "0.32 1\n",
      "0.56 1\n",
      "0.94 1\n",
      "0.71 1\n",
      "1.33 1\n",
      "1.11 1\n",
      "1.03 1\n",
      "0.67 1\n",
      "1.03 1\n",
      "1.08 1\n",
      "1.43 1\n",
      "0.77 1\n",
      "1.03 1\n",
      "1.39 1\n",
      "0.86 1\n",
      "1.64 1\n",
      "1.02 1\n",
      "0.78 1\n",
      "1.38 1\n",
      "0.22 1\n",
      "0.82 1\n",
      "1.11 1\n",
      "1.32 1\n",
      "0.59 1\n",
      "1.05 1\n",
      "1.46 1\n",
      "1.41 1\n",
      "1.9 1\n",
      "1.27 1\n",
      "1.55 1\n",
      "1.33 1\n",
      "1.78 1\n",
      "0.81 1\n",
      "1.49 1\n",
      "1.09 1\n",
      "0.66 1\n",
      "0.9 1\n",
      "0.54 1\n",
      "0.99 1\n",
      "1.63 1\n",
      "0.83 1\n",
      "0.34 1\n",
      "0.81 1\n",
      "1.2 1\n",
      "1.05 1\n",
      "0.4 1\n",
      "0.84 1\n",
      "0.8 1\n",
      "0.66 1\n",
      "1.24 1\n",
      "1.03 1\n",
      "1.13 1\n",
      "1.26 1\n",
      "1.02 1\n",
      "0.95 1\n",
      "1.57 1\n",
      "1.63 1\n",
      "1.45 1\n",
      "1.04 1\n",
      "1.16 1\n",
      "1.39 1\n",
      "1.58 1\n",
      "0.69 1\n",
      "1.1 1\n",
      "0.86 1\n",
      "1.21 1\n",
      "1.14 1\n",
      "1.52 1\n",
      "0.79 1\n",
      "0.32 1\n",
      "0.84 1\n",
      "0.89 1\n",
      "1.48 1\n",
      "1.04 1\n",
      "1.5 1\n",
      "1.13 1\n",
      "0.64 1\n",
      "1.26 1\n",
      "0.7 1\n",
      "0.54 1\n",
      "1.14 1\n",
      "1.51 1\n",
      "1.79 1\n",
      "0.04 1\n",
      "1.51 1\n",
      "1.13 1\n",
      "1.9 1\n",
      "1.3 1\n",
      "0.77 1\n",
      "0.43 1\n",
      "0.6 1\n",
      "1.66 1\n",
      "1.29 1\n",
      "0.81 1\n",
      "1.46 1\n",
      "1.17 1\n",
      "1.59 1\n",
      "0.58 1\n",
      "0.58 1\n",
      "0.77 1\n",
      "1.69 1\n",
      "1.1 1\n",
      "1.45 1\n",
      "0.78 1\n",
      "0.65 1\n",
      "0.86 1\n",
      "1.25 1\n",
      "1.52 1\n",
      "0.38 1\n",
      "0.76 1\n",
      "0.81 1\n",
      "0.79 1\n",
      "0.93 1\n",
      "0.62 1\n",
      "0.97 1\n",
      "0.49 1\n",
      "0.78 1\n",
      "0.95 1\n",
      "0.34 1\n",
      "0.78 1\n",
      "1.78 1\n",
      "1.34 1\n",
      "1.26 1\n",
      "0.39 1\n",
      "1.42 1\n",
      "0.98 1\n",
      "1.31 1\n",
      "1.08 1\n",
      "1.43 1\n",
      "1.25 1\n",
      "0.74 1\n",
      "0.44 1\n",
      "1.32 1\n",
      "1.29 1\n",
      "0.89 1\n",
      "0.71 1\n",
      "1.26 1\n",
      "1.49 1\n",
      "0.38 1\n",
      "1.18 1\n",
      "0.69 1\n",
      "1.03 1\n",
      "0.56 1\n",
      "1.31 1\n",
      "0.72 1\n",
      "1.13 1\n",
      "1.08 1\n",
      "1.37 1\n",
      "1.06 1\n",
      "1.04 1\n",
      "1.6 1\n",
      "1.17 1\n",
      "1.55 1\n",
      "0.5 1\n",
      "1.44 1\n",
      "1.92 1\n",
      "0.75 1\n",
      "0.84 1\n",
      "1.69 1\n",
      "1.46 1\n",
      "0.16 1\n",
      "1.78 1\n",
      "1.76 1\n",
      "0.89 1\n",
      "0.92 1\n",
      "0.7 1\n",
      "0.81 1\n",
      "1.19 1\n",
      "1.07 1\n",
      "1.46 1\n",
      "1.19 1\n",
      "1.16 1\n",
      "0.73 1\n",
      "1.03 1\n",
      "0.43 1\n",
      "0.67 1\n",
      "0.56 1\n",
      "1.4 1\n",
      "0.76 1\n",
      "0.5 1\n",
      "1.0 1\n",
      "0.95 1\n",
      "1.11 1\n",
      "0.79 1\n",
      "1.34 1\n",
      "1.05 1\n",
      "0.75 1\n",
      "0.42 1\n",
      "0.57 1\n",
      "0.8 1\n",
      "1.3 1\n",
      "1.27 1\n",
      "1.1 1\n",
      "1.03 1\n",
      "0.89 1\n",
      "1.17 1\n",
      "0.45 1\n",
      "1.23 1\n",
      "1.1 1\n",
      "1.2 1\n",
      "1.25 1\n",
      "1.06 1\n",
      "0.85 1\n",
      "0.91 1\n",
      "0.7 1\n",
      "0.68 1\n",
      "0.89 1\n",
      "2.01 1\n",
      "0.73 1\n",
      "1.15 1\n",
      "1.0 1\n",
      "0.59 1\n",
      "0.52 1\n",
      "1.07 1\n",
      "1.52 1\n",
      "1.01 1\n",
      "0.5 1\n",
      "1.35 1\n",
      "1.27 1\n",
      "1.09 1\n",
      "1.45 1\n",
      "0.74 1\n",
      "0.93 1\n",
      "0.74 1\n",
      "0.9 1\n",
      "1.22 1\n",
      "0.52 1\n",
      "0.41 1\n",
      "0.61 1\n",
      "1.38 1\n",
      "1.0 1\n",
      "0.31 1\n",
      "0.81 1\n",
      "1.24 1\n",
      "1.23 1\n",
      "1.41 1\n",
      "0.73 1\n",
      "0.44 1\n",
      "1.94 1\n",
      "1.32 1\n",
      "0.66 1\n",
      "0.33 1\n",
      "1.2 1\n",
      "0.31 1\n",
      "0.51 1\n",
      "1.84 1\n",
      "0.86 1\n",
      "0.94 1\n",
      "1.41 1\n",
      "1.21 1\n",
      "1.28 1\n",
      "1.45 1\n",
      "1.03 1\n",
      "0.73 1\n",
      "0.67 1\n",
      "1.01 1\n",
      "0.87 1\n",
      "1.26 1\n",
      "0.98 1\n",
      "1.34 1\n",
      "1.14 1\n",
      "0.55 1\n",
      "1.47 1\n",
      "0.32 1\n",
      "1.17 1\n",
      "1.72 1\n",
      "1.33 1\n",
      "1.55 1\n",
      "1.28 1\n",
      "1.27 1\n",
      "0.72 1\n",
      "1.74 1\n",
      "0.91 1\n",
      "0.85 1\n",
      "0.33 1\n",
      "0.67 1\n",
      "0.41 1\n",
      "0.47 1\n",
      "-0.01 1\n",
      "0.69 1\n",
      "0.72 1\n",
      "0.97 1\n",
      "0.81 1\n",
      "0.72 1\n",
      "1.4 1\n",
      "1.55 1\n",
      "0.68 1\n",
      "1.11 1\n",
      "1.58 1\n",
      "0.87 1\n",
      "0.78 1\n",
      "0.38 1\n",
      "0.46 1\n",
      "1.27 1\n",
      "0.58 1\n",
      "1.36 1\n",
      "0.66 1\n",
      "1.55 1\n",
      "0.69 1\n",
      "1.04 1\n",
      "1.23 1\n",
      "1.18 1\n",
      "0.43 1\n",
      "1.17 1\n",
      "1.09 1\n",
      "1.28 1\n",
      "1.12 1\n",
      "1.25 1\n",
      "0.59 1\n",
      "1.11 1\n",
      "0.37 1\n",
      "0.97 1\n",
      "1.25 1\n",
      "0.66 1\n",
      "0.86 1\n",
      "0.04 1\n",
      "1.25 1\n",
      "0.15 1\n",
      "1.12 1\n",
      "1.04 1\n",
      "0.83 1\n",
      "0.94 1\n",
      "0.84 1\n",
      "0.86 1\n",
      "0.11 1\n",
      "0.66 1\n",
      "0.9 1\n",
      "0.68 1\n",
      "1.17 1\n",
      "1.04 1\n",
      "0.72 1\n",
      "0.72 1\n",
      "1.57 1\n",
      "0.38 1\n",
      "0.86 1\n",
      "1.46 1\n",
      "0.82 1\n",
      "1.13 1\n",
      "0.8 1\n",
      "0.82 1\n",
      "0.62 1\n",
      "0.75 1\n",
      "0.81 1\n",
      "1.46 1\n",
      "1.29 1\n",
      "1.03 1\n",
      "1.62 1\n",
      "1.53 1\n",
      "0.63 1\n",
      "1.28 1\n",
      "0.96 1\n",
      "1.21 1\n",
      "0.79 1\n",
      "1.21 1\n",
      "1.0 1\n",
      "0.9 1\n",
      "1.55 1\n",
      "0.58 1\n",
      "1.37 1\n",
      "1.04 1\n",
      "0.98 1\n",
      "1.09 1\n",
      "1.33 1\n",
      "1.69 1\n",
      "1.03 1\n",
      "1.02 1\n",
      "0.78 1\n",
      "1.1 1\n",
      "0.74 1\n",
      "1.28 1\n",
      "1.15 1\n",
      "1.39 1\n",
      "0.87 1\n",
      "1.34 1\n",
      "1.58 1\n",
      "1.02 1\n",
      "1.13 1\n",
      "0.29 1\n",
      "1.6 1\n",
      "0.76 1\n",
      "1.06 1\n",
      "0.66 1\n",
      "0.66 1\n",
      "1.11 1\n",
      "0.7 1\n",
      "0.8 1\n",
      "1.34 1\n",
      "0.98 1\n",
      "1.09 1\n",
      "0.61 1\n",
      "0.28 1\n",
      "1.11 1\n",
      "0.5 1\n",
      "1.31 1\n",
      "1.67 1\n",
      "0.98 1\n",
      "1.62 1\n",
      "0.92 1\n",
      "0.38 1\n",
      "0.87 1\n",
      "2.11 1\n",
      "1.18 1\n",
      "1.41 1\n",
      "0.42 1\n",
      "0.67 1\n",
      "0.89 1\n",
      "0.52 1\n",
      "1.26 1\n",
      "0.97 1\n",
      "0.93 1\n",
      "0.51 1\n",
      "1.06 1\n",
      "0.58 1\n",
      "0.57 1\n",
      "1.23 1\n",
      "1.05 1\n",
      "0.32 1\n",
      "0.78 1\n",
      "0.96 1\n",
      "1.27 1\n",
      "1.3 1\n",
      "1.15 1\n",
      "1.5 1\n",
      "1.51 1\n",
      "0.73 1\n",
      "1.54 1\n",
      "0.68 1\n",
      "1.05 1\n",
      "0.63 1\n",
      "0.8 1\n",
      "0.66 1\n",
      "1.32 1\n",
      "1.57 1\n",
      "0.88 1\n",
      "0.69 1\n",
      "1.22 1\n",
      "0.98 1\n",
      "1.28 1\n",
      "0.86 1\n",
      "1.04 1\n",
      "0.89 1\n",
      "0.7 1\n",
      "0.97 1\n",
      "1.15 1\n",
      "0.79 1\n",
      "0.59 1\n",
      "0.79 1\n",
      "0.93 1\n",
      "0.96 1\n",
      "1.16 1\n",
      "1.1 1\n",
      "0.58 1\n",
      "0.53 1\n",
      "0.92 1\n",
      "0.74 1\n",
      "0.35 1\n",
      "1.17 1\n",
      "0.56 1\n",
      "0.58 1\n",
      "1.14 1\n",
      "1.26 1\n",
      "2.21 1\n",
      "0.83 1\n",
      "1.26 1\n",
      "0.87 1\n",
      "1.17 1\n",
      "1.47 1\n",
      "1.44 1\n",
      "1.39 1\n",
      "1.59 1\n",
      "1.16 1\n",
      "1.17 1\n",
      "0.46 1\n",
      "1.32 1\n",
      "1.5 1\n",
      "0.21 1\n",
      "1.3 1\n",
      "1.14 1\n",
      "1.54 1\n",
      "1.35 1\n",
      "0.69 1\n",
      "1.22 1\n",
      "0.59 1\n",
      "1.26 1\n",
      "1.14 1\n",
      "0.63 1\n",
      "1.04 1\n",
      "0.77 1\n",
      "0.9 1\n",
      "0.94 1\n",
      "1.16 1\n",
      "0.97 1\n",
      "1.25 1\n",
      "1.41 1\n",
      "1.07 1\n",
      "0.84 1\n",
      "0.47 1\n",
      "1.74 1\n",
      "0.87 1\n",
      "0.75 1\n",
      "0.92 1\n",
      "0.56 1\n",
      "1.45 1\n",
      "1.65 1\n",
      "0.71 1\n",
      "0.94 1\n",
      "0.35 1\n",
      "1.3 1\n",
      "0.83 1\n",
      "0.88 1\n",
      "1.21 1\n",
      "0.7 1\n",
      "1.01 1\n",
      "0.35 1\n",
      "1.47 1\n",
      "0.95 1\n",
      "1.48 1\n",
      "1.14 1\n",
      "1.47 1\n",
      "1.64 1\n",
      "0.7 1\n",
      "0.78 1\n",
      "0.63 1\n",
      "1.68 1\n",
      "1.08 1\n",
      "2.03 1\n",
      "1.4 1\n",
      "0.37 1\n",
      "1.26 1\n",
      "1.15 1\n",
      "1.56 1\n",
      "1.08 1\n",
      "1.82 1\n",
      "1.26 1\n",
      "0.59 1\n",
      "0.87 1\n",
      "0.68 1\n",
      "1.33 1\n",
      "0.83 1\n",
      "1.65 1\n",
      "0.62 1\n",
      "1.1 1\n",
      "0.84 1\n",
      "1.03 1\n",
      "1.49 1\n",
      "1.5 1\n",
      "1.52 1\n",
      "1.23 1\n",
      "0.93 1\n",
      "1.35 1\n",
      "0.96 1\n",
      "1.27 1\n",
      "0.46 1\n",
      "0.4 1\n",
      "1.22 1\n",
      "0.84 1\n",
      "0.55 1\n",
      "0.63 1\n",
      "1.58 1\n",
      "0.78 1\n",
      "0.9 1\n",
      "1.44 1\n",
      "0.87 1\n",
      "0.95 1\n",
      "0.95 1\n",
      "0.47 1\n",
      "1.51 1\n",
      "0.7 1\n",
      "1.86 1\n",
      "1.24 1\n",
      "1.63 1\n",
      "1.62 1\n",
      "1.06 1\n",
      "1.35 1\n",
      "1.34 1\n",
      "1.32 1\n",
      "1.04 1\n",
      "0.71 1\n",
      "0.83 1\n",
      "1.02 1\n",
      "1.8 1\n",
      "1.08 1\n",
      "1.03 1\n",
      "0.85 1\n",
      "1.19 1\n",
      "0.73 1\n",
      "0.76 1\n",
      "0.9 1\n",
      "0.92 1\n",
      "0.97 1\n",
      "0.72 1\n",
      "0.92 1\n",
      "0.07 1\n",
      "0.93 1\n",
      "1.85 1\n",
      "0.71 1\n",
      "1.25 1\n",
      "0.62 1\n",
      "1.31 1\n",
      "0.75 1\n",
      "1.18 1\n",
      "0.88 1\n",
      "0.93 1\n",
      "0.82 1\n",
      "0.77 1\n",
      "1.01 1\n",
      "0.27 1\n",
      "1.14 1\n",
      "1.06 1\n",
      "0.37 1\n",
      "1.33 1\n",
      "0.24 1\n",
      "1.28 1\n",
      "0.55 1\n",
      "1.39 1\n",
      "1.28 1\n",
      "0.91 1\n",
      "0.79 1\n",
      "0.12 1\n",
      "1.09 1\n",
      "0.89 1\n",
      "1.13 1\n",
      "1.07 1\n",
      "1.0 1\n"
     ]
    }
   ],
   "source": [
    "for clos_sim, y_t in list(zip(closure_similarity,y_test)):\n",
    "    if y_t == 1:\n",
    "        print(round(clos_sim, 2), y_t)"
   ]
  },
  {
   "cell_type": "code",
   "execution_count": 117,
   "metadata": {},
   "outputs": [
    {
     "data": {
      "text/plain": [
       "(685, 80447)"
      ]
     },
     "execution_count": 117,
     "metadata": {},
     "output_type": "execute_result"
    }
   ],
   "source": [
    "len([y for y in y_test if y == 1]), len(y_test)"
   ]
  },
  {
   "cell_type": "code",
   "execution_count": 119,
   "metadata": {},
   "outputs": [
    {
     "data": {
      "image/png": "[encoded data removed]",
      "text/plain": [
       "<Figure size 432x288 with 1 Axes>"
      ]
     },
     "metadata": {
      "needs_background": "light"
     },
     "output_type": "display_data"
    }
   ],
   "source": [
    "plt.scatter(closure_similarity, y_test)\n",
    "plt.show()"
   ]
  },
  {
   "cell_type": "markdown",
   "metadata": {},
   "source": [
    "# Scoring the closing triangles - v2\n",
    "\n",
    "In v2 we use pairwise similarity of edges that constitute a triangle. The results a disappointing as well."
   ]
  },
  {
   "cell_type": "code",
   "execution_count": 195,
   "metadata": {},
   "outputs": [
    {
     "data": {
      "application/vnd.jupyter.widget-view+json": {
       "model_id": "6bf89bb195a945dbbec4de5478991ccf",
       "version_major": 2,
       "version_minor": 0
      },
      "text/plain": [
       "HBox(children=(IntProgress(value=0, max=80447), HTML(value='')))"
      ]
     },
     "metadata": {},
     "output_type": "display_data"
    },
    {
     "name": "stdout",
     "output_type": "stream",
     "text": [
      "\n",
      "80447\n"
     ]
    }
   ],
   "source": [
    "from sklearn.metrics import average_precision_score, roc_auc_score, auc, f1_score\n",
    "closure_similarity = []\n",
    "for t in tqdm_notebook(open_train):\n",
    "    similarity_scores = []\n",
    "    triangle_edges = [\",\".join([str(u), str(v)]) for u,v in itertools.combinations(t,2)]\n",
    "    for e1,e2 in itertools.combinations(triangle_edges,2):\n",
    "        if e1 in model.wv.vocab and e2 in model.wv.vocab:\n",
    "            similarity_scores.append(model.wv.similarity(e1,e2))\n",
    "        else:\n",
    "            similarity_scores.append(0)\n",
    "    closure_similarity.append(np.sum(similarity_scores))\n",
    "  \n",
    "print(len(closure_similarity))"
   ]
  },
  {
   "cell_type": "code",
   "execution_count": 198,
   "metadata": {},
   "outputs": [
    {
     "name": "stdout",
     "output_type": "stream",
     "text": [
      "AUCPR RND: 0.00851492286847241 | AUCPR S2V: 0.01035342725037779\n",
      "Ratio as in Kleinberg --  AUCPR S2V/AUCPR RND : 1.2159155649797695\n"
     ]
    },
    {
     "data": {
      "image/png": "[encoded data removed]",
      "text/plain": [
       "<Figure size 432x288 with 1 Axes>"
      ]
     },
     "metadata": {
      "needs_background": "light"
     },
     "output_type": "display_data"
    }
   ],
   "source": [
    "s2v_precision, s2v_recall, _ = precision_recall_curve(y_test, closure_similarity)\n",
    "\n",
    "p = len([y for y in y_test if y == 1])/len(y_test)\n",
    "rnd_precision = [p]*len(s2v_recall)\n",
    "\n",
    "s2v_precision, s2v_recall = s2v_precision[::-1], s2v_recall[::-1]\n",
    "\n",
    "aucpr_rnd = auc(s2v_recall, rnd_precision)\n",
    "aucpr_s2v = auc(s2v_recall, s2v_precision)\n",
    "\n",
    "print(\"AUCPR RND: {} | AUCPR S2V: {}\".format(aucpr_rnd, aucpr_s2v))\n",
    "kleinberg_ratio = aucpr_s2v/aucpr_rnd\n",
    "print(\"Ratio as in Kleinberg --  AUCPR S2V/AUCPR RND :\", kleinberg_ratio)\n",
    "\n",
    "plt.plot(s2v_recall, rnd_precision)\n",
    "plt.plot(s2v_recall, s2v_precision)\n",
    "plt.show()"
   ]
  },
  {
   "cell_type": "code",
   "execution_count": 137,
   "metadata": {
    "collapsed": true
   },
   "outputs": [
    {
     "name": "stdout",
     "output_type": "stream",
     "text": [
      "2.42 0\n",
      "2.37 0\n",
      "2.32 0\n",
      "2.31 0\n",
      "2.32 0\n",
      "2.58 0\n",
      "2.43 0\n",
      "2.41 0\n",
      "2.46 0\n",
      "2.34 0\n",
      "2.43 0\n",
      "2.34 0\n",
      "2.41 0\n",
      "2.58 0\n",
      "2.43 0\n",
      "2.53 0\n",
      "2.36 1\n",
      "2.61 0\n",
      "2.31 0\n",
      "2.53 0\n",
      "2.34 0\n",
      "2.37 0\n",
      "2.34 0\n",
      "2.47 0\n",
      "2.5 0\n",
      "2.33 0\n",
      "2.38 0\n",
      "2.3 0\n",
      "2.38 0\n",
      "2.3 0\n",
      "2.45 0\n",
      "2.34 0\n",
      "2.49 0\n",
      "2.33 0\n",
      "2.42 0\n",
      "2.34 0\n",
      "2.43 0\n",
      "2.33 0\n",
      "2.4 0\n",
      "2.49 0\n",
      "2.3 0\n",
      "2.54 0\n",
      "2.42 0\n",
      "2.43 0\n",
      "2.41 0\n",
      "2.31 0\n",
      "2.32 0\n",
      "2.36 0\n",
      "2.46 0\n",
      "2.41 0\n",
      "2.32 0\n",
      "2.38 0\n",
      "2.46 0\n",
      "2.33 0\n",
      "2.32 0\n",
      "2.36 0\n",
      "2.49 0\n",
      "2.32 0\n",
      "2.4 0\n",
      "2.55 0\n",
      "2.59 0\n",
      "2.31 0\n",
      "2.35 0\n",
      "2.38 0\n",
      "2.32 0\n",
      "2.33 0\n",
      "2.43 0\n"
     ]
    }
   ],
   "source": [
    "for clos_sim, y_t in list(zip(closure_similarity,y_test)):\n",
    "    if clos_sim > 2.3:\n",
    "        print(round(clos_sim, 2), y_t)"
   ]
  },
  {
   "cell_type": "markdown",
   "metadata": {},
   "source": [
    "# Plot raw similarity scores in 2D"
   ]
  },
  {
   "cell_type": "code",
   "execution_count": null,
   "metadata": {},
   "outputs": [],
   "source": [
    "from sklearn.metrics import average_precision_score, roc_auc_score, auc, f1_score\n",
    "closure_similarity = []\n",
    "for t in tqdm_notebook(open_train):\n",
    "    similarity_scores = []\n",
    "    for u,v in itertools.combinations(t,2):\n",
    "        uf = str(u)\n",
    "        vf = str(v)\n",
    "        similarity_scores.append(model.wv.similarity(uf,vf))\n",
    "    closure_similarity.append(similarity_scores)\n",
    "  \n",
    "print(len(closure_similarity))"
   ]
  },
  {
   "cell_type": "code",
   "execution_count": null,
   "metadata": {},
   "outputs": [],
   "source": [
    "for clos_sim, y_t in list(zip(closure_similarity,y_test)):\n",
    "    if y_t == 1:\n",
    "        print(clos_sim, y_t)"
   ]
  },
  {
   "cell_type": "code",
   "execution_count": null,
   "metadata": {},
   "outputs": [],
   "source": [
    "from mpl_toolkits.mplot3d import Axes3D\n",
    "fig = plt.figure(figsize = (12,12))\n",
    "ax = fig.add_subplot(111)\n",
    "ax.scatter(y,z, marker = \".\")\n",
    "# ax.view_init(30, -45)\n",
    "ax.set_xlabel('X Label')\n",
    "ax.set_ylabel('Y Label')\n",
    "# ax.set_zlabel('Z Label')\n",
    "\n",
    "plt.show()"
   ]
  },
  {
   "cell_type": "markdown",
   "metadata": {},
   "source": [
    "# Kleinberg Geometric mean "
   ]
  },
  {
   "cell_type": "code",
   "execution_count": 185,
   "metadata": {},
   "outputs": [
    {
     "data": {
      "application/vnd.jupyter.widget-view+json": {
       "model_id": "1ec769e762a042c390844e4835f472d8",
       "version_major": 2,
       "version_minor": 0
      },
      "text/plain": [
       "HBox(children=(IntProgress(value=0, max=80447), HTML(value='')))"
      ]
     },
     "metadata": {},
     "output_type": "display_data"
    },
    {
     "name": "stdout",
     "output_type": "stream",
     "text": [
      "\n"
     ]
    }
   ],
   "source": [
    "from scipy.stats.mstats import gmean\n",
    "\n",
    "geom_mean_similarity = []\n",
    "for t in tqdm_notebook(open_train):\n",
    "    similarity_scores = []\n",
    "    for u,v in itertools.combinations(t,2):\n",
    "        similarity_scores.append(len(g_train[u][v][\"simplices\"]))\n",
    "    geom_mean_similarity.append(gmean(similarity_scores))"
   ]
  },
  {
   "cell_type": "code",
   "execution_count": 193,
   "metadata": {},
   "outputs": [
    {
     "name": "stdout",
     "output_type": "stream",
     "text": [
      "AUCPR RND: 0.00851492286847241 | AUCPR S2V: 0.03841936689574226\n",
      "Ratio as in Kleinberg --  AUCPR S2V/AUCPR RND : 4.512004100236172\n"
     ]
    },
    {
     "data": {
      "image/png": "[encoded data removed]",
      "text/plain": [
       "<Figure size 432x288 with 1 Axes>"
      ]
     },
     "metadata": {
      "needs_background": "light"
     },
     "output_type": "display_data"
    }
   ],
   "source": [
    "s2v_precision, s2v_recall, _ = precision_recall_curve(y_test, geom_mean_similarity)\n",
    "\n",
    "p = len([y for y in y_test if y == 1])/len(y_test)\n",
    "rnd_precision = [p]*len(s2v_recall)\n",
    "\n",
    "s2v_precision, s2v_recall = s2v_precision[::-1], s2v_recall[::-1]\n",
    "\n",
    "aucpr_rnd = auc(s2v_recall, rnd_precision)\n",
    "aucpr_s2v = auc(s2v_recall, s2v_precision)\n",
    "\n",
    "print(\"AUCPR RND: {} | AUCPR S2V: {}\".format(aucpr_rnd, aucpr_s2v))\n",
    "kleinberg_ratio = aucpr_s2v/aucpr_rnd\n",
    "print(\"Ratio as in Kleinberg --  AUCPR S2V/AUCPR RND :\", kleinberg_ratio)\n",
    "\n",
    "plt.plot(s2v_recall, rnd_precision)\n",
    "plt.plot(s2v_recall, s2v_precision)\n",
    "plt.show()"
   ]
  },
  {
   "cell_type": "code",
   "execution_count": 191,
   "metadata": {},
   "outputs": [
    {
     "data": {
      "text/plain": [
       "0.00851492286847241"
      ]
     },
     "execution_count": 191,
     "metadata": {},
     "output_type": "execute_result"
    }
   ],
   "source": [
    "p"
   ]
  },
  {
   "cell_type": "code",
   "execution_count": null,
   "metadata": {},
   "outputs": [],
   "source": []
  }
 ],
 "metadata": {
  "kernelspec": {
   "display_name": "Python 3",
   "language": "python",
   "name": "python3"
  },
  "language_info": {
   "codemirror_mode": {
    "name": "ipython",
    "version": 3
   },
   "file_extension": ".py",
   "mimetype": "text/x-python",
   "name": "python",
   "nbconvert_exporter": "python",
   "pygments_lexer": "ipython3",
   "version": "3.7.5"
  }
 },
 "nbformat": 4,
 "nbformat_minor": 2
}
