{
 "cells": [
  {
   "cell_type": "code",
   "execution_count": 1,
   "metadata": {},
   "outputs": [],
   "source": [
    "import math\n",
    "import numpy as np\n",
    "import matplotlib.pyplot as plt\n",
    "import networkx as nx\n",
    "import pickle\n",
    "import json\n",
    "import itertools\n",
    "from tqdm import tqdm_notebook\n",
    "from IPython.display import clear_output\n",
    "\n",
    "from kleinberg_experiment import *\n",
    "plt.style.use('seaborn')"
   ]
  },
  {
   "cell_type": "markdown",
   "metadata": {},
   "source": [
    "# Upload the data into memory"
   ]
  },
  {
   "cell_type": "markdown",
   "metadata": {},
   "source": [
    "We use the dataset of primary school contacts first (from Sociopatterns). We use the dataset provided by Kleinberg et al. Below we upload the simplices to the memory."
   ]
  },
  {
   "cell_type": "code",
   "execution_count": 2,
   "metadata": {},
   "outputs": [],
   "source": [
    "dataset = \"contact-primary-school\"\n",
    "data_dir = \"./data/kleinberg/{}/\".format(dataset)\n",
    "simplex_file = \"{}-simplices.txt\".format(dataset)\n",
    "size_file = \"{}-nverts.txt\".format(dataset)\n",
    "\n",
    "simplexf = open(data_dir + simplex_file, 'r')\n",
    "sizef = open(data_dir + size_file, 'r')"
   ]
  },
  {
   "cell_type": "code",
   "execution_count": 3,
   "metadata": {},
   "outputs": [
    {
     "data": {
      "application/vnd.jupyter.widget-view+json": {
       "model_id": "58a4d58afa034364a3d484fcd7990b67",
       "version_major": 2,
       "version_minor": 0
      },
      "text/plain": [
       "HBox(children=(IntProgress(value=1, bar_style='info', max=1), HTML(value='')))"
      ]
     },
     "metadata": {},
     "output_type": "display_data"
    },
    {
     "name": "stdout",
     "output_type": "stream",
     "text": [
      "\n"
     ]
    }
   ],
   "source": [
    "simplex_sizes = []\n",
    "for s in tqdm_notebook(sizef):\n",
    "    ss = s.strip()\n",
    "    simplex_sizes.append(int(ss))"
   ]
  },
  {
   "cell_type": "code",
   "execution_count": 4,
   "metadata": {},
   "outputs": [
    {
     "data": {
      "application/vnd.jupyter.widget-view+json": {
       "model_id": "c356048655314eb2a0ab52ae648c0492",
       "version_major": 2,
       "version_minor": 0
      },
      "text/plain": [
       "HBox(children=(IntProgress(value=0, max=106879), HTML(value='')))"
      ]
     },
     "metadata": {},
     "output_type": "display_data"
    },
    {
     "name": "stdout",
     "output_type": "stream",
     "text": [
      "\n",
      "Exceptions: 0\n"
     ]
    }
   ],
   "source": [
    "node_list = set([])\n",
    "simplex_list = []\n",
    "exceptions = []\n",
    "cut_size = 1000000\n",
    "for s in tqdm_notebook(simplex_sizes):\n",
    "    one_simplex = []\n",
    "    for i in range(s):\n",
    "        rl = simplexf.readline()\n",
    "        n = rl.strip()\n",
    "        try:\n",
    "            one_simplex.append(int(n))\n",
    "            node_list.add(int(n))\n",
    "        except:\n",
    "            exceptions.append(rl)\n",
    "    simplex_list.append(frozenset(one_simplex))\n",
    "    if len(simplex_list) > cut_size:\n",
    "        break\n",
    "print(\"Exceptions:\", len(exceptions))"
   ]
  },
  {
   "cell_type": "markdown",
   "metadata": {},
   "source": [
    "Kleinberg's sets their experiment as follows. On the first 80% of data they find the set of *open* triangles, i.e. the triangles in the projected graph (the one you obtain by projecting all interactions) which have all edges participating in some cliques, but not all three together in one clique. \n",
    "\n",
    "Then on the test set, they make a prediction  which open triangles from the test set will close (there will appear a clique containing this triangle). \n",
    "\n",
    "They compare their prediction with random null model, where each clique has independent probability to close which is equal to the number of closed triangles/total number of open triangles. \n",
    "\n",
    "The measure they compare is the AUC PR (area under the precision-recall curve), relative to AUC PR of the random null model. "
   ]
  },
  {
   "cell_type": "markdown",
   "metadata": {},
   "source": [
    "# Find open triangles"
   ]
  },
  {
   "cell_type": "markdown",
   "metadata": {},
   "source": [
    "Split the set of all simplices to train set (first 80%) and test set (rest 20%)."
   ]
  },
  {
   "cell_type": "code",
   "execution_count": 5,
   "metadata": {},
   "outputs": [],
   "source": [
    "threshold = int(0.8*len(simplex_list))\n",
    "train_simplices = simplex_list[:threshold]\n",
    "test_simplices = simplex_list[threshold:]"
   ]
  },
  {
   "cell_type": "markdown",
   "metadata": {},
   "source": [
    "Find all closed and open triangles in the train and test set"
   ]
  },
  {
   "cell_type": "code",
   "execution_count": 6,
   "metadata": {},
   "outputs": [
    {
     "data": {
      "application/vnd.jupyter.widget-view+json": {
       "model_id": "5ed42bcfc73c4e4a99b3b6ae6aaca0f5",
       "version_major": 2,
       "version_minor": 0
      },
      "text/plain": [
       "HBox(children=(IntProgress(value=0, max=85503), HTML(value='')))"
      ]
     },
     "metadata": {},
     "output_type": "display_data"
    },
    {
     "name": "stdout",
     "output_type": "stream",
     "text": [
      "\n",
      "Name: \n",
      "Type: Graph\n",
      "Number of nodes: 242\n",
      "Number of edges: 7575\n",
      "Average degree:  62.6033\n"
     ]
    },
    {
     "data": {
      "application/vnd.jupyter.widget-view+json": {
       "model_id": "1f66dc35d6554cf68b724f2f45f844ac",
       "version_major": 2,
       "version_minor": 0
      },
      "text/plain": [
       "HBox(children=(IntProgress(value=0, max=242), HTML(value='')))"
      ]
     },
     "metadata": {},
     "output_type": "display_data"
    },
    {
     "name": "stdout",
     "output_type": "stream",
     "text": [
      "\n",
      "Open: 80447, Closed: 4258\n"
     ]
    }
   ],
   "source": [
    "g_train = get_projected_graph(train_simplices, info = True)\n",
    "open_train, closed_train = get_open_closed_triangles(g_train, info = True)"
   ]
  },
  {
   "cell_type": "code",
   "execution_count": 7,
   "metadata": {},
   "outputs": [
    {
     "data": {
      "application/vnd.jupyter.widget-view+json": {
       "model_id": "9e3b474fbb5a4fb380e3879bc313d5fd",
       "version_major": 2,
       "version_minor": 0
      },
      "text/plain": [
       "HBox(children=(IntProgress(value=0, max=106879), HTML(value='')))"
      ]
     },
     "metadata": {},
     "output_type": "display_data"
    },
    {
     "name": "stdout",
     "output_type": "stream",
     "text": [
      "\n",
      "Name: \n",
      "Type: Graph\n",
      "Number of nodes: 242\n",
      "Number of edges: 8317\n",
      "Average degree:  68.7355\n"
     ]
    },
    {
     "data": {
      "application/vnd.jupyter.widget-view+json": {
       "model_id": "71bf9e2937b4410ea2abf625a5c8c443",
       "version_major": 2,
       "version_minor": 0
      },
      "text/plain": [
       "HBox(children=(IntProgress(value=0, max=242), HTML(value='')))"
      ]
     },
     "metadata": {},
     "output_type": "display_data"
    },
    {
     "name": "stdout",
     "output_type": "stream",
     "text": [
      "\n",
      "Open: 98621, Closed: 5139\n"
     ]
    }
   ],
   "source": [
    "g_total = get_projected_graph(simplex_list, info = True)\n",
    "open_total, closed_total = get_open_closed_triangles(g_total, info = True)"
   ]
  },
  {
   "cell_type": "markdown",
   "metadata": {},
   "source": [
    "Look which triangles have closed"
   ]
  },
  {
   "cell_type": "code",
   "execution_count": 8,
   "metadata": {},
   "outputs": [
    {
     "name": "stdout",
     "output_type": "stream",
     "text": [
      "685\n"
     ]
    }
   ],
   "source": [
    "closed_test = [t for t in closed_total if t in open_train]\n",
    "print(len(closed_test))"
   ]
  },
  {
   "cell_type": "code",
   "execution_count": 112,
   "metadata": {},
   "outputs": [
    {
     "name": "stdout",
     "output_type": "stream",
     "text": [
      "80447\n",
      "684.9999999999158\n"
     ]
    }
   ],
   "source": [
    "y_test = [1 if t in closed_test else 0 for t in open_train]\n",
    "print(len(y_test))\n",
    "y_rnd_prob = [len(closed_test)/len(open_train)]*len(y_test)\n",
    "print(sum(y_rnd_prob))"
   ]
  },
  {
   "cell_type": "markdown",
   "metadata": {},
   "source": [
    "# Simplex2Vec  test\n",
    "\n",
    "Launch and train the Simplex2Vec model. "
   ]
  },
  {
   "cell_type": "code",
   "execution_count": 9,
   "metadata": {},
   "outputs": [
    {
     "name": "stdout",
     "output_type": "stream",
     "text": [
      "DendroPY not supported.\n"
     ]
    },
    {
     "data": {
      "application/vnd.jupyter.widget-view+json": {
       "model_id": "510d02820e114640ab5a3dc1a38e131a",
       "version_major": 2,
       "version_minor": 0
      },
      "text/plain": [
       "HBox(children=(IntProgress(value=0, description='Creating Hasse diagram', max=11179, style=ProgressStyle(descr…"
      ]
     },
     "metadata": {},
     "output_type": "display_data"
    },
    {
     "name": "stdout",
     "output_type": "stream",
     "text": [
      "\n",
      "Name: \n",
      "Type: Graph\n",
      "Number of nodes: 12394\n",
      "Number of edges: 29209\n",
      "Average degree:   4.7134\n"
     ]
    }
   ],
   "source": [
    "import clusim.sim as sim\n",
    "from clusim.clustering import Clustering\n",
    "from sklearn.cluster import KMeans, DBSCAN, AgglomerativeClustering\n",
    "from sklearn.manifold import TSNE\n",
    "\n",
    "from Simplex2Vec.Simplex2Vec import Simplex2Vec\n",
    "from Simplex2Vec.utils import check_prediction\n",
    "from Simplex2Vec.utils import read_simplex_json\n",
    "from Simplex2Vec.simplex2hasse import simplex2hasse_HOexponential\n",
    "\n",
    "\n",
    "g_hasse = simplex2hasse_HOexponential(train_simplices, max_order=5)\n",
    "print(nx.info(g_hasse))"
   ]
  },
  {
   "cell_type": "code",
   "execution_count": null,
   "metadata": {},
   "outputs": [
    {
     "data": {
      "application/vnd.jupyter.widget-view+json": {
       "model_id": "585e91fcbe374ce5a5539b15c2085d79",
       "version_major": 2,
       "version_minor": 0
      },
      "text/plain": [
       "HBox(children=(IntProgress(value=0, description='Precomputing probabilities', max=12394, style=ProgressStyle(d…"
      ]
     },
     "metadata": {},
     "output_type": "display_data"
    },
    {
     "name": "stdout",
     "output_type": "stream",
     "text": [
      "\n",
      " "
     ]
    },
    {
     "data": {
      "application/vnd.jupyter.widget-view+json": {
       "model_id": "2960958b904a42e39262d24aaa7881c0",
       "version_major": 2,
       "version_minor": 0
      },
      "text/plain": [
       "HBox(children=(IntProgress(value=0, description='Generating walks : CPU: 0', max=4132, style=ProgressStyle(des…"
      ]
     },
     "metadata": {},
     "output_type": "display_data"
    },
    {
     "name": "stdout",
     "output_type": "stream",
     "text": [
      " "
     ]
    },
    {
     "data": {
      "application/vnd.jupyter.widget-view+json": {
       "model_id": "6337fed023b24736bcb6d6b7842ed44c",
       "version_major": 2,
       "version_minor": 0
      },
      "text/plain": [
       "HBox(children=(IntProgress(value=0, description='Generating walks : CPU: 1', max=4131, style=ProgressStyle(des…"
      ]
     },
     "metadata": {},
     "output_type": "display_data"
    },
    {
     "name": "stdout",
     "output_type": "stream",
     "text": [
      " "
     ]
    },
    {
     "data": {
      "application/vnd.jupyter.widget-view+json": {
       "model_id": "d48dcf47b2b44bb3b641b46b15e551b0",
       "version_major": 2,
       "version_minor": 0
      },
      "text/plain": [
       "HBox(children=(IntProgress(value=0, description='Generating walks : CPU: 2', max=4131, style=ProgressStyle(des…"
      ]
     },
     "metadata": {},
     "output_type": "display_data"
    }
   ],
   "source": [
    "s2v = Simplex2Vec.from_hasse_diagram(g_hasse, p = 10**10, n_walks=10, \n",
    "                                     walk_length=60, workers = 3)"
   ]
  },
  {
   "cell_type": "code",
   "execution_count": 121,
   "metadata": {
    "scrolled": true
   },
   "outputs": [
    {
     "name": "stdout",
     "output_type": "stream",
     "text": [
      "Fitting the Word2Vec..\n",
      "Epoch 0 - Model loss: 776033.3125\n",
      " "
     ]
    },
    {
     "data": {
      "application/vnd.jupyter.widget-view+json": {
       "model_id": "6d1f5422c133423d900af2c7f8f62221",
       "version_major": 2,
       "version_minor": 0
      },
      "text/plain": [
       "HBox(children=(IntProgress(value=0, description='Generating walks : CPU: 0', max=4132, style=ProgressStyle(des…"
      ]
     },
     "metadata": {},
     "output_type": "display_data"
    },
    {
     "name": "stdout",
     "output_type": "stream",
     "text": [
      " "
     ]
    },
    {
     "data": {
      "application/vnd.jupyter.widget-view+json": {
       "model_id": "3df1fbda025844f5a81ce41ede9b3b83",
       "version_major": 2,
       "version_minor": 0
      },
      "text/plain": [
       "HBox(children=(IntProgress(value=0, description='Generating walks : CPU: 1', max=4131, style=ProgressStyle(des…"
      ]
     },
     "metadata": {},
     "output_type": "display_data"
    },
    {
     "name": "stdout",
     "output_type": "stream",
     "text": [
      " "
     ]
    },
    {
     "data": {
      "application/vnd.jupyter.widget-view+json": {
       "model_id": "6bc8c2311d584bd0b6d43f7d3c32ca6f",
       "version_major": 2,
       "version_minor": 0
      },
      "text/plain": [
       "HBox(children=(IntProgress(value=0, description='Generating walks : CPU: 2', max=4131, style=ProgressStyle(des…"
      ]
     },
     "metadata": {},
     "output_type": "display_data"
    },
    {
     "name": "stdout",
     "output_type": "stream",
     "text": [
      "\n",
      "\n",
      "\n",
      "DONE!\n",
      "Epoch 0 - Model loss: 500679.28125\n",
      " "
     ]
    },
    {
     "data": {
      "application/vnd.jupyter.widget-view+json": {
       "model_id": "db19744b50cc4db2ab32b1506ec738d8",
       "version_major": 2,
       "version_minor": 0
      },
      "text/plain": [
       "HBox(children=(IntProgress(value=0, description='Generating walks : CPU: 0', max=4132, style=ProgressStyle(des…"
      ]
     },
     "metadata": {},
     "output_type": "display_data"
    },
    {
     "name": "stdout",
     "output_type": "stream",
     "text": [
      " "
     ]
    },
    {
     "data": {
      "application/vnd.jupyter.widget-view+json": {
       "model_id": "37e13bbc9e894a77a8db8c4fe4b66afd",
       "version_major": 2,
       "version_minor": 0
      },
      "text/plain": [
       "HBox(children=(IntProgress(value=0, description='Generating walks : CPU: 1', max=4131, style=ProgressStyle(des…"
      ]
     },
     "metadata": {},
     "output_type": "display_data"
    },
    {
     "name": "stdout",
     "output_type": "stream",
     "text": [
      " "
     ]
    },
    {
     "data": {
      "application/vnd.jupyter.widget-view+json": {
       "model_id": "e4c496672715480fb19748cead419977",
       "version_major": 2,
       "version_minor": 0
      },
      "text/plain": [
       "HBox(children=(IntProgress(value=0, description='Generating walks : CPU: 2', max=4131, style=ProgressStyle(des…"
      ]
     },
     "metadata": {},
     "output_type": "display_data"
    },
    {
     "name": "stdout",
     "output_type": "stream",
     "text": [
      "\n",
      "\n",
      "\n",
      "DONE!\n",
      "Epoch 0 - Model loss: 376482.8125\n",
      " "
     ]
    },
    {
     "data": {
      "application/vnd.jupyter.widget-view+json": {
       "model_id": "68eae77637d44c0d820d129fefcd0b4d",
       "version_major": 2,
       "version_minor": 0
      },
      "text/plain": [
       "HBox(children=(IntProgress(value=0, description='Generating walks : CPU: 0', max=4132, style=ProgressStyle(des…"
      ]
     },
     "metadata": {},
     "output_type": "display_data"
    },
    {
     "name": "stdout",
     "output_type": "stream",
     "text": [
      " "
     ]
    },
    {
     "data": {
      "application/vnd.jupyter.widget-view+json": {
       "model_id": "f4daba4f59a845a7a871eae43e1ed6e4",
       "version_major": 2,
       "version_minor": 0
      },
      "text/plain": [
       "HBox(children=(IntProgress(value=0, description='Generating walks : CPU: 1', max=4131, style=ProgressStyle(des…"
      ]
     },
     "metadata": {},
     "output_type": "display_data"
    },
    {
     "name": "stdout",
     "output_type": "stream",
     "text": [
      " "
     ]
    },
    {
     "data": {
      "application/vnd.jupyter.widget-view+json": {
       "model_id": "06247413e92c4ff19604a1ef9840b46d",
       "version_major": 2,
       "version_minor": 0
      },
      "text/plain": [
       "HBox(children=(IntProgress(value=0, description='Generating walks : CPU: 2', max=4131, style=ProgressStyle(des…"
      ]
     },
     "metadata": {},
     "output_type": "display_data"
    },
    {
     "name": "stdout",
     "output_type": "stream",
     "text": [
      "\n",
      "\n",
      "\n",
      "DONE!\n",
      "Epoch 0 - Model loss: 302578.78125\n",
      " "
     ]
    },
    {
     "data": {
      "application/vnd.jupyter.widget-view+json": {
       "model_id": "6fe6bff9709041a38c0f84513b85787a",
       "version_major": 2,
       "version_minor": 0
      },
      "text/plain": [
       "HBox(children=(IntProgress(value=0, description='Generating walks : CPU: 0', max=4132, style=ProgressStyle(des…"
      ]
     },
     "metadata": {},
     "output_type": "display_data"
    },
    {
     "name": "stdout",
     "output_type": "stream",
     "text": [
      " "
     ]
    },
    {
     "data": {
      "application/vnd.jupyter.widget-view+json": {
       "model_id": "b85ffffdf52e453aafc84f0746adc3da",
       "version_major": 2,
       "version_minor": 0
      },
      "text/plain": [
       "HBox(children=(IntProgress(value=0, description='Generating walks : CPU: 1', max=4131, style=ProgressStyle(des…"
      ]
     },
     "metadata": {},
     "output_type": "display_data"
    },
    {
     "name": "stdout",
     "output_type": "stream",
     "text": [
      " "
     ]
    },
    {
     "data": {
      "application/vnd.jupyter.widget-view+json": {
       "model_id": "81c46e03e48d42b8888ecdd8460a3e1f",
       "version_major": 2,
       "version_minor": 0
      },
      "text/plain": [
       "HBox(children=(IntProgress(value=0, description='Generating walks : CPU: 2', max=4131, style=ProgressStyle(des…"
      ]
     },
     "metadata": {},
     "output_type": "display_data"
    },
    {
     "name": "stdout",
     "output_type": "stream",
     "text": [
      "\n",
      "\n",
      "\n",
      "DONE!\n",
      "Epoch 0 - Model loss: 253715.421875\n",
      " "
     ]
    },
    {
     "data": {
      "application/vnd.jupyter.widget-view+json": {
       "model_id": "2bb81b0e002547f682419249b2c0d35f",
       "version_major": 2,
       "version_minor": 0
      },
      "text/plain": [
       "HBox(children=(IntProgress(value=0, description='Generating walks : CPU: 0', max=4132, style=ProgressStyle(des…"
      ]
     },
     "metadata": {},
     "output_type": "display_data"
    },
    {
     "name": "stdout",
     "output_type": "stream",
     "text": [
      " "
     ]
    },
    {
     "data": {
      "application/vnd.jupyter.widget-view+json": {
       "model_id": "d71306756d024b30ac8cafcf23771855",
       "version_major": 2,
       "version_minor": 0
      },
      "text/plain": [
       "HBox(children=(IntProgress(value=0, description='Generating walks : CPU: 1', max=4131, style=ProgressStyle(des…"
      ]
     },
     "metadata": {},
     "output_type": "display_data"
    },
    {
     "name": "stdout",
     "output_type": "stream",
     "text": [
      " "
     ]
    },
    {
     "data": {
      "application/vnd.jupyter.widget-view+json": {
       "model_id": "861ed3b92cf4441cbbe0709d995a9b3e",
       "version_major": 2,
       "version_minor": 0
      },
      "text/plain": [
       "HBox(children=(IntProgress(value=0, description='Generating walks : CPU: 2', max=4131, style=ProgressStyle(des…"
      ]
     },
     "metadata": {},
     "output_type": "display_data"
    },
    {
     "name": "stdout",
     "output_type": "stream",
     "text": [
      "\n",
      "\n",
      "\n",
      "DONE!\n",
      "Epoch 0 - Model loss: 223968.59375\n",
      " "
     ]
    },
    {
     "data": {
      "application/vnd.jupyter.widget-view+json": {
       "model_id": "3353e556c3d2480c97207cae9ff36d3b",
       "version_major": 2,
       "version_minor": 0
      },
      "text/plain": [
       "HBox(children=(IntProgress(value=0, description='Generating walks : CPU: 0', max=4132, style=ProgressStyle(des…"
      ]
     },
     "metadata": {},
     "output_type": "display_data"
    },
    {
     "name": "stdout",
     "output_type": "stream",
     "text": [
      " "
     ]
    },
    {
     "data": {
      "application/vnd.jupyter.widget-view+json": {
       "model_id": "13d94e5c0b75433b97f93cd2b13288b7",
       "version_major": 2,
       "version_minor": 0
      },
      "text/plain": [
       "HBox(children=(IntProgress(value=0, description='Generating walks : CPU: 1', max=4131, style=ProgressStyle(des…"
      ]
     },
     "metadata": {},
     "output_type": "display_data"
    },
    {
     "name": "stdout",
     "output_type": "stream",
     "text": [
      " "
     ]
    },
    {
     "data": {
      "application/vnd.jupyter.widget-view+json": {
       "model_id": "6cc5aca7cfdf4dbb84a2ef47b554ea2d",
       "version_major": 2,
       "version_minor": 0
      },
      "text/plain": [
       "HBox(children=(IntProgress(value=0, description='Generating walks : CPU: 2', max=4131, style=ProgressStyle(des…"
      ]
     },
     "metadata": {},
     "output_type": "display_data"
    },
    {
     "name": "stdout",
     "output_type": "stream",
     "text": [
      "\n",
      "\n",
      "\n",
      "DONE!\n",
      "Epoch 0 - Model loss: 200493.453125\n",
      " "
     ]
    },
    {
     "data": {
      "application/vnd.jupyter.widget-view+json": {
       "model_id": "230676646ae948c09233487ea7792300",
       "version_major": 2,
       "version_minor": 0
      },
      "text/plain": [
       "HBox(children=(IntProgress(value=0, description='Generating walks : CPU: 0', max=4132, style=ProgressStyle(des…"
      ]
     },
     "metadata": {},
     "output_type": "display_data"
    },
    {
     "name": "stdout",
     "output_type": "stream",
     "text": [
      " "
     ]
    },
    {
     "data": {
      "application/vnd.jupyter.widget-view+json": {
       "model_id": "c481332d4678402bb9582a27f272f71f",
       "version_major": 2,
       "version_minor": 0
      },
      "text/plain": [
       "HBox(children=(IntProgress(value=0, description='Generating walks : CPU: 1', max=4131, style=ProgressStyle(des…"
      ]
     },
     "metadata": {},
     "output_type": "display_data"
    },
    {
     "name": "stdout",
     "output_type": "stream",
     "text": [
      " "
     ]
    },
    {
     "data": {
      "application/vnd.jupyter.widget-view+json": {
       "model_id": "b6dea150760641e795d9334bebbb8f6c",
       "version_major": 2,
       "version_minor": 0
      },
      "text/plain": [
       "HBox(children=(IntProgress(value=0, description='Generating walks : CPU: 2', max=4131, style=ProgressStyle(des…"
      ]
     },
     "metadata": {},
     "output_type": "display_data"
    },
    {
     "name": "stdout",
     "output_type": "stream",
     "text": [
      "\n",
      "\n",
      "\n",
      "DONE!\n",
      "Epoch 0 - Model loss: 183432.8125\n",
      " "
     ]
    },
    {
     "data": {
      "application/vnd.jupyter.widget-view+json": {
       "model_id": "fe11965511db4dd9aa3319545c7d1810",
       "version_major": 2,
       "version_minor": 0
      },
      "text/plain": [
       "HBox(children=(IntProgress(value=0, description='Generating walks : CPU: 0', max=4132, style=ProgressStyle(des…"
      ]
     },
     "metadata": {},
     "output_type": "display_data"
    },
    {
     "name": "stdout",
     "output_type": "stream",
     "text": [
      " "
     ]
    },
    {
     "data": {
      "application/vnd.jupyter.widget-view+json": {
       "model_id": "c537b65ecd0244f88ff1340d15de1482",
       "version_major": 2,
       "version_minor": 0
      },
      "text/plain": [
       "HBox(children=(IntProgress(value=0, description='Generating walks : CPU: 1', max=4131, style=ProgressStyle(des…"
      ]
     },
     "metadata": {},
     "output_type": "display_data"
    },
    {
     "name": "stdout",
     "output_type": "stream",
     "text": [
      " "
     ]
    },
    {
     "data": {
      "application/vnd.jupyter.widget-view+json": {
       "model_id": "90c800debdca4a84b5be744125fd708f",
       "version_major": 2,
       "version_minor": 0
      },
      "text/plain": [
       "HBox(children=(IntProgress(value=0, description='Generating walks : CPU: 2', max=4131, style=ProgressStyle(des…"
      ]
     },
     "metadata": {},
     "output_type": "display_data"
    },
    {
     "name": "stdout",
     "output_type": "stream",
     "text": [
      "\n",
      "\n",
      "\n",
      "DONE!\n",
      "Epoch 0 - Model loss: 170700.3125\n",
      " "
     ]
    },
    {
     "data": {
      "application/vnd.jupyter.widget-view+json": {
       "model_id": "31bf1a477485476dadd893e1d763fbe8",
       "version_major": 2,
       "version_minor": 0
      },
      "text/plain": [
       "HBox(children=(IntProgress(value=0, description='Generating walks : CPU: 0', max=4132, style=ProgressStyle(des…"
      ]
     },
     "metadata": {},
     "output_type": "display_data"
    },
    {
     "name": "stdout",
     "output_type": "stream",
     "text": [
      " "
     ]
    },
    {
     "data": {
      "application/vnd.jupyter.widget-view+json": {
       "model_id": "191a3d9b01bb47ce8d871e981195939b",
       "version_major": 2,
       "version_minor": 0
      },
      "text/plain": [
       "HBox(children=(IntProgress(value=0, description='Generating walks : CPU: 1', max=4131, style=ProgressStyle(des…"
      ]
     },
     "metadata": {},
     "output_type": "display_data"
    },
    {
     "name": "stdout",
     "output_type": "stream",
     "text": [
      " "
     ]
    },
    {
     "data": {
      "application/vnd.jupyter.widget-view+json": {
       "model_id": "cd3bf37f624448e5857d065bb9bdf056",
       "version_major": 2,
       "version_minor": 0
      },
      "text/plain": [
       "HBox(children=(IntProgress(value=0, description='Generating walks : CPU: 2', max=4131, style=ProgressStyle(des…"
      ]
     },
     "metadata": {},
     "output_type": "display_data"
    },
    {
     "name": "stdout",
     "output_type": "stream",
     "text": [
      "\n",
      "\n",
      "\n",
      "DONE!\n",
      "Epoch 0 - Model loss: 161635.171875\n",
      " "
     ]
    },
    {
     "data": {
      "application/vnd.jupyter.widget-view+json": {
       "model_id": "e3ea56388baf414f93d0704551dbf636",
       "version_major": 2,
       "version_minor": 0
      },
      "text/plain": [
       "HBox(children=(IntProgress(value=0, description='Generating walks : CPU: 0', max=4132, style=ProgressStyle(des…"
      ]
     },
     "metadata": {},
     "output_type": "display_data"
    },
    {
     "name": "stdout",
     "output_type": "stream",
     "text": [
      " "
     ]
    },
    {
     "data": {
      "application/vnd.jupyter.widget-view+json": {
       "model_id": "d9612dea417a47c495c6a6173d327d19",
       "version_major": 2,
       "version_minor": 0
      },
      "text/plain": [
       "HBox(children=(IntProgress(value=0, description='Generating walks : CPU: 1', max=4131, style=ProgressStyle(des…"
      ]
     },
     "metadata": {},
     "output_type": "display_data"
    },
    {
     "name": "stdout",
     "output_type": "stream",
     "text": [
      " "
     ]
    },
    {
     "data": {
      "application/vnd.jupyter.widget-view+json": {
       "model_id": "74df0fdd7a0942faa7346d0515729aa4",
       "version_major": 2,
       "version_minor": 0
      },
      "text/plain": [
       "HBox(children=(IntProgress(value=0, description='Generating walks : CPU: 2', max=4131, style=ProgressStyle(des…"
      ]
     },
     "metadata": {},
     "output_type": "display_data"
    },
    {
     "name": "stdout",
     "output_type": "stream",
     "text": [
      "\n",
      "\n",
      "\n",
      "DONE!\n",
      "Epoch 0 - Model loss: 153776.0\n"
     ]
    }
   ],
   "source": [
    "class EpochShowLoss():\n",
    "    '''Callback to show training loss after each epoch '''\n",
    "\n",
    "    def __init__(self):\n",
    "        self.epoch = 0\n",
    "    \n",
    "    def on_train_begin(self, model):\n",
    "        pass\n",
    "    def on_train_end(self, model):\n",
    "        pass\n",
    "    def on_epoch_begin(self, model):\n",
    "        pass\n",
    "    def on_batch_begin(self, model):\n",
    "        pass\n",
    "    def on_batch_end(self, model):\n",
    "        pass\n",
    "        \n",
    "    def on_epoch_end(self, model):\n",
    "        print(\"Epoch {} - Model loss: {}\".format(self.epoch,\n",
    "                                              model.get_latest_training_loss()))\n",
    "        self.epoch += 1\n",
    "        \n",
    "model = s2v.fit(iter = 1,callbacks = [EpochShowLoss()])\n",
    "for _ in range(20):  \n",
    "    model = s2v.refit(epochs = 1, callbacks = [EpochShowLoss()])\n",
    "    "
   ]
  },
  {
   "cell_type": "markdown",
   "metadata": {},
   "source": [
    "## Plot the embedding\n",
    "\n",
    "Extract the embedding vectors for nodes or edges and plot it on the plane using tSNE embedding."
   ]
  },
  {
   "cell_type": "code",
   "execution_count": 124,
   "metadata": {},
   "outputs": [
    {
     "name": "stderr",
     "output_type": "stream",
     "text": [
      "/Users/amedvede/anaconda3/lib/python3.7/site-packages/ipykernel_launcher.py:6: DeprecationWarning: Call to deprecated `__getitem__` (Method will be removed in 4.0.0, use self.wv.__getitem__() instead).\n",
      "  \n"
     ]
    }
   ],
   "source": [
    "X = []\n",
    "X_labels = []\n",
    "\n",
    "for u in model.wv.vocab.keys():\n",
    "    if len(u.split(',')) == 2: # get all embedding vectors \n",
    "        X.append(model[u])\n",
    "        \n",
    "X_transform = TSNE(n_components=2).fit_transform(X)"
   ]
  },
  {
   "cell_type": "code",
   "execution_count": 125,
   "metadata": {},
   "outputs": [
    {
     "data": {
      "image/png": "[encoded data removed]",
      "text/plain": [
       "<Figure size 576x576 with 1 Axes>"
      ]
     },
     "metadata": {
      "needs_background": "light"
     },
     "output_type": "display_data"
    }
   ],
   "source": [
    "fig = plt.figure(figsize = (6,6), dpi = 96)\n",
    "# colors_list = cm.nipy_spectral(np.asarray(pred_cluster_labels).astype(float) / num_classes)\n",
    "plt.scatter(*zip(*X_transform), marker='o', s=50, lw=0, alpha=0.7,)\n",
    "#                      c = colors_list)\n",
    "text_params = {'ha': 'center', 'va': 'center', 'family': 'oswald-light',\n",
    "                   'fontweight': 'normal', \"size\": 12}\n",
    "# for i, z in enumerate(Z_labels):\n",
    "#     x,y = X_transform[i]\n",
    "#     plt.text(x,y, z, color = \"black\", alpha=0.8)\n",
    "\n",
    "plt.title(\"Node clusters\", fontsize = 16)\n",
    "plt.show()"
   ]
  },
  {
   "cell_type": "markdown",
   "metadata": {},
   "source": [
    "# Scoring the closing triangles - v1\n",
    "\n",
    "Now we test the predictive model based on cosine similarity. The idea is simple: if an open triangle has all nodes that have high cosine similarity to each other, then this triangle is highly likely to close in future. We use simple sum of all three similarities as a decision function.\n",
    "\n",
    "In v1 we use the similarity of pairs of nodes in a triangle."
   ]
  },
  {
   "cell_type": "code",
   "execution_count": 95,
   "metadata": {},
   "outputs": [
    {
     "data": {
      "application/vnd.jupyter.widget-view+json": {
       "model_id": "7ad0708f1cdb4e4b8672f9cf85cbb6ba",
       "version_major": 2,
       "version_minor": 0
      },
      "text/plain": [
       "HBox(children=(IntProgress(value=0, max=80447), HTML(value='')))"
      ]
     },
     "metadata": {},
     "output_type": "display_data"
    },
    {
     "name": "stdout",
     "output_type": "stream",
     "text": [
      "\n",
      "80447\n"
     ]
    }
   ],
   "source": [
    "from sklearn.metrics import average_precision_score, roc_auc_score, auc, f1_score\n",
    "closure_similarity = []\n",
    "for t in tqdm_notebook(open_train):\n",
    "    similarity_scores = []\n",
    "    for u,v in itertools.combinations(t,2):\n",
    "        uf = str(u)\n",
    "        vf = str(v)\n",
    "        similarity_scores.append(model.wv.similarity(uf,vf))\n",
    "    closure_similarity.append(np.sum(similarity_scores))\n",
    "  \n",
    "print(len(closure_similarity))"
   ]
  },
  {
   "cell_type": "code",
   "execution_count": 150,
   "metadata": {},
   "outputs": [
    {
     "name": "stdout",
     "output_type": "stream",
     "text": [
      "AUCPR RND: 0.5042574614342362 | AUCPR S2V: 0.012739925260713334\n",
      "Ratio as in Kleinberg --  AUCPR S2V/AUCPR RND : 0.0252647233508013\n"
     ]
    },
    {
     "data": {
      "image/png": "[encoded data removed]",
      "text/plain": [
       "<Figure size 432x288 with 1 Axes>"
      ]
     },
     "metadata": {
      "needs_background": "light"
     },
     "output_type": "display_data"
    }
   ],
   "source": [
    "rnd_precision, rnd_recall, _ = precision_recall_curve(y_test, y_rnd_prob)\n",
    "s2v_precision, s2v_recall, _ = precision_recall_curve(y_test, closure_similarity)\n",
    "\n",
    "rnd_precision, rnd_recall = rnd_precision[::-1], rnd_recall[::-1]\n",
    "s2v_precision, s2v_recall = s2v_precision[::-1], s2v_recall[::-1]\n",
    "\n",
    "aucpr_rnd = auc(rnd_recall, rnd_precision)\n",
    "aucpr_s2v = auc(s2v_recall, s2v_precision)\n",
    "print(\"AUCPR RND: {} | AUCPR S2V: {}\".format(aucpr_rnd, aucpr_s2v))\n",
    "kleinberg_ratio = aucpr_s2v/aucpr_rnd\n",
    "print(\"Ratio as in Kleinberg --  AUCPR S2V/AUCPR RND :\", kleinberg_ratio)\n",
    "\n",
    "plt.plot(rnd_recall, rnd_precision)\n",
    "plt.plot(s2v_recall, s2v_precision)\n",
    "plt.show()"
   ]
  },
  {
   "cell_type": "code",
   "execution_count": 100,
   "metadata": {
    "collapsed": true
   },
   "outputs": [
    {
     "name": "stdout",
     "output_type": "stream",
     "text": [
      "0.5 0.7726114387382755\n"
     ]
    },
    {
     "ename": "ValueError",
     "evalue": "Classification metrics can't handle a mix of binary and continuous targets",
     "output_type": "error",
     "traceback": [
      "\u001b[0;31m---------------------------------------------------------------------------\u001b[0m",
      "\u001b[0;31mValueError\u001b[0m                                Traceback (most recent call last)",
      "\u001b[0;32m<ipython-input-100-abfd561b6c6a>\u001b[0m in \u001b[0;36m<module>\u001b[0;34m\u001b[0m\n\u001b[1;32m      1\u001b[0m \u001b[0mprint\u001b[0m\u001b[0;34m(\u001b[0m\u001b[0mroc_auc_score\u001b[0m\u001b[0;34m(\u001b[0m\u001b[0my_test\u001b[0m\u001b[0;34m,\u001b[0m \u001b[0my_rnd_prob\u001b[0m\u001b[0;34m)\u001b[0m\u001b[0;34m,\u001b[0m \u001b[0mroc_auc_score\u001b[0m\u001b[0;34m(\u001b[0m\u001b[0my_test\u001b[0m\u001b[0;34m,\u001b[0m \u001b[0mclosure_similarity\u001b[0m\u001b[0;34m)\u001b[0m\u001b[0;34m)\u001b[0m\u001b[0;34m\u001b[0m\u001b[0;34m\u001b[0m\u001b[0m\n\u001b[0;32m----> 2\u001b[0;31m \u001b[0mprint\u001b[0m\u001b[0;34m(\u001b[0m\u001b[0mf1_score\u001b[0m\u001b[0;34m(\u001b[0m\u001b[0my_test\u001b[0m\u001b[0;34m,\u001b[0m \u001b[0my_rnd_prob\u001b[0m\u001b[0;34m)\u001b[0m\u001b[0;34m)\u001b[0m\u001b[0;34m\u001b[0m\u001b[0;34m\u001b[0m\u001b[0m\n\u001b[0m",
      "\u001b[0;32m~/anaconda3/lib/python3.7/site-packages/sklearn/metrics/classification.py\u001b[0m in \u001b[0;36mf1_score\u001b[0;34m(y_true, y_pred, labels, pos_label, average, sample_weight)\u001b[0m\n\u001b[1;32m   1057\u001b[0m     return fbeta_score(y_true, y_pred, 1, labels=labels,\n\u001b[1;32m   1058\u001b[0m                        \u001b[0mpos_label\u001b[0m\u001b[0;34m=\u001b[0m\u001b[0mpos_label\u001b[0m\u001b[0;34m,\u001b[0m \u001b[0maverage\u001b[0m\u001b[0;34m=\u001b[0m\u001b[0maverage\u001b[0m\u001b[0;34m,\u001b[0m\u001b[0;34m\u001b[0m\u001b[0;34m\u001b[0m\u001b[0m\n\u001b[0;32m-> 1059\u001b[0;31m                        sample_weight=sample_weight)\n\u001b[0m\u001b[1;32m   1060\u001b[0m \u001b[0;34m\u001b[0m\u001b[0m\n\u001b[1;32m   1061\u001b[0m \u001b[0;34m\u001b[0m\u001b[0m\n",
      "\u001b[0;32m~/anaconda3/lib/python3.7/site-packages/sklearn/metrics/classification.py\u001b[0m in \u001b[0;36mfbeta_score\u001b[0;34m(y_true, y_pred, beta, labels, pos_label, average, sample_weight)\u001b[0m\n\u001b[1;32m   1180\u001b[0m                                                  \u001b[0maverage\u001b[0m\u001b[0;34m=\u001b[0m\u001b[0maverage\u001b[0m\u001b[0;34m,\u001b[0m\u001b[0;34m\u001b[0m\u001b[0;34m\u001b[0m\u001b[0m\n\u001b[1;32m   1181\u001b[0m                                                  \u001b[0mwarn_for\u001b[0m\u001b[0;34m=\u001b[0m\u001b[0;34m(\u001b[0m\u001b[0;34m'f-score'\u001b[0m\u001b[0;34m,\u001b[0m\u001b[0;34m)\u001b[0m\u001b[0;34m,\u001b[0m\u001b[0;34m\u001b[0m\u001b[0;34m\u001b[0m\u001b[0m\n\u001b[0;32m-> 1182\u001b[0;31m                                                  sample_weight=sample_weight)\n\u001b[0m\u001b[1;32m   1183\u001b[0m     \u001b[0;32mreturn\u001b[0m \u001b[0mf\u001b[0m\u001b[0;34m\u001b[0m\u001b[0;34m\u001b[0m\u001b[0m\n\u001b[1;32m   1184\u001b[0m \u001b[0;34m\u001b[0m\u001b[0m\n",
      "\u001b[0;32m~/anaconda3/lib/python3.7/site-packages/sklearn/metrics/classification.py\u001b[0m in \u001b[0;36mprecision_recall_fscore_support\u001b[0;34m(y_true, y_pred, beta, labels, pos_label, average, warn_for, sample_weight)\u001b[0m\n\u001b[1;32m   1413\u001b[0m         \u001b[0;32mraise\u001b[0m \u001b[0mValueError\u001b[0m\u001b[0;34m(\u001b[0m\u001b[0;34m\"beta should be >0 in the F-beta score\"\u001b[0m\u001b[0;34m)\u001b[0m\u001b[0;34m\u001b[0m\u001b[0;34m\u001b[0m\u001b[0m\n\u001b[1;32m   1414\u001b[0m     labels = _check_set_wise_labels(y_true, y_pred, average, labels,\n\u001b[0;32m-> 1415\u001b[0;31m                                     pos_label)\n\u001b[0m\u001b[1;32m   1416\u001b[0m \u001b[0;34m\u001b[0m\u001b[0m\n\u001b[1;32m   1417\u001b[0m     \u001b[0;31m# Calculate tp_sum, pred_sum, true_sum ###\u001b[0m\u001b[0;34m\u001b[0m\u001b[0;34m\u001b[0m\u001b[0;34m\u001b[0m\u001b[0m\n",
      "\u001b[0;32m~/anaconda3/lib/python3.7/site-packages/sklearn/metrics/classification.py\u001b[0m in \u001b[0;36m_check_set_wise_labels\u001b[0;34m(y_true, y_pred, average, labels, pos_label)\u001b[0m\n\u001b[1;32m   1237\u001b[0m                          str(average_options))\n\u001b[1;32m   1238\u001b[0m \u001b[0;34m\u001b[0m\u001b[0m\n\u001b[0;32m-> 1239\u001b[0;31m     \u001b[0my_type\u001b[0m\u001b[0;34m,\u001b[0m \u001b[0my_true\u001b[0m\u001b[0;34m,\u001b[0m \u001b[0my_pred\u001b[0m \u001b[0;34m=\u001b[0m \u001b[0m_check_targets\u001b[0m\u001b[0;34m(\u001b[0m\u001b[0my_true\u001b[0m\u001b[0;34m,\u001b[0m \u001b[0my_pred\u001b[0m\u001b[0;34m)\u001b[0m\u001b[0;34m\u001b[0m\u001b[0;34m\u001b[0m\u001b[0m\n\u001b[0m\u001b[1;32m   1240\u001b[0m     \u001b[0mpresent_labels\u001b[0m \u001b[0;34m=\u001b[0m \u001b[0munique_labels\u001b[0m\u001b[0;34m(\u001b[0m\u001b[0my_true\u001b[0m\u001b[0;34m,\u001b[0m \u001b[0my_pred\u001b[0m\u001b[0;34m)\u001b[0m\u001b[0;34m\u001b[0m\u001b[0;34m\u001b[0m\u001b[0m\n\u001b[1;32m   1241\u001b[0m     \u001b[0;32mif\u001b[0m \u001b[0maverage\u001b[0m \u001b[0;34m==\u001b[0m \u001b[0;34m'binary'\u001b[0m\u001b[0;34m:\u001b[0m\u001b[0;34m\u001b[0m\u001b[0;34m\u001b[0m\u001b[0m\n",
      "\u001b[0;32m~/anaconda3/lib/python3.7/site-packages/sklearn/metrics/classification.py\u001b[0m in \u001b[0;36m_check_targets\u001b[0;34m(y_true, y_pred)\u001b[0m\n\u001b[1;32m     79\u001b[0m     \u001b[0;32mif\u001b[0m \u001b[0mlen\u001b[0m\u001b[0;34m(\u001b[0m\u001b[0my_type\u001b[0m\u001b[0;34m)\u001b[0m \u001b[0;34m>\u001b[0m \u001b[0;36m1\u001b[0m\u001b[0;34m:\u001b[0m\u001b[0;34m\u001b[0m\u001b[0;34m\u001b[0m\u001b[0m\n\u001b[1;32m     80\u001b[0m         raise ValueError(\"Classification metrics can't handle a mix of {0} \"\n\u001b[0;32m---> 81\u001b[0;31m                          \"and {1} targets\".format(type_true, type_pred))\n\u001b[0m\u001b[1;32m     82\u001b[0m \u001b[0;34m\u001b[0m\u001b[0m\n\u001b[1;32m     83\u001b[0m     \u001b[0;31m# We can't have more than one value on y_type => The set is no more needed\u001b[0m\u001b[0;34m\u001b[0m\u001b[0;34m\u001b[0m\u001b[0;34m\u001b[0m\u001b[0m\n",
      "\u001b[0;31mValueError\u001b[0m: Classification metrics can't handle a mix of binary and continuous targets"
     ]
    }
   ],
   "source": [
    "print(roc_auc_score(y_test, y_rnd_prob), roc_auc_score(y_test, closure_similarity))\n",
    "print(f1_score(y_test, y_rnd_prob))"
   ]
  },
  {
   "cell_type": "code",
   "execution_count": 120,
   "metadata": {
    "collapsed": true
   },
   "outputs": [
    {
     "name": "stdout",
     "output_type": "stream",
     "text": [
      "0.44 1\n",
      "1.1 1\n",
      "0.78 1\n",
      "0.99 1\n",
      "1.14 1\n",
      "0.96 1\n",
      "1.12 1\n",
      "1.17 1\n",
      "1.25 1\n",
      "0.76 1\n",
      "1.25 1\n",
      "0.97 1\n",
      "1.18 1\n",
      "0.27 1\n",
      "1.43 1\n",
      "0.87 1\n",
      "1.11 1\n",
      "1.4 1\n",
      "1.38 1\n",
      "0.84 1\n",
      "0.82 1\n",
      "1.0 1\n",
      "1.0 1\n",
      "1.15 1\n",
      "1.13 1\n",
      "0.96 1\n",
      "0.98 1\n",
      "1.08 1\n",
      "0.91 1\n",
      "1.3 1\n",
      "0.98 1\n",
      "1.67 1\n",
      "1.68 1\n",
      "1.17 1\n",
      "1.66 1\n",
      "1.26 1\n",
      "0.95 1\n",
      "1.1 1\n",
      "1.13 1\n",
      "1.02 1\n",
      "0.78 1\n",
      "0.78 1\n",
      "0.73 1\n",
      "0.45 1\n",
      "1.82 1\n",
      "0.95 1\n",
      "1.82 1\n",
      "0.51 1\n",
      "1.42 1\n",
      "0.37 1\n",
      "0.53 1\n",
      "1.18 1\n",
      "1.12 1\n",
      "1.46 1\n",
      "1.54 1\n",
      "0.83 1\n",
      "0.95 1\n",
      "1.17 1\n",
      "0.66 1\n",
      "1.26 1\n",
      "0.11 1\n",
      "0.32 1\n",
      "0.56 1\n",
      "0.94 1\n",
      "0.71 1\n",
      "1.33 1\n",
      "1.11 1\n",
      "1.03 1\n",
      "0.67 1\n",
      "1.03 1\n",
      "1.08 1\n",
      "1.43 1\n",
      "0.77 1\n",
      "1.03 1\n",
      "1.39 1\n",
      "0.86 1\n",
      "1.64 1\n",
      "1.02 1\n",
      "0.78 1\n",
      "1.38 1\n",
      "0.22 1\n",
      "0.82 1\n",
      "1.11 1\n",
      "1.32 1\n",
      "0.59 1\n",
      "1.05 1\n",
      "1.46 1\n",
      "1.41 1\n",
      "1.9 1\n",
      "1.27 1\n",
      "1.55 1\n",
      "1.33 1\n",
      "1.78 1\n",
      "0.81 1\n",
      "1.49 1\n",
      "1.09 1\n",
      "0.66 1\n",
      "0.9 1\n",
      "0.54 1\n",
      "0.99 1\n",
      "1.63 1\n",
      "0.83 1\n",
      "0.34 1\n",
      "0.81 1\n",
      "1.2 1\n",
      "1.05 1\n",
      "0.4 1\n",
      "0.84 1\n",
      "0.8 1\n",
      "0.66 1\n",
      "1.24 1\n",
      "1.03 1\n",
      "1.13 1\n",
      "1.26 1\n",
      "1.02 1\n",
      "0.95 1\n",
      "1.57 1\n",
      "1.63 1\n",
      "1.45 1\n",
      "1.04 1\n",
      "1.16 1\n",
      "1.39 1\n",
      "1.58 1\n",
      "0.69 1\n",
      "1.1 1\n",
      "0.86 1\n",
      "1.21 1\n",
      "1.14 1\n",
      "1.52 1\n",
      "0.79 1\n",
      "0.32 1\n",
      "0.84 1\n",
      "0.89 1\n",
      "1.48 1\n",
      "1.04 1\n",
      "1.5 1\n",
      "1.13 1\n",
      "0.64 1\n",
      "1.26 1\n",
      "0.7 1\n",
      "0.54 1\n",
      "1.14 1\n",
      "1.51 1\n",
      "1.79 1\n",
      "0.04 1\n",
      "1.51 1\n",
      "1.13 1\n",
      "1.9 1\n",
      "1.3 1\n",
      "0.77 1\n",
      "0.43 1\n",
      "0.6 1\n",
      "1.66 1\n",
      "1.29 1\n",
      "0.81 1\n",
      "1.46 1\n",
      "1.17 1\n",
      "1.59 1\n",
      "0.58 1\n",
      "0.58 1\n",
      "0.77 1\n",
      "1.69 1\n",
      "1.1 1\n",
      "1.45 1\n",
      "0.78 1\n",
      "0.65 1\n",
      "0.86 1\n",
      "1.25 1\n",
      "1.52 1\n",
      "0.38 1\n",
      "0.76 1\n",
      "0.81 1\n",
      "0.79 1\n",
      "0.93 1\n",
      "0.62 1\n",
      "0.97 1\n",
      "0.49 1\n",
      "0.78 1\n",
      "0.95 1\n",
      "0.34 1\n",
      "0.78 1\n",
      "1.78 1\n",
      "1.34 1\n",
      "1.26 1\n",
      "0.39 1\n",
      "1.42 1\n",
      "0.98 1\n",
      "1.31 1\n",
      "1.08 1\n",
      "1.43 1\n",
      "1.25 1\n",
      "0.74 1\n",
      "0.44 1\n",
      "1.32 1\n",
      "1.29 1\n",
      "0.89 1\n",
      "0.71 1\n",
      "1.26 1\n",
      "1.49 1\n",
      "0.38 1\n",
      "1.18 1\n",
      "0.69 1\n",
      "1.03 1\n",
      "0.56 1\n",
      "1.31 1\n",
      "0.72 1\n",
      "1.13 1\n",
      "1.08 1\n",
      "1.37 1\n",
      "1.06 1\n",
      "1.04 1\n",
      "1.6 1\n",
      "1.17 1\n",
      "1.55 1\n",
      "0.5 1\n",
      "1.44 1\n",
      "1.92 1\n",
      "0.75 1\n",
      "0.84 1\n",
      "1.69 1\n",
      "1.46 1\n",
      "0.16 1\n",
      "1.78 1\n",
      "1.76 1\n",
      "0.89 1\n",
      "0.92 1\n",
      "0.7 1\n",
      "0.81 1\n",
      "1.19 1\n",
      "1.07 1\n",
      "1.46 1\n",
      "1.19 1\n",
      "1.16 1\n",
      "0.73 1\n",
      "1.03 1\n",
      "0.43 1\n",
      "0.67 1\n",
      "0.56 1\n",
      "1.4 1\n",
      "0.76 1\n",
      "0.5 1\n",
      "1.0 1\n",
      "0.95 1\n",
      "1.11 1\n",
      "0.79 1\n",
      "1.34 1\n",
      "1.05 1\n",
      "0.75 1\n",
      "0.42 1\n",
      "0.57 1\n",
      "0.8 1\n",
      "1.3 1\n",
      "1.27 1\n",
      "1.1 1\n",
      "1.03 1\n",
      "0.89 1\n",
      "1.17 1\n",
      "0.45 1\n",
      "1.23 1\n",
      "1.1 1\n",
      "1.2 1\n",
      "1.25 1\n",
      "1.06 1\n",
      "0.85 1\n",
      "0.91 1\n",
      "0.7 1\n",
      "0.68 1\n",
      "0.89 1\n",
      "2.01 1\n",
      "0.73 1\n",
      "1.15 1\n",
      "1.0 1\n",
      "0.59 1\n",
      "0.52 1\n",
      "1.07 1\n",
      "1.52 1\n",
      "1.01 1\n",
      "0.5 1\n",
      "1.35 1\n",
      "1.27 1\n",
      "1.09 1\n",
      "1.45 1\n",
      "0.74 1\n",
      "0.93 1\n",
      "0.74 1\n",
      "0.9 1\n",
      "1.22 1\n",
      "0.52 1\n",
      "0.41 1\n",
      "0.61 1\n",
      "1.38 1\n",
      "1.0 1\n",
      "0.31 1\n",
      "0.81 1\n",
      "1.24 1\n",
      "1.23 1\n",
      "1.41 1\n",
      "0.73 1\n",
      "0.44 1\n",
      "1.94 1\n",
      "1.32 1\n",
      "0.66 1\n",
      "0.33 1\n",
      "1.2 1\n",
      "0.31 1\n",
      "0.51 1\n",
      "1.84 1\n",
      "0.86 1\n",
      "0.94 1\n",
      "1.41 1\n",
      "1.21 1\n",
      "1.28 1\n",
      "1.45 1\n",
      "1.03 1\n",
      "0.73 1\n",
      "0.67 1\n",
      "1.01 1\n",
      "0.87 1\n",
      "1.26 1\n",
      "0.98 1\n",
      "1.34 1\n",
      "1.14 1\n",
      "0.55 1\n",
      "1.47 1\n",
      "0.32 1\n",
      "1.17 1\n",
      "1.72 1\n",
      "1.33 1\n",
      "1.55 1\n",
      "1.28 1\n",
      "1.27 1\n",
      "0.72 1\n",
      "1.74 1\n",
      "0.91 1\n",
      "0.85 1\n",
      "0.33 1\n",
      "0.67 1\n",
      "0.41 1\n",
      "0.47 1\n",
      "-0.01 1\n",
      "0.69 1\n",
      "0.72 1\n",
      "0.97 1\n",
      "0.81 1\n",
      "0.72 1\n",
      "1.4 1\n",
      "1.55 1\n",
      "0.68 1\n",
      "1.11 1\n",
      "1.58 1\n",
      "0.87 1\n",
      "0.78 1\n",
      "0.38 1\n",
      "0.46 1\n",
      "1.27 1\n",
      "0.58 1\n",
      "1.36 1\n",
      "0.66 1\n",
      "1.55 1\n",
      "0.69 1\n",
      "1.04 1\n",
      "1.23 1\n",
      "1.18 1\n",
      "0.43 1\n",
      "1.17 1\n",
      "1.09 1\n",
      "1.28 1\n",
      "1.12 1\n",
      "1.25 1\n",
      "0.59 1\n",
      "1.11 1\n",
      "0.37 1\n",
      "0.97 1\n",
      "1.25 1\n",
      "0.66 1\n",
      "0.86 1\n",
      "0.04 1\n",
      "1.25 1\n",
      "0.15 1\n",
      "1.12 1\n",
      "1.04 1\n",
      "0.83 1\n",
      "0.94 1\n",
      "0.84 1\n",
      "0.86 1\n",
      "0.11 1\n",
      "0.66 1\n",
      "0.9 1\n",
      "0.68 1\n",
      "1.17 1\n",
      "1.04 1\n",
      "0.72 1\n",
      "0.72 1\n",
      "1.57 1\n",
      "0.38 1\n",
      "0.86 1\n",
      "1.46 1\n",
      "0.82 1\n",
      "1.13 1\n",
      "0.8 1\n",
      "0.82 1\n",
      "0.62 1\n",
      "0.75 1\n",
      "0.81 1\n",
      "1.46 1\n",
      "1.29 1\n",
      "1.03 1\n",
      "1.62 1\n",
      "1.53 1\n",
      "0.63 1\n",
      "1.28 1\n",
      "0.96 1\n",
      "1.21 1\n",
      "0.79 1\n",
      "1.21 1\n",
      "1.0 1\n",
      "0.9 1\n",
      "1.55 1\n",
      "0.58 1\n",
      "1.37 1\n",
      "1.04 1\n",
      "0.98 1\n",
      "1.09 1\n",
      "1.33 1\n",
      "1.69 1\n",
      "1.03 1\n",
      "1.02 1\n",
      "0.78 1\n",
      "1.1 1\n",
      "0.74 1\n",
      "1.28 1\n",
      "1.15 1\n",
      "1.39 1\n",
      "0.87 1\n",
      "1.34 1\n",
      "1.58 1\n",
      "1.02 1\n",
      "1.13 1\n",
      "0.29 1\n",
      "1.6 1\n",
      "0.76 1\n",
      "1.06 1\n",
      "0.66 1\n",
      "0.66 1\n",
      "1.11 1\n",
      "0.7 1\n",
      "0.8 1\n",
      "1.34 1\n",
      "0.98 1\n",
      "1.09 1\n",
      "0.61 1\n",
      "0.28 1\n",
      "1.11 1\n",
      "0.5 1\n",
      "1.31 1\n",
      "1.67 1\n",
      "0.98 1\n",
      "1.62 1\n",
      "0.92 1\n",
      "0.38 1\n",
      "0.87 1\n",
      "2.11 1\n",
      "1.18 1\n",
      "1.41 1\n",
      "0.42 1\n",
      "0.67 1\n",
      "0.89 1\n",
      "0.52 1\n",
      "1.26 1\n",
      "0.97 1\n",
      "0.93 1\n",
      "0.51 1\n",
      "1.06 1\n",
      "0.58 1\n",
      "0.57 1\n",
      "1.23 1\n",
      "1.05 1\n",
      "0.32 1\n",
      "0.78 1\n",
      "0.96 1\n",
      "1.27 1\n",
      "1.3 1\n",
      "1.15 1\n",
      "1.5 1\n",
      "1.51 1\n",
      "0.73 1\n",
      "1.54 1\n",
      "0.68 1\n",
      "1.05 1\n",
      "0.63 1\n",
      "0.8 1\n",
      "0.66 1\n",
      "1.32 1\n",
      "1.57 1\n",
      "0.88 1\n",
      "0.69 1\n",
      "1.22 1\n",
      "0.98 1\n",
      "1.28 1\n",
      "0.86 1\n",
      "1.04 1\n",
      "0.89 1\n",
      "0.7 1\n",
      "0.97 1\n",
      "1.15 1\n",
      "0.79 1\n",
      "0.59 1\n",
      "0.79 1\n",
      "0.93 1\n",
      "0.96 1\n",
      "1.16 1\n",
      "1.1 1\n",
      "0.58 1\n",
      "0.53 1\n",
      "0.92 1\n",
      "0.74 1\n",
      "0.35 1\n",
      "1.17 1\n",
      "0.56 1\n",
      "0.58 1\n",
      "1.14 1\n",
      "1.26 1\n",
      "2.21 1\n",
      "0.83 1\n",
      "1.26 1\n",
      "0.87 1\n",
      "1.17 1\n",
      "1.47 1\n",
      "1.44 1\n",
      "1.39 1\n",
      "1.59 1\n",
      "1.16 1\n",
      "1.17 1\n",
      "0.46 1\n",
      "1.32 1\n",
      "1.5 1\n",
      "0.21 1\n",
      "1.3 1\n",
      "1.14 1\n",
      "1.54 1\n",
      "1.35 1\n",
      "0.69 1\n",
      "1.22 1\n",
      "0.59 1\n",
      "1.26 1\n",
      "1.14 1\n",
      "0.63 1\n",
      "1.04 1\n",
      "0.77 1\n",
      "0.9 1\n",
      "0.94 1\n",
      "1.16 1\n",
      "0.97 1\n",
      "1.25 1\n",
      "1.41 1\n",
      "1.07 1\n",
      "0.84 1\n",
      "0.47 1\n",
      "1.74 1\n",
      "0.87 1\n",
      "0.75 1\n",
      "0.92 1\n",
      "0.56 1\n",
      "1.45 1\n",
      "1.65 1\n",
      "0.71 1\n",
      "0.94 1\n",
      "0.35 1\n",
      "1.3 1\n",
      "0.83 1\n",
      "0.88 1\n",
      "1.21 1\n",
      "0.7 1\n",
      "1.01 1\n",
      "0.35 1\n",
      "1.47 1\n",
      "0.95 1\n",
      "1.48 1\n",
      "1.14 1\n",
      "1.47 1\n",
      "1.64 1\n",
      "0.7 1\n",
      "0.78 1\n",
      "0.63 1\n",
      "1.68 1\n",
      "1.08 1\n",
      "2.03 1\n",
      "1.4 1\n",
      "0.37 1\n",
      "1.26 1\n",
      "1.15 1\n",
      "1.56 1\n",
      "1.08 1\n",
      "1.82 1\n",
      "1.26 1\n",
      "0.59 1\n",
      "0.87 1\n",
      "0.68 1\n",
      "1.33 1\n",
      "0.83 1\n",
      "1.65 1\n",
      "0.62 1\n",
      "1.1 1\n",
      "0.84 1\n",
      "1.03 1\n",
      "1.49 1\n",
      "1.5 1\n",
      "1.52 1\n",
      "1.23 1\n",
      "0.93 1\n",
      "1.35 1\n",
      "0.96 1\n",
      "1.27 1\n",
      "0.46 1\n",
      "0.4 1\n",
      "1.22 1\n",
      "0.84 1\n",
      "0.55 1\n",
      "0.63 1\n",
      "1.58 1\n",
      "0.78 1\n",
      "0.9 1\n",
      "1.44 1\n",
      "0.87 1\n",
      "0.95 1\n",
      "0.95 1\n",
      "0.47 1\n",
      "1.51 1\n",
      "0.7 1\n",
      "1.86 1\n",
      "1.24 1\n",
      "1.63 1\n",
      "1.62 1\n",
      "1.06 1\n",
      "1.35 1\n",
      "1.34 1\n",
      "1.32 1\n",
      "1.04 1\n",
      "0.71 1\n",
      "0.83 1\n",
      "1.02 1\n",
      "1.8 1\n",
      "1.08 1\n",
      "1.03 1\n",
      "0.85 1\n",
      "1.19 1\n",
      "0.73 1\n",
      "0.76 1\n",
      "0.9 1\n",
      "0.92 1\n",
      "0.97 1\n",
      "0.72 1\n",
      "0.92 1\n",
      "0.07 1\n",
      "0.93 1\n",
      "1.85 1\n",
      "0.71 1\n",
      "1.25 1\n",
      "0.62 1\n",
      "1.31 1\n",
      "0.75 1\n",
      "1.18 1\n",
      "0.88 1\n",
      "0.93 1\n",
      "0.82 1\n",
      "0.77 1\n",
      "1.01 1\n",
      "0.27 1\n",
      "1.14 1\n",
      "1.06 1\n",
      "0.37 1\n",
      "1.33 1\n",
      "0.24 1\n",
      "1.28 1\n",
      "0.55 1\n",
      "1.39 1\n",
      "1.28 1\n",
      "0.91 1\n",
      "0.79 1\n",
      "0.12 1\n",
      "1.09 1\n",
      "0.89 1\n",
      "1.13 1\n",
      "1.07 1\n",
      "1.0 1\n"
     ]
    }
   ],
   "source": [
    "for clos_sim, y_t in list(zip(closure_similarity,y_test)):\n",
    "    if y_t == 1:\n",
    "        print(round(clos_sim, 2), y_t)"
   ]
  },
  {
   "cell_type": "code",
   "execution_count": 117,
   "metadata": {},
   "outputs": [
    {
     "data": {
      "text/plain": [
       "(685, 80447)"
      ]
     },
     "execution_count": 117,
     "metadata": {},
     "output_type": "execute_result"
    }
   ],
   "source": [
    "len([y for y in y_test if y == 1]), len(y_test)"
   ]
  },
  {
   "cell_type": "code",
   "execution_count": 119,
   "metadata": {},
   "outputs": [
    {
     "data": {
      "image/png": "[encoded data removed]",
      "text/plain": [
       "<Figure size 432x288 with 1 Axes>"
      ]
     },
     "metadata": {
      "needs_background": "light"
     },
     "output_type": "display_data"
    }
   ],
   "source": [
    "plt.scatter(closure_similarity, y_test)\n",
    "plt.show()"
   ]
  },
  {
   "cell_type": "markdown",
   "metadata": {},
   "source": [
    "# Scoring the closing triangles - v2\n",
    "\n",
    "In v2 we use pairwise similarity of edges that constitute a triangle. The results a disappointing as well."
   ]
  },
  {
   "cell_type": "code",
   "execution_count": 134,
   "metadata": {},
   "outputs": [
    {
     "data": {
      "application/vnd.jupyter.widget-view+json": {
       "model_id": "52195bbc91cd4e788336f06870dfa1a3",
       "version_major": 2,
       "version_minor": 0
      },
      "text/plain": [
       "HBox(children=(IntProgress(value=0, max=80447), HTML(value='')))"
      ]
     },
     "metadata": {},
     "output_type": "display_data"
    },
    {
     "name": "stdout",
     "output_type": "stream",
     "text": [
      "\n",
      "80447\n"
     ]
    }
   ],
   "source": [
    "from sklearn.metrics import average_precision_score, roc_auc_score, auc, f1_score\n",
    "closure_similarity = []\n",
    "for t in tqdm_notebook(open_train):\n",
    "    similarity_scores = []\n",
    "    triangle_edges = [\",\".join([str(u), str(v)]) for u,v in itertools.combinations(t,2)]\n",
    "    for e1,e2 in itertools.combinations(triangle_edges,2):\n",
    "        if e1 in model.wv.vocab and e2 in model.wv.vocab:\n",
    "            similarity_scores.append(model.wv.similarity(e1,e2))\n",
    "        else:\n",
    "            similarity_scores.append(0)\n",
    "    closure_similarity.append(np.sum(similarity_scores))\n",
    "  \n",
    "print(len(closure_similarity))"
   ]
  },
  {
   "cell_type": "code",
   "execution_count": 135,
   "metadata": {},
   "outputs": [
    {
     "name": "stdout",
     "output_type": "stream",
     "text": [
      "AUCPR RND: 0.5042574614342362 | AUCPR S2V: 0.010762319233925632\n",
      "Kleinberd ratio: 0.021342905275640076\n"
     ]
    },
    {
     "data": {
      "image/png": "[encoded data removed]",
      "text/plain": [
       "<Figure size 432x288 with 1 Axes>"
      ]
     },
     "metadata": {
      "needs_background": "light"
     },
     "output_type": "display_data"
    }
   ],
   "source": [
    "rnd_precision, rnd_recall, _ = precision_recall_curve(y_test, y_rnd_prob)\n",
    "s2v_precision, s2v_recall, _ = precision_recall_curve(y_test, closure_similarity)\n",
    "\n",
    "rnd_precision, rnd_recall = rnd_precision[::-1], rnd_recall[::-1]\n",
    "s2v_precision, s2v_recall = s2v_precision[::-1], s2v_recall[::-1]\n",
    "\n",
    "aucpr_rnd = auc(rnd_recall, rnd_precision)\n",
    "aucpr_s2v = auc(s2v_recall, s2v_precision)\n",
    "print(\"Ratio as in Kleinberg --  AUCPR S2V/AUCPR RND :\".format(aucpr_rnd, aucpr_s2v))\n",
    "kleinberg_ratio = aucpr_s2v/aucpr_rnd\n",
    "print(\"Kleinberd ratio:\", kleinberg_ratio)\n",
    "\n",
    "plt.plot(rnd_recall, rnd_precision)\n",
    "plt.plot(s2v_recall, s2v_precision)\n",
    "plt.show()"
   ]
  },
  {
   "cell_type": "code",
   "execution_count": 137,
   "metadata": {
    "collapsed": true
   },
   "outputs": [
    {
     "name": "stdout",
     "output_type": "stream",
     "text": [
      "2.42 0\n",
      "2.37 0\n",
      "2.32 0\n",
      "2.31 0\n",
      "2.32 0\n",
      "2.58 0\n",
      "2.43 0\n",
      "2.41 0\n",
      "2.46 0\n",
      "2.34 0\n",
      "2.43 0\n",
      "2.34 0\n",
      "2.41 0\n",
      "2.58 0\n",
      "2.43 0\n",
      "2.53 0\n",
      "2.36 1\n",
      "2.61 0\n",
      "2.31 0\n",
      "2.53 0\n",
      "2.34 0\n",
      "2.37 0\n",
      "2.34 0\n",
      "2.47 0\n",
      "2.5 0\n",
      "2.33 0\n",
      "2.38 0\n",
      "2.3 0\n",
      "2.38 0\n",
      "2.3 0\n",
      "2.45 0\n",
      "2.34 0\n",
      "2.49 0\n",
      "2.33 0\n",
      "2.42 0\n",
      "2.34 0\n",
      "2.43 0\n",
      "2.33 0\n",
      "2.4 0\n",
      "2.49 0\n",
      "2.3 0\n",
      "2.54 0\n",
      "2.42 0\n",
      "2.43 0\n",
      "2.41 0\n",
      "2.31 0\n",
      "2.32 0\n",
      "2.36 0\n",
      "2.46 0\n",
      "2.41 0\n",
      "2.32 0\n",
      "2.38 0\n",
      "2.46 0\n",
      "2.33 0\n",
      "2.32 0\n",
      "2.36 0\n",
      "2.49 0\n",
      "2.32 0\n",
      "2.4 0\n",
      "2.55 0\n",
      "2.59 0\n",
      "2.31 0\n",
      "2.35 0\n",
      "2.38 0\n",
      "2.32 0\n",
      "2.33 0\n",
      "2.43 0\n"
     ]
    }
   ],
   "source": [
    "for clos_sim, y_t in list(zip(closure_similarity,y_test)):\n",
    "    if clos_sim > 2.3:\n",
    "        print(round(clos_sim, 2), y_t)"
   ]
  },
  {
   "cell_type": "markdown",
   "metadata": {},
   "source": [
    "# Plot raw similarity scores in 2D"
   ]
  },
  {
   "cell_type": "code",
   "execution_count": 151,
   "metadata": {},
   "outputs": [
    {
     "data": {
      "application/vnd.jupyter.widget-view+json": {
       "model_id": "72fbb31c43614803b5e5ec3e0b8e9919",
       "version_major": 2,
       "version_minor": 0
      },
      "text/plain": [
       "HBox(children=(IntProgress(value=0, max=80447), HTML(value='')))"
      ]
     },
     "metadata": {},
     "output_type": "display_data"
    },
    {
     "name": "stdout",
     "output_type": "stream",
     "text": [
      "\n",
      "80447\n"
     ]
    }
   ],
   "source": [
    "from sklearn.metrics import average_precision_score, roc_auc_score, auc, f1_score\n",
    "closure_similarity = []\n",
    "for t in tqdm_notebook(open_train):\n",
    "    similarity_scores = []\n",
    "    for u,v in itertools.combinations(t,2):\n",
    "        uf = str(u)\n",
    "        vf = str(v)\n",
    "        similarity_scores.append(model.wv.similarity(uf,vf))\n",
    "    closure_similarity.append(similarity_scores)\n",
    "  \n",
    "print(len(closure_similarity))"
   ]
  },
  {
   "cell_type": "code",
   "execution_count": 152,
   "metadata": {},
   "outputs": [
    {
     "name": "stdout",
     "output_type": "stream",
     "text": [
      "[0.14775464, 0.12577468, 0.20874481] 1\n",
      "[0.3854174, 0.33972, 0.42265236] 1\n",
      "[0.21612266, 0.22098254, 0.24286678] 1\n",
      "[0.3995906, 0.33598447, 0.18149896] 1\n",
      "[0.6005217, 0.15003392, 0.36290416] 1\n",
      "[0.1688245, 0.25888634, 0.47605106] 1\n",
      "[0.32322642, 0.26150638, 0.55418825] 1\n",
      "[0.38423008, 0.40519947, 0.27917868] 1\n",
      "[0.40799284, 0.55393493, 0.30082127] 1\n",
      "[0.25380707, 0.23656552, 0.18616192] 1\n",
      "[0.5343934, 0.47716266, 0.26649755] 1\n",
      "[0.34074134, 0.28846115, 0.2988699] 1\n",
      "[0.461941, 0.29997897, 0.34120616] 1\n",
      "[0.13486065, 0.14985318, -0.08280443] 1\n",
      "[0.53621435, 0.5938146, 0.26567516] 1\n",
      "[0.25427154, 0.27682728, 0.37493837] 1\n",
      "[0.25433517, 0.29762092, 0.60840195] 1\n",
      "[0.51688087, 0.4075524, 0.52106065] 1\n",
      "[0.6173964, 0.46035278, 0.28000617] 1\n",
      "[0.17426294, 0.28000617, 0.44977945] 1\n",
      "[0.20816752, 0.2578005, 0.40475988] 1\n",
      "[0.27918828, 0.2909925, 0.37079617] 1\n",
      "[0.16973628, 0.3546527, 0.43265757] 1\n",
      "[0.42368877, 0.37654033, 0.26768553] 1\n",
      "[0.47056606, 0.23991144, 0.36356884] 1\n",
      "[0.26713428, 0.23435247, 0.42832142] 1\n",
      "[0.37227038, 0.22347593, 0.4247412] 1\n",
      "[0.22503513, 0.20335878, 0.60840195] 1\n",
      "[0.304076, 0.38851884, 0.18149896] 1\n",
      "[0.55758166, 0.33247244, 0.47153] 1\n",
      "[0.37705958, 0.26521412, 0.3572029] 1\n",
      "[0.6936008, 0.517989, 0.4701622] 1\n",
      "[0.46035278, 0.8055285, 0.41402274] 1\n",
      "[0.41063273, 0.5602834, 0.24430463] 1\n",
      "[0.5332605, 0.4538907, 0.7652973] 1\n",
      "[0.5185479, 0.40278012, 0.35308605] 1\n",
      "[0.37035918, 0.1454919, 0.4564928] 1\n",
      "[0.37771058, 0.30133906, 0.2966562] 1\n",
      "[0.35281727, 0.3287071, 0.38820985] 1\n",
      "[0.41119605, 0.4468579, 0.16450138] 1\n",
      "[0.31131893, 0.47716266, 0.10093131] 1\n",
      "[0.3572029, 0.21105587, 0.16656725] 1\n",
      "[0.18778971, 0.18398711, 0.2952325] 1\n",
      "[0.17888927, 0.20053953, 0.2002241] 1\n",
      "[0.5038986, 0.51883245, 0.8055285] 1\n",
      "[0.38382345, 0.2619069, 0.484465] 1\n",
      "[0.68344796, 0.6449475, 0.49411097] 1\n",
      "[0.09342938, 0.29709503, 0.07579354] 1\n",
      "[0.6005217, 0.29515633, 0.45509845] 1\n",
      "[-0.0067104995, 0.4312849, 0.0311508] 1\n",
      "[0.17260659, 0.24534506, 0.20874481] 1\n",
      "[0.56080425, 0.38556564, 0.3021253] 1\n",
      "[0.24916229, 0.41803342, 0.46684575] 1\n",
      "[0.60826486, 0.45296115, 0.43693224] 1\n",
      "[0.54678935, 0.58656013, 0.43339854] 1\n",
      "[0.2694436, 0.3692125, 0.2134754] 1\n",
      "[0.43265757, 0.23826732, 0.317211] 1\n",
      "[0.29185066, 0.5479735, 0.39119595] 1\n",
      "[0.31281084, 0.19867618, 0.14077449] 1\n",
      "[0.30853328, 0.5593392, 0.35340938] 1\n",
      "[0.17260659, 0.101956226, -0.16351661] 1\n",
      "[0.16202095, 0.11552049, 0.10093131] 1\n",
      "[0.27841884, 0.1166136, 0.19853021] 1\n",
      "[0.12593237, 0.47056606, 0.20023946] 1\n",
      "[0.15839982, 0.15090439, 0.45408076] 1\n",
      "[0.55043566, 0.50794804, 0.37001997] 1\n",
      "[0.38375574, 0.45994428, 0.24286678] 1\n",
      "[0.36018717, 0.28660032, 0.31465763] 1\n",
      "[0.10093131, 0.45408076, 0.043356515] 1\n",
      "[0.16349864, 0.29520774, 0.50962615] 1\n",
      "[0.3526839, 0.53437483, 0.3161217] 1\n",
      "[0.38820985, 0.6274442, 0.46059644] 1\n",
      "[0.20816752, 0.26175168, 0.31092757] 1\n",
      "[0.44680527, 0.22707397, 0.33832803] 1\n",
      "[0.58570075, 0.44433233, 0.41838494] 1\n",
      "[0.3587724, 0.3337417, 0.13172835] 1\n",
      "[0.73910725, 0.41679946, 0.42833334] 1\n",
      "[0.50256443, 0.25924686, 0.34300035] 1\n",
      "[0.39181393, 0.15128809, 0.29630777] 1\n",
      "[0.40278012, 0.5446229, 0.4997607] 1\n",
      "[-0.004373111, -0.001583565, 0.21767294] 1\n",
      "[0.22853178, 0.33740556, 0.22503513] 1\n",
      "[0.3754174, 0.328745, 0.45802703] 1\n",
      "[0.2889716, 0.3799345, 0.76454395] 1\n",
      "[0.21834625, 0.09229398, 0.22571382] 1\n",
      "[0.53621435, 0.32581967, 0.19388768] 1\n",
      "[0.5031725, 0.4538907, 0.5076736] 1\n",
      "[0.44537866, 0.53583765, 0.45270962] 1\n",
      "[0.62145925, 0.6981878, 0.6924797] 1\n",
      "[0.54678935, 0.38133487, 0.37472063] 1\n",
      "[0.38375574, 0.80629736, 0.37145978] 1\n",
      "[0.61621547, 0.28846115, 0.3087593] 1\n",
      "[0.5550881, 0.5900859, 0.6207611] 1\n",
      "[0.55392563, 0.14081192, 0.18616192] 1\n",
      "[0.405694, 0.2858503, 0.7778288] 1\n",
      "[0.28822616, 0.2409815, 0.5028999] 1\n",
      "[0.17888927, 0.34866422, 0.2134754] 1\n",
      "[0.35935342, 0.4247412, 0.17325231] 1\n",
      "[0.07327544, 0.25593913, 0.18396598] 1\n",
      "[0.60826486, 0.21397054, 0.22571382] 1\n",
      "[0.47568578, 0.38925713, 0.63088167] 1\n",
      "[0.22853178, 0.47387287, 0.18616192] 1\n",
      "[-0.03234052, 0.34533244, -0.06550279] 1\n",
      "[0.30559385, 0.21696663, 0.26630142] 1\n",
      "[0.6274442, 0.32421535, 0.3021253] 1\n",
      "[0.34974223, 0.35311627, 0.38556564] 1\n",
      "[-0.0005283095, 0.1166136, 0.339899] 1\n",
      "[0.4058035, 0.2879339, 0.14624433] 1\n",
      "[0.027126282, 0.55064094, 0.18942532] 1\n",
      "[0.069266036, 0.20874481, 0.25802788] 1\n",
      "[0.35308605, 0.4271227, 0.4380955] 1\n",
      "[0.24806178, 0.26926696, 0.51688087] 1\n",
      "[0.29149273, 0.24579184, 0.56898713] 1\n",
      "[0.58656013, 0.409198, 0.30142498] 1\n",
      "[0.26441082, 0.39717108, 0.37145978] 1\n",
      "[0.35935342, 0.42606816, 0.27347356] 1\n",
      "[0.61621547, 0.48612872, 0.5602834] 1\n",
      "[0.39775568, 0.46059644, 0.7844267] 1\n",
      "[0.5019945, 0.33733538, 0.6178327] 1\n",
      "[0.25443166, 0.54704195, 0.25927198] 1\n",
      "[0.23874411, 0.26567516, 0.594236] 1\n",
      "[0.3087593, 0.7406539, 0.31465763] 1\n",
      "[0.62905705, 0.45152086, 0.4812138] 1\n",
      "[0.14123753, 0.26175168, 0.24013428] 1\n",
      "[0.16997734, 0.30974782, 0.62989366] 1\n",
      "[0.3180042, 0.27562663, 0.29709503] 1\n",
      "[0.39767846, 0.36184123, 0.44220313] 1\n",
      "[0.264465, 0.5479735, 0.28822616] 1\n",
      "[0.60724056, 0.5067662, 0.4105075] 1\n",
      "[0.28271365, 0.3203526, 0.061704177] 1\n",
      "[0.10916701, -0.0032351818, 0.2134754] 1\n",
      "[0.41366088, 0.22802839, 0.08979419] 1\n",
      "[0.34408385, 0.2988699, 0.23784763] 1\n",
      "[0.36305028, 0.28660032, 0.80629736] 1\n",
      "[0.32581967, 0.32866293, 0.42249143] 1\n",
      "[0.44537866, 0.5332605, 0.5759354] 1\n",
      "[0.30094492, 0.095480464, 0.62989366] 1\n",
      "[0.13987115, 0.26727813, 0.17710939] 1\n",
      "[0.42022625, 0.43439832, 0.36887205] 1\n",
      "[0.29709503, 0.083155975, 0.28649238] 1\n",
      "[0.16184175, 0.034095902, 0.24296284] 1\n",
      "[0.42960155, 0.24916229, 0.37892842] 1\n",
      "[0.6845808, 0.47345525, 0.45351446] 1\n",
      "[0.56067765, 0.7319795, 0.56094885] 1\n",
      "[-0.11707638, 0.039980706, -0.063957185] 1\n",
      "[0.4247412, 0.5348674, 0.61096513] 1\n",
      "[0.40278012, 0.3995906, 0.304076] 1\n",
      "[0.7783573, 0.6274442, 0.56080425] 1\n",
      "[0.6178327, 0.29113623, 0.4056791] 1\n",
      "[0.28601366, 0.10708222, 0.47345525] 1\n",
      "[0.19006416, 0.058198716, 0.28271365] 1\n",
      "[0.28475857, 0.21105587, 0.16459267] 1\n",
      "[0.5028231, 0.45552868, 0.6615734] 1\n",
      "[0.38332796, 0.3139821, 0.6593775] 1\n",
      "[0.23971464, 0.13323924, 0.47686213] 1\n",
      "[0.40706876, 0.55631375, 0.49245375] 1\n",
      "[0.40443957, 0.22347593, 0.5722868] 1\n",
      "[0.6325933, 0.34028298, 0.6120886] 1\n",
      "[0.38330442, 0.04377962, 0.10947193] 1\n",
      "[0.3131129, 0.18631962, 0.113890715] 1\n",
      "[0.16202095, 0.21817903, 0.47387287] 1\n",
      "[0.6005217, 0.51688087, 0.6325933] 1\n",
      "[0.38820985, 0.31967327, 0.3237922] 1\n",
      "[0.4331547, 0.38927507, 0.64795613] 1\n",
      "[0.38330442, 0.1744451, 0.23509753] 1\n",
      "[0.21612266, 0.2749925, 0.18861766] 1\n",
      "[0.25310588, 0.2858503, 0.40471208] 1\n",
      "[0.37035918, 0.44604546, 0.47345525] 1\n",
      "[0.32581967, 0.5938146, 0.5550666] 1\n",
      "[0.28680715, 0.17795399, -0.07997827] 1\n",
      "[0.13128603, 0.48658356, 0.15003392] 1\n",
      "[0.105551094, 0.20713526, 0.45408076] 1\n",
      "[0.47605106, 0.16656725, 0.16459267] 1\n",
      "[0.3854174, 0.2053723, 0.32333565] 1\n",
      "[0.09174969, 0.1735507, 0.47387287] 1\n",
      "[0.23875001, 0.3063579, 0.3854174] 1\n",
      "[0.20874481, 0.09174969, 0.29630777] 1\n",
      "[0.16157264, 0.3799345, 0.27188122] 1\n",
      "[0.36290416, 0.45509845, 0.06423172] 1\n",
      "[0.09966893, 0.12896532, 0.16361174] 1\n",
      "[0.19188389, 0.14123753, 0.3866951] 1\n",
      "[0.54940665, 0.51433593, 0.6924797] 1\n",
      "[0.66069144, 0.35595733, 0.35887253] 1\n",
      "[0.3661792, 0.19876164, 0.61621547] 1\n",
      "[0.07045299, 0.07628262, 0.21546748] 1\n",
      "[0.36523852, 0.4472342, 0.56512177] 1\n",
      "[0.27295524, 0.42912972, 0.24297707] 1\n",
      "[0.23759718, 0.41803342, 0.5984] 1\n",
      "[0.38332796, 0.2939209, 0.40545213] 1\n",
      "[0.43544188, 0.56898713, 0.40015447] 1\n",
      "[0.51688087, 0.32167867, 0.42832142] 1\n",
      "[0.22333571, 0.22347593, 0.26150638] 1\n",
      "[0.12577468, 0.16202095, 0.29630777] 1\n",
      "[0.41481528, 0.4075524, 0.55649364] 1\n",
      "[0.40232888, 0.577861, 0.33247244] 1\n",
      "[0.2116196, 0.37654033, 0.24795054] 1\n",
      "[0.3014787, 0.16248386, 0.21612266] 1\n",
      "[0.38375574, 0.6380228, 0.32333565] 1\n",
      "[0.32505494, 0.64534473, 0.49411097] 1\n",
      "[-0.059534706, 0.055796374, 0.47387287] 1\n",
      "[0.33134857, 0.5675068, 0.36119696] 1\n",
      "[0.21817903, 0.29642865, 0.24521405] 1\n",
      "[0.39673582, 0.20026624, 0.42833334] 1\n",
      "[0.16352195, 0.36523852, 0.1067935] 1\n",
      "[0.45196712, 0.5882062, 0.27188122] 1\n",
      "[0.37132645, 0.21903498, 0.12187041] 1\n",
      "[0.47794423, 0.24554755, 0.41838494] 1\n",
      "[0.609199, 0.31465763, 0.17710939] 1\n",
      "[0.39119595, 0.3909667, 0.57832736] 1\n",
      "[0.38188982, 0.44382626, 0.2072063] 1\n",
      "[0.2835551, 0.39181393, 0.36887205] 1\n",
      "[0.73910725, 0.37892842, 0.46684575] 1\n",
      "[0.44644767, 0.33614728, 0.37848336] 1\n",
      "[0.55203635, 0.5791646, 0.53651106] 1\n",
      "[0.043976974, 0.38758782, 0.05174293] 1\n",
      "[0.48599756, 0.577861, 0.47153] 1\n",
      "[0.58570075, 0.7319795, 0.63299114] 1\n",
      "[0.20812991, 0.29642865, 0.26213652] 1\n",
      "[0.42265236, 0.09017458, 0.3087593] 1\n",
      "[0.5332605, 0.53583765, 0.71933925] 1\n",
      "[0.44537866, 0.40442157, 0.56898713] 1\n",
      "[0.101956226, 0.13013864, 0.04018825] 1\n",
      "[0.5102514, 0.5938146, 0.6615734] 1\n",
      "[0.55528593, 0.5900859, 0.6143185] 1\n",
      "[0.32804406, 0.35311627, 0.3021253] 1\n",
      "[0.36091542, 0.22707397, 0.34700507] 1\n",
      "[0.44644767, -0.015707068, 0.19459361] 1\n",
      "[0.39675954, 0.21444388, 0.20702432] 1\n",
      "[0.53621435, 0.32866293, 0.2409815] 1\n",
      "[0.44139487, 0.0573593, 0.45509845] 1\n",
      "[0.54843557, 0.5098713, 0.4812168] 1\n",
      "[0.1767491, 0.6761824, 0.3131054] 1\n",
      "[0.43265757, 0.23038003, 0.4664415] 1\n",
      "[0.4058035, 0.18609527, 0.19589156] 1\n",
      "[0.27347356, 0.17325231, 0.5722868] 1\n",
      "[-0.009568321, -0.064426705, 0.4312849] 1\n",
      "[0.22556394, 0.1871893, 0.23306108] 1\n",
      "[0.16383943, 0.0573593, 0.18942532] 1\n",
      "[0.50256443, 0.62145925, 0.3995906] 1\n",
      "[0.22384667, 0.11721195, 0.4618111] 1\n",
      "[0.34533244, 0.17069617, 0.032385103] 1\n",
      "[0.24653895, 0.37001997, 0.4435626] 1\n",
      "[0.3797246, 0.24203719, 0.2072063] 1\n",
      "[0.34165442, 0.33835167, 0.35469756] 1\n",
      "[0.2689016, 0.2207105, 0.34923336] 1\n",
      "[0.31281084, 0.33740556, 0.6593775] 1\n",
      "[0.35747778, 0.4105075, 0.33733538] 1\n",
      "[0.31131893, 0.35212356, 0.15128809] 1\n",
      "[0.081180625, 0.043976974, 0.2828204] 1\n",
      "[0.3072485, 0.07091588, 0.043356515] 1\n",
      "[0.1608115, 0.22057909, 0.42158413] 1\n",
      "[0.56898713, 0.4162367, 0.3372032] 1\n",
      "[0.37145978, 0.26727813, 0.609199] 1\n",
      "[0.35819167, 0.34074134, 0.38330442] 1\n",
      "[0.2072063, 0.39343864, 0.34909993] 1\n",
      "[0.47717935, 0.09989594, 0.25427154] 1\n",
      "[0.27342743, 0.26567516, 0.63299114] 1\n",
      "[0.101055644, -0.028225165, 0.22802839] 1\n",
      "[0.34132996, 0.26071122, 0.56794584] 1\n",
      "[0.4075524, 0.32167867, 0.40499395] 1\n",
      "[0.38332796, 0.55392563, 0.31281084] 1\n",
      "[0.25427154, 0.2909925, 0.66039324] 1\n",
      "[0.4058035, 0.484465, 0.2300314] 1\n",
      "[0.35292554, 0.07327544, 0.41499627] 1\n",
      "[0.095480464, 0.48658356, 0.3045168] 1\n",
      "[0.45408076, 0.113890715, 0.12120463] 1\n",
      "[0.22892594, 0.2300314, 0.27188122] 1\n",
      "[0.3014787, 0.3451262, 0.26727813] 1\n",
      "[0.80629736, 0.6380228, 0.6433034] 1\n",
      "[0.101055644, 0.24883375, 0.41366088] 1\n",
      "[0.32830375, 0.41358423, 0.43522024] 1\n",
      "[0.40915895, 0.32477802, 0.27815396] 1\n",
      "[0.24103233, 0.092444226, 0.18420422] 1\n",
      "[0.13313478, 0.28649238, 0.101956226] 1\n",
      "[0.2879339, 0.484465, 0.37769872] 1\n",
      "[0.4664415, 0.56898713, 0.41269836] 1\n",
      "[0.27682728, 0.18820402, 0.55393493] 1\n",
      "[-0.03355464, 0.04377962, 0.49973607] 1\n",
      "[0.53621435, 0.5102514, 0.28389472] 1\n",
      "[0.4075524, 0.37001997, 0.48483855] 1\n",
      "[0.31088278, 0.4317116, 0.29504412] 1\n",
      "[0.6474866, 0.47345525, 0.4548443] 1\n",
      "[0.23837368, 0.38837078, 0.1608115] 1\n",
      "[0.36661375, 0.3297932, 0.17299613] 1\n",
      "[0.23759718, 0.24916229, 0.2776634] 1\n",
      "[0.35082024, 0.26351967, 0.3372032] 1\n",
      "[0.25339848, 0.20335878, 0.76454395] 1\n",
      "[0.018549588, 0.25924686, 0.16361174] 1\n",
      "[0.12326932, 0.23656552, 0.03313513] 1\n",
      "[0.14873987, 0.16701259, 0.3131054] 1\n",
      "[0.50256443, 0.4829675, 0.33598447] 1\n",
      "[0.5446229, 0.34300035, 0.15513434] 1\n",
      "[0.37472063, -0.04014452, -0.13053481] 1\n",
      "[0.31379634, 0.40258044, 0.06423172] 1\n",
      "[0.26838002, 0.47322348, 0.5314815] 1\n",
      "[0.44083485, 0.3854174, 0.38375574] 1\n",
      "[0.35256284, 0.505454, 0.62560284] 1\n",
      "[0.25723904, 0.37705958, 0.12949646] 1\n",
      "[0.034095902, 0.2694436, 0.10916701] 1\n",
      "[0.66018367, 0.65366316, 0.6207611] 1\n",
      "[0.578043, 0.34300035, 0.31967327] 1\n",
      "[0.27918828, 0.1679245, 0.27347356] 1\n",
      "[0.21612266, 0.049411237, 0.07045299] 1\n",
      "[0.35732234, 0.5067662, 0.33733538] 1\n",
      "[0.04639446, 0.24103233, 0.07045299] 1\n",
      "[0.3254676, 0.048482016, 0.101956226] 1\n",
      "[0.66018367, 0.57832736, 0.63088167] 1\n",
      "[0.3526839, 0.18609527, 0.39675954] 1\n",
      "[0.3354487, 0.28015, 0.43040794] 1\n",
      "[0.54843557, 0.49973607, 0.4625288] 1\n",
      "[0.40449274, 0.27604714, 0.5602834] 1\n",
      "[0.6342319, 0.32927468, 0.29671142] 1\n",
      "[0.37294698, 0.64795613, 0.44083485] 1\n",
      "[0.27084455, 0.3212971, 0.3620051] 1\n",
      "[0.2351637, 0.11197863, 0.34003362] 1\n",
      "[0.37227038, 0.16758922, 0.22171089] 1\n",
      "[0.40241167, 0.4358246, 0.25457633] 1\n",
      "[0.21724972, 0.30536893, 0.30865526] 1\n",
      "[0.2858503, 0.30286175, 0.609199] 1\n",
      "[0.3014787, 0.38330442, 0.24286678] 1\n",
      "[0.42606816, 0.50794804, 0.456348] 1\n",
      "[0.15062097, 0.44644767, 0.48658356] 1\n",
      "[0.1998764, 0.34416312, 0.027126282] 1\n",
      "[0.55649364, 0.48483855, 0.47345525] 1\n",
      "[0.25376952, -0.012923561, 0.085958436] 1\n",
      "[0.28678858, 0.21696663, 0.61096513] 1\n",
      "[0.5035605, 0.713885, 0.46520644] 1\n",
      "[0.457829, 0.58656013, 0.29384] 1\n",
      "[0.5166, 0.40475988, 0.6433034] 1\n",
      "[0.5656742, 0.40094888, 0.2912756] 1\n",
      "[0.37937483, 0.40499395, 0.40582174] 1\n",
      "[0.16395599, 0.21397054, 0.29152143] 1\n",
      "[0.6267319, 0.6525289, 0.52106065] 1\n",
      "[0.29937786, 0.33553264, 0.15256485] 1\n",
      "[0.22333571, 0.37227038, 0.27028954] 1\n",
      "[0.17260659, 0.16218911, 0.027126282] 1\n",
      "[0.24296284, 0.24555457, 0.16742146] 1\n",
      "[0.06801944, 0.13160524, 0.27604714] 1\n",
      "[0.16202095, 0.20812991, 0.043356515] 1\n",
      "[0.13219252, -0.040175047, -0.07947746] 1\n",
      "[0.043356515, 0.47387287, 0.12120463] 1\n",
      "[0.24657337, 0.1454919, 0.32167867] 1\n",
      "[0.3677314, 0.4090507, 0.21767294] 1\n",
      "[0.35293868, 0.18861766, 0.24430463] 1\n",
      "[0.20543563, 0.28530332, 0.23837368] 1\n",
      "[0.5343934, 0.53312415, 0.37472063] 1\n",
      "[0.48068237, 0.56796664, 0.47963706] 1\n",
      "[0.21806186, 0.24013428, 0.33008432] 1\n",
      "[0.361121, 0.35732234, 0.38423008] 1\n",
      "[0.66039324, 0.40258044, 0.45509845] 1\n",
      "[0.21903498, 0.22590013, 0.3692125] 1\n",
      "[0.3854174, 0.1795212, 0.2749925] 1\n",
      "[0.13398309, 0.07631224, 0.16361174] 1\n",
      "[0.034968518, 0.24103233, 0.07628262] 1\n",
      "[0.4646179, 0.41619384, 0.34607688] 1\n",
      "[0.1998764, 0.31379634, 0.07830721] 1\n",
      "[0.3597178, 0.46033964, 0.5400653] 1\n",
      "[0.55203635, 0.07327544, 0.08753667] 1\n",
      "[0.756307, 0.4220761, 0.38820985] 1\n",
      "[0.12577468, 0.21817903, 0.4393911] 1\n",
      "[0.26001146, 0.29937786, 0.4472342] 1\n",
      "[0.38791195, 0.5602834, 0.35293868] 1\n",
      "[0.1608115, 0.609199, 0.46466178] 1\n",
      "[0.2097196, 0.16269432, 0.07631224] 1\n",
      "[0.34613258, 0.37001997, 0.43844715] 1\n",
      "[0.2952144, 0.4836976, 0.36523852] 1\n",
      "[0.40275905, 0.34110594, 0.53437483] 1\n",
      "[0.26719862, 0.40519947, 0.41366088] 1\n",
      "[0.5085982, 0.26630142, 0.45509845] 1\n",
      "[0.121932626, 0.31064677, 0.19589156] 1\n",
      "[0.34389746, 0.38556564, 0.42998603] 1\n",
      "[-0.06754525, 0.07631224, 0.26099092] 1\n",
      "[0.24653895, 0.51688087, 0.26713428] 1\n",
      "[0.3854174, 0.48362783, 0.37145978] 1\n",
      "[0.15993576, 0.19335565, 0.37705958] 1\n",
      "[0.41358423, 0.22590013, 0.2134754] 1\n",
      "[-0.10915017, -0.009815872, 0.10508958] 1\n",
      "[0.55392563, 0.3139821, 0.33740556] 1\n",
      "[-0.030341893, 0.13767003, -0.0118997395] 1\n",
      "[0.31078833, 0.44417867, 0.33247244] 1\n",
      "[0.38003296, 0.26739326, 0.4360899] 1\n",
      "[0.12835789, 0.28660032, 0.40471208] 1\n",
      "[0.2390691, 0.23435247, 0.40582174] 1\n",
      "[0.3180042, 0.42912972, 0.08753667] 1\n",
      "[0.361121, 0.28005388, 0.35847265] 1\n",
      "[-0.040175047, 0.13264814, 0.04377962] 1\n",
      "[0.15062097, 0.31064677, 0.095480464] 1\n",
      "[0.23854373, 0.25467548, 0.3854174] 1\n",
      "[0.3286748, 0.21397054, 0.09229398] 1\n",
      "[0.31461108, 0.4625288, 0.44431433] 1\n",
      "[0.3587724, 0.36908183, 0.30808818] 1\n",
      "[0.30232042, 0.1616595, 0.30142498] 1\n",
      "[0.30366823, 0.26997888, 0.29630777] 1\n",
      "[0.46684575, 0.4317116, 0.7184265] 1\n",
      "[0.16673255, 0.02725185, 0.20053953] 1\n",
      "[0.33904043, 0.3587724, 0.18149896] 1\n",
      "[0.46106416, 0.40426964, 0.5421703] 1\n",
      "[0.44644767, 0.13219252, 0.24653895] 1\n",
      "[0.6274442, 0.31967327, 0.15513434] 1\n",
      "[0.33420795, 0.28015, 0.16391739] 1\n",
      "[0.28312027, 0.3237922, 0.13172835] 1\n",
      "[0.27841884, 0.06889817, 0.3587724] 1\n",
      "[0.18190295, 0.10544075, 0.40582174] 1\n",
      "[0.22707397, 0.32046607, 0.2285103] 1\n",
      "[0.41258022, 0.4472342, 0.5168615] 1\n",
      "[0.3797246, 0.5067662, 0.39343864] 1\n",
      "[0.5134309, 0.27294534, 0.18149896] 1\n",
      "[0.41803342, 0.44139093, 0.73700523] 1\n",
      "[0.35728723, 0.64534473, 0.502773] 1\n",
      "[0.08750006, 0.18058029, 0.30977583] 1\n",
      "[0.35819167, 0.6761824, 0.22979055] 1\n",
      "[0.36661375, 0.33912683, 0.16445081] 1\n",
      "[0.6267319, 0.35935342, 0.34416312] 1\n",
      "[0.35410905, 0.18396598, 0.24297707] 1\n",
      "[0.18820402, 0.26926696, 0.6845808] 1\n",
      "[0.3095888, 0.3087593, 0.2988699] 1\n",
      "[0.3369276, 0.22979055, 0.3131054] 1\n",
      "[0.4201513, 0.51688087, 0.69882524] 1\n",
      "[0.12949646, 0.16269432, 0.22077833] 1\n",
      "[0.6267319, 0.4247412, 0.37937483] 1\n",
      "[0.3622703, 0.33904043, 0.304076] 1\n",
      "[0.26838002, 0.29149273, 0.44537866] 1\n",
      "[0.35504794, 0.4414075, 0.35340938] 1\n",
      "[0.42022625, 0.60826486, 0.40545213] 1\n",
      "[0.42960155, 0.41803342, 0.73910725] 1\n",
      "[0.30199707, 0.53437483, 0.22503513] 1\n",
      "[0.55203635, 0.25593913, 0.29709503] 1\n",
      "[0.027126282, 0.37187418, 0.33758795] 1\n",
      "[0.29630777, 0.4393911, 0.47387287] 1\n",
      "[0.25310588, 0.28279886, 0.1893121] 1\n",
      "[0.29212123, 0.6761824, 0.32901007] 1\n",
      "[0.19917592, 0.3940398, 0.55393493] 1\n",
      "[0.35212356, 0.64096695, 0.36532217] 1\n",
      "[0.24806178, 0.18820402, 0.41481528] 1\n",
      "[0.32686365, 0.5755254, 0.4010895] 1\n",
      "[0.55043566, 0.6525289, 0.51688087] 1\n",
      "[0.25427154, 0.28678858, 0.37937483] 1\n",
      "[0.46684575, 0.31088278, 0.4243931] 1\n",
      "[0.09966893, 0.07163395, 0.10778893] 1\n",
      "[0.5013948, 0.6120886, 0.5722868] 1\n",
      "[0.20285349, 0.31281143, 0.24795054] 1\n",
      "[0.405694, 0.25310588, 0.40706876] 1\n",
      "[0.20874481, 0.071429856, 0.38059598] 1\n",
      "[0.19988018, 0.31092757, 0.19290532] 1\n",
      "[0.40241167, 0.4461199, 0.22543597] 1\n",
      "[0.17260659, 0.39784694, 0.1998764] 1\n",
      "[0.36249235, 0.28001758, 0.21806186] 1\n",
      "[0.37145978, 0.32333565, 0.6433034] 1\n",
      "[0.40278012, 0.20285349, 0.34700507] 1\n",
      "[0.3833371, 0.264465, 0.35505876] 1\n",
      "[0.16383943, 0.09989594, 0.27918828] 1\n",
      "[0.006610077, 0.04639446, 0.30491304] 1\n",
      "[0.6593775, 0.19867618, 0.34585404] 1\n",
      "[0.08152736, 0.43618128, -0.001583565] 1\n",
      "[0.34074134, 0.6761824, 0.28471315] 1\n",
      "[0.55649364, 0.54747933, 0.55785245] 1\n",
      "[0.32322642, 0.26212183, 0.37493837] 1\n",
      "[0.46132368, 0.45296115, 0.64096695] 1\n",
      "[0.25467548, 0.2858503, 0.37145978] 1\n",
      "[0.24297707, 0.06604598, 0.07631224] 1\n",
      "[0.13666597, 0.34390825, 0.34530973] 1\n",
      "[0.756307, 0.68344796, 0.68358576] 1\n",
      "[0.39767846, 0.40232888, 0.31078833] 1\n",
      "[0.37294698, 0.6761824, 0.29504412] 1\n",
      "[0.081180625, 0.03855844, 0.349079] 1\n",
      "[0.20874481, 0.1735507, 0.4393911] 1\n",
      "[0.36969247, 0.10708222, 0.4548443] 1\n",
      "[0.14829493, 0.2351637, 0.13177927] 1\n",
      "[0.28846115, 0.6761824, 0.2542007] 1\n",
      "[0.19074829, 0.7078974, 0.22853178] 1\n",
      "[0.34890056, 0.20736581, 0.4089839] 1\n",
      "[0.13128603, 0.26630142, 0.06423172] 1\n",
      "[0.36770248, 0.24203719, 0.4025217] 1\n",
      "[0.14763963, 0.16157264, 0.24521405] 1\n",
      "[0.20874481, 0.15839982, 0.26649755] 1\n",
      "[0.456348, 0.2993654, 0.49209246] 1\n",
      "[0.32830375, 0.34057683, 0.29997897] 1\n",
      "[0.16202095, 0.06520258, 0.24336834] 1\n",
      "[0.1608115, 0.37663317, 0.23509753] 1\n",
      "[0.41435653, 0.3337417, 0.1963933] 1\n",
      "[0.4311481, 0.32046607, 0.4122498] 1\n",
      "[0.51376534, 0.4122498, 0.38851884] 1\n",
      "[0.39767846, 0.40426964, 0.43040794] 1\n",
      "[0.42606816, 0.6525289, 0.5013948] 1\n",
      "[0.5720924, 0.38327247, 0.45196712] 1\n",
      "[0.23257372, 0.1679245, 0.42606816] 1\n",
      "[0.717315, 0.41679946, 0.38375574] 1\n",
      "[0.29709503, 0.14679414, 0.26677665] 1\n",
      "[0.19388768, 0.26567516, 0.5550666] 1\n",
      "[0.13294788, 0.11543595, 0.42159185] 1\n",
      "[0.16248386, 0.3088065, 0.34624213] 1\n",
      "[0.33745393, 0.13908918, 0.069266036] 1\n",
      "[0.30082127, 0.6845808, 0.33758795] 1\n",
      "[0.4311481, 0.3597178, 0.74982023] 1\n",
      "[0.5821733, 0.25924686, 0.06604598] 1\n",
      "[0.20543563, 0.13746905, 0.30491304] 1\n",
      "[0.3909582, 0.35469756, 0.42214656] 1\n",
      "[0.32594037, 0.26441082, 0.3854174] 1\n",
      "[0.4247412, 0.45606124, 0.40582174] 1\n",
      "[0.36018717, 0.3451262, 0.17710939] 1\n",
      "[0.26212183, 0.26630142, 0.40258044] 1\n",
      "[0.3995906, 0.31281143, 0.14858365] 1\n",
      "[0.16758922, 0.09989594, 0.4312849] 1\n",
      "[0.34590206, 0.26212183, 0.39784694] 1\n",
      "[0.33745393, 0.21696663, 0.55064094] 1\n",
      "[0.28530332, 0.16701259, 0.28471315] 1\n",
      "[0.29709503, 0.18396598, 0.08753667] 1\n",
      "[0.19917592, 0.18216658, 0.41466472] 1\n",
      "[0.18820247, 0.39724475, 0.46704125] 1\n",
      "[0.55758166, 0.24531284, 0.32602137] 1\n",
      "[0.40582174, 0.4548443, 0.23306108] 1\n",
      "[0.40426964, 0.338089, 0.33134857] 1\n",
      "[0.2058712, 0.1330409, 0.31517914] 1\n",
      "[0.07091588, 0.15201585, 0.26213652] 1\n",
      "[0.37227038, 0.1454919, 0.45606124] 1\n",
      "[0.15318038, 0.28165954, 0.18942532] 1\n",
      "[0.13450192, 0.20874481, -0.01427985] 1\n",
      "[0.25179073, 0.42390394, 0.45552868] 1\n",
      "[0.20812991, 0.21817903, 0.12120463] 1\n",
      "[0.14873987, 0.31092757, 0.24013428] 1\n",
      "[0.41803342, 0.26441082, 0.42833334] 1\n",
      "[0.44419014, 0.36532217, 0.43693224] 1\n",
      "[0.7652973, 0.7319795, 0.69594276] 1\n",
      "[0.32647622, 0.22707397, 0.31983006] 1\n",
      "[0.3087593, 0.6412725, 0.2542007] 1\n",
      "[0.24555457, 0.36575055, 0.293906] 1\n",
      "[0.1389754, 0.1741608, 0.6924797] 1\n",
      "[0.4870183, 0.51883245, 0.4829884] 1\n",
      "[0.45490688, 0.3799345, 0.5882062] 1\n",
      "[0.46592376, 0.3546527, 0.5550881] 1\n",
      "[0.4184957, 0.56094885, 0.6615734] 1\n",
      "[0.26838002, 0.54047155, 0.39647266] 1\n",
      "[0.37242785, 0.31024474, 0.456348] 1\n",
      "[0.11878231, -0.012923561, 0.38851884] 1\n",
      "[0.42606816, 0.4247412, 0.5722868] 1\n",
      "[0.41803342, 0.30477506, 0.7184265] 1\n",
      "[0.06889817, 0.28680715, -0.04545334] 1\n",
      "[0.58866733, 0.43063605, 0.34585404] 1\n",
      "[0.37227038, 0.40443957, 0.42606816] 1\n",
      "[0.410297, 0.7230989, 0.41982913] 1\n",
      "[0.4664415, 0.24703756, 0.63088167] 1\n",
      "[0.4138234, 0.1767491, 0.14873987] 1\n",
      "[0.405694, 0.23854373, 0.5627375] 1\n",
      "[0.25310588, 0.19188389, 0.23837368] 1\n",
      "[0.53583765, 0.40442157, 0.3244028] 1\n",
      "[0.37848336, 0.60826486, 0.31112656] 1\n",
      "[0.19867618, 0.33873847, 0.16157264] 1\n",
      "[0.36305028, 0.3014787, 0.38375574] 1\n",
      "[0.23837368, 0.30851114, 0.28471315] 1\n",
      "[0.2679799, 0.46475923, 0.2655008] 1\n",
      "[0.3768187, 0.12964712, 0.3677314] 1\n",
      "[0.46033964, 0.33835167, 0.32285163] 1\n",
      "[0.3287071, 0.35311627, 0.26768553] 1\n",
      "[0.6129137, 0.37654033, 0.21321802] 1\n",
      "[0.6267319, 0.45606124, 0.40499395] 1\n",
      "[0.3114323, 0.31620327, 0.39288148] 1\n",
      "[0.2889716, 0.16157264, 0.43063605] 1\n",
      "[0.27059808, 0.101055644, 0.18728086] 1\n",
      "[0.40770996, 0.5836544, 0.66266334] 1\n",
      "[0.33072472, 0.28340262, 0.43063605] 1\n",
      "[0.07830721, 0.55064094, 0.06423172] 1\n",
      "[0.4025217, 0.28000617, 0.36148676] 1\n",
      "[0.14829493, 0.11197863, 0.31983006] 1\n",
      "[0.43265757, 0.39119595, 0.66018367] 1\n",
      "[0.3833371, 0.5479735, 0.69339395] 1\n",
      "[0.34003362, 0.27666175, 0.10745379] 1\n",
      "[0.47716266, 0.37555838, 0.113890715] 1\n",
      "[0.069266036, 0.1735507, 0.07262389] 1\n",
      "[0.40471208, 0.38837078, 0.609199] 1\n",
      "[0.25924686, 0.23995037, 0.30977583] 1\n",
      "[0.26001146, 0.22890387, 0.35340938] 1\n",
      "[0.3161217, 0.2704787, 0.60840195] 1\n",
      "[0.18706402, 0.4271211, 0.12244011] 1\n",
      "[0.18820247, 0.3153888, 0.5343934] 1\n",
      "[0.25723904, 0.2058712, -0.088225916] 1\n",
      "[0.42742205, 0.47153, 0.50342405] 1\n",
      "[0.38330442, 0.22979055, 0.28471315] 1\n",
      "[0.55418825, 0.48040083, 0.40582174] 1\n",
      "[0.22917095, 0.5013948, 0.3591149] 1\n",
      "[0.30424356, 0.64534473, 0.526111] 1\n",
      "[0.56796664, 0.45509845, 0.56386656] 1\n",
      "[0.14624433, 0.2300314, 0.37769872] 1\n",
      "[0.20255876, 0.5721619, 0.03194104] 1\n",
      "[0.18177979, 0.14985318, 0.2988699] 1\n",
      "[0.73910725, 0.5627375, 0.4243931] 1\n",
      "[0.3597178, 0.36091542, 0.35308605] 1\n",
      "[0.7652973, 0.58570075, 0.71933925] 1\n",
      "[0.47794423, 0.3909667, 0.51420295] 1\n",
      "[0.1902554, 0.08750006, 0.07631224] 1\n",
      "[0.2776634, 0.5984, 0.46684575] 1\n",
      "[0.35256284, 0.3212971, 0.49973607] 1\n",
      "[0.50256443, 0.5659142, 0.578043] 1\n",
      "[0.38986656, 0.39767846, 0.28015] 1\n",
      "[0.64795613, 0.6761824, 0.50951195] 1\n",
      "[0.459689, 0.54940665, 0.304076] 1\n",
      "[0.3768187, 0.08152736, 0.20255876] 1\n",
      "[0.2988699, 0.28471315, 0.2542007] 1\n",
      "[0.21873505, 0.19388768, 0.3372032] 1\n",
      "[0.32477802, 0.35984123, 0.5969601] 1\n",
      "[0.27295524, 0.27562663, 0.35410905] 1\n",
      "[0.6005217, 0.4075524, 0.66039324] 1\n",
      "[0.28271365, 0.24297707, 0.08753667] 1\n",
      "[0.40275905, 0.21397054, 0.4468579] 1\n",
      "[0.15444829, 0.43693224, 0.37945604] 1\n",
      "[0.3526839, 0.484465, 0.2704787] 1\n",
      "[0.42933422, 0.5656742, 0.4946193] 1\n",
      "[0.54747933, 0.37937483, 0.5722868] 1\n",
      "[0.6005217, 0.32167867, 0.56796664] 1\n",
      "[0.4138234, 0.6761824, 0.16701259] 1\n",
      "[0.32167867, 0.37001997, 0.23306108] 1\n",
      "[0.3806699, 0.6400796, 0.33186358] 1\n",
      "[0.17262687, 0.46329713, 0.33733538] 1\n",
      "[0.35281727, 0.32804406, 0.6274442] 1\n",
      "[0.09229398, 0.22127289, 0.12120463] 1\n",
      "[0.081180625, 0.38758782, -0.08280443] 1\n",
      "[0.36305028, 0.38330442, 0.45994428] 1\n",
      "[0.020680614, 0.45296115, 0.19491652] 1\n",
      "[0.16383943, 0.1454919, 0.22556394] 1\n",
      "[0.20874481, 0.15090439, 0.32642025] 1\n",
      "[0.5085982, 0.48658356, 0.6005217] 1\n",
      "[0.34700507, 0.11406553, 0.26099092] 1\n",
      "[0.27028954, 0.4247412, 0.26150638] 1\n",
      "[0.33972, 0.37145978, 0.7406539] 1\n",
      "[0.36018717, 0.22979055, 0.2542007] 1\n",
      "[0.31112656, 0.3045168, 0.39675954] 1\n",
      "[0.37848336, 0.30404133, 0.32338047] 1\n",
      "[0.07631224, 0.30977583, -0.04459139] 1\n",
      "[0.52088153, 0.56796664, 0.4564928] 1\n",
      "[0.16673255, 0.22590013, 0.34866422] 1\n",
      "[0.7652973, 0.56067765, 0.50962615] 1\n",
      "[0.54843557, 0.47686213, 0.31461108] 1\n",
      "[0.7192782, 0.45076808, 0.43655798] 1\n",
      "[0.55393493, 0.5168852, 0.62921566] 1\n",
      "[0.44644767, 0.2939209, 0.31112656] 1\n",
      "[0.38201314, 0.36232227, 0.550278] 1\n",
      "[0.29671142, 0.5626651, 0.43702286] 1\n",
      "[0.55392563, 0.32230875, 0.39773712] 1\n",
      "[0.39181393, 0.25433517, 0.43339854] 1\n",
      "[0.20543563, 0.16701259, 0.30851114] 1\n",
      "[0.0920802, 0.4070897, 0.2555645] 1\n",
      "[0.36232227, 0.35311627, 0.31281143] 1\n",
      "[0.5675068, 0.56512177, 0.6590783] 1\n",
      "[0.24657337, 0.39578545, 0.51688087] 1\n",
      "[0.361121, 0.3797246, 0.32072425] 1\n",
      "[0.40471208, 0.21806186, 0.29343376] 1\n",
      "[0.35340938, 0.3114323, 0.49382436] 1\n",
      "[0.32804406, 0.3337417, 0.15513434] 1\n",
      "[0.33614728, 0.14081192, 0.30404133] 1\n",
      "[0.11552049, 0.20812991, 0.45408076] 1\n",
      "[0.4988116, 0.24908361, 0.16361174] 1\n",
      "[0.22999063, 0.32866293, 0.43522024] 1\n",
      "[0.28453445, 0.14826444, 0.21546748] 1\n",
      "[0.38791195, 0.41063273, 0.18861766] 1\n",
      "[0.16202095, 0.0026044399, 0.051451802] 1\n",
      "[0.21081951, 0.35212356, 0.30133906] 1\n",
      "[0.54678935, 0.7684269, 0.5343934] 1\n",
      "[0.2939209, 0.28680715, 0.11944054] 1\n",
      "[0.6433034, 0.34535366, 0.32017368] 1\n",
      "[0.18594642, 0.30366823, 0.20874481] 1\n",
      "[0.66039324, 0.31379634, 0.36290416] 1\n",
      "[0.25467548, 0.2578005, 0.32333565] 1\n",
      "[0.41481528, 0.37001997, 0.47345525] 1\n",
      "[0.3854174, 0.14826444, 0.30884826] 1\n",
      "[0.2688592, 0.23826732, 0.43522024] 1\n",
      "[0.25802788, 0.07262389, 0.4393911] 1\n",
      "[0.2879339, 0.3464409, 0.113890715] 1\n",
      "[0.3854174, 0.30236796, 0.26727813] 1\n",
      "[-0.063957185, 0.2285103, -0.012923561] 1\n",
      "[0.3940398, 0.3453825, 0.47345525] 1\n",
      "[0.28709075, 0.46329713, 0.4105075] 1\n",
      "[0.120022245, 0.14985318, 0.05174293] 1\n",
      "[0.3526839, 0.5720924, 0.43693224] 1\n",
      "[0.04639446, 0.034968518, 0.21546748] 1\n",
      "[0.3354487, 0.4414075, 0.54843557] 1\n",
      "[0.043356515, 0.15691252, 0.26213652] 1\n",
      "[0.37937483, 0.48483855, 0.4548443] 1\n",
      "[0.44083485, 0.29504412, 0.50951195] 1\n",
      "[0.34525067, 0.18398711, 0.4061998] 1\n",
      "[0.34590206, 0.26150638, 0.2390691] 1\n",
      "[0.14123753, -0.04789, -0.02576797] 1\n",
      "[0.31291002, 0.55631375, 0.23784763] 1\n",
      "[0.10708222, 0.2993654, 0.55064094] 1\n",
      "[0.2947594, 0.35082024, 0.52357924] 1\n",
      "[0.22612238, 0.44139487, 0.38030675] 1\n",
      "[0.264465, 0.34057683, 0.29240653] 1\n"
     ]
    }
   ],
   "source": [
    "for clos_sim, y_t in list(zip(closure_similarity,y_test)):\n",
    "    if y_t == 1:\n",
    "        print(clos_sim, y_t)"
   ]
  },
  {
   "cell_type": "code",
   "execution_count": 171,
   "metadata": {},
   "outputs": [
    {
     "data": {
      "image/png": "[encoded data removed]",
      "text/plain": [
       "<Figure size 864x864 with 1 Axes>"
      ]
     },
     "metadata": {
      "needs_background": "light"
     },
     "output_type": "display_data"
    }
   ],
   "source": [
    "from mpl_toolkits.mplot3d import Axes3D\n",
    "fig = plt.figure(figsize = (12,12))\n",
    "ax = fig.add_subplot(111)\n",
    "ax.scatter(y,z, marker = \".\")\n",
    "# ax.view_init(30, -45)\n",
    "ax.set_xlabel('X Label')\n",
    "ax.set_ylabel('Y Label')\n",
    "# ax.set_zlabel('Z Label')\n",
    "\n",
    "plt.show()"
   ]
  },
  {
   "cell_type": "code",
   "execution_count": null,
   "metadata": {},
   "outputs": [],
   "source": []
  }
 ],
 "metadata": {
  "kernelspec": {
   "display_name": "Python 3",
   "language": "python",
   "name": "python3"
  },
  "language_info": {
   "codemirror_mode": {
    "name": "ipython",
    "version": 3
   },
   "file_extension": ".py",
   "mimetype": "text/x-python",
   "name": "python",
   "nbconvert_exporter": "python",
   "pygments_lexer": "ipython3",
   "version": "3.7.5"
  }
 },
 "nbformat": 4,
 "nbformat_minor": 2
}
