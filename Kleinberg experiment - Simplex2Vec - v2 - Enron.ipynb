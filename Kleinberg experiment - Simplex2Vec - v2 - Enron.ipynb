{
 "cells": [
  {
   "cell_type": "code",
   "execution_count": 1,
   "metadata": {},
   "outputs": [],
   "source": [
    "import math\n",
    "import numpy as np\n",
    "import matplotlib.pyplot as plt\n",
    "import networkx as nx\n",
    "import pickle\n",
    "import json\n",
    "import itertools\n",
    "from tqdm import tqdm_notebook\n",
    "from scipy.spatial.distance import pdist\n",
    "from sklearn.metrics import precision_recall_curve, auc, f1_score\n",
    "from Simplex2Vec.utils import read_simplex_json\n",
    "\n",
    "from kleinberg_experiment import *\n",
    "plt.style.use('seaborn')"
   ]
  },
  {
   "cell_type": "markdown",
   "metadata": {},
   "source": [
    "# Upload Kleinberg data into memory"
   ]
  },
  {
   "cell_type": "markdown",
   "metadata": {},
   "source": [
    "We use the dataset of primary school contacts first (from Sociopatterns). We use the dataset provided by Kleinberg et al. Below we upload the simplices to the memory."
   ]
  },
  {
   "cell_type": "code",
   "execution_count": 2,
   "metadata": {},
   "outputs": [],
   "source": [
    "dataset = \"email-Enron\"\n",
    "data_dir = \"./data/kleinberg/{}/\".format(dataset)\n",
    "simplex_file = \"{}-simplices.txt\".format(dataset)\n",
    "size_file = \"{}-nverts.txt\".format(dataset)\n",
    "\n",
    "simplexf = open(data_dir + simplex_file, 'r')\n",
    "sizef = open(data_dir + size_file, 'r')"
   ]
  },
  {
   "cell_type": "code",
   "execution_count": 3,
   "metadata": {},
   "outputs": [
    {
     "data": {
      "application/vnd.jupyter.widget-view+json": {
       "model_id": "5b5ce01f0ae343fd87c60cc10e9d502a",
       "version_major": 2,
       "version_minor": 0
      },
      "text/plain": [
       "HBox(children=(IntProgress(value=1, bar_style='info', max=1), HTML(value='')))"
      ]
     },
     "metadata": {},
     "output_type": "display_data"
    },
    {
     "name": "stdout",
     "output_type": "stream",
     "text": [
      "\n",
      "Min simplex size: 1, max simplex_size: 18\n"
     ]
    }
   ],
   "source": [
    "simplex_sizes = []\n",
    "for s in tqdm_notebook(sizef):\n",
    "    ss = s.strip()\n",
    "    simplex_sizes.append(int(ss))\n",
    "\n",
    "print(\"Min simplex size: {}, max simplex_size: {}\".format(min(simplex_sizes), max(simplex_sizes)))"
   ]
  },
  {
   "cell_type": "code",
   "execution_count": 8,
   "metadata": {},
   "outputs": [
    {
     "data": {
      "application/vnd.jupyter.widget-view+json": {
       "model_id": "70f417f7bb994c6ca0da2062a5a5f88d",
       "version_major": 2,
       "version_minor": 0
      },
      "text/plain": [
       "HBox(children=(IntProgress(value=0, max=10883), HTML(value='')))"
      ]
     },
     "metadata": {},
     "output_type": "display_data"
    },
    {
     "name": "stdout",
     "output_type": "stream",
     "text": [
      "\n",
      "Exceptions: 0\n"
     ]
    }
   ],
   "source": [
    "node_list = set([])\n",
    "simplex_list = []\n",
    "exceptions = []\n",
    "cut_size = 1000000\n",
    "cut_len_size = 7\n",
    "for s in tqdm_notebook(simplex_sizes):\n",
    "    if s <= cut_len_size:\n",
    "        one_simplex = []\n",
    "        for i in range(s):\n",
    "            rl = simplexf.readline()\n",
    "            n = rl.strip()\n",
    "            try:\n",
    "                one_simplex.append(int(n))\n",
    "                node_list.add(int(n))\n",
    "            except:\n",
    "                exceptions.append(rl)\n",
    "        simplex_list.append(frozenset(one_simplex))\n",
    "        if len(simplex_list) > cut_size:\n",
    "            break\n",
    "print(\"Exceptions:\", len(exceptions))"
   ]
  },
  {
   "cell_type": "markdown",
   "metadata": {},
   "source": [
    "# Upload our data into memory"
   ]
  },
  {
   "cell_type": "code",
   "execution_count": 5,
   "metadata": {},
   "outputs": [],
   "source": [
    "in_file = \"./data/sociopatterns_facets/aggr_5min_cliques_InVS15.json\"\n",
    "\n",
    "simplex_list = read_simplex_json(in_file)"
   ]
  },
  {
   "cell_type": "markdown",
   "metadata": {},
   "source": [
    "Kleinberg's sets their experiment as follows. On the first 80% of data they find the set of *open* triangles, i.e. the triangles in the projected graph (the one you obtain by projecting all interactions) which have all edges participating in some cliques, but not all three together in one clique. \n",
    "\n",
    "Then on the test set, they make a prediction  which open triangles from the test set will close (there will appear a clique containing this triangle). \n",
    "\n",
    "They compare their prediction with random null model, where each clique has independent probability to close which is equal to the number of closed triangles/total number of open triangles. \n",
    "\n",
    "The measure they compare is the AUC PR (area under the precision-recall curve), relative to AUC PR of the random null model. "
   ]
  },
  {
   "cell_type": "markdown",
   "metadata": {},
   "source": [
    "# Find open triangles"
   ]
  },
  {
   "cell_type": "markdown",
   "metadata": {},
   "source": [
    "Split the set of all simplices to train set (first 80%) and test set (rest 20%)."
   ]
  },
  {
   "cell_type": "code",
   "execution_count": 9,
   "metadata": {},
   "outputs": [],
   "source": [
    "threshold = int(0.8*len(simplex_list))\n",
    "train_simplices = simplex_list[:threshold]\n",
    "test_simplices = simplex_list[threshold:]"
   ]
  },
  {
   "cell_type": "markdown",
   "metadata": {},
   "source": [
    "Find all closed and open triangles in the train and test set"
   ]
  },
  {
   "cell_type": "code",
   "execution_count": 10,
   "metadata": {},
   "outputs": [
    {
     "data": {
      "application/vnd.jupyter.widget-view+json": {
       "model_id": "b6fd1692205f4ea7a85b72f8a8948eba",
       "version_major": 2,
       "version_minor": 0
      },
      "text/plain": [
       "HBox(children=(IntProgress(value=0, max=8597), HTML(value='')))"
      ]
     },
     "metadata": {},
     "output_type": "display_data"
    },
    {
     "name": "stdout",
     "output_type": "stream",
     "text": [
      "\n",
      "Name: \n",
      "Type: Graph\n",
      "Number of nodes: 142\n",
      "Number of edges: 1422\n",
      "Average degree:  20.0282\n"
     ]
    },
    {
     "data": {
      "application/vnd.jupyter.widget-view+json": {
       "model_id": "29a81483662644878eb64cfb4ca5db5b",
       "version_major": 2,
       "version_minor": 0
      },
      "text/plain": [
       "HBox(children=(IntProgress(value=0, max=142), HTML(value='')))"
      ]
     },
     "metadata": {},
     "output_type": "display_data"
    },
    {
     "name": "stdout",
     "output_type": "stream",
     "text": [
      "\n",
      "Open: 3587, Closed: 1271\n"
     ]
    }
   ],
   "source": [
    "g_train = get_projected_graph(train_simplices, info = True)\n",
    "open_train, closed_train = get_open_closed_triangles(g_train, info = True)"
   ]
  },
  {
   "cell_type": "code",
   "execution_count": 11,
   "metadata": {},
   "outputs": [
    {
     "data": {
      "application/vnd.jupyter.widget-view+json": {
       "model_id": "a38cecb775344eb5aa8f62cb00c73462",
       "version_major": 2,
       "version_minor": 0
      },
      "text/plain": [
       "HBox(children=(IntProgress(value=0, max=10747), HTML(value='')))"
      ]
     },
     "metadata": {},
     "output_type": "display_data"
    },
    {
     "name": "stdout",
     "output_type": "stream",
     "text": [
      "\n",
      "Name: \n",
      "Type: Graph\n",
      "Number of nodes: 143\n",
      "Number of edges: 1632\n",
      "Average degree:  22.8252\n"
     ]
    },
    {
     "data": {
      "application/vnd.jupyter.widget-view+json": {
       "model_id": "3af9756de34a4128ad6fa10540327a3e",
       "version_major": 2,
       "version_minor": 0
      },
      "text/plain": [
       "HBox(children=(IntProgress(value=0, max=143), HTML(value='')))"
      ]
     },
     "metadata": {},
     "output_type": "display_data"
    },
    {
     "name": "stdout",
     "output_type": "stream",
     "text": [
      "\n",
      "Open: 4671, Closed: 1534\n"
     ]
    }
   ],
   "source": [
    "g_total = get_projected_graph(simplex_list, info = True)\n",
    "open_total, closed_total = get_open_closed_triangles(g_total, info = True)"
   ]
  },
  {
   "cell_type": "markdown",
   "metadata": {},
   "source": [
    "Look which triangles have closed"
   ]
  },
  {
   "cell_type": "code",
   "execution_count": 12,
   "metadata": {},
   "outputs": [
    {
     "name": "stdout",
     "output_type": "stream",
     "text": [
      "70\n",
      "3517\n"
     ]
    }
   ],
   "source": [
    "closed_from_test = [t for t in closed_total if t in open_train]\n",
    "print(len(closed_from_test))\n",
    "open_from_test = [t for t in open_total if t in open_train]\n",
    "print(len(open_from_test))"
   ]
  },
  {
   "cell_type": "markdown",
   "metadata": {},
   "source": [
    "Get the probability vector for null model and y_true for future comparison."
   ]
  },
  {
   "cell_type": "code",
   "execution_count": 13,
   "metadata": {},
   "outputs": [
    {
     "name": "stdout",
     "output_type": "stream",
     "text": [
      "3587\n",
      "70.0000000000001\n"
     ]
    }
   ],
   "source": [
    "y_true = [1 if t in closed_from_test else 0 for t in open_train]\n",
    "print(len(y_true))\n",
    "prediction_null_model = np.asarray([sum(y_true)/len(y_true)]*len(y_true))\n",
    "print(sum(prediction_null_model))"
   ]
  },
  {
   "cell_type": "markdown",
   "metadata": {},
   "source": [
    "# Simplex2Vec  test\n",
    "\n",
    "Launch and train the Simplex2Vec model. "
   ]
  },
  {
   "cell_type": "code",
   "execution_count": 29,
   "metadata": {},
   "outputs": [
    {
     "data": {
      "application/vnd.jupyter.widget-view+json": {
       "model_id": "b7ffd0fed41649bfa819fed84647dd96",
       "version_major": 2,
       "version_minor": 0
      },
      "text/plain": [
       "HBox(children=(IntProgress(value=0, description='Creating Hasse diagram', max=1744, style=ProgressStyle(descri…"
      ]
     },
     "metadata": {},
     "output_type": "display_data"
    },
    {
     "name": "stdout",
     "output_type": "stream",
     "text": [
      "\n",
      "Name: \n",
      "Type: Graph\n",
      "Number of nodes: 3689\n",
      "Number of edges: 10428\n",
      "Average degree:   5.6536\n"
     ]
    }
   ],
   "source": [
    "# import clusim.sim as sim\n",
    "# from clusim.clustering import Clustering\n",
    "from sklearn.cluster import KMeans, DBSCAN, AgglomerativeClustering\n",
    "from sklearn.manifold import TSNE\n",
    "\n",
    "from Simplex2Vec.Simplex2Vec import Simplex2Vec\n",
    "from Simplex2Vec.utils import check_prediction\n",
    "from Simplex2Vec.utils import read_simplex_json\n",
    "from Simplex2Vec.simplex2hasse import simplex2hasse_HOexponential\n",
    "\n",
    "g_hasse = simplex2hasse_HOexponential(train_simplices, max_order = 7)\n",
    "print(nx.info(g_hasse))"
   ]
  },
  {
   "cell_type": "code",
   "execution_count": 83,
   "metadata": {},
   "outputs": [
    {
     "data": {
      "application/vnd.jupyter.widget-view+json": {
       "model_id": "4096661142f847fb916f03baecd4d5b7",
       "version_major": 2,
       "version_minor": 0
      },
      "text/plain": [
       "HBox(children=(IntProgress(value=0, description='Precomputing probabilities', max=3689, style=ProgressStyle(de…"
      ]
     },
     "metadata": {},
     "output_type": "display_data"
    },
    {
     "name": "stdout",
     "output_type": "stream",
     "text": [
      "\n",
      " "
     ]
    },
    {
     "data": {
      "application/vnd.jupyter.widget-view+json": {
       "model_id": "07407b7beeb04c8eac49c6f345b8a175",
       "version_major": 2,
       "version_minor": 0
      },
      "text/plain": [
       "HBox(children=(IntProgress(value=0, description='Generating walks : CPU: 0', max=738, style=ProgressStyle(desc…"
      ]
     },
     "metadata": {},
     "output_type": "display_data"
    },
    {
     "name": "stdout",
     "output_type": "stream",
     "text": [
      " "
     ]
    },
    {
     "data": {
      "application/vnd.jupyter.widget-view+json": {
       "model_id": "066b174a5d864d2cbe91644069754f91",
       "version_major": 2,
       "version_minor": 0
      },
      "text/plain": [
       "HBox(children=(IntProgress(value=0, description='Generating walks : CPU: 1', max=738, style=ProgressStyle(desc…"
      ]
     },
     "metadata": {},
     "output_type": "display_data"
    },
    {
     "name": "stdout",
     "output_type": "stream",
     "text": [
      " "
     ]
    },
    {
     "data": {
      "application/vnd.jupyter.widget-view+json": {
       "model_id": "7561e32b425d4443adb567aecc3bd0d0",
       "version_major": 2,
       "version_minor": 0
      },
      "text/plain": [
       "HBox(children=(IntProgress(value=0, description='Generating walks : CPU: 2', max=738, style=ProgressStyle(desc…"
      ]
     },
     "metadata": {},
     "output_type": "display_data"
    },
    {
     "name": "stdout",
     "output_type": "stream",
     "text": [
      " "
     ]
    },
    {
     "data": {
      "application/vnd.jupyter.widget-view+json": {
       "model_id": "99142858649c4721b9f5eec3abc73e4f",
       "version_major": 2,
       "version_minor": 0
      },
      "text/plain": [
       "HBox(children=(IntProgress(value=0, description='Generating walks : CPU: 3', max=738, style=ProgressStyle(desc…"
      ]
     },
     "metadata": {},
     "output_type": "display_data"
    },
    {
     "name": "stdout",
     "output_type": "stream",
     "text": [
      " "
     ]
    },
    {
     "data": {
      "application/vnd.jupyter.widget-view+json": {
       "model_id": "134781d32a524e79bb4315f18c3dbcb2",
       "version_major": 2,
       "version_minor": 0
      },
      "text/plain": [
       "HBox(children=(IntProgress(value=0, description='Generating walks : CPU: 4', max=737, style=ProgressStyle(desc…"
      ]
     },
     "metadata": {},
     "output_type": "display_data"
    },
    {
     "name": "stdout",
     "output_type": "stream",
     "text": [
      "\n",
      "\n",
      "\n",
      "\n",
      "\n",
      "DONE!\n"
     ]
    }
   ],
   "source": [
    "s2v = Simplex2Vec.from_hasse_diagram(g_hasse, p = 1, n_walks=5, \n",
    "                                     walk_length=60, workers = 5)"
   ]
  },
  {
   "cell_type": "code",
   "execution_count": 84,
   "metadata": {
    "scrolled": true
   },
   "outputs": [
    {
     "name": "stdout",
     "output_type": "stream",
     "text": [
      "Fitting the Word2Vec..\n",
      "Epoch 0 - Model loss: 377684.96875\n"
     ]
    }
   ],
   "source": [
    "class EpochShowLoss():\n",
    "    '''Callback to show training loss after each epoch '''\n",
    "\n",
    "    def __init__(self):\n",
    "        self.epoch = 0\n",
    "    \n",
    "    def on_train_begin(self, model):\n",
    "        pass\n",
    "    def on_train_end(self, model):\n",
    "        pass\n",
    "    def on_epoch_begin(self, model):\n",
    "        pass\n",
    "    def on_batch_begin(self, model):\n",
    "        pass\n",
    "    def on_batch_end(self, model):\n",
    "        pass\n",
    "        \n",
    "    def on_epoch_end(self, model):\n",
    "        print(\"Epoch {} - Model loss: {}\".format(self.epoch,\n",
    "                                              model.get_latest_training_loss()))\n",
    "        model_loss.append((self.epoch, model.get_latest_training_loss()))\n",
    "        self.epoch += 1\n",
    "model_loss = []\n",
    "model = s2v.fit(iter = 1, size=1200, window=6, workers = 5, callbacks = [EpochShowLoss()])\n",
    "# for _ in range(20):  \n",
    "#     model = s2v.refit(epochs = 1, callbacks = [EpochShowLoss()])\n",
    "    "
   ]
  },
  {
   "cell_type": "markdown",
   "metadata": {},
   "source": [
    "## Plot the embedding\n",
    "\n",
    "Extract the embedding vectors for nodes or edges and plot it on the plane using tSNE embedding."
   ]
  },
  {
   "cell_type": "code",
   "execution_count": 66,
   "metadata": {},
   "outputs": [],
   "source": [
    "X = []\n",
    "X_labels = []\n",
    "\n",
    "for u in model.wv.vocab.keys():\n",
    "    if len(u.split(',')) == 1: # get all embedding vectors \n",
    "        X.append(model.wv[u])\n",
    "        \n",
    "X_transform = TSNE(n_components=2).fit_transform(X)"
   ]
  },
  {
   "cell_type": "code",
   "execution_count": 67,
   "metadata": {},
   "outputs": [
    {
     "data": {
      "image/png": "[encoded data removed]",
      "text/plain": [
       "<Figure size 576x576 with 1 Axes>"
      ]
     },
     "metadata": {
      "needs_background": "light"
     },
     "output_type": "display_data"
    }
   ],
   "source": [
    "fig = plt.figure(figsize = (6,6), dpi = 96)\n",
    "# colors_list = cm.nipy_spectral(np.asarray(pred_cluster_labels).astype(float) / num_classes)\n",
    "plt.scatter(*zip(*X_transform), marker='o', s=50, lw=0, alpha=0.7,)\n",
    "#                      c = colors_list)\n",
    "text_params = {'ha': 'center', 'va': 'center', 'family': 'oswald-light',\n",
    "                   'fontweight': 'normal', \"size\": 12}\n",
    "# for i, z in enumerate(Z_labels):\n",
    "#     x,y = X_transform[i]\n",
    "#     plt.text(x,y, z, color = \"black\", alpha=0.8)\n",
    "\n",
    "plt.title(\"Node clusters\", fontsize = 16)\n",
    "plt.show()"
   ]
  },
  {
   "cell_type": "markdown",
   "metadata": {},
   "source": [
    "# Analyze open and closed triangles distance distribution"
   ]
  },
  {
   "cell_type": "markdown",
   "metadata": {},
   "source": [
    "### Sum of pairwise cosine similarities as a predictor"
   ]
  },
  {
   "cell_type": "code",
   "execution_count": 68,
   "metadata": {},
   "outputs": [
    {
     "data": {
      "application/vnd.jupyter.widget-view+json": {
       "model_id": "8683a9cadbf24cd4a4569db161c554cd",
       "version_major": 2,
       "version_minor": 0
      },
      "text/plain": [
       "HBox(children=(IntProgress(value=0, max=1271), HTML(value='')))"
      ]
     },
     "metadata": {},
     "output_type": "display_data"
    },
    {
     "name": "stdout",
     "output_type": "stream",
     "text": [
      "\n",
      "Histogram of perimeters from already closed triangles\n"
     ]
    },
    {
     "data": {
      "image/png": "[encoded data removed]",
      "text/plain": [
       "<Figure size 432x288 with 1 Axes>"
      ]
     },
     "metadata": {
      "needs_background": "light"
     },
     "output_type": "display_data"
    }
   ],
   "source": [
    "already_closed_triangles_dist = []\n",
    "for t in tqdm_notebook(closed_train):\n",
    "    distance_scores = []\n",
    "    for u,v in itertools.combinations(t,2):\n",
    "        uf = str(u)\n",
    "        vf = str(v)\n",
    "        distance_scores.append(model.wv.similarity(uf,vf))\n",
    "    already_closed_triangles_dist.append(np.sum(distance_scores))\n",
    "\n",
    "len(already_closed_triangles_dist)\n",
    "\n",
    "print('Histogram of perimeters from already closed triangles')\n",
    "hist, bins = np.histogram(already_closed_triangles_dist, bins = 10)\n",
    "bin_width = bins[1] - bins[0]\n",
    "plt.bar(bins[:-1], hist, width = 0.88*bin_width)\n",
    "plt.show()"
   ]
  },
  {
   "cell_type": "code",
   "execution_count": 69,
   "metadata": {},
   "outputs": [
    {
     "data": {
      "application/vnd.jupyter.widget-view+json": {
       "model_id": "145bebd1e0ab4658b7114d13e1fb94a4",
       "version_major": 2,
       "version_minor": 0
      },
      "text/plain": [
       "HBox(children=(IntProgress(value=0, max=70), HTML(value='')))"
      ]
     },
     "metadata": {},
     "output_type": "display_data"
    },
    {
     "name": "stdout",
     "output_type": "stream",
     "text": [
      "\n",
      "70\n",
      "Histogram of perimeters of future close triangles\n"
     ]
    },
    {
     "data": {
      "image/png": "[encoded data removed]",
      "text/plain": [
       "<Figure size 432x288 with 1 Axes>"
      ]
     },
     "metadata": {
      "needs_background": "light"
     },
     "output_type": "display_data"
    }
   ],
   "source": [
    "future_close_triangles_dist = []\n",
    "for t in tqdm_notebook(closed_from_test):\n",
    "    distance_scores = []\n",
    "    \n",
    "    for u,v in itertools.combinations(t,2):\n",
    "        uf = str(u)\n",
    "        vf = str(v)\n",
    "        distance_scores.append(model.wv.similarity(uf,vf))\n",
    "    future_close_triangles_dist.append(np.sum(distance_scores))\n",
    "\n",
    "print(len(future_close_triangles_dist))\n",
    "\n",
    "print('Histogram of perimeters of future close triangles')\n",
    "hist, bins = np.histogram(future_close_triangles_dist, bins = 10)\n",
    "bin_width = bins[1] - bins[0]\n",
    "plt.bar(bins[:-1], hist, width = 0.88*bin_width)\n",
    "plt.show()"
   ]
  },
  {
   "cell_type": "code",
   "execution_count": 70,
   "metadata": {},
   "outputs": [
    {
     "data": {
      "application/vnd.jupyter.widget-view+json": {
       "model_id": "7c203a4ab43140d1bd76e4d018934698",
       "version_major": 2,
       "version_minor": 0
      },
      "text/plain": [
       "HBox(children=(IntProgress(value=0, max=3517), HTML(value='')))"
      ]
     },
     "metadata": {},
     "output_type": "display_data"
    },
    {
     "name": "stdout",
     "output_type": "stream",
     "text": [
      "\n",
      "3517\n",
      "Histogram of perimeters of still open triangles\n"
     ]
    },
    {
     "data": {
      "image/png": "[encoded data removed]",
      "text/plain": [
       "<Figure size 432x288 with 1 Axes>"
      ]
     },
     "metadata": {
      "needs_background": "light"
     },
     "output_type": "display_data"
    }
   ],
   "source": [
    "future_open_triangles_dist = []\n",
    "for t in tqdm_notebook(open_from_test):\n",
    "    distance_scores = []\n",
    "    for u,v in itertools.combinations(t,2):\n",
    "        uf = str(u)\n",
    "        vf = str(v)\n",
    "        distance_scores.append(model.wv.similarity(uf,vf))\n",
    "    future_open_triangles_dist.append(np.sum(distance_scores))\n",
    "\n",
    "print(len(future_open_triangles_dist))\n",
    "\n",
    "print('Histogram of perimeters of still open triangles')\n",
    "hist, bins = np.histogram(future_open_triangles_dist, bins = 10)\n",
    "bin_width = bins[1] - bins[0]\n",
    "plt.bar(bins[:-1], hist, width = 0.88*bin_width)\n",
    "plt.show()"
   ]
  },
  {
   "cell_type": "markdown",
   "metadata": {},
   "source": [
    "# Scoring the closing triangles - v1\n",
    "\n",
    "Now we test the predictive model based on cosine similarity. The idea is simple: if an open triangle has all nodes that have high cosine similarity to each other, then this triangle is highly likely to close in future. We use simple sum of all three similarities as a decision function.\n",
    "\n",
    "In v1 we use the similarity of pairs of nodes in a triangle."
   ]
  },
  {
   "cell_type": "code",
   "execution_count": 71,
   "metadata": {},
   "outputs": [
    {
     "data": {
      "application/vnd.jupyter.widget-view+json": {
       "model_id": "f273fc6f31f843e783d108428744c7b8",
       "version_major": 2,
       "version_minor": 0
      },
      "text/plain": [
       "HBox(children=(IntProgress(value=0, max=3587), HTML(value='')))"
      ]
     },
     "metadata": {},
     "output_type": "display_data"
    },
    {
     "name": "stdout",
     "output_type": "stream",
     "text": [
      "\n",
      "3587\n"
     ]
    }
   ],
   "source": [
    "from sklearn.metrics import precision_recall_curve, auc, f1_score\n",
    "closure_similarity = []\n",
    "for t in tqdm_notebook(open_train):\n",
    "    similarity_scores = []\n",
    "    for u,v in itertools.combinations(t,2):\n",
    "        uf = str(u)\n",
    "        vf = str(v)\n",
    "        similarity_scores.append(model.wv.similarity(uf,vf))\n",
    "    closure_similarity.append(np.mean(similarity_scores))\n",
    "  \n",
    "print(len(closure_similarity))"
   ]
  },
  {
   "cell_type": "code",
   "execution_count": 72,
   "metadata": {},
   "outputs": [
    {
     "name": "stdout",
     "output_type": "stream",
     "text": [
      "AUCPR RND: 0.019514914970727628 | AUCPR S2V: 0.03486036619851309\n",
      "Ratio as in Kleinberg --  AUCPR S2V/AUCPR RND : 1.7863447650580921\n"
     ]
    },
    {
     "data": {
      "image/png": "[encoded data removed]",
      "text/plain": [
       "<Figure size 384x288 with 1 Axes>"
      ]
     },
     "metadata": {
      "needs_background": "light"
     },
     "output_type": "display_data"
    }
   ],
   "source": [
    "s2v_precision, s2v_recall, _ = precision_recall_curve(y_true, closure_similarity)\n",
    "null_recall = np.linspace(0,1,len(prediction_null_model))\n",
    "\n",
    "aucpr_null = auc(null_recall, prediction_null_model)\n",
    "aucpr_s2v = auc(s2v_recall, s2v_precision)\n",
    "\n",
    "print(\"AUCPR RND: {} | AUCPR S2V: {}\".format(aucpr_null, aucpr_s2v))\n",
    "kleinberg_ratio = aucpr_s2v/aucpr_null\n",
    "print(\"Ratio as in Kleinberg --  AUCPR S2V/AUCPR RND :\", kleinberg_ratio)\n",
    "\n",
    "plt.figure(figsize = (4,3), dpi = 96)\n",
    "plt.title(\"Enron, PR curve, \\n sum pairwise similarity\")\n",
    "plt.plot(null_recall, prediction_null_model)\n",
    "plt.plot(s2v_recall, s2v_precision)\n",
    "\n",
    "ax = plt.gca()\n",
    "plt_label = \"AUCPR S2V/AUCPR RND : {}\".format(round(kleinberg_ratio,2))\n",
    "text_params = {'ha': 'center', 'va': 'center', 'family': 'sans-serif',\n",
    "                   'fontweight': 'bold', \"size\": 10}\n",
    "plt.text(0.6,0.9, plt_label, color = \"white\", \n",
    "         bbox=dict(facecolor='black', alpha=0.8), transform=ax.transAxes, **text_params)\n",
    "plt.show()"
   ]
  },
  {
   "cell_type": "markdown",
   "metadata": {},
   "source": [
    "# Scoring the closing triangles - v3\n",
    "\n",
    "In v3 we use sum of all average pairwise similarities of simplices that pass through the edges that constitute a triangle. The results a disappointing as well."
   ]
  },
  {
   "cell_type": "code",
   "execution_count": 73,
   "metadata": {},
   "outputs": [
    {
     "data": {
      "application/vnd.jupyter.widget-view+json": {
       "model_id": "39b9e670c9a640879284b04e40a44dd1",
       "version_major": 2,
       "version_minor": 0
      },
      "text/plain": [
       "HBox(children=(IntProgress(value=0, max=3587), HTML(value='')))"
      ]
     },
     "metadata": {},
     "output_type": "display_data"
    },
    {
     "name": "stdout",
     "output_type": "stream",
     "text": [
      "\n",
      "3587\n",
      "Histogram of perimeters of open train triangles\n"
     ]
    },
    {
     "data": {
      "image/png": "[encoded data removed]",
      "text/plain": [
       "<Figure size 432x288 with 1 Axes>"
      ]
     },
     "metadata": {
      "needs_background": "light"
     },
     "output_type": "display_data"
    }
   ],
   "source": [
    "# All open triangles from the train set\n",
    "from scipy.stats.mstats import gmean\n",
    "from scipy.stats import hmean\n",
    "\n",
    "mega_closure_similarity = []\n",
    "for t in tqdm_notebook(list(open_train)):\n",
    "    similarity_scores = []\n",
    "    triangle_edges = [\",\".join([str(u), str(v)]) for u,v in itertools.combinations(t,2)]\n",
    "\n",
    "    for u, v in itertools.combinations(list(t),2):\n",
    "        passing_simplices = g_train[u][v][\"simplices\"]\n",
    "        passing_simplices_similarities = []\n",
    "        for s1,s2 in itertools.combinations(passing_simplices,2):\n",
    "            s1_int = sorted([int(x) for x in list(s1)])\n",
    "            s1_model = \",\".join([str(x) for x in s1_int])\n",
    "            s2_int = sorted([int(x) for x in list(s2)])\n",
    "            s2_model = \",\".join([str(x) for x in s2_int])\n",
    "            sim_score = model.wv.similarity(s1_model,s2_model)\n",
    "            if sim_score < 0:\n",
    "                sim_score = 0\n",
    "            passing_simplices_similarities.append(sim_score)\n",
    "        if len(passing_simplices_similarities):\n",
    "            similarity_scores.append(np.mean(passing_simplices_similarities))\n",
    "        else:\n",
    "            similarity_scores.append(0)\n",
    "    mega_closure_similarity.append(np.sum(similarity_scores))\n",
    "print(len(mega_closure_similarity))\n",
    "\n",
    "print('Histogram of perimeters of open train triangles')\n",
    "hist, bins = np.histogram(mega_closure_similarity, bins = 10)\n",
    "bin_width = bins[1] - bins[0]\n",
    "plt.bar(bins[:-1], hist, width = 0.88*bin_width)\n",
    "plt.show()"
   ]
  },
  {
   "cell_type": "code",
   "execution_count": 74,
   "metadata": {},
   "outputs": [
    {
     "data": {
      "application/vnd.jupyter.widget-view+json": {
       "model_id": "0ba492fe23734d6e96f0ec2c568e40b1",
       "version_major": 2,
       "version_minor": 0
      },
      "text/plain": [
       "HBox(children=(IntProgress(value=0, max=70), HTML(value='')))"
      ]
     },
     "metadata": {},
     "output_type": "display_data"
    },
    {
     "name": "stdout",
     "output_type": "stream",
     "text": [
      "\n",
      "70\n",
      "Histogram of perimeters of future close triangles\n"
     ]
    },
    {
     "data": {
      "image/png": "[encoded data removed]",
      "text/plain": [
       "<Figure size 432x288 with 1 Axes>"
      ]
     },
     "metadata": {
      "needs_background": "light"
     },
     "output_type": "display_data"
    }
   ],
   "source": [
    "# Only those triangles which further close\n",
    "future_close_triangles_dist = []\n",
    "for t in tqdm_notebook(closed_from_test):\n",
    "    similarity_scores = []\n",
    "    triangle_edges = [\",\".join([str(u), str(v)]) for u,v in itertools.combinations(t,2)]\n",
    "    for u, v in itertools.combinations(list(t),2):\n",
    "        passing_simplices = g_train[u][v][\"simplices\"]\n",
    "        passing_simplices_similarities = []\n",
    "        for s1,s2 in itertools.combinations(passing_simplices,2):\n",
    "            s1_int = sorted([int(x) for x in list(s1)])\n",
    "            s1_model = \",\".join([str(x) for x in s1_int])\n",
    "            s2_int = sorted([int(x) for x in list(s2)])\n",
    "            s2_model = \",\".join([str(x) for x in s2_int])\n",
    "            passing_simplices_similarities.append(model.wv.similarity(s1_model,s2_model))\n",
    "        if len(passing_simplices_similarities):\n",
    "            similarity_scores.append(np.mean(passing_simplices_similarities))\n",
    "        else:\n",
    "            similarity_scores.append(0)\n",
    "    future_close_triangles_dist.append(np.sum(similarity_scores))\n",
    "print(len(future_close_triangles_dist))\n",
    "\n",
    "print('Histogram of perimeters of future close triangles')\n",
    "hist, bins = np.histogram(future_close_triangles_dist, bins = 10)\n",
    "bin_width = bins[1] - bins[0]\n",
    "plt.bar(bins[:-1], hist, width = 0.88*bin_width)\n",
    "plt.show()"
   ]
  },
  {
   "cell_type": "code",
   "execution_count": 75,
   "metadata": {},
   "outputs": [
    {
     "name": "stdout",
     "output_type": "stream",
     "text": [
      "Histogram of perimeters of open train triangles\n",
      "Histogram of perimeters of future close triangles\n"
     ]
    },
    {
     "data": {
      "image/png": "[encoded data removed]",
      "text/plain": [
       "<Figure size 720x480 with 1 Axes>"
      ]
     },
     "metadata": {
      "needs_background": "light"
     },
     "output_type": "display_data"
    }
   ],
   "source": [
    "plt.figure(figsize = (6,4), dpi = 120)\n",
    "\n",
    "print('Histogram of perimeters of open train triangles')\n",
    "hist, bins = np.histogram(mega_closure_similarity, bins = 10, density=True)\n",
    "bin_width = bins[1] - bins[0]\n",
    "plt.bar(bins[:-1], hist, width = 0.88*bin_width, color = \"C2\", label = \"All open test triangles\", alpha = 0.9)\n",
    "\n",
    "print('Histogram of perimeters of future close triangles')\n",
    "hist, bins = np.histogram(np.array(future_close_triangles_dist), bins = 10, density=True)\n",
    "bin_width = bins[1] - bins[0]\n",
    "plt.bar(bins[:-1], hist, width = 0.88*bin_width, color = \"C0\", label = \"Triangles that further close\", alpha = 0.7)\n",
    "plt.legend(loc = \"best\")\n",
    "plt.ylabel(\"Density\")\n",
    "plt.xlabel(\"Sum of avg cosine similarities\")\n",
    "plt.title(\"Histogram of avg cosine distances for all open\\n triangles and those which eventually close\")\n",
    "plt.show()"
   ]
  },
  {
   "cell_type": "code",
   "execution_count": 76,
   "metadata": {},
   "outputs": [
    {
     "name": "stdout",
     "output_type": "stream",
     "text": [
      "AUCPR RND: 0.019514914970727628 | AUCPR S2V: 0.08530588905231568\n",
      "Ratio as in Kleinberg --  AUCPR S2V/AUCPR RND : 4.3713174861522335\n"
     ]
    },
    {
     "data": {
      "image/png": "[encoded data removed]",
      "text/plain": [
       "<Figure size 384x288 with 1 Axes>"
      ]
     },
     "metadata": {
      "needs_background": "light"
     },
     "output_type": "display_data"
    }
   ],
   "source": [
    "s2v_precision, s2v_recall, _ = precision_recall_curve(y_true, mega_closure_similarity)\n",
    "\n",
    "null_recall = np.linspace(0,1,len(prediction_null_model))\n",
    "aucpr_null = auc(null_recall, prediction_null_model)\n",
    "aucpr_s2v = auc(s2v_recall, s2v_precision)\n",
    "\n",
    "print(\"AUCPR RND: {} | AUCPR S2V: {}\".format(aucpr_null, aucpr_s2v))\n",
    "kleinberg_ratio = aucpr_s2v/aucpr_null\n",
    "print(\"Ratio as in Kleinberg --  AUCPR S2V/AUCPR RND :\", kleinberg_ratio)\n",
    "\n",
    "plt.figure(figsize = (4,3), dpi = 96)\n",
    "plt.plot(null_recall, prediction_null_model)\n",
    "plt.plot(s2v_recall, s2v_precision)\n",
    "plt.title(\"Enron, PR curve, Mega score\")\n",
    "\n",
    "ax = plt.gca()\n",
    "plt_label = \"AUCPR S2V/AUCPR RND : {}\".format(round(kleinberg_ratio,2))\n",
    "text_params = {'ha': 'center', 'va': 'center', 'family': 'sans-serif',\n",
    "                   'fontweight': 'bold', \"size\": 10}\n",
    "plt.text(0.6,0.9, plt_label, color = \"white\", \n",
    "         bbox=dict(facecolor='black', alpha=0.8), transform=ax.transAxes, **text_params)\n",
    "\n",
    "plt.show()"
   ]
  },
  {
   "cell_type": "markdown",
   "metadata": {},
   "source": [
    "# Kleinberg Geometric mean "
   ]
  },
  {
   "cell_type": "code",
   "execution_count": 81,
   "metadata": {},
   "outputs": [
    {
     "data": {
      "application/vnd.jupyter.widget-view+json": {
       "model_id": "88270ff95c374accae6c19f9e6790953",
       "version_major": 2,
       "version_minor": 0
      },
      "text/plain": [
       "HBox(children=(IntProgress(value=0, max=3587), HTML(value='')))"
      ]
     },
     "metadata": {},
     "output_type": "display_data"
    },
    {
     "name": "stdout",
     "output_type": "stream",
     "text": [
      "\n"
     ]
    }
   ],
   "source": [
    "from scipy.stats.mstats import gmean\n",
    "from scipy.stats import hmean\n",
    "\n",
    "geom_mean_similarity = []\n",
    "for t in tqdm_notebook(open_train):\n",
    "    similarity_scores = []\n",
    "    for u,v in itertools.combinations(t,2):\n",
    "        similarity_scores.append(len(g_train[u][v][\"simplices\"]))\n",
    "    geom_mean_similarity.append(hmean(similarity_scores))"
   ]
  },
  {
   "cell_type": "code",
   "execution_count": 82,
   "metadata": {},
   "outputs": [
    {
     "name": "stdout",
     "output_type": "stream",
     "text": [
      "AUCPR RND: 0.019514914970727628 | AUCPR S2V: 0.06783818647681145\n",
      "Ratio as in Kleinberg --  AUCPR S2V/AUCPR RND : 3.4762224984617522\n"
     ]
    },
    {
     "data": {
      "image/png": "[encoded data removed]",
      "text/plain": [
       "<Figure size 384x288 with 1 Axes>"
      ]
     },
     "metadata": {
      "needs_background": "light"
     },
     "output_type": "display_data"
    }
   ],
   "source": [
    "s2v_precision, s2v_recall, _ = precision_recall_curve(y_true, geom_mean_similarity)\n",
    "\n",
    "null_recall = np.linspace(0,1,len(prediction_null_model))\n",
    "aucpr_null = auc(null_recall, prediction_null_model)\n",
    "aucpr_s2v = auc(s2v_recall, s2v_precision)\n",
    "\n",
    "print(\"AUCPR RND: {} | AUCPR S2V: {}\".format(aucpr_null, aucpr_s2v))\n",
    "kleinberg_ratio = aucpr_s2v/aucpr_null\n",
    "print(\"Ratio as in Kleinberg --  AUCPR S2V/AUCPR RND :\", kleinberg_ratio)\n",
    "\n",
    "plt.figure(figsize = (4,3), dpi = 96)\n",
    "plt.plot(null_recall, prediction_null_model)\n",
    "plt.plot(s2v_recall, s2v_precision)\n",
    "plt.title(\"Enron, PR curve, Harmonic mean predictor\")\n",
    "\n",
    "ax = plt.gca()\n",
    "plt_label = \"AUCPR S2V/AUCPR RND : {}\".format(round(kleinberg_ratio,2))\n",
    "text_params = {'ha': 'center', 'va': 'center', 'family': 'sans-serif',\n",
    "                   'fontweight': 'bold', \"size\": 10}\n",
    "plt.text(0.6,0.9, plt_label, color = \"white\", \n",
    "         bbox=dict(facecolor='black', alpha=0.8), transform=ax.transAxes, **text_params)\n",
    "\n",
    "plt.show()"
   ]
  },
  {
   "cell_type": "code",
   "execution_count": 53,
   "metadata": {},
   "outputs": [
    {
     "data": {
      "application/vnd.jupyter.widget-view+json": {
       "model_id": "085c350611bd4f2f9efb3ffe8fec2e3c",
       "version_major": 2,
       "version_minor": 0
      },
      "text/plain": [
       "HBox(children=(IntProgress(value=0, max=70), HTML(value='')))"
      ]
     },
     "metadata": {},
     "output_type": "display_data"
    },
    {
     "name": "stdout",
     "output_type": "stream",
     "text": [
      "\n"
     ]
    }
   ],
   "source": [
    "from scipy.stats.mstats import gmean\n",
    "\n",
    "future_close_geom_mean_similarity = []\n",
    "for t in tqdm_notebook(closed_from_test):\n",
    "    similarity_scores = []\n",
    "    for u,v in itertools.combinations(t,2):\n",
    "        similarity_scores.append(len(g_train[u][v][\"simplices\"]))\n",
    "    future_close_geom_mean_similarity.append(hmean(similarity_scores))"
   ]
  },
  {
   "cell_type": "code",
   "execution_count": 54,
   "metadata": {},
   "outputs": [
    {
     "name": "stdout",
     "output_type": "stream",
     "text": [
      "Geometric mean Kleinberg of open train triangles\n",
      "Geometric mean Kleinberg of future close triangles\n"
     ]
    },
    {
     "data": {
      "image/png": "[encoded data removed]",
      "text/plain": [
       "<Figure size 720x480 with 1 Axes>"
      ]
     },
     "metadata": {
      "needs_background": "light"
     },
     "output_type": "display_data"
    }
   ],
   "source": [
    "plt.figure(figsize = (6,4), dpi = 120)\n",
    "\n",
    "print('Geometric mean Kleinberg of open train triangles')\n",
    "hist, bins = np.histogram(geom_mean_similarity, bins = 10, density=True)\n",
    "bin_width = bins[1] - bins[0]\n",
    "plt.bar(bins[:-1], hist, width = 0.88*bin_width, color = \"C2\", label = \"All open test triangles\", alpha = 0.9)\n",
    "\n",
    "print('Geometric mean Kleinberg of future close triangles')\n",
    "hist, bins = np.histogram(future_close_geom_mean_similarity, bins = 10, density=True)\n",
    "bin_width = bins[1] - bins[0]\n",
    "plt.bar(bins[:-1], hist, width = 0.88*bin_width, color = \"C0\", label = \"Triangles that further close\", alpha = 0.7)\n",
    "plt.legend(loc = \"best\")\n",
    "plt.show()"
   ]
  },
  {
   "cell_type": "code",
   "execution_count": null,
   "metadata": {},
   "outputs": [],
   "source": []
  }
 ],
 "metadata": {
  "kernelspec": {
   "display_name": "Python 3",
   "language": "python",
   "name": "python3"
  },
  "language_info": {
   "codemirror_mode": {
    "name": "ipython",
    "version": 3
   },
   "file_extension": ".py",
   "mimetype": "text/x-python",
   "name": "python",
   "nbconvert_exporter": "python",
   "pygments_lexer": "ipython3",
   "version": "3.5.3"
  }
 },
 "nbformat": 4,
 "nbformat_minor": 2
}
