{
 "cells": [
  {
   "cell_type": "code",
   "execution_count": 3,
   "metadata": {},
   "outputs": [],
   "source": [
    "import math\n",
    "import numpy as np\n",
    "import matplotlib.pyplot as plt\n",
    "import networkx as nx\n",
    "import pickle\n",
    "import json\n",
    "import itertools\n",
    "from tqdm import tqdm_notebook\n",
    "from scipy.spatial.distance import pdist\n",
    "from sklearn.metrics import precision_recall_curve, auc, f1_score\n",
    "from Simplex2Vec.utils import read_simplex_json\n",
    "\n",
    "from kleinberg_experiment import *\n",
    "plt.style.use('seaborn')"
   ]
  },
  {
   "cell_type": "markdown",
   "metadata": {},
   "source": [
    "# Upload Kleinberg data into memory"
   ]
  },
  {
   "cell_type": "markdown",
   "metadata": {},
   "source": [
    "We use the dataset of primary school contacts first (from Sociopatterns). We use the dataset provided by Kleinberg et al. Below we upload the simplices to the memory."
   ]
  },
  {
   "cell_type": "code",
   "execution_count": 8,
   "metadata": {},
   "outputs": [],
   "source": [
    "dataset = \"contact-primary-school\"\n",
    "data_dir = \"./data/kleinberg/{}/\".format(dataset)\n",
    "simplex_file = \"{}-simplices.txt\".format(dataset)\n",
    "size_file = \"{}-nverts.txt\".format(dataset)\n",
    "\n",
    "simplexf = open(data_dir + simplex_file, 'r')\n",
    "sizef = open(data_dir + size_file, 'r')"
   ]
  },
  {
   "cell_type": "code",
   "execution_count": 9,
   "metadata": {},
   "outputs": [
    {
     "data": {
      "application/vnd.jupyter.widget-view+json": {
       "model_id": "3937d47d99884c3f9c122a8e2d3e893c",
       "version_major": 2,
       "version_minor": 0
      },
      "text/plain": [
       "HBox(children=(IntProgress(value=1, bar_style='info', max=1), HTML(value='')))"
      ]
     },
     "metadata": {},
     "output_type": "display_data"
    },
    {
     "name": "stdout",
     "output_type": "stream",
     "text": [
      "\n"
     ]
    }
   ],
   "source": [
    "simplex_sizes = []\n",
    "for s in tqdm_notebook(sizef):\n",
    "    ss = s.strip()\n",
    "    simplex_sizes.append(int(ss))"
   ]
  },
  {
   "cell_type": "code",
   "execution_count": 10,
   "metadata": {},
   "outputs": [
    {
     "data": {
      "application/vnd.jupyter.widget-view+json": {
       "model_id": "5656ea65dce24d299bbefc52e29e96d0",
       "version_major": 2,
       "version_minor": 0
      },
      "text/plain": [
       "HBox(children=(IntProgress(value=0, max=106879), HTML(value='')))"
      ]
     },
     "metadata": {},
     "output_type": "display_data"
    },
    {
     "name": "stdout",
     "output_type": "stream",
     "text": [
      "\n",
      "Exceptions: 0\n"
     ]
    }
   ],
   "source": [
    "node_list = set([])\n",
    "simplex_list = []\n",
    "exceptions = []\n",
    "cut_size = 1000000\n",
    "for s in tqdm_notebook(simplex_sizes):\n",
    "    one_simplex = []\n",
    "    for i in range(s):\n",
    "        rl = simplexf.readline()\n",
    "        n = rl.strip()\n",
    "        try:\n",
    "            one_simplex.append(int(n))\n",
    "            node_list.add(int(n))\n",
    "        except:\n",
    "            exceptions.append(rl)\n",
    "    simplex_list.append(frozenset(one_simplex))\n",
    "    if len(simplex_list) > cut_size:\n",
    "        break\n",
    "print(\"Exceptions:\", len(exceptions))"
   ]
  },
  {
   "cell_type": "markdown",
   "metadata": {},
   "source": [
    "# Upload our data into memory"
   ]
  },
  {
   "cell_type": "code",
   "execution_count": 7,
   "metadata": {},
   "outputs": [],
   "source": [
    "in_file = \"./data/sociopatterns_facets/aggr_5min_cliques_InVS15.json\"\n",
    "\n",
    "simplex_list = read_simplex_json(in_file)"
   ]
  },
  {
   "cell_type": "markdown",
   "metadata": {},
   "source": [
    "Kleinberg's sets their experiment as follows. On the first 80% of data they find the set of *open* triangles, i.e. the triangles in the projected graph (the one you obtain by projecting all interactions) which have all edges participating in some cliques, but not all three together in one clique. \n",
    "\n",
    "Then on the test set, they make a prediction  which open triangles from the test set will close (there will appear a clique containing this triangle). \n",
    "\n",
    "They compare their prediction with random null model, where each clique has independent probability to close which is equal to the number of closed triangles/total number of open triangles. \n",
    "\n",
    "The measure they compare is the AUC PR (area under the precision-recall curve), relative to AUC PR of the random null model. "
   ]
  },
  {
   "cell_type": "markdown",
   "metadata": {},
   "source": [
    "# Find open triangles"
   ]
  },
  {
   "cell_type": "markdown",
   "metadata": {},
   "source": [
    "Split the set of all simplices to train set (first 80%) and test set (rest 20%)."
   ]
  },
  {
   "cell_type": "code",
   "execution_count": 11,
   "metadata": {},
   "outputs": [],
   "source": [
    "threshold = int(0.8*len(simplex_list))\n",
    "train_simplices = simplex_list[:threshold]\n",
    "test_simplices = simplex_list[threshold:]"
   ]
  },
  {
   "cell_type": "markdown",
   "metadata": {},
   "source": [
    "Find all closed and open triangles in the train and test set"
   ]
  },
  {
   "cell_type": "code",
   "execution_count": 12,
   "metadata": {},
   "outputs": [
    {
     "data": {
      "application/vnd.jupyter.widget-view+json": {
       "model_id": "2abb24fb15a84b34a577051a8c02fc06",
       "version_major": 2,
       "version_minor": 0
      },
      "text/plain": [
       "HBox(children=(IntProgress(value=0, max=85503), HTML(value='')))"
      ]
     },
     "metadata": {},
     "output_type": "display_data"
    },
    {
     "name": "stdout",
     "output_type": "stream",
     "text": [
      "\n",
      "Name: \n",
      "Type: Graph\n",
      "Number of nodes: 242\n",
      "Number of edges: 7575\n",
      "Average degree:  62.6033\n"
     ]
    },
    {
     "data": {
      "application/vnd.jupyter.widget-view+json": {
       "model_id": "6c8f8c056e9441dda8579c525d2d3c28",
       "version_major": 2,
       "version_minor": 0
      },
      "text/plain": [
       "HBox(children=(IntProgress(value=0, max=242), HTML(value='')))"
      ]
     },
     "metadata": {},
     "output_type": "display_data"
    },
    {
     "name": "stdout",
     "output_type": "stream",
     "text": [
      "\n",
      "Open: 80447, Closed: 4258\n"
     ]
    }
   ],
   "source": [
    "g_train = get_projected_graph(train_simplices, info = True)\n",
    "open_train, closed_train = get_open_closed_triangles(g_train, info = True)"
   ]
  },
  {
   "cell_type": "code",
   "execution_count": 13,
   "metadata": {},
   "outputs": [
    {
     "data": {
      "application/vnd.jupyter.widget-view+json": {
       "model_id": "93a805e9913c4116bde4de30085a89b4",
       "version_major": 2,
       "version_minor": 0
      },
      "text/plain": [
       "HBox(children=(IntProgress(value=0, max=106879), HTML(value='')))"
      ]
     },
     "metadata": {},
     "output_type": "display_data"
    },
    {
     "name": "stdout",
     "output_type": "stream",
     "text": [
      "\n",
      "Name: \n",
      "Type: Graph\n",
      "Number of nodes: 242\n",
      "Number of edges: 8317\n",
      "Average degree:  68.7355\n"
     ]
    },
    {
     "data": {
      "application/vnd.jupyter.widget-view+json": {
       "model_id": "18d9b9aa6e7a41cfacb229acae09f404",
       "version_major": 2,
       "version_minor": 0
      },
      "text/plain": [
       "HBox(children=(IntProgress(value=0, max=242), HTML(value='')))"
      ]
     },
     "metadata": {},
     "output_type": "display_data"
    },
    {
     "name": "stdout",
     "output_type": "stream",
     "text": [
      "\n",
      "Open: 98621, Closed: 5139\n"
     ]
    }
   ],
   "source": [
    "g_total = get_projected_graph(simplex_list, info = True)\n",
    "open_total, closed_total = get_open_closed_triangles(g_total, info = True)"
   ]
  },
  {
   "cell_type": "markdown",
   "metadata": {},
   "source": [
    "Look which triangles have closed"
   ]
  },
  {
   "cell_type": "code",
   "execution_count": 14,
   "metadata": {},
   "outputs": [
    {
     "name": "stdout",
     "output_type": "stream",
     "text": [
      "685\n",
      "79762\n"
     ]
    }
   ],
   "source": [
    "closed_from_test = [t for t in closed_total if t in open_train]\n",
    "print(len(closed_from_test))\n",
    "open_from_test = [t for t in open_total if t in open_train]\n",
    "print(len(open_from_test))"
   ]
  },
  {
   "cell_type": "markdown",
   "metadata": {},
   "source": [
    "Get the probability vector for null model and y_true for future comparison."
   ]
  },
  {
   "cell_type": "code",
   "execution_count": 15,
   "metadata": {},
   "outputs": [
    {
     "name": "stdout",
     "output_type": "stream",
     "text": [
      "80447\n",
      "684.9999999999158\n"
     ]
    }
   ],
   "source": [
    "y_true = [1 if t in closed_from_test else 0 for t in open_train]\n",
    "print(len(y_true))\n",
    "prediction_null_model = np.asarray([sum(y_true)/len(y_true)]*len(y_true))\n",
    "print(sum(prediction_null_model))"
   ]
  },
  {
   "cell_type": "markdown",
   "metadata": {},
   "source": [
    "# Simplex2Vec  test\n",
    "\n",
    "Launch and train the Simplex2Vec model. "
   ]
  },
  {
   "cell_type": "code",
   "execution_count": 18,
   "metadata": {},
   "outputs": [
    {
     "data": {
      "application/vnd.jupyter.widget-view+json": {
       "model_id": "97bd6532e29b41cfb1a509dff2046e05",
       "version_major": 2,
       "version_minor": 0
      },
      "text/plain": [
       "HBox(children=(IntProgress(value=0, description='Creating Hasse diagram', max=11179, style=ProgressStyle(descr…"
      ]
     },
     "metadata": {},
     "output_type": "display_data"
    },
    {
     "name": "stdout",
     "output_type": "stream",
     "text": [
      "\n",
      "Name: \n",
      "Type: Graph\n",
      "Number of nodes: 12394\n",
      "Number of edges: 29209\n",
      "Average degree:   4.7134\n"
     ]
    }
   ],
   "source": [
    "# import clusim.sim as sim\n",
    "# from clusim.clustering import Clustering\n",
    "from sklearn.cluster import KMeans, DBSCAN, AgglomerativeClustering\n",
    "from sklearn.manifold import TSNE\n",
    "\n",
    "from Simplex2Vec.Simplex2Vec import Simplex2Vec\n",
    "from Simplex2Vec.utils import check_prediction\n",
    "from Simplex2Vec.utils import read_simplex_json\n",
    "from Simplex2Vec.simplex2hasse import simplex2hasse_HOexponential\n",
    "\n",
    "g_hasse = simplex2hasse_HOexponential(train_simplices)\n",
    "print(nx.info(g_hasse))"
   ]
  },
  {
   "cell_type": "code",
   "execution_count": 19,
   "metadata": {},
   "outputs": [
    {
     "data": {
      "application/vnd.jupyter.widget-view+json": {
       "model_id": "9eafcd77442a46b09be68cce5ef3a3d5",
       "version_major": 2,
       "version_minor": 0
      },
      "text/plain": [
       "HBox(children=(IntProgress(value=0, description='Precomputing probabilities', max=12394, style=ProgressStyle(d…"
      ]
     },
     "metadata": {},
     "output_type": "display_data"
    },
    {
     "name": "stdout",
     "output_type": "stream",
     "text": [
      "\n",
      " "
     ]
    },
    {
     "data": {
      "application/vnd.jupyter.widget-view+json": {
       "model_id": "3037ca876e2f429a86a83f628b9d065f",
       "version_major": 2,
       "version_minor": 0
      },
      "text/plain": [
       "HBox(children=(IntProgress(value=0, description='Generating walks : CPU: 0', max=1240, style=ProgressStyle(des…"
      ]
     },
     "metadata": {},
     "output_type": "display_data"
    },
    {
     "name": "stdout",
     "output_type": "stream",
     "text": [
      " "
     ]
    },
    {
     "data": {
      "application/vnd.jupyter.widget-view+json": {
       "model_id": "d7a0d09e72d64c7f9032346224975c29",
       "version_major": 2,
       "version_minor": 0
      },
      "text/plain": [
       "HBox(children=(IntProgress(value=0, description='Generating walks : CPU: 1', max=1240, style=ProgressStyle(des…"
      ]
     },
     "metadata": {},
     "output_type": "display_data"
    },
    {
     "name": "stdout",
     "output_type": "stream",
     "text": [
      " "
     ]
    },
    {
     "data": {
      "application/vnd.jupyter.widget-view+json": {
       "model_id": "364de89e8de04b3aa44738cc5a0af612",
       "version_major": 2,
       "version_minor": 0
      },
      "text/plain": [
       "HBox(children=(IntProgress(value=0, description='Generating walks : CPU: 2', max=1240, style=ProgressStyle(des…"
      ]
     },
     "metadata": {},
     "output_type": "display_data"
    },
    {
     "name": "stdout",
     "output_type": "stream",
     "text": [
      " "
     ]
    },
    {
     "data": {
      "application/vnd.jupyter.widget-view+json": {
       "model_id": "1e8c6175eb984002b875bc261638e8e4",
       "version_major": 2,
       "version_minor": 0
      },
      "text/plain": [
       "HBox(children=(IntProgress(value=0, description='Generating walks : CPU: 3', max=1240, style=ProgressStyle(des…"
      ]
     },
     "metadata": {},
     "output_type": "display_data"
    },
    {
     "name": "stdout",
     "output_type": "stream",
     "text": [
      " "
     ]
    },
    {
     "data": {
      "application/vnd.jupyter.widget-view+json": {
       "model_id": "4309adc68de04bc9b72d05f2ee5cf7a7",
       "version_major": 2,
       "version_minor": 0
      },
      "text/plain": [
       "HBox(children=(IntProgress(value=0, description='Generating walks : CPU: 4', max=1239, style=ProgressStyle(des…"
      ]
     },
     "metadata": {},
     "output_type": "display_data"
    },
    {
     "name": "stdout",
     "output_type": "stream",
     "text": [
      " "
     ]
    },
    {
     "data": {
      "application/vnd.jupyter.widget-view+json": {
       "model_id": "60677a96e348409493499d40b8998901",
       "version_major": 2,
       "version_minor": 0
      },
      "text/plain": [
       "HBox(children=(IntProgress(value=0, description='Generating walks : CPU: 5', max=1239, style=ProgressStyle(des…"
      ]
     },
     "metadata": {},
     "output_type": "display_data"
    },
    {
     "name": "stdout",
     "output_type": "stream",
     "text": [
      " "
     ]
    },
    {
     "data": {
      "application/vnd.jupyter.widget-view+json": {
       "model_id": "2878611c7a194d978e2f5c5ff257452c",
       "version_major": 2,
       "version_minor": 0
      },
      "text/plain": [
       "HBox(children=(IntProgress(value=0, description='Generating walks : CPU: 6', max=1239, style=ProgressStyle(des…"
      ]
     },
     "metadata": {},
     "output_type": "display_data"
    },
    {
     "name": "stdout",
     "output_type": "stream",
     "text": [
      " "
     ]
    },
    {
     "data": {
      "application/vnd.jupyter.widget-view+json": {
       "model_id": "a1647544daab4c53be8ff09a4ba1748e",
       "version_major": 2,
       "version_minor": 0
      },
      "text/plain": [
       "HBox(children=(IntProgress(value=0, description='Generating walks : CPU: 7', max=1239, style=ProgressStyle(des…"
      ]
     },
     "metadata": {},
     "output_type": "display_data"
    },
    {
     "name": "stdout",
     "output_type": "stream",
     "text": [
      " "
     ]
    },
    {
     "data": {
      "application/vnd.jupyter.widget-view+json": {
       "model_id": "ba9e62b985404f9d9a0267434eb89cfc",
       "version_major": 2,
       "version_minor": 0
      },
      "text/plain": [
       "HBox(children=(IntProgress(value=0, description='Generating walks : CPU: 8', max=1239, style=ProgressStyle(des…"
      ]
     },
     "metadata": {},
     "output_type": "display_data"
    },
    {
     "name": "stdout",
     "output_type": "stream",
     "text": [
      " "
     ]
    },
    {
     "data": {
      "application/vnd.jupyter.widget-view+json": {
       "model_id": "154bae181c414e479dfe8e52a09acfaf",
       "version_major": 2,
       "version_minor": 0
      },
      "text/plain": [
       "HBox(children=(IntProgress(value=0, description='Generating walks : CPU: 9', max=1239, style=ProgressStyle(des…"
      ]
     },
     "metadata": {},
     "output_type": "display_data"
    },
    {
     "name": "stdout",
     "output_type": "stream",
     "text": [
      "\n",
      "\n",
      "\n",
      "\n",
      "\n",
      "\n",
      "\n",
      "\n",
      "\n",
      "\n",
      "DONE!\n"
     ]
    }
   ],
   "source": [
    "s2v = Simplex2Vec.from_hasse_diagram(g_hasse, p = 1, n_walks=100, \n",
    "                                     walk_length=240, workers = 4)"
   ]
  },
  {
   "cell_type": "code",
   "execution_count": 20,
   "metadata": {
    "scrolled": true
   },
   "outputs": [
    {
     "name": "stdout",
     "output_type": "stream",
     "text": [
      "Fitting the Word2Vec..\n",
      "Epoch 0 - Model loss: 8523250.0\n"
     ]
    }
   ],
   "source": [
    "class EpochShowLoss():\n",
    "    '''Callback to show training loss after each epoch '''\n",
    "\n",
    "    def __init__(self):\n",
    "        self.epoch = 0\n",
    "    \n",
    "    def on_train_begin(self, model):\n",
    "        pass\n",
    "    def on_train_end(self, model):\n",
    "        pass\n",
    "    def on_epoch_begin(self, model):\n",
    "        pass\n",
    "    def on_batch_begin(self, model):\n",
    "        pass\n",
    "    def on_batch_end(self, model):\n",
    "        pass\n",
    "        \n",
    "    def on_epoch_end(self, model):\n",
    "        print(\"Epoch {} - Model loss: {}\".format(self.epoch,\n",
    "                                              model.get_latest_training_loss()))\n",
    "        model_loss.append((self.epoch, model.get_latest_training_loss()))\n",
    "        self.epoch += 1\n",
    "model_loss = []\n",
    "model = s2v.fit(iter = 1, size=1200, window=8, workers = 10, callbacks = [EpochShowLoss()])\n",
    "# for _ in range(20):  \n",
    "#     model = s2v.refit(epochs = 1, callbacks = [EpochShowLoss()])\n",
    "    "
   ]
  },
  {
   "cell_type": "markdown",
   "metadata": {},
   "source": [
    "## Plot the embedding\n",
    "\n",
    "Extract the embedding vectors for nodes or edges and plot it on the plane using tSNE embedding."
   ]
  },
  {
   "cell_type": "code",
   "execution_count": 21,
   "metadata": {},
   "outputs": [],
   "source": [
    "X = []\n",
    "X_labels = []\n",
    "\n",
    "for u in model.wv.vocab.keys():\n",
    "    if len(u.split(',')) == 1: # get all embedding vectors \n",
    "        X.append(model.wv[u])\n",
    "        \n",
    "X_transform = TSNE(n_components=2).fit_transform(X)"
   ]
  },
  {
   "cell_type": "code",
   "execution_count": 22,
   "metadata": {},
   "outputs": [
    {
     "data": {
      "image/png": "[encoded data removed]",
      "text/plain": [
       "<Figure size 576x576 with 1 Axes>"
      ]
     },
     "metadata": {},
     "output_type": "display_data"
    }
   ],
   "source": [
    "fig = plt.figure(figsize = (6,6), dpi = 96)\n",
    "# colors_list = cm.nipy_spectral(np.asarray(pred_cluster_labels).astype(float) / num_classes)\n",
    "plt.scatter(*zip(*X_transform), marker='o', s=50, lw=0, alpha=0.7,)\n",
    "#                      c = colors_list)\n",
    "text_params = {'ha': 'center', 'va': 'center', 'family': 'oswald-light',\n",
    "                   'fontweight': 'normal', \"size\": 12}\n",
    "# for i, z in enumerate(Z_labels):\n",
    "#     x,y = X_transform[i]\n",
    "#     plt.text(x,y, z, color = \"black\", alpha=0.8)\n",
    "\n",
    "plt.title(\"Node clusters\", fontsize = 16)\n",
    "plt.show()"
   ]
  },
  {
   "cell_type": "markdown",
   "metadata": {},
   "source": [
    "# Analyze open and closed triangles distance distribution"
   ]
  },
  {
   "cell_type": "markdown",
   "metadata": {},
   "source": [
    "### Sum of pairwise cosine similarities as a predictor\n",
    "Here we analyze the applicability of sum of pairwise cosine similarities as a predictor of future triangle closure "
   ]
  },
  {
   "cell_type": "code",
   "execution_count": 23,
   "metadata": {},
   "outputs": [
    {
     "data": {
      "application/vnd.jupyter.widget-view+json": {
       "model_id": "d7436ea3e6ec44d3ab98861224e6d99a",
       "version_major": 2,
       "version_minor": 0
      },
      "text/plain": [
       "HBox(children=(IntProgress(value=0, max=4258), HTML(value='')))"
      ]
     },
     "metadata": {},
     "output_type": "display_data"
    },
    {
     "name": "stdout",
     "output_type": "stream",
     "text": [
      "\n",
      "Histogram of perimeters from already closed triangles\n"
     ]
    },
    {
     "data": {
      "image/png": "[encoded data removed]",
      "text/plain": [
       "<Figure size 576x396 with 1 Axes>"
      ]
     },
     "metadata": {},
     "output_type": "display_data"
    }
   ],
   "source": [
    "# already_closed_triangles_dist = []\n",
    "# for t in tqdm_notebook(closed_train):\n",
    "#     distance_scores = []\n",
    "#     for u,v in itertools.combinations(t,2):\n",
    "#         uf = str(u)\n",
    "#         vf = str(v)\n",
    "#         distance_scores.append(model.wv.similarity(uf,vf))\n",
    "#     already_closed_triangles_dist.append(np.sum(distance_scores))\n",
    "\n",
    "# len(already_closed_triangles_dist)\n",
    "\n",
    "plt.figure(figsize = (4,3), dpi = 96)\n",
    "plt.title('Histogram of scores from already closed triangles (in train set)')\n",
    "hist, bins = np.histogram(already_closed_triangles_dist, bins = 10)\n",
    "bin_width = bins[1] - bins[0]\n",
    "plt.bar(bins[:-1], hist, width = 0.88*bin_width)\n",
    "plt.title('Histogram of perimeters from already closed triangles (in the train set)')\n",
    "plt.ylabel(\"Count\")\n",
    "plt.xlabel(\"Scores\")\n",
    "plt.show()"
   ]
  },
  {
   "cell_type": "code",
   "execution_count": 24,
   "metadata": {},
   "outputs": [
    {
     "data": {
      "application/vnd.jupyter.widget-view+json": {
       "model_id": "aab5248a84074751bfe931acabdab592",
       "version_major": 2,
       "version_minor": 0
      },
      "text/plain": [
       "HBox(children=(IntProgress(value=0, max=685), HTML(value='')))"
      ]
     },
     "metadata": {},
     "output_type": "display_data"
    },
    {
     "name": "stdout",
     "output_type": "stream",
     "text": [
      "\n",
      "685\n",
      "Histogram of perimeters of future close triangles\n"
     ]
    },
    {
     "data": {
      "image/png": "[encoded data removed]",
      "text/plain": [
       "<Figure size 576x396 with 1 Axes>"
      ]
     },
     "metadata": {},
     "output_type": "display_data"
    }
   ],
   "source": [
    "# future_close_triangles_dist = []\n",
    "# for t in tqdm_notebook(closed_from_test):\n",
    "#     distance_scores = []\n",
    "    \n",
    "#     for u,v in itertools.combinations(t,2):\n",
    "#         uf = str(u)\n",
    "#         vf = str(v)\n",
    "#         distance_scores.append(model.wv.similarity(uf,vf))\n",
    "#     future_close_triangles_dist.append(np.sum(distance_scores))\n",
    "\n",
    "# print(len(future_close_triangles_dist))\n",
    "\n",
    "plt.figure(figsize = (4,3), dpi = 96)\n",
    "print('Histogram of scores of triangles that close in the test set')\n",
    "hist, bins = np.histogram(future_close_triangles_dist, bins = 10)\n",
    "bin_width = bins[1] - bins[0]\n",
    "plt.bar(bins[:-1], hist, width = 0.88*bin_width)\n",
    "plt.ylabel(\"Count\")\n",
    "plt.xlabel(\"Scores\")\n",
    "plt.show()"
   ]
  },
  {
   "cell_type": "code",
   "execution_count": 95,
   "metadata": {},
   "outputs": [
    {
     "data": {
      "application/vnd.jupyter.widget-view+json": {
       "model_id": "20f12ea32e15424b840bd772883377bc",
       "version_major": 2,
       "version_minor": 0
      },
      "text/plain": [
       "HBox(children=(IntProgress(value=0, max=79762), HTML(value='')))"
      ]
     },
     "metadata": {},
     "output_type": "display_data"
    },
    {
     "name": "stdout",
     "output_type": "stream",
     "text": [
      "\n",
      "79762\n",
      "Histogram of perimeters of still open triangles\n"
     ]
    },
    {
     "data": {
      "image/png": "[encoded data removed]",
      "text/plain": [
       "<Figure size 432x288 with 1 Axes>"
      ]
     },
     "metadata": {
      "needs_background": "light"
     },
     "output_type": "display_data"
    }
   ],
   "source": [
    "# future_open_triangles_dist = []\n",
    "# for t in tqdm_notebook(open_from_test):\n",
    "#     distance_scores = []\n",
    "#     for u,v in itertools.combinations(t,2):\n",
    "#         uf = str(u)\n",
    "#         vf = str(v)\n",
    "#         distance_scores.append(model.wv.similarity(uf,vf))\n",
    "#     future_open_triangles_dist.append(np.sum(distance_scores))\n",
    "\n",
    "# print(len(future_open_triangles_dist))\n",
    "\n",
    "plt.figure(figsize = (4,3), dpi = 96)\n",
    "print('Histogram of perimeters of still open triangles')\n",
    "hist, bins = np.histogram(future_open_triangles_dist, bins = 10)\n",
    "bin_width = bins[1] - bins[0]\n",
    "plt.bar(bins[:-1], hist, width = 0.88*bin_width)\n",
    "plt.ylabel(\"Count\")\n",
    "plt.xlabel(\"Scores\")\n",
    "plt.show()"
   ]
  },
  {
   "cell_type": "markdown",
   "metadata": {},
   "source": [
    "# Scoring the closing triangles - v1\n",
    "\n",
    "Now we test the predictive model based on cosine similarity. The idea is simple: if an open triangle has all nodes that have high cosine similarity to each other, then this triangle is highly likely to close in future. We use simple sum of all three similarities as a decision function.\n",
    "\n",
    "In v1 we use the similarity of pairs of nodes in a triangle."
   ]
  },
  {
   "cell_type": "code",
   "execution_count": 25,
   "metadata": {},
   "outputs": [
    {
     "data": {
      "application/vnd.jupyter.widget-view+json": {
       "model_id": "8859846a3641474f8dc0eac090a23ae8",
       "version_major": 2,
       "version_minor": 0
      },
      "text/plain": [
       "HBox(children=(IntProgress(value=0, max=80447), HTML(value='')))"
      ]
     },
     "metadata": {},
     "output_type": "display_data"
    },
    {
     "name": "stdout",
     "output_type": "stream",
     "text": [
      "\n",
      "80447\n"
     ]
    }
   ],
   "source": [
    "from sklearn.metrics import precision_recall_curve, auc, f1_score\n",
    "closure_similarity = []\n",
    "for t in tqdm_notebook(open_train):\n",
    "    similarity_scores = []\n",
    "    for u,v in itertools.combinations(t,2):\n",
    "        uf = str(u)\n",
    "        vf = str(v)\n",
    "        similarity_scores.append(model.wv.similarity(uf,vf))\n",
    "    closure_similarity.append(np.mean(similarity_scores))\n",
    "  \n",
    "print(len(closure_similarity))"
   ]
  },
  {
   "cell_type": "code",
   "execution_count": 57,
   "metadata": {},
   "outputs": [
    {
     "name": "stdout",
     "output_type": "stream",
     "text": [
      "AUCPR RND: 0.008514922868472408 | AUCPR S2V: 0.02062762803160088\n",
      "Ratio as in Kleinberg --  AUCPR S2V/AUCPR RND : 2.422526704026564\n"
     ]
    },
    {
     "data": {
      "image/png": "[encoded data removed]",
      "text/plain": [
       "<Figure size 384x288 with 1 Axes>"
      ]
     },
     "metadata": {},
     "output_type": "display_data"
    }
   ],
   "source": [
    "s2v_precision, s2v_recall, _ = precision_recall_curve(y_true, closure_similarity)\n",
    "null_recall = np.linspace(0,1,len(prediction_null_model))\n",
    "\n",
    "aucpr_null = auc(null_recall, prediction_null_model)\n",
    "aucpr_s2v = auc(s2v_recall, s2v_precision)\n",
    "\n",
    "print(\"AUCPR RND: {} | AUCPR S2V: {}\".format(aucpr_null, aucpr_s2v))\n",
    "kleinberg_ratio = aucpr_s2v/aucpr_null\n",
    "print(\"Ratio as in Kleinberg --  AUCPR S2V/AUCPR RND :\", kleinberg_ratio)\n",
    "\n",
    "plt.figure(figsize = (4,3), dpi = 96)\n",
    "plt.title(\"Primary-school, PR curve, \\n sum pairwise similarity\")\n",
    "plt.plot(null_recall, prediction_null_model)\n",
    "plt.plot(s2v_recall, s2v_precision)\n",
    "\n",
    "ax = plt.gca()\n",
    "plt_label = \"AUCPR S2V/AUCPR RND : {}\".format(round(kleinberg_ratio,2))\n",
    "text_params = {'ha': 'center', 'va': 'center', 'family': 'sans-serif',\n",
    "                   'fontweight': 'bold', \"size\": 10}\n",
    "plt.text(0.6,0.9, plt_label, color = \"white\", \n",
    "         bbox=dict(facecolor='black', alpha=0.8), transform=ax.transAxes, **text_params)\n",
    "plt.show()"
   ]
  },
  {
   "cell_type": "markdown",
   "metadata": {},
   "source": [
    "# Scoring the closing triangles - v2\n",
    "\n",
    "In v2 we use sum of all average pairwise similarities of simplices that pass through the edges that constitute a triangle. The results a disappointing as well."
   ]
  },
  {
   "cell_type": "code",
   "execution_count": 55,
   "metadata": {},
   "outputs": [
    {
     "data": {
      "application/vnd.jupyter.widget-view+json": {
       "model_id": "6daec4fbfc9c432880c3f52033be4316",
       "version_major": 2,
       "version_minor": 0
      },
      "text/plain": [
       "HBox(children=(IntProgress(value=0, max=80447), HTML(value='')))"
      ]
     },
     "metadata": {},
     "output_type": "display_data"
    },
    {
     "name": "stdout",
     "output_type": "stream",
     "text": [
      "\n",
      "80447\n",
      "Histogram of scores of open train triangles\n"
     ]
    },
    {
     "data": {
      "image/png": "[encoded data removed]",
      "text/plain": [
       "<Figure size 384x288 with 1 Axes>"
      ]
     },
     "metadata": {},
     "output_type": "display_data"
    }
   ],
   "source": [
    "# All open triangles from the train set\n",
    "from scipy.stats.mstats import gmean\n",
    "from scipy.stats import hmean\n",
    "\n",
    "mega_closure_similarity = []\n",
    "for t in tqdm_notebook(list(open_train)):\n",
    "    similarity_scores = []\n",
    "    triangle_edges = [\",\".join([str(u), str(v)]) for u,v in itertools.combinations(t,2)]\n",
    "\n",
    "    for u, v in itertools.combinations(list(t),2):\n",
    "        passing_simplices = g_train[u][v][\"simplices\"]\n",
    "        passing_simplices_similarities = []\n",
    "        for s1,s2 in itertools.combinations(passing_simplices,2):\n",
    "            s1_int = sorted([int(x) for x in list(s1)])\n",
    "            s1_model = \",\".join([str(x) for x in s1_int])\n",
    "            s2_int = sorted([int(x) for x in list(s2)])\n",
    "            s2_model = \",\".join([str(x) for x in s2_int])\n",
    "            sim_score = model.wv.similarity(s1_model,s2_model)\n",
    "            if sim_score < 0:\n",
    "                sim_score = 0\n",
    "            passing_simplices_similarities.append(sim_score)\n",
    "        if len(passing_simplices_similarities):\n",
    "            similarity_scores.append(np.mean(passing_simplices_similarities))\n",
    "        else:\n",
    "            similarity_scores.append(0)\n",
    "    mega_closure_similarity.append(np.sum(similarity_scores))\n",
    "print(len(mega_closure_similarity))\n",
    "\n",
    "plt.figure(figsize = (4,3), dpi = 96)\n",
    "print('Histogram of scores of open train triangles')\n",
    "hist, bins = np.histogram(mega_closure_similarity, bins = 10)\n",
    "bin_width = bins[1] - bins[0]\n",
    "plt.bar(bins[:-1], hist, width = 0.88*bin_width)\n",
    "plt.show()"
   ]
  },
  {
   "cell_type": "code",
   "execution_count": 54,
   "metadata": {},
   "outputs": [
    {
     "data": {
      "application/vnd.jupyter.widget-view+json": {
       "model_id": "b479e583de56408cb69fa52c30af75ef",
       "version_major": 2,
       "version_minor": 0
      },
      "text/plain": [
       "HBox(children=(IntProgress(value=0, max=685), HTML(value='')))"
      ]
     },
     "metadata": {},
     "output_type": "display_data"
    },
    {
     "name": "stdout",
     "output_type": "stream",
     "text": [
      "\n",
      "685\n",
      "Histogram of scores of triangles that close in the test set\n"
     ]
    },
    {
     "data": {
      "image/png": "[encoded data removed]",
      "text/plain": [
       "<Figure size 384x288 with 1 Axes>"
      ]
     },
     "metadata": {},
     "output_type": "display_data"
    }
   ],
   "source": [
    "# Only those triangles which further close\n",
    "future_close_triangles_dist = []\n",
    "for t in tqdm_notebook(closed_from_test):\n",
    "    similarity_scores = []\n",
    "    triangle_edges = [\",\".join([str(u), str(v)]) for u,v in itertools.combinations(t,2)]\n",
    "    for u, v in itertools.combinations(list(t),2):\n",
    "        passing_simplices = g_train[u][v][\"simplices\"]\n",
    "        passing_simplices_similarities = []\n",
    "        for s1,s2 in itertools.combinations(passing_simplices,2):\n",
    "            s1_int = sorted([int(x) for x in list(s1)])\n",
    "            s1_model = \",\".join([str(x) for x in s1_int])\n",
    "            s2_int = sorted([int(x) for x in list(s2)])\n",
    "            s2_model = \",\".join([str(x) for x in s2_int])\n",
    "            passing_simplices_similarities.append(model.wv.similarity(s1_model,s2_model))\n",
    "        if len(passing_simplices_similarities):\n",
    "            similarity_scores.append(np.mean(passing_simplices_similarities))\n",
    "        else:\n",
    "            similarity_scores.append(0)\n",
    "    future_close_triangles_dist.append(np.sum(similarity_scores))\n",
    "print(len(future_close_triangles_dist))\n",
    "\n",
    "plt.figure(figsize = (4,3), dpi = 96)\n",
    "print('Histogram of scores of triangles that close in the test set')\n",
    "hist, bins = np.histogram(future_close_triangles_dist, bins = 10)\n",
    "bin_width = bins[1] - bins[0]\n",
    "plt.bar(bins[:-1], hist, width = 0.88*bin_width)\n",
    "plt.show()"
   ]
  },
  {
   "cell_type": "code",
   "execution_count": 53,
   "metadata": {},
   "outputs": [
    {
     "name": "stdout",
     "output_type": "stream",
     "text": [
      "Histogram of perimeters of triangles, open in train set\n",
      "Histogram of scores of triangles that close in the test set\n"
     ]
    },
    {
     "data": {
      "image/png": "[encoded data removed]",
      "text/plain": [
       "<Figure size 480x360 with 1 Axes>"
      ]
     },
     "metadata": {},
     "output_type": "display_data"
    }
   ],
   "source": [
    "plt.figure(figsize = (4,3), dpi = 120)\n",
    "\n",
    "print('Histogram of perimeters of triangles, open in train set')\n",
    "hist, bins = np.histogram(mega_closure_similarity, bins = 10, density=True)\n",
    "bin_width = bins[1] - bins[0]\n",
    "plt.bar(bins[:-1], hist, width = 0.88*bin_width, color = \"C2\", label = \"All open test triangles\", alpha = 0.9)\n",
    "\n",
    "print('Histogram of scores of triangles that close in the test set')\n",
    "hist, bins = np.histogram(np.array(future_close_triangles_dist), bins = 10, density=True)\n",
    "bin_width = bins[1] - bins[0]\n",
    "plt.bar(bins[:-1], hist, width = 0.88*bin_width, color = \"C0\", label = \"Triangles that further close\", alpha = 0.7)\n",
    "plt.legend(loc = \"best\")\n",
    "plt.ylabel(\"Density\")\n",
    "plt.xlabel(\"Scores\")\n",
    "plt.title(\"Histogram of mega scores for all open\\n triangles and those which eventually close\")\n",
    "plt.show()"
   ]
  },
  {
   "cell_type": "code",
   "execution_count": 50,
   "metadata": {},
   "outputs": [
    {
     "name": "stdout",
     "output_type": "stream",
     "text": [
      "AUCPR RND: 0.008514922868472408 | AUCPR S2V: 0.027337825754392246\n",
      "Ratio as in Kleinberg --  AUCPR S2V/AUCPR RND : 3.210578202136633\n"
     ]
    },
    {
     "data": {
      "image/png": "[encoded data removed]",
      "text/plain": [
       "<Figure size 384x288 with 1 Axes>"
      ]
     },
     "metadata": {},
     "output_type": "display_data"
    }
   ],
   "source": [
    "s2v_precision, s2v_recall, _ = precision_recall_curve(y_true, mega_closure_similarity)\n",
    "\n",
    "null_recall = np.linspace(0,1,len(prediction_null_model))\n",
    "aucpr_null = auc(null_recall, prediction_null_model)\n",
    "aucpr_s2v = auc(s2v_recall, s2v_precision)\n",
    "\n",
    "print(\"AUCPR RND: {} | AUCPR S2V: {}\".format(aucpr_null, aucpr_s2v))\n",
    "kleinberg_ratio = aucpr_s2v/aucpr_null\n",
    "print(\"Ratio as in Kleinberg --  AUCPR S2V/AUCPR RND :\", kleinberg_ratio)\n",
    "\n",
    "plt.figure(figsize = (4,3), dpi = 96)\n",
    "plt.plot(null_recall, prediction_null_model)\n",
    "plt.plot(s2v_recall, s2v_precision)\n",
    "plt.title(\"Primary-school, PR curve, Mega score\")\n",
    "\n",
    "ax = plt.gca()\n",
    "plt_label = \"AUCPR S2V/AUCPR RND : {}\".format(round(kleinberg_ratio,2))\n",
    "text_params = {'ha': 'center', 'va': 'center', 'family': 'sans-serif',\n",
    "                   'fontweight': 'bold', \"size\": 10}\n",
    "plt.text(0.6,0.9, plt_label, color = \"white\", \n",
    "         bbox=dict(facecolor='black', alpha=0.8), transform=ax.transAxes, **text_params)\n",
    "\n",
    "plt.show()"
   ]
  },
  {
   "cell_type": "code",
   "execution_count": 89,
   "metadata": {},
   "outputs": [],
   "source": [
    "for clos_sim, y_t in list(zip(closure_similarity, y_true)):\n",
    "    if clos_sim > 2.3:\n",
    "        print(round(clos_sim, 2), y_t)"
   ]
  },
  {
   "cell_type": "markdown",
   "metadata": {},
   "source": [
    "# Kleinberg Geometric mean "
   ]
  },
  {
   "cell_type": "code",
   "execution_count": 32,
   "metadata": {},
   "outputs": [
    {
     "data": {
      "application/vnd.jupyter.widget-view+json": {
       "model_id": "7b28eb0e7f874ae2818ad1b1a5c20947",
       "version_major": 2,
       "version_minor": 0
      },
      "text/plain": [
       "HBox(children=(IntProgress(value=0, max=80447), HTML(value='')))"
      ]
     },
     "metadata": {},
     "output_type": "display_data"
    },
    {
     "name": "stdout",
     "output_type": "stream",
     "text": [
      "\n"
     ]
    }
   ],
   "source": [
    "from scipy.stats.mstats import gmean\n",
    "\n",
    "geom_mean_similarity = []\n",
    "for t in tqdm_notebook(open_train):\n",
    "    similarity_scores = []\n",
    "    for u,v in itertools.combinations(t,2):\n",
    "        similarity_scores.append(len(g_train[u][v][\"simplices\"]))\n",
    "    geom_mean_similarity.append(gmean(similarity_scores))"
   ]
  },
  {
   "cell_type": "code",
   "execution_count": 51,
   "metadata": {},
   "outputs": [
    {
     "name": "stdout",
     "output_type": "stream",
     "text": [
      "AUCPR RND: 0.008514922868472408 | AUCPR S2V: 0.03841881723955051\n",
      "Ratio as in Kleinberg --  AUCPR S2V/AUCPR RND : 4.511939548131563\n"
     ]
    },
    {
     "data": {
      "image/png": "[encoded data removed]",
      "text/plain": [
       "<Figure size 384x288 with 1 Axes>"
      ]
     },
     "metadata": {},
     "output_type": "display_data"
    }
   ],
   "source": [
    "s2v_precision, s2v_recall, _ = precision_recall_curve(y_true, geom_mean_similarity)\n",
    "\n",
    "null_recall = np.linspace(0,1,len(prediction_null_model))\n",
    "aucpr_null = auc(null_recall, prediction_null_model)\n",
    "aucpr_s2v = auc(s2v_recall, s2v_precision)\n",
    "\n",
    "print(\"AUCPR RND: {} | AUCPR S2V: {}\".format(aucpr_null, aucpr_s2v))\n",
    "kleinberg_ratio = aucpr_s2v/aucpr_null\n",
    "print(\"Ratio as in Kleinberg --  AUCPR S2V/AUCPR RND :\", kleinberg_ratio)\n",
    "\n",
    "plt.figure(figsize = (4,3), dpi = 96)\n",
    "plt.plot(null_recall, prediction_null_model)\n",
    "plt.plot(s2v_recall, s2v_precision)\n",
    "plt.title(\"Primary-school, PR curve, Geometric mean predictor\")\n",
    "\n",
    "ax = plt.gca()\n",
    "plt_label = \"AUCPR S2V/AUCPR RND : {}\".format(round(kleinberg_ratio,2))\n",
    "text_params = {'ha': 'center', 'va': 'center', 'family': 'sans-serif',\n",
    "                   'fontweight': 'bold', \"size\": 10}\n",
    "plt.text(0.6,0.9, plt_label, color = \"white\", \n",
    "         bbox=dict(facecolor='black', alpha=0.8), transform=ax.transAxes, **text_params)\n",
    "\n",
    "plt.show()"
   ]
  },
  {
   "cell_type": "code",
   "execution_count": 35,
   "metadata": {},
   "outputs": [
    {
     "data": {
      "application/vnd.jupyter.widget-view+json": {
       "model_id": "1062464129094791b91db278bbd3f3db",
       "version_major": 2,
       "version_minor": 0
      },
      "text/plain": [
       "HBox(children=(IntProgress(value=0, max=685), HTML(value='')))"
      ]
     },
     "metadata": {},
     "output_type": "display_data"
    },
    {
     "name": "stdout",
     "output_type": "stream",
     "text": [
      "\n"
     ]
    }
   ],
   "source": [
    "from scipy.stats.mstats import gmean\n",
    "\n",
    "future_close_geom_mean_similarity = []\n",
    "for t in tqdm_notebook(closed_from_test):\n",
    "    similarity_scores = []\n",
    "    for u,v in itertools.combinations(t,2):\n",
    "        similarity_scores.append(len(g_train[u][v][\"simplices\"]))\n",
    "    future_close_geom_mean_similarity.append(gmean(similarity_scores))"
   ]
  },
  {
   "cell_type": "code",
   "execution_count": 36,
   "metadata": {},
   "outputs": [
    {
     "name": "stdout",
     "output_type": "stream",
     "text": [
      "Geometric mean Kleinberg of open train triangles\n",
      "Geometric mean Kleinberg of future close triangles\n"
     ]
    },
    {
     "data": {
      "image/png": "[encoded data removed]",
      "text/plain": [
       "<Figure size 720x480 with 1 Axes>"
      ]
     },
     "metadata": {},
     "output_type": "display_data"
    }
   ],
   "source": [
    "plt.figure(figsize = (6,4), dpi = 120)\n",
    "\n",
    "print('Geometric mean Kleinberg of open train triangles')\n",
    "hist, bins = np.histogram(geom_mean_similarity, bins = 10, density=True)\n",
    "bin_width = bins[1] - bins[0]\n",
    "plt.bar(bins[:-1], hist, width = 0.88*bin_width, color = \"C2\", label = \"All open test triangles\", alpha = 0.9)\n",
    "\n",
    "print('Geometric mean Kleinberg of future close triangles')\n",
    "hist, bins = np.histogram(future_close_geom_mean_similarity, bins = 10, density=True)\n",
    "bin_width = bins[1] - bins[0]\n",
    "plt.bar(bins[:-1], hist, width = 0.88*bin_width, color = \"C0\", label = \"Triangles that further close\", alpha = 0.7)\n",
    "plt.legend(loc = \"best\")\n",
    "plt.show()"
   ]
  },
  {
   "cell_type": "code",
   "execution_count": null,
   "metadata": {},
   "outputs": [],
   "source": []
  }
 ],
 "metadata": {
  "kernelspec": {
   "display_name": "Python 3",
   "language": "python",
   "name": "python3"
  },
  "language_info": {
   "codemirror_mode": {
    "name": "ipython",
    "version": 3
   },
   "file_extension": ".py",
   "mimetype": "text/x-python",
   "name": "python",
   "nbconvert_exporter": "python",
   "pygments_lexer": "ipython3",
   "version": "3.5.3"
  }
 },
 "nbformat": 4,
 "nbformat_minor": 2
}
