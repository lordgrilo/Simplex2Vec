{
 "cells": [
  {
   "cell_type": "code",
   "execution_count": 1,
   "metadata": {},
   "outputs": [],
   "source": [
    "import math\n",
    "import numpy as np\n",
    "import matplotlib.pyplot as plt\n",
    "import networkx as nx\n",
    "import pickle\n",
    "import json\n",
    "import itertools\n",
    "from tqdm import tqdm_notebook\n",
    "from IPython.display import clear_output\n",
    "from sklearn.metrics import average_precision_score, roc_auc_score, auc, f1_score\n",
    "\n",
    "from kleinberg_experiment import *\n",
    "plt.style.use('seaborn')"
   ]
  },
  {
   "cell_type": "markdown",
   "metadata": {},
   "source": [
    "# Upload the data into memory"
   ]
  },
  {
   "cell_type": "markdown",
   "metadata": {},
   "source": [
    "We use the dataset of primary school contacts first (from Sociopatterns). We use the dataset provided by Kleinberg et al. Below we upload the simplices to the memory."
   ]
  },
  {
   "cell_type": "code",
   "execution_count": 2,
   "metadata": {},
   "outputs": [],
   "source": [
    "dataset = \"contact-primary-school\"\n",
    "dataset = \"contact-high-school\"\n",
    "data_dir = \"./data/kleinberg/{}/\".format(dataset)\n",
    "simplex_file = \"{}-simplices.txt\".format(dataset)\n",
    "size_file = \"{}-nverts.txt\".format(dataset)\n",
    "\n",
    "simplexf = open(data_dir + simplex_file, 'r')\n",
    "sizef = open(data_dir + size_file, 'r')"
   ]
  },
  {
   "cell_type": "code",
   "execution_count": 3,
   "metadata": {},
   "outputs": [
    {
     "data": {
      "application/vnd.jupyter.widget-view+json": {
       "model_id": "75eb87889a6c4378ad709fc31f9acdbb",
       "version_major": 2,
       "version_minor": 0
      },
      "text/plain": [
       "HBox(children=(IntProgress(value=1, bar_style='info', max=1), HTML(value='')))"
      ]
     },
     "metadata": {},
     "output_type": "display_data"
    },
    {
     "name": "stdout",
     "output_type": "stream",
     "text": [
      "\n"
     ]
    }
   ],
   "source": [
    "simplex_sizes = []\n",
    "for s in tqdm_notebook(sizef):\n",
    "    ss = s.strip()\n",
    "    simplex_sizes.append(int(ss))"
   ]
  },
  {
   "cell_type": "code",
   "execution_count": 4,
   "metadata": {},
   "outputs": [
    {
     "data": {
      "application/vnd.jupyter.widget-view+json": {
       "model_id": "a454ab283b2d4ef28bd2bd8c821b8167",
       "version_major": 2,
       "version_minor": 0
      },
      "text/plain": [
       "HBox(children=(IntProgress(value=0, max=172035), HTML(value='')))"
      ]
     },
     "metadata": {},
     "output_type": "display_data"
    },
    {
     "name": "stdout",
     "output_type": "stream",
     "text": [
      "\n",
      "Exceptions: 0\n"
     ]
    }
   ],
   "source": [
    "node_list = set([])\n",
    "simplex_list = []\n",
    "exceptions = []\n",
    "cut_size = 1000000\n",
    "for s in tqdm_notebook(simplex_sizes):\n",
    "    one_simplex = []\n",
    "    for i in range(s):\n",
    "        rl = simplexf.readline()\n",
    "        n = rl.strip()\n",
    "        try:\n",
    "            one_simplex.append(int(n))\n",
    "            node_list.add(int(n))\n",
    "        except:\n",
    "            exceptions.append(rl)\n",
    "    simplex_list.append(frozenset(one_simplex))\n",
    "    if len(simplex_list) > cut_size:\n",
    "        break\n",
    "print(\"Exceptions:\", len(exceptions))"
   ]
  },
  {
   "cell_type": "markdown",
   "metadata": {},
   "source": [
    "Kleinberg's sets their experiment as follows. On the first 80% of data they find the set of *open* triangles, i.e. the triangles in the projected graph (the one you obtain by projecting all interactions) which have all edges participating in some cliques, but not all three together in one clique. \n",
    "\n",
    "Then on the test set, they make a prediction  which open triangles from the test set will close (there will appear a clique containing this triangle). \n",
    "\n",
    "They compare their prediction with random null model, where each clique has independent probability to close which is equal to the number of closed triangles/total number of open triangles. \n",
    "\n",
    "The measure they compare is the AUC PR (area under the precision-recall curve), relative to AUC PR of the random null model. "
   ]
  },
  {
   "cell_type": "markdown",
   "metadata": {},
   "source": [
    "# Find open triangles"
   ]
  },
  {
   "cell_type": "markdown",
   "metadata": {},
   "source": [
    "Split the set of all simplices to train set (first 80%) and test set (rest 20%)."
   ]
  },
  {
   "cell_type": "code",
   "execution_count": 5,
   "metadata": {},
   "outputs": [],
   "source": [
    "threshold = int(0.8*len(simplex_list))\n",
    "train_simplices = simplex_list[:threshold]\n",
    "test_simplices = simplex_list[threshold:]"
   ]
  },
  {
   "cell_type": "markdown",
   "metadata": {},
   "source": [
    "Find all closed and open triangles in the train and test set"
   ]
  },
  {
   "cell_type": "code",
   "execution_count": 6,
   "metadata": {},
   "outputs": [
    {
     "data": {
      "application/vnd.jupyter.widget-view+json": {
       "model_id": "1914e7d8d7d8433bb52f50ace64ec274",
       "version_major": 2,
       "version_minor": 0
      },
      "text/plain": [
       "HBox(children=(IntProgress(value=0, max=137628), HTML(value='')))"
      ]
     },
     "metadata": {},
     "output_type": "display_data"
    },
    {
     "name": "stdout",
     "output_type": "stream",
     "text": [
      "\n",
      "Name: \n",
      "Type: Graph\n",
      "Number of nodes: 327\n",
      "Number of edges: 5225\n",
      "Average degree:  31.9572\n"
     ]
    },
    {
     "data": {
      "application/vnd.jupyter.widget-view+json": {
       "model_id": "8d02c8660ca947c5850b8f4068dace17",
       "version_major": 2,
       "version_minor": 0
      },
      "text/plain": [
       "HBox(children=(IntProgress(value=0, max=327), HTML(value='')))"
      ]
     },
     "metadata": {},
     "output_type": "display_data"
    },
    {
     "name": "stdout",
     "output_type": "stream",
     "text": [
      "\n",
      "Open: 25056, Closed: 2050\n"
     ]
    }
   ],
   "source": [
    "g_train = get_projected_graph(train_simplices, info = True)\n",
    "open_train, closed_train = get_open_closed_triangles(g_train, info = True)"
   ]
  },
  {
   "cell_type": "code",
   "execution_count": 7,
   "metadata": {},
   "outputs": [
    {
     "data": {
      "application/vnd.jupyter.widget-view+json": {
       "model_id": "15f455e6a33b4c3c9c4b03dc7c61882b",
       "version_major": 2,
       "version_minor": 0
      },
      "text/plain": [
       "HBox(children=(IntProgress(value=0, max=172035), HTML(value='')))"
      ]
     },
     "metadata": {},
     "output_type": "display_data"
    },
    {
     "name": "stdout",
     "output_type": "stream",
     "text": [
      "\n",
      "Name: \n",
      "Type: Graph\n",
      "Number of nodes: 327\n",
      "Number of edges: 5818\n",
      "Average degree:  35.5841\n"
     ]
    },
    {
     "data": {
      "application/vnd.jupyter.widget-view+json": {
       "model_id": "e00dd703ba50412e878578a3b6b98627",
       "version_major": 2,
       "version_minor": 0
      },
      "text/plain": [
       "HBox(children=(IntProgress(value=0, max=327), HTML(value='')))"
      ]
     },
     "metadata": {},
     "output_type": "display_data"
    },
    {
     "name": "stdout",
     "output_type": "stream",
     "text": [
      "\n",
      "Open: 31850, Closed: 2370\n"
     ]
    }
   ],
   "source": [
    "g_total = get_projected_graph(simplex_list, info = True)\n",
    "open_total, closed_total = get_open_closed_triangles(g_total, info = True)"
   ]
  },
  {
   "cell_type": "markdown",
   "metadata": {},
   "source": [
    "Look which triangles have closed"
   ]
  },
  {
   "cell_type": "code",
   "execution_count": 8,
   "metadata": {},
   "outputs": [
    {
     "name": "stdout",
     "output_type": "stream",
     "text": [
      "201\n"
     ]
    }
   ],
   "source": [
    "closed_test = [t for t in closed_total if t in open_train]\n",
    "print(len(closed_test))"
   ]
  },
  {
   "cell_type": "code",
   "execution_count": 9,
   "metadata": {},
   "outputs": [
    {
     "name": "stdout",
     "output_type": "stream",
     "text": [
      "25056\n",
      "201.00000000009123\n"
     ]
    }
   ],
   "source": [
    "y_test = [1 if t in closed_test else 0 for t in open_train]\n",
    "print(len(y_test))\n",
    "y_rnd_prob = [len(closed_test)/len(open_train)]*len(y_test)\n",
    "print(sum(y_rnd_prob))"
   ]
  },
  {
   "cell_type": "markdown",
   "metadata": {},
   "source": [
    "# Simplex2Vec  test\n",
    "\n",
    "Launch and train the Simplex2Vec model. "
   ]
  },
  {
   "cell_type": "code",
   "execution_count": 11,
   "metadata": {},
   "outputs": [
    {
     "data": {
      "application/vnd.jupyter.widget-view+json": {
       "model_id": "ba9be96539c14996865c4fd57fcf4f44",
       "version_major": 2,
       "version_minor": 0
      },
      "text/plain": [
       "HBox(children=(IntProgress(value=0, description='Creating Hasse diagram', max=6918, style=ProgressStyle(descri…"
      ]
     },
     "metadata": {},
     "output_type": "display_data"
    },
    {
     "name": "stdout",
     "output_type": "stream",
     "text": [
      "\n",
      "Name: \n",
      "Type: Graph\n",
      "Number of nodes: 7827\n",
      "Number of edges: 17507\n",
      "Average degree:   4.4735\n"
     ]
    }
   ],
   "source": [
    "import clusim.sim as sim\n",
    "from clusim.clustering import Clustering\n",
    "from sklearn.cluster import KMeans, DBSCAN, AgglomerativeClustering\n",
    "from sklearn.manifold import TSNE\n",
    "\n",
    "from Simplex2Vec.Simplex2Vec import Simplex2Vec\n",
    "from Simplex2Vec.utils import check_prediction\n",
    "from Simplex2Vec.utils import read_simplex_json\n",
    "from Simplex2Vec.simplex2hasse import simplex2hasse_HOexponential\n",
    "\n",
    "\n",
    "g_hasse = simplex2hasse_HOexponential(train_simplices, max_order=5)\n",
    "print(nx.info(g_hasse))"
   ]
  },
  {
   "cell_type": "code",
   "execution_count": 12,
   "metadata": {},
   "outputs": [
    {
     "data": {
      "application/vnd.jupyter.widget-view+json": {
       "model_id": "a693714ba7714894a927c96dfc370207",
       "version_major": 2,
       "version_minor": 0
      },
      "text/plain": [
       "HBox(children=(IntProgress(value=0, description='Precomputing probabilities', max=7827, style=ProgressStyle(de…"
      ]
     },
     "metadata": {},
     "output_type": "display_data"
    },
    {
     "name": "stdout",
     "output_type": "stream",
     "text": [
      "\n",
      " "
     ]
    },
    {
     "data": {
      "application/vnd.jupyter.widget-view+json": {
       "model_id": "9c6489d7711e4a4fac0e37b4ff9c32eb",
       "version_major": 2,
       "version_minor": 0
      },
      "text/plain": [
       "HBox(children=(IntProgress(value=0, description='Generating walks : CPU: 0', max=2609, style=ProgressStyle(des…"
      ]
     },
     "metadata": {},
     "output_type": "display_data"
    },
    {
     "name": "stdout",
     "output_type": "stream",
     "text": [
      " "
     ]
    },
    {
     "data": {
      "application/vnd.jupyter.widget-view+json": {
       "model_id": "e28db46a08cb4bb08f53e75bf74af4f9",
       "version_major": 2,
       "version_minor": 0
      },
      "text/plain": [
       "HBox(children=(IntProgress(value=0, description='Generating walks : CPU: 1', max=2609, style=ProgressStyle(des…"
      ]
     },
     "metadata": {},
     "output_type": "display_data"
    },
    {
     "name": "stdout",
     "output_type": "stream",
     "text": [
      " "
     ]
    },
    {
     "data": {
      "application/vnd.jupyter.widget-view+json": {
       "model_id": "0b4ddb073ae84f41946ff80b423e39ec",
       "version_major": 2,
       "version_minor": 0
      },
      "text/plain": [
       "HBox(children=(IntProgress(value=0, description='Generating walks : CPU: 2', max=2609, style=ProgressStyle(des…"
      ]
     },
     "metadata": {},
     "output_type": "display_data"
    },
    {
     "name": "stdout",
     "output_type": "stream",
     "text": [
      "\n",
      "\n",
      "\n",
      "DONE!\n"
     ]
    }
   ],
   "source": [
    "s2v = Simplex2Vec.from_hasse_diagram(g_hasse, p = 10**10, n_walks=10, \n",
    "                                     walk_length=120, workers = 3)"
   ]
  },
  {
   "cell_type": "code",
   "execution_count": 13,
   "metadata": {
    "scrolled": true
   },
   "outputs": [
    {
     "name": "stdout",
     "output_type": "stream",
     "text": [
      "Fitting the Word2Vec..\n",
      "Epoch 0 - Model loss: 2164697.25\n",
      "Epoch 1 - Model loss: 3064335.5\n",
      "Epoch 2 - Model loss: 3836878.75\n"
     ]
    }
   ],
   "source": [
    "class EpochShowLoss():\n",
    "    '''Callback to show training loss after each epoch '''\n",
    "\n",
    "    def __init__(self):\n",
    "        self.epoch = 0\n",
    "    \n",
    "    def on_train_begin(self, model):\n",
    "        pass\n",
    "    def on_train_end(self, model):\n",
    "        pass\n",
    "    def on_epoch_begin(self, model):\n",
    "        pass\n",
    "    def on_batch_begin(self, model):\n",
    "        pass\n",
    "    def on_batch_end(self, model):\n",
    "        pass\n",
    "        \n",
    "    def on_epoch_end(self, model):\n",
    "        print(\"Epoch {} - Model loss: {}\".format(self.epoch,\n",
    "                                              model.get_latest_training_loss()))\n",
    "        model_loss.append((self.epoch, model.get_latest_training_loss()))\n",
    "        self.epoch += 1\n",
    "model_loss = []\n",
    "model = s2v.fit(iter = 3, callbacks = [EpochShowLoss()])\n",
    "# for _ in range(1):  \n",
    "#     model = s2v.refit(epochs = 1, callbacks = [EpochShowLoss()])\n",
    "    "
   ]
  },
  {
   "cell_type": "markdown",
   "metadata": {},
   "source": [
    "## Plot the embedding\n",
    "\n",
    "Extract the embedding vectors for nodes or edges and plot it on the plane using tSNE embedding."
   ]
  },
  {
   "cell_type": "code",
   "execution_count": 15,
   "metadata": {},
   "outputs": [
    {
     "name": "stderr",
     "output_type": "stream",
     "text": [
      "/Users/amedvede/anaconda3/lib/python3.7/site-packages/ipykernel_launcher.py:6: DeprecationWarning: Call to deprecated `__getitem__` (Method will be removed in 4.0.0, use self.wv.__getitem__() instead).\n",
      "  \n"
     ]
    },
    {
     "name": "stdout",
     "output_type": "stream",
     "text": [
      "327\n"
     ]
    }
   ],
   "source": [
    "X = []\n",
    "X_labels = []\n",
    "\n",
    "for u in model.wv.vocab.keys():\n",
    "    if len(u.split(',')) == 1: # get all embedding vectors \n",
    "        X.append(model[u])\n",
    "print(len(X))\n",
    "X_transform = TSNE(n_components=2).fit_transform(X)"
   ]
  },
  {
   "cell_type": "code",
   "execution_count": 16,
   "metadata": {},
   "outputs": [
    {
     "data": {
      "image/png": "[encoded data removed]",
      "text/plain": [
       "<Figure size 576x576 with 1 Axes>"
      ]
     },
     "metadata": {
      "needs_background": "light"
     },
     "output_type": "display_data"
    }
   ],
   "source": [
    "fig = plt.figure(figsize = (6,6), dpi = 96)\n",
    "# colors_list = cm.nipy_spectral(np.asarray(pred_cluster_labels).astype(float) / num_classes)\n",
    "plt.scatter(*zip(*X_transform), marker='o', s=50, lw=0, alpha=0.7,)\n",
    "#                      c = colors_list)\n",
    "text_params = {'ha': 'center', 'va': 'center', 'family': 'oswald-light',\n",
    "                   'fontweight': 'normal', \"size\": 12}\n",
    "# for i, z in enumerate(Z_labels):\n",
    "#     x,y = X_transform[i]\n",
    "#     plt.text(x,y, z, color = \"black\", alpha=0.8)\n",
    "\n",
    "plt.title(\"Node clusters\", fontsize = 16)\n",
    "plt.show()"
   ]
  },
  {
   "cell_type": "markdown",
   "metadata": {},
   "source": [
    "# Scoring the closing triangles - v1\n",
    "\n",
    "Now we test the predictive model based on cosine similarity. The idea is simple: if an open triangle has all nodes that have high cosine similarity to each other, then this triangle is highly likely to close in future. We use simple sum of all three similarities as a decision function.\n",
    "\n",
    "In v1 we use the similarity of pairs of nodes in a triangle."
   ]
  },
  {
   "cell_type": "code",
   "execution_count": 19,
   "metadata": {},
   "outputs": [
    {
     "data": {
      "application/vnd.jupyter.widget-view+json": {
       "model_id": "a0b2957da55048839740a1ea9a80b524",
       "version_major": 2,
       "version_minor": 0
      },
      "text/plain": [
       "HBox(children=(IntProgress(value=0, max=25056), HTML(value='')))"
      ]
     },
     "metadata": {},
     "output_type": "display_data"
    },
    {
     "name": "stdout",
     "output_type": "stream",
     "text": [
      "\n",
      "25056\n"
     ]
    }
   ],
   "source": [
    "from sklearn.metrics import precision_recall_curve, roc_auc_score, auc, f1_score\n",
    "closure_similarity = []\n",
    "for t in tqdm_notebook(open_train):\n",
    "    similarity_scores = []\n",
    "    for u,v in itertools.combinations(t,2):\n",
    "        uf = str(u)\n",
    "        vf = str(v)\n",
    "        similarity_scores.append(model.wv.similarity(uf,vf))\n",
    "    closure_similarity.append(np.sum(similarity_scores))\n",
    "  \n",
    "print(len(closure_similarity))"
   ]
  },
  {
   "cell_type": "code",
   "execution_count": 20,
   "metadata": {},
   "outputs": [
    {
     "name": "stdout",
     "output_type": "stream",
     "text": [
      "AUCPR RND: 0.008022030651340994 | AUCPR S2V: 0.010096300629189026\n",
      "Ratio as in Kleinberg --  AUCPR S2V/AUCPR RND : 1.2585716844027874\n"
     ]
    },
    {
     "data": {
      "image/png": "[encoded data removed]",
      "text/plain": [
       "<Figure size 432x288 with 1 Axes>"
      ]
     },
     "metadata": {
      "needs_background": "light"
     },
     "output_type": "display_data"
    }
   ],
   "source": [
    "s2v_precision, s2v_recall, _ = precision_recall_curve(y_test, closure_similarity)\n",
    "\n",
    "p = len([y for y in y_test if y == 1])/len(y_test)\n",
    "rnd_precision = [p]*len(s2v_recall)\n",
    "\n",
    "s2v_precision, s2v_recall = s2v_precision[::-1], s2v_recall[::-1]\n",
    "\n",
    "aucpr_rnd = auc(s2v_recall, rnd_precision)\n",
    "aucpr_s2v = auc(s2v_recall, s2v_precision)\n",
    "\n",
    "print(\"AUCPR RND: {} | AUCPR S2V: {}\".format(aucpr_rnd, aucpr_s2v))\n",
    "kleinberg_ratio = aucpr_s2v/aucpr_rnd\n",
    "print(\"Ratio as in Kleinberg --  AUCPR S2V/AUCPR RND :\", kleinberg_ratio)\n",
    "\n",
    "plt.plot(s2v_recall, rnd_precision)\n",
    "plt.plot(s2v_recall, s2v_precision)\n",
    "plt.show()"
   ]
  },
  {
   "cell_type": "code",
   "execution_count": 21,
   "metadata": {},
   "outputs": [
    {
     "name": "stdout",
     "output_type": "stream",
     "text": [
      "0.5 0.6091241639318995\n"
     ]
    }
   ],
   "source": [
    "print(roc_auc_score(y_test, y_rnd_prob), roc_auc_score(y_test, closure_similarity))"
   ]
  },
  {
   "cell_type": "code",
   "execution_count": 22,
   "metadata": {},
   "outputs": [
    {
     "name": "stdout",
     "output_type": "stream",
     "text": [
      "1.11 1\n",
      "0.67 1\n",
      "1.0 1\n",
      "1.22 1\n",
      "0.72 1\n",
      "1.2 1\n",
      "0.98 1\n",
      "1.24 1\n",
      "0.96 1\n",
      "0.9 1\n",
      "0.82 1\n",
      "0.86 1\n",
      "1.11 1\n",
      "1.24 1\n",
      "0.86 1\n",
      "0.92 1\n",
      "0.96 1\n",
      "1.03 1\n",
      "0.82 1\n",
      "1.02 1\n",
      "0.83 1\n",
      "0.96 1\n",
      "1.17 1\n",
      "0.71 1\n",
      "1.45 1\n",
      "0.99 1\n",
      "0.8 1\n",
      "0.92 1\n",
      "0.93 1\n",
      "0.79 1\n",
      "0.97 1\n",
      "0.89 1\n",
      "0.71 1\n",
      "0.97 1\n",
      "0.82 1\n",
      "0.57 1\n",
      "1.31 1\n",
      "1.06 1\n",
      "0.68 1\n",
      "0.59 1\n",
      "0.97 1\n",
      "1.26 1\n",
      "0.96 1\n",
      "0.84 1\n",
      "1.2 1\n",
      "0.9 1\n",
      "1.0 1\n",
      "1.22 1\n",
      "1.07 1\n",
      "0.94 1\n",
      "0.64 1\n",
      "0.81 1\n",
      "0.97 1\n",
      "0.85 1\n",
      "1.07 1\n",
      "1.02 1\n",
      "0.77 1\n",
      "0.89 1\n",
      "0.91 1\n",
      "0.96 1\n",
      "0.68 1\n",
      "1.16 1\n",
      "0.73 1\n",
      "1.03 1\n",
      "0.7 1\n",
      "0.7 1\n",
      "0.68 1\n",
      "1.06 1\n",
      "0.8 1\n",
      "1.54 1\n",
      "1.44 1\n",
      "0.83 1\n",
      "0.69 1\n",
      "1.55 1\n",
      "0.96 1\n",
      "0.96 1\n",
      "1.0 1\n",
      "0.7 1\n",
      "1.18 1\n",
      "1.35 1\n",
      "0.81 1\n",
      "0.73 1\n",
      "0.94 1\n",
      "0.79 1\n",
      "0.99 1\n",
      "1.79 1\n",
      "0.8 1\n",
      "1.14 1\n",
      "1.04 1\n",
      "1.01 1\n",
      "0.8 1\n",
      "0.83 1\n",
      "1.21 1\n",
      "0.92 1\n",
      "0.81 1\n",
      "0.74 1\n",
      "0.64 1\n",
      "0.93 1\n",
      "1.01 1\n",
      "0.91 1\n",
      "1.31 1\n",
      "0.89 1\n",
      "1.19 1\n",
      "1.23 1\n",
      "0.78 1\n",
      "1.43 1\n",
      "1.23 1\n",
      "1.14 1\n",
      "1.43 1\n",
      "0.9 1\n",
      "1.01 1\n",
      "0.92 1\n",
      "0.68 1\n",
      "0.85 1\n",
      "1.21 1\n",
      "1.06 1\n",
      "0.66 1\n",
      "1.54 1\n",
      "1.53 1\n",
      "0.82 1\n",
      "0.74 1\n",
      "1.07 1\n",
      "1.02 1\n",
      "0.97 1\n",
      "1.08 1\n",
      "0.99 1\n",
      "0.96 1\n",
      "1.07 1\n",
      "1.07 1\n",
      "1.11 1\n",
      "1.17 1\n",
      "0.81 1\n",
      "1.29 1\n",
      "0.96 1\n",
      "0.98 1\n",
      "0.77 1\n",
      "1.09 1\n",
      "1.01 1\n",
      "0.67 1\n",
      "0.92 1\n",
      "1.08 1\n",
      "1.08 1\n",
      "0.88 1\n",
      "1.42 1\n",
      "1.08 1\n",
      "0.87 1\n",
      "0.83 1\n",
      "1.21 1\n",
      "1.48 1\n",
      "1.06 1\n",
      "1.15 1\n",
      "1.1 1\n",
      "0.81 1\n",
      "1.46 1\n",
      "0.91 1\n",
      "0.95 1\n",
      "1.1 1\n",
      "0.95 1\n",
      "0.76 1\n",
      "1.02 1\n",
      "1.04 1\n",
      "0.85 1\n",
      "1.0 1\n",
      "0.84 1\n",
      "0.96 1\n",
      "1.16 1\n",
      "1.23 1\n",
      "1.57 1\n",
      "0.69 1\n",
      "1.23 1\n",
      "1.26 1\n",
      "0.73 1\n",
      "1.26 1\n",
      "0.88 1\n",
      "1.28 1\n",
      "0.95 1\n",
      "1.04 1\n",
      "0.59 1\n",
      "0.94 1\n",
      "0.88 1\n",
      "1.2 1\n",
      "1.92 1\n",
      "0.81 1\n",
      "0.94 1\n",
      "0.88 1\n",
      "0.74 1\n",
      "0.71 1\n",
      "0.94 1\n",
      "0.85 1\n",
      "1.04 1\n",
      "1.01 1\n",
      "0.86 1\n",
      "1.14 1\n",
      "0.84 1\n",
      "1.27 1\n",
      "1.23 1\n",
      "0.94 1\n",
      "0.96 1\n",
      "0.76 1\n",
      "1.28 1\n",
      "1.02 1\n"
     ]
    }
   ],
   "source": [
    "for clos_sim, y_t in list(zip(closure_similarity,y_test)):\n",
    "    if y_t == 1:\n",
    "        print(round(clos_sim, 2), y_t)"
   ]
  },
  {
   "cell_type": "code",
   "execution_count": 23,
   "metadata": {},
   "outputs": [
    {
     "data": {
      "text/plain": [
       "(201, 25056)"
      ]
     },
     "execution_count": 23,
     "metadata": {},
     "output_type": "execute_result"
    }
   ],
   "source": [
    "len([y for y in y_test if y == 1]), len(y_test)"
   ]
  },
  {
   "cell_type": "code",
   "execution_count": 24,
   "metadata": {},
   "outputs": [
    {
     "data": {
      "image/png": "[encoded data removed]",
      "text/plain": [
       "<Figure size 432x288 with 1 Axes>"
      ]
     },
     "metadata": {
      "needs_background": "light"
     },
     "output_type": "display_data"
    }
   ],
   "source": [
    "plt.scatter(closure_similarity, y_test)\n",
    "plt.show()"
   ]
  },
  {
   "cell_type": "markdown",
   "metadata": {},
   "source": [
    "# Scoring the closing triangles - v2\n",
    "\n",
    "In v2 we use pairwise similarity of edges that constitute a triangle. The results a disappointing as well."
   ]
  },
  {
   "cell_type": "code",
   "execution_count": 27,
   "metadata": {},
   "outputs": [
    {
     "data": {
      "application/vnd.jupyter.widget-view+json": {
       "model_id": "32afb36d132440df977c5bf5de6a573a",
       "version_major": 2,
       "version_minor": 0
      },
      "text/plain": [
       "HBox(children=(IntProgress(value=0, max=25056), HTML(value='')))"
      ]
     },
     "metadata": {},
     "output_type": "display_data"
    },
    {
     "name": "stdout",
     "output_type": "stream",
     "text": [
      "\n",
      "25056\n"
     ]
    }
   ],
   "source": [
    "closure_similarity = []\n",
    "for t in tqdm_notebook(open_train):\n",
    "    similarity_scores = []\n",
    "    triangle_edges = [\",\".join([str(u), str(v)]) for u,v in itertools.combinations(t,2)]\n",
    "    for e1,e2 in itertools.combinations(triangle_edges,2):\n",
    "        if e1 in model.wv.vocab and e2 in model.wv.vocab:\n",
    "            similarity_scores.append(model.wv.similarity(e1,e2))\n",
    "        else:\n",
    "            similarity_scores.append(0)\n",
    "    closure_similarity.append(np.sum(similarity_scores))\n",
    "  \n",
    "print(len(closure_similarity))"
   ]
  },
  {
   "cell_type": "code",
   "execution_count": 28,
   "metadata": {},
   "outputs": [
    {
     "name": "stdout",
     "output_type": "stream",
     "text": [
      "AUCPR RND: 0.008022030651340996 | AUCPR S2V: 0.011020717219216682\n",
      "Ratio as in Kleinberg --  AUCPR S2V/AUCPR RND : 1.3738064211178767\n"
     ]
    },
    {
     "data": {
      "image/png": "[encoded data removed]",
      "text/plain": [
       "<Figure size 432x288 with 1 Axes>"
      ]
     },
     "metadata": {
      "needs_background": "light"
     },
     "output_type": "display_data"
    }
   ],
   "source": [
    "s2v_precision, s2v_recall, _ = precision_recall_curve(y_test, closure_similarity)\n",
    "\n",
    "p = len([y for y in y_test if y == 1])/len(y_test)\n",
    "rnd_precision = [p]*len(s2v_recall)\n",
    "\n",
    "s2v_precision, s2v_recall = s2v_precision[::-1], s2v_recall[::-1]\n",
    "\n",
    "aucpr_rnd = auc(s2v_recall, rnd_precision)\n",
    "aucpr_s2v = auc(s2v_recall, s2v_precision)\n",
    "\n",
    "print(\"AUCPR RND: {} | AUCPR S2V: {}\".format(aucpr_rnd, aucpr_s2v))\n",
    "kleinberg_ratio = aucpr_s2v/aucpr_rnd\n",
    "print(\"Ratio as in Kleinberg --  AUCPR S2V/AUCPR RND :\", kleinberg_ratio)\n",
    "\n",
    "plt.plot(s2v_recall, rnd_precision)\n",
    "plt.plot(s2v_recall, s2v_precision)\n",
    "plt.show()"
   ]
  },
  {
   "cell_type": "code",
   "execution_count": 29,
   "metadata": {},
   "outputs": [
    {
     "name": "stdout",
     "output_type": "stream",
     "text": [
      "2.31 0\n",
      "2.33 0\n",
      "2.33 0\n",
      "2.32 0\n",
      "2.41 0\n",
      "2.47 0\n",
      "2.51 0\n",
      "2.33 0\n",
      "2.46 0\n",
      "2.4 0\n"
     ]
    }
   ],
   "source": [
    "for clos_sim, y_t in list(zip(closure_similarity,y_test)):\n",
    "    if clos_sim > 2.3:\n",
    "        print(round(clos_sim, 2), y_t)"
   ]
  },
  {
   "cell_type": "markdown",
   "metadata": {},
   "source": [
    "# Plot raw similarity scores in 2D"
   ]
  },
  {
   "cell_type": "code",
   "execution_count": 30,
   "metadata": {},
   "outputs": [
    {
     "data": {
      "application/vnd.jupyter.widget-view+json": {
       "model_id": "1467cc8641ef40ce915259e0f52d43f7",
       "version_major": 2,
       "version_minor": 0
      },
      "text/plain": [
       "HBox(children=(IntProgress(value=0, max=25056), HTML(value='')))"
      ]
     },
     "metadata": {},
     "output_type": "display_data"
    },
    {
     "name": "stdout",
     "output_type": "stream",
     "text": [
      "\n",
      "25056\n"
     ]
    }
   ],
   "source": [
    "from sklearn.metrics import average_precision_score, roc_auc_score, auc, f1_score\n",
    "closure_similarity = []\n",
    "for t in tqdm_notebook(open_train):\n",
    "    similarity_scores = []\n",
    "    for u,v in itertools.combinations(t,2):\n",
    "        uf = str(u)\n",
    "        vf = str(v)\n",
    "        similarity_scores.append(model.wv.similarity(uf,vf))\n",
    "    closure_similarity.append(similarity_scores)\n",
    "  \n",
    "print(len(closure_similarity))"
   ]
  },
  {
   "cell_type": "code",
   "execution_count": 31,
   "metadata": {},
   "outputs": [
    {
     "name": "stdout",
     "output_type": "stream",
     "text": [
      "[0.3827133, 0.35330805, 0.37678096] 1\n",
      "[0.23337796, 0.19740492, 0.23496902] 1\n",
      "[0.43278018, 0.25379574, 0.3100394] 1\n",
      "[0.32624528, 0.50996876, 0.38679653] 1\n",
      "[0.251794, 0.2314643, 0.23337796] 1\n",
      "[0.41661078, 0.30271035, 0.47780195] 1\n",
      "[0.47591123, 0.23175573, 0.27164382] 1\n",
      "[0.3814913, 0.552207, 0.30271035] 1\n",
      "[0.45484963, 0.22723612, 0.2748206] 1\n",
      "[0.26703024, 0.2943625, 0.3409618] 1\n",
      "[0.41018152, 0.22216225, 0.19244087] 1\n",
      "[0.20218244, 0.35172597, 0.3077433] 1\n",
      "[0.3771003, 0.36276308, 0.3693893] 1\n",
      "[0.37851608, 0.30596036, 0.552207] 1\n",
      "[0.39069524, 0.24591793, 0.22171094] 1\n",
      "[0.2609368, 0.34987774, 0.30464342] 1\n",
      "[0.25035155, 0.3005818, 0.40931726] 1\n",
      "[0.27009916, 0.27302262, 0.48375636] 1\n",
      "[0.22087762, 0.2909506, 0.31144676] 1\n",
      "[0.39760238, 0.28437722, 0.3381068] 1\n",
      "[0.2854223, 0.26550674, 0.27614343] 1\n",
      "[0.3389536, 0.33728194, 0.28079528] 1\n",
      "[0.3709018, 0.43058896, 0.37276542] 1\n",
      "[0.25336918, 0.24195954, 0.21857785] 1\n",
      "[0.37276542, 0.552207, 0.52372015] 1\n",
      "[0.3650772, 0.36815882, 0.25852144] 1\n",
      "[0.45484963, 0.1606324, 0.18644561] 1\n",
      "[0.23309308, 0.40919614, 0.27371722] 1\n",
      "[0.29805624, 0.42231956, 0.2072775] 1\n",
      "[0.28217226, 0.26755953, 0.24312428] 1\n",
      "[0.3765793, 0.30577105, 0.2854223] 1\n",
      "[0.29808998, 0.31007648, 0.2854223] 1\n",
      "[0.22736087, 0.21300246, 0.26670158] 1\n",
      "[0.40976655, 0.27164382, 0.28750634] 1\n",
      "[0.28129983, 0.34451145, 0.19099449] 1\n",
      "[0.13598016, 0.23922172, 0.19237664] 1\n",
      "[0.37488014, 0.48002908, 0.45200172] 1\n",
      "[0.36448702, 0.49696007, 0.20218244] 1\n",
      "[0.17342487, 0.2909506, 0.21778491] 1\n",
      "[0.19130833, 0.19712391, 0.19740492] 1\n",
      "[0.4057601, 0.25151706, 0.30822507] 1\n",
      "[0.49696007, 0.35768333, 0.40359074] 1\n",
      "[0.29100904, 0.17944045, 0.48963743] 1\n",
      "[0.305148, 0.2854223, 0.2532463] 1\n",
      "[0.43176192, 0.26574183, 0.49917346] 1\n",
      "[0.3142187, 0.30423993, 0.28211337] 1\n",
      "[0.3771003, 0.2704184, 0.3552447] 1\n",
      "[0.37036735, 0.46291554, 0.38885272] 1\n",
      "[0.39508593, 0.3277405, 0.34680164] 1\n",
      "[0.22677834, 0.39523965, 0.3132543] 1\n",
      "[0.18043365, 0.17187896, 0.2857188] 1\n",
      "[0.21137358, 0.17236106, 0.42231956] 1\n",
      "[0.37519592, 0.3277405, 0.26574183] 1\n",
      "[0.2273786, 0.37592858, 0.25115642] 1\n",
      "[0.24195954, 0.40943873, 0.42269242] 1\n",
      "[0.42400926, 0.33728194, 0.25379574] 1\n",
      "[0.27086934, 0.26708698, 0.23632929] 1\n",
      "[0.31144676, 0.2568776, 0.31750566] 1\n",
      "[0.2609368, 0.36560678, 0.2827644] 1\n",
      "[0.3507736, 0.34758973, 0.26056784] 1\n",
      "[0.14775042, 0.27081513, 0.26177573] 1\n",
      "[0.32895374, 0.35768333, 0.47190452] 1\n",
      "[0.12281662, 0.22087762, 0.3895886] 1\n",
      "[0.38548732, 0.30423993, 0.33919013] 1\n",
      "[0.32725966, 0.19127594, 0.17709303] 1\n",
      "[0.21976146, 0.23337796, 0.25035155] 1\n",
      "[0.17458472, 0.28807512, 0.21724737] 1\n",
      "[0.40919614, 0.25924426, 0.38744992] 1\n",
      "[0.20070568, 0.24656689, 0.35172597] 1\n",
      "[0.643454, 0.3827164, 0.51868343] 1\n",
      "[0.39799032, 0.38865247, 0.6491921] 1\n",
      "[0.24977008, 0.25278285, 0.3302303] 1\n",
      "[0.19650167, 0.30271035, 0.18902907] 1\n",
      "[0.60306716, 0.42334437, 0.51868343] 1\n",
      "[0.37619263, 0.28217226, 0.29705167] 1\n",
      "[0.31983453, 0.26963362, 0.36970764] 1\n",
      "[0.38762793, 0.27990466, 0.33420032] 1\n",
      "[0.20218244, 0.24039006, 0.25389335] 1\n",
      "[0.38127887, 0.39007354, 0.40943873] 1\n",
      "[0.48793566, 0.33728194, 0.52537185] 1\n",
      "[0.14627108, 0.20969713, 0.45257592] 1\n",
      "[0.17350763, 0.20839863, 0.35172597] 1\n",
      "[0.39523965, 0.27623388, 0.2673945] 1\n",
      "[0.26697135, 0.23175573, 0.28750634] 1\n",
      "[0.3507267, 0.24648295, 0.39458543] 1\n",
      "[0.643454, 0.5480243, 0.60306716] 1\n",
      "[0.30858922, 0.20616935, 0.28079528] 1\n",
      "[0.4049696, 0.33728194, 0.39808792] 1\n",
      "[0.37619263, 0.32433793, 0.33919013] 1\n",
      "[0.26562864, 0.37592858, 0.36770338] 1\n",
      "[0.21095964, 0.23819631, 0.34611604] 1\n",
      "[0.20919898, 0.2909506, 0.33350387] 1\n",
      "[0.33845305, 0.39632037, 0.47475216] 1\n",
      "[0.35182238, 0.3278055, 0.23819631] 1\n",
      "[0.31007776, 0.27164382, 0.22778934] 1\n",
      "[0.24778506, 0.2668264, 0.22566555] 1\n",
      "[0.16665003, 0.18874018, 0.28807512] 1\n",
      "[0.29762968, 0.35330805, 0.27579474] 1\n",
      "[0.3281476, 0.27800632, 0.40183067] 1\n",
      "[0.3215578, 0.3071049, 0.27794942] 1\n",
      "[0.40943873, 0.3814913, 0.52372015] 1\n",
      "[0.26843897, 0.21291745, 0.41018152] 1\n",
      "[0.37961861, 0.37519592, 0.43176192] 1\n",
      "[0.36654583, 0.2634753, 0.5966257] 1\n",
      "[0.2512903, 0.17613485, 0.3552447] 1\n",
      "[0.4969118, 0.3797137, 0.5572194] 1\n",
      "[0.43176192, 0.3111366, 0.48660454] 1\n",
      "[0.47591123, 0.3235889, 0.34451145] 1\n",
      "[0.41661078, 0.40943873, 0.60624206] 1\n",
      "[0.22554477, 0.27555174, 0.399064] 1\n",
      "[0.24444853, 0.39196038, 0.37303966] 1\n",
      "[0.3235889, 0.26697135, 0.33224908] 1\n",
      "[0.14271381, 0.2314643, 0.3099258] 1\n",
      "[0.30817586, 0.33728194, 0.20346859] 1\n",
      "[0.37961861, 0.3277405, 0.49917346] 1\n",
      "[0.49398863, 0.25321504, 0.31408358] 1\n",
      "[0.20996846, 0.1347586, 0.31363747] 1\n",
      "[0.6704822, 0.43915373, 0.42704538] 1\n",
      "[0.53279465, 0.4746936, 0.5199391] 1\n",
      "[0.3099258, 0.27500516, 0.23496902] 1\n",
      "[0.27794942, 0.30514368, 0.15214467] 1\n",
      "[0.26574183, 0.4957829, 0.3111366] 1\n",
      "[0.32699284, 0.39523965, 0.3025628] 1\n",
      "[0.3100394, 0.3637815, 0.29486996] 1\n",
      "[0.3771003, 0.3507736, 0.34952304] 1\n",
      "[0.28406093, 0.3100394, 0.39808792] 1\n",
      "[0.24195954, 0.3814913, 0.33454227] 1\n",
      "[0.27395222, 0.40090334, 0.3927754] 1\n",
      "[0.43278018, 0.3567904, 0.28406093] 1\n",
      "[0.30271035, 0.42480332, 0.38511723] 1\n",
      "[0.34475094, 0.3795513, 0.4418521] 1\n",
      "[0.34365186, 0.20839863, 0.25900164] 1\n",
      "[0.44942352, 0.34758973, 0.48963743] 1\n",
      "[0.27935758, 0.283984, 0.39521506] 1\n",
      "[0.27632084, 0.4540972, 0.24865007] 1\n",
      "[0.2680485, 0.21095964, 0.29437453] 1\n",
      "[0.34451145, 0.40976655, 0.33224908] 1\n",
      "[0.3567904, 0.25379574, 0.39808792] 1\n",
      "[0.14271381, 0.26133305, 0.26100698] 1\n",
      "[0.23309308, 0.25924426, 0.42269242] 1\n",
      "[0.31269515, 0.46291554, 0.30841622] 1\n",
      "[0.40943873, 0.30271035, 0.37276542] 1\n",
      "[0.3215578, 0.24858911, 0.30514368] 1\n",
      "[0.40957338, 0.4061254, 0.60447896] 1\n",
      "[0.31112614, 0.37360203, 0.39069524] 1\n",
      "[0.19099449, 0.4540972, 0.22216225] 1\n",
      "[0.31007776, 0.23582669, 0.28807512] 1\n",
      "[0.39799032, 0.32382447, 0.4872871] 1\n",
      "[0.49917346, 0.4957829, 0.48660454] 1\n",
      "[0.44184008, 0.25852144, 0.35856795] 1\n",
      "[0.47591123, 0.26697135, 0.40976655] 1\n",
      "[0.32710943, 0.46835113, 0.307987] 1\n",
      "[0.22873718, 0.26550674, 0.32001537] 1\n",
      "[0.60624206, 0.47780195, 0.37276542] 1\n",
      "[0.28826046, 0.43058896, 0.18902907] 1\n",
      "[0.3409618, 0.334428, 0.2704184] 1\n",
      "[0.38903874, 0.3575604, 0.35330805] 1\n",
      "[0.40518445, 0.23337796, 0.3099258] 1\n",
      "[0.2526812, 0.27164382, 0.2386097] 1\n",
      "[0.3493385, 0.39702278, 0.27555174] 1\n",
      "[0.27071425, 0.40050268, 0.3701539] 1\n",
      "[0.30618766, 0.2386097, 0.30408806] 1\n",
      "[0.32710943, 0.2839169, 0.38762793] 1\n",
      "[0.32001537, 0.15947649, 0.363155] 1\n",
      "[0.37819827, 0.22171094, 0.3552447] 1\n",
      "[0.32895374, 0.49696007, 0.3385134] 1\n",
      "[0.45484963, 0.4502443, 0.3215578] 1\n",
      "[0.552207, 0.63391006, 0.38511723] 1\n",
      "[0.2570014, 0.13978198, 0.2943625] 1\n",
      "[0.4207505, 0.3650772, 0.44184008] 1\n",
      "[0.34106833, 0.42904878, 0.48793566] 1\n",
      "[0.23845474, 0.18555166, 0.30314836] 1\n",
      "[0.50544524, 0.41551337, 0.3381068] 1\n",
      "[0.29762968, 0.28080553, 0.30623007] 1\n",
      "[0.42269242, 0.33454227, 0.52372015] 1\n",
      "[0.28083864, 0.40090334, 0.27062064] 1\n",
      "[0.31199598, 0.3827164, 0.34673363] 1\n",
      "[0.21300246, 0.20452017, 0.17144871] 1\n",
      "[0.25645483, 0.2917155, 0.38923064] 1\n",
      "[0.2667951, 0.3495627, 0.26523268] 1\n",
      "[0.39683396, 0.46835113, 0.33596438] 1\n",
      "[0.6471094, 0.66762865, 0.60306716] 1\n",
      "[0.33495829, 0.26697135, 0.20996846] 1\n",
      "[0.3215578, 0.307055, 0.3140357] 1\n",
      "[0.25278285, 0.35673678, 0.26827115] 1\n",
      "[0.20070568, 0.3385134, 0.20218244] 1\n",
      "[0.35330805, 0.14775042, 0.21180487] 1\n",
      "[0.34106833, 0.2586028, 0.33728194] 1\n",
      "[0.21976146, 0.2553251, 0.37248498] 1\n",
      "[0.6333312, 0.15705985, 0.25318485] 1\n",
      "[0.41214457, 0.24591793, 0.3552447] 1\n",
      "[0.25187284, 0.29206294, 0.3132543] 1\n",
      "[0.37828067, 0.34758973, 0.41271806] 1\n",
      "[0.29103047, 0.34082526, 0.21095964] 1\n",
      "[0.36411572, 0.30980217, 0.59861606] 1\n",
      "[0.5480243, 0.31199598, 0.3698932] 1\n",
      "[0.40552738, 0.22873718, 0.31007648] 1\n",
      "[0.24195954, 0.38548732, 0.3327329] 1\n",
      "[0.40552738, 0.15947649, 0.19480845] 1\n",
      "[0.3709018, 0.38423216, 0.52372015] 1\n",
      "[0.23337796, 0.37592858, 0.40931726] 1\n"
     ]
    }
   ],
   "source": [
    "for clos_sim, y_t in list(zip(closure_similarity,y_test)):\n",
    "    if y_t == 1:\n",
    "        print(clos_sim, y_t)"
   ]
  },
  {
   "cell_type": "code",
   "execution_count": 32,
   "metadata": {},
   "outputs": [
    {
     "data": {
      "image/png": "[encoded data removed]",
      "text/plain": [
       "<Figure size 864x864 with 1 Axes>"
      ]
     },
     "metadata": {
      "needs_background": "light"
     },
     "output_type": "display_data"
    }
   ],
   "source": [
    "x,y,z = zip(*closure_similarity)\n",
    "from mpl_toolkits.mplot3d import Axes3D\n",
    "fig = plt.figure(figsize = (12,12))\n",
    "ax = fig.add_subplot(111)\n",
    "ax.scatter(y,z, marker = \".\")\n",
    "# ax.view_init(30, -45)\n",
    "ax.set_xlabel('X Label')\n",
    "ax.set_ylabel('Y Label')\n",
    "# ax.set_zlabel('Z Label')\n",
    "\n",
    "plt.show()"
   ]
  },
  {
   "cell_type": "markdown",
   "metadata": {},
   "source": [
    "# Kleinberg Geometric mean "
   ]
  },
  {
   "cell_type": "code",
   "execution_count": 47,
   "metadata": {},
   "outputs": [
    {
     "data": {
      "application/vnd.jupyter.widget-view+json": {
       "model_id": "2c3fb3fdd58a49fab2fc8a3a09458177",
       "version_major": 2,
       "version_minor": 0
      },
      "text/plain": [
       "HBox(children=(IntProgress(value=0, max=25056), HTML(value='')))"
      ]
     },
     "metadata": {},
     "output_type": "display_data"
    },
    {
     "name": "stdout",
     "output_type": "stream",
     "text": [
      "\n"
     ]
    }
   ],
   "source": [
    "from scipy.stats.mstats import gmean\n",
    "\n",
    "geom_mean_similarity = []\n",
    "for t in tqdm_notebook(open_train):\n",
    "    similarity_scores = []\n",
    "    for u,v in itertools.combinations(t,2):\n",
    "        similarity_scores.append(len(g_train[u][v][\"simplices\"]))\n",
    "    geom_mean_similarity.append(gmean(similarity_scores))"
   ]
  },
  {
   "cell_type": "code",
   "execution_count": 48,
   "metadata": {},
   "outputs": [
    {
     "name": "stdout",
     "output_type": "stream",
     "text": [
      "AUCPR RND: 0.008022030651340996 | AUCPR S2V: 0.0177470229165997\n",
      "Ratio as in Kleinberg --  AUCPR S2V/AUCPR RND : 2.212285602976727\n"
     ]
    },
    {
     "data": {
      "image/png": "[encoded data removed]",
      "text/plain": [
       "<Figure size 576x396 with 1 Axes>"
      ]
     },
     "metadata": {},
     "output_type": "display_data"
    }
   ],
   "source": [
    "s2v_precision, s2v_recall, _ = precision_recall_curve(y_test, geom_mean_similarity)\n",
    "\n",
    "p = len([y for y in y_test if y == 1])/len(y_test)\n",
    "rnd_precision = [p]*len(s2v_recall)\n",
    "\n",
    "s2v_precision, s2v_recall = s2v_precision[::-1], s2v_recall[::-1]\n",
    "\n",
    "aucpr_rnd = auc(s2v_recall, rnd_precision)\n",
    "aucpr_s2v = auc(s2v_recall, s2v_precision)\n",
    "\n",
    "print(\"AUCPR RND: {} | AUCPR S2V: {}\".format(aucpr_rnd, aucpr_s2v))\n",
    "kleinberg_ratio = aucpr_s2v/aucpr_rnd\n",
    "print(\"Ratio as in Kleinberg --  AUCPR S2V/AUCPR RND :\", kleinberg_ratio)\n",
    "\n",
    "plt.plot(s2v_recall, rnd_precision)\n",
    "plt.plot(s2v_recall, s2v_precision)\n",
    "plt.show()"
   ]
  },
  {
   "cell_type": "code",
   "execution_count": 19,
   "metadata": {},
   "outputs": [],
   "source": [
    "nodes = list(g_hasse.nodes())"
   ]
  },
  {
   "cell_type": "code",
   "execution_count": 14,
   "metadata": {},
   "outputs": [
    {
     "data": {
      "text/plain": [
       "['116,127',\n",
       " '166',\n",
       " '166,287',\n",
       " '287',\n",
       " '205,287',\n",
       " '205',\n",
       " '205,297',\n",
       " '297',\n",
       " '159,297',\n",
       " '159']"
      ]
     },
     "execution_count": 14,
     "metadata": {},
     "output_type": "execute_result"
    }
   ],
   "source": [
    "vocab = list(model.wv.vocab.keys())\n",
    "vocab[:10]"
   ]
  },
  {
   "cell_type": "code",
   "execution_count": null,
   "metadata": {},
   "outputs": [],
   "source": []
  }
 ],
 "metadata": {
  "kernelspec": {
   "display_name": "Python 3",
   "language": "python",
   "name": "python3"
  },
  "language_info": {
   "codemirror_mode": {
    "name": "ipython",
    "version": 3
   },
   "file_extension": ".py",
   "mimetype": "text/x-python",
   "name": "python",
   "nbconvert_exporter": "python",
   "pygments_lexer": "ipython3",
   "version": "3.7.5"
  }
 },
 "nbformat": 4,
 "nbformat_minor": 2
}
