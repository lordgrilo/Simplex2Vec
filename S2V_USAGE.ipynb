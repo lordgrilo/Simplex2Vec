{
 "cells": [
  {
   "cell_type": "code",
   "execution_count": 1,
   "metadata": {},
   "outputs": [],
   "source": [
    "import numpy as np\n",
    "import networkx as nx\n",
    "\n",
    "\n",
    "from Simplex2Vec.Simplex2Vec import Simplex2Vec"
   ]
  },
  {
   "cell_type": "markdown",
   "metadata": {},
   "source": [
    "# From NetworkX Graph"
   ]
  },
  {
   "cell_type": "code",
   "execution_count": 2,
   "metadata": {},
   "outputs": [
    {
     "name": "stderr",
     "output_type": "stream",
     "text": [
      "Creating Hasse diagram: 100%|██████████| 350/350 [00:00<00:00, 8607.23it/s]\n",
      "Creating random walks: 100%|██████████| 12150/12150 [00:03<00:00, 3740.83it/s]\n"
     ]
    }
   ],
   "source": [
    "# Create a graph\n",
    "G = nx.fast_gnp_random_graph(n=100, p=0.1, seed=20)\n",
    "\n",
    "# Generate Hasse diagram and random walks\n",
    "s2v = Simplex2Vec(G, n_walks=15, walk_length=10,  workers=2)  # keep p=q=1 to have the usual RW\n",
    "\n",
    "# Embed nodes\n",
    "model = s2v.fit()  # Any keywords acceptable by gensim.Word2Vec can be passed, `workers` is automatically passed from the Node2Vec constructor"
   ]
  },
  {
   "cell_type": "code",
   "execution_count": 3,
   "metadata": {},
   "outputs": [
    {
     "data": {
      "text/plain": [
       "[('2-35-44', 0.9585344791412354),\n",
       " ('2-35', 0.9493824243545532),\n",
       " ('2-44', 0.9313633441925049),\n",
       " ('2-35-68', 0.9284526705741882),\n",
       " ('15-2-35', 0.8970949649810791),\n",
       " ('35-44', 0.8915023803710938),\n",
       " ('17-2-44', 0.8811018466949463),\n",
       " ('17-2', 0.8768243789672852),\n",
       " ('2-35-62', 0.8747244477272034),\n",
       " ('2-41', 0.8680779933929443)]"
      ]
     },
     "execution_count": 3,
     "metadata": {},
     "output_type": "execute_result"
    }
   ],
   "source": [
    "# Look for most similar nodes\n",
    "model.wv.most_similar('2')  # Output node names are always strings"
   ]
  },
  {
   "cell_type": "code",
   "execution_count": 4,
   "metadata": {},
   "outputs": [
    {
     "name": "stderr",
     "output_type": "stream",
     "text": [
      "Creating Hasse diagram: 100%|██████████| 350/350 [00:00<00:00, 2712.44it/s]\n",
      "Creating random walks: 100%|██████████| 12150/12150 [00:03<00:00, 3888.52it/s]\n"
     ]
    }
   ],
   "source": [
    "# Can also be made a one-liner\n",
    "model = Simplex2Vec(G, n_walks=15, walk_length=10,  workers=2).fit()"
   ]
  },
  {
   "cell_type": "code",
   "execution_count": 5,
   "metadata": {},
   "outputs": [],
   "source": [
    "# Dump created hasse diagram to a pickle file\n",
    "s2v.dump_hasse_diagram('hasse_diag.pkl')\n",
    "\n",
    "### MODEL CAN BE SAVED WITH model.save(), NATIVELY FROM WORD2VEC"
   ]
  },
  {
   "cell_type": "code",
   "execution_count": 6,
   "metadata": {},
   "outputs": [
    {
     "name": "stderr",
     "output_type": "stream",
     "text": [
      "Creating random walks: 100%|██████████| 12150/12150 [00:08<00:00, 1501.46it/s]\n"
     ]
    },
    {
     "data": {
      "text/plain": [
       "[('2-44', 0.9288267493247986),\n",
       " ('2-35-68', 0.9205431938171387),\n",
       " ('2-35-44', 0.9184633493423462),\n",
       " ('2-35', 0.9164999127388),\n",
       " ('2-35-62', 0.8992202281951904),\n",
       " ('17-2', 0.8971463441848755),\n",
       " ('17-2-44', 0.881851077079773),\n",
       " ('2-72', 0.8778567314147949),\n",
       " ('2-35-72', 0.8726463317871094),\n",
       " ('15-2-35', 0.866547167301178)]"
      ]
     },
     "execution_count": 6,
     "metadata": {},
     "output_type": "execute_result"
    }
   ],
   "source": [
    "# Create new Simplex2Vec from dumped hasse diagram\n",
    "s2v = Simplex2Vec.read_hasse_diagram('hasse_diag.pkl', n_walks=15)\n",
    "model = s2v.fit()\n",
    "\n",
    "model.wv.most_similar('2')"
   ]
  },
  {
   "cell_type": "code",
   "execution_count": 7,
   "metadata": {},
   "outputs": [
    {
     "name": "stdout",
     "output_type": "stream",
     "text": [
      "True\n"
     ]
    }
   ],
   "source": [
    "# Create external handle for hasse diagram\n",
    "H = s2v.get_hasse_diagram(copy=False)\n",
    "\n",
    "print(H is s2v.hasse)"
   ]
  },
  {
   "cell_type": "code",
   "execution_count": 8,
   "metadata": {},
   "outputs": [
    {
     "name": "stdout",
     "output_type": "stream",
     "text": [
      "False\n"
     ]
    }
   ],
   "source": [
    "# Create external deepcopy of hasse diagram\n",
    "H = s2v.get_hasse_diagram()\n",
    "\n",
    "print(H is s2v.hasse)"
   ]
  },
  {
   "cell_type": "markdown",
   "metadata": {},
   "source": [
    "# From External Hasse Diagram"
   ]
  },
  {
   "cell_type": "code",
   "execution_count": 9,
   "metadata": {},
   "outputs": [
    {
     "name": "stderr",
     "output_type": "stream",
     "text": [
      "Creating Hasse diagram: 100%|██████████| 7526/7526 [00:06<00:00, 1138.82it/s]\n"
     ]
    }
   ],
   "source": [
    "#Build hasse diagram externally\n",
    "\n",
    "from Simplex2Vec.utils import read_simplex_json\n",
    "from Simplex2Vec.simplex2hasse import simplex2hasse_LOadjusted\n",
    "\n",
    "in_file = \"./data/sociopatterns_facets/aggr_5min_cliques_InVS15.json\"\n",
    "\n",
    "data = read_simplex_json(in_file)\n",
    "\n",
    "hasse_diag = simplex2hasse_LOadjusted(data, max_order=None)"
   ]
  },
  {
   "cell_type": "code",
   "execution_count": 10,
   "metadata": {},
   "outputs": [
    {
     "name": "stderr",
     "output_type": "stream",
     "text": [
      "Creating random walks: 100%|██████████| 7743/7743 [00:07<00:00, 1001.97it/s]\n"
     ]
    }
   ],
   "source": [
    "# build model from external hasse diagram\n",
    "s2v = Simplex2Vec.from_hasse_diagram(hasse_diag, n_walks=1, walk_length=10)"
   ]
  },
  {
   "cell_type": "code",
   "execution_count": 11,
   "metadata": {},
   "outputs": [
    {
     "name": "stderr",
     "output_type": "stream",
     "text": [
      "Creating random walks: 100%|██████████| 6708/6708 [00:06<00:00, 986.47it/s] \n"
     ]
    }
   ],
   "source": [
    "# limit order of imported hasse diagram\n",
    "s2v = Simplex2Vec.from_hasse_diagram(hasse_diag, n_walks=1, walk_length=10, hasse_max_order=2)"
   ]
  },
  {
   "cell_type": "code",
   "execution_count": 12,
   "metadata": {},
   "outputs": [
    {
     "name": "stderr",
     "output_type": "stream",
     "text": [
      "Creating Hasse diagram: 100%|██████████| 7526/7526 [00:01<00:00, 4002.41it/s]\n"
     ]
    },
    {
     "name": "stdout",
     "output_type": "stream",
     "text": [
      "\n"
     ]
    },
    {
     "name": "stderr",
     "output_type": "stream",
     "text": [
      "/home/mottes/WorkInProgress/S2V_project/Simplex2Vec/Simplex2Vec/Simplex2Vec.py:97: UserWarning: No simplices of order bigger than 3 (MAX ORDER = 2). Maybe need to re-build Hasse diagram?\n",
      "  warnings.warn(message, UserWarning)\n",
      "Creating random walks: 100%|██████████| 6708/6708 [00:06<00:00, 966.83it/s] \n"
     ]
    }
   ],
   "source": [
    "# warning if you try to set a limit higher than what is present in the external hasse diagram\n",
    "hasse_diag = simplex2hasse_LOadjusted(data, max_order=2)\n",
    "print()\n",
    "\n",
    "s2v = Simplex2Vec.from_hasse_diagram(hasse_diag, n_walks=1, walk_length=10, hasse_max_order=3)"
   ]
  },
  {
   "cell_type": "markdown",
   "metadata": {},
   "source": [
    "#### Note: The original hasse_diag graph is not modified by limiting the simplex order in the creation of the Simplex2vec object and can thus be reused."
   ]
  },
  {
   "cell_type": "markdown",
   "metadata": {},
   "source": [
    "# USE CASE"
   ]
  },
  {
   "cell_type": "code",
   "execution_count": 13,
   "metadata": {},
   "outputs": [
    {
     "name": "stderr",
     "output_type": "stream",
     "text": [
      "Creating Hasse diagram: 100%|██████████| 7526/7526 [00:06<00:00, 1144.85it/s]\n",
      "Creating random walks: 100%|██████████| 4491/4491 [00:04<00:00, 988.00it/s] \n"
     ]
    },
    {
     "name": "stdout",
     "output_type": "stream",
     "text": [
      "\n",
      "MAX ORDER = 1\n",
      "Name: \n",
      "Type: Graph\n",
      "Number of nodes: 4491\n",
      "Number of edges: 8548\n",
      "Average degree:   3.8067\n"
     ]
    },
    {
     "name": "stderr",
     "output_type": "stream",
     "text": [
      "Creating random walks: 100%|██████████| 6708/6708 [00:06<00:00, 984.16it/s] \n"
     ]
    },
    {
     "name": "stdout",
     "output_type": "stream",
     "text": [
      "\n",
      "MAX ORDER = 2\n",
      "Name: \n",
      "Type: Graph\n",
      "Number of nodes: 6708\n",
      "Number of edges: 15199\n",
      "Average degree:   4.5316\n"
     ]
    },
    {
     "name": "stderr",
     "output_type": "stream",
     "text": [
      "Creating random walks: 100%|██████████| 7395/7395 [00:07<00:00, 982.20it/s] \n"
     ]
    },
    {
     "name": "stdout",
     "output_type": "stream",
     "text": [
      "\n",
      "MAX ORDER = 3\n",
      "Name: \n",
      "Type: Graph\n",
      "Number of nodes: 7395\n",
      "Number of edges: 17947\n",
      "Average degree:   4.8538\n"
     ]
    }
   ],
   "source": [
    "### EXAMPLE: create embeddings using increasingly higher orders without re-building hasse diag.\n",
    "\n",
    "\n",
    "#Build hasse diagram externally\n",
    "\n",
    "from Simplex2Vec.utils import read_simplex_json\n",
    "from Simplex2Vec.simplex2hasse import simplex2hasse_LOadjusted\n",
    "\n",
    "in_file = \"./data/sociopatterns_facets/aggr_5min_cliques_InVS15.json\"\n",
    "\n",
    "data = read_simplex_json(in_file)\n",
    "\n",
    "hasse_diag = simplex2hasse_LOadjusted(data, max_order=None)\n",
    "\n",
    "\n",
    "for order in range(1,4):\n",
    "    \n",
    "    s2v = Simplex2Vec.from_hasse_diagram(hasse_diag, n_walks=1, walk_length=10, hasse_max_order=order)\n",
    "    \n",
    "    print('\\nMAX ORDER = {}'.format(order))\n",
    "    print(nx.info(s2v.get_hasse_diagram(copy=False)))\n",
    "    \n",
    "    #model = s2v.fit()\n",
    "    "
   ]
  },
  {
   "cell_type": "code",
   "execution_count": null,
   "metadata": {},
   "outputs": [],
   "source": []
  }
 ],
 "metadata": {
  "kernelspec": {
   "display_name": "Python 3",
   "language": "python",
   "name": "python3"
  },
  "language_info": {
   "codemirror_mode": {
    "name": "ipython",
    "version": 3
   },
   "file_extension": ".py",
   "mimetype": "text/x-python",
   "name": "python",
   "nbconvert_exporter": "python",
   "pygments_lexer": "ipython3",
   "version": "3.6.8"
  }
 },
 "nbformat": 4,
 "nbformat_minor": 2
}
