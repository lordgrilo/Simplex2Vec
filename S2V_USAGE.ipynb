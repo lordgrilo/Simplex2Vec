{
 "cells": [
  {
   "cell_type": "code",
   "execution_count": 13,
   "metadata": {},
   "outputs": [],
   "source": [
    "import numpy as np\n",
    "import networkx as nx\n",
    "\n",
    "from Simplex2Vec.Simplex2Vec import Simplex2Vec\n",
    "from Simplex2Vec.utils import check_prediction"
   ]
  },
  {
   "cell_type": "markdown",
   "metadata": {},
   "source": [
    "# From NetworkX Graph"
   ]
  },
  {
   "cell_type": "code",
   "execution_count": 3,
   "metadata": {
    "collapsed": true
   },
   "outputs": [],
   "source": [
    "# Create a graph\n",
    "G = nx.fast_gnp_random_graph(n=100, p=0.1, seed=20)"
   ]
  },
  {
   "cell_type": "code",
   "execution_count": null,
   "metadata": {},
   "outputs": [],
   "source": [
    "# Generate Hasse diagram and random walks\n",
    "order = 2\n",
    "s2v = Simplex2Vec(G, n_walks=15, walk_length=10, hasse_max_order=order, workers=2)  # keep p=q=1 to have the usual RW\n",
    "\n",
    "# Embed nodes\n",
    "model = s2v.fit()  # Any keywords acceptable by gensim.Word2Vec can be passed, `workers` is automatically passed from the Node2Vec constructor"
   ]
  },
  {
   "cell_type": "code",
   "execution_count": 4,
   "metadata": {},
   "outputs": [
    {
     "data": {
      "text/plain": [
       "[('2,44', 0.9514933228492737),\n",
       " ('2,35', 0.9502997994422913),\n",
       " ('2,35,44', 0.9129461050033569),\n",
       " ('35,44', 0.910841703414917),\n",
       " ('2,62', 0.9067691564559937),\n",
       " ('2,35,68', 0.9012364149093628),\n",
       " ('2,35,62', 0.9005672931671143),\n",
       " ('2,17', 0.8999205827713013),\n",
       " ('2,35,72', 0.897682249546051),\n",
       " ('2,68', 0.8952941298484802)]"
      ]
     },
     "execution_count": 4,
     "metadata": {},
     "output_type": "execute_result"
    }
   ],
   "source": [
    "# Look for most similar nodes\n",
    "model.wv.most_similar('2')  # Output node names are always strings"
   ]
  },
  {
   "cell_type": "code",
   "execution_count": null,
   "metadata": {},
   "outputs": [],
   "source": [
    "# Can also be made a one-liner\n",
    "model = Simplex2Vec(G, n_walks=15, walk_length=10,  workers=2).fit()"
   ]
  },
  {
   "cell_type": "code",
   "execution_count": null,
   "metadata": {
    "collapsed": true
   },
   "outputs": [],
   "source": [
    "# Dump created hasse diagram to a pickle file\n",
    "s2v.dump_hasse_diagram('hasse_diag.pkl')\n",
    "\n",
    "### MODEL CAN BE SAVED WITH model.save(), NATIVELY FROM WORD2VEC"
   ]
  },
  {
   "cell_type": "code",
   "execution_count": null,
   "metadata": {
    "collapsed": true
   },
   "outputs": [],
   "source": [
    "# Create new Simplex2Vec from dumped hasse diagram\n",
    "s2v = Simplex2Vec.read_hasse_diagram('hasse_diag.pkl', n_walks=15)\n",
    "model = s2v.fit()\n",
    "\n",
    "model.wv.most_similar('2')"
   ]
  },
  {
   "cell_type": "code",
   "execution_count": null,
   "metadata": {
    "collapsed": true
   },
   "outputs": [],
   "source": [
    "# Create external handle for hasse diagram\n",
    "H = s2v.get_hasse_diagram(copy=False)\n",
    "\n",
    "print(H is s2v.hasse)"
   ]
  },
  {
   "cell_type": "code",
   "execution_count": null,
   "metadata": {
    "collapsed": true
   },
   "outputs": [],
   "source": [
    "# Create external deepcopy of hasse diagram\n",
    "H = s2v.get_hasse_diagram()\n",
    "\n",
    "print(H is s2v.hasse)"
   ]
  },
  {
   "cell_type": "markdown",
   "metadata": {},
   "source": [
    "# From External Hasse Diagram"
   ]
  },
  {
   "cell_type": "code",
   "execution_count": 4,
   "metadata": {
    "collapsed": true
   },
   "outputs": [],
   "source": [
    "#Build hasse diagram externally\n",
    "\n",
    "from Simplex2Vec.utils import read_simplex_json\n",
    "from Simplex2Vec.simplex2hasse import simplex2hasse_HOexponential\n",
    "\n",
    "in_file = \"./data/sociopatterns_facets/aggr_5min_cliques_InVS15.json\"\n",
    "\n",
    "data = read_simplex_json(in_file)"
   ]
  },
  {
   "cell_type": "code",
   "execution_count": null,
   "metadata": {},
   "outputs": [],
   "source": [
    "g_hasse = simplex2hasse_HOexponential(data, max_order=None)"
   ]
  },
  {
   "cell_type": "code",
   "execution_count": null,
   "metadata": {},
   "outputs": [],
   "source": [
    "# build model from external hasse diagram\n",
    "s2v = Simplex2Vec.from_hasse_diagram(g_hasse, n_walks=1, walk_length=10)\n",
    "model = s2v.fit()"
   ]
  },
  {
   "cell_type": "code",
   "execution_count": null,
   "metadata": {},
   "outputs": [],
   "source": [
    "# limit order of imported hasse diagram\n",
    "s2v = Simplex2Vec.from_hasse_diagram(g_hasse, n_walks=1, walk_length=10, hasse_max_order=2)"
   ]
  },
  {
   "cell_type": "code",
   "execution_count": null,
   "metadata": {},
   "outputs": [],
   "source": [
    "# warning if you try to set a limit higher than what is present in the external hasse diagram\n",
    "g_hasse = simplex2hasse_HOexponential(data, max_order=2)\n",
    "print()\n",
    "\n",
    "s2v = Simplex2Vec.from_hasse_diagram(g_hasse, n_walks=1, walk_length=10, hasse_max_order=3)"
   ]
  },
  {
   "cell_type": "markdown",
   "metadata": {},
   "source": [
    "## check higher order link prediction"
   ]
  },
  {
   "cell_type": "code",
   "execution_count": 1,
   "metadata": {},
   "outputs": [],
   "source": [
    "import numpy as np\n",
    "import networkx as nx\n",
    "\n",
    "from Simplex2Vec.Simplex2Vec import Simplex2Vec\n",
    "from Simplex2Vec.utils import check_prediction"
   ]
  },
  {
   "cell_type": "code",
   "execution_count": 2,
   "metadata": {},
   "outputs": [],
   "source": [
    "#Build hasse diagram externally\n",
    "\n",
    "from Simplex2Vec.utils import read_simplex_json\n",
    "from Simplex2Vec.simplex2hasse import simplex2hasse_HOexponential\n",
    "\n",
    "from itertools import compress\n",
    "\n",
    "in_file = \"./data/sociopatterns_facets/aggr_5min_cliques_InVS15.json\"\n",
    "'./'\n",
    "\n",
    "data = read_simplex_json(in_file)"
   ]
  },
  {
   "cell_type": "code",
   "execution_count": null,
   "metadata": {},
   "outputs": [],
   "source": [
    "frac = 0.8\n",
    "g_hasse = simplex2hasse_HOexponential(data, max_order=None)\n",
    "g_hasse_head = simplex2hasse_HOexponential(data[:int(np.round(len(data)*frac))], max_order=None)\n"
   ]
  },
  {
   "cell_type": "code",
   "execution_count": 4,
   "metadata": {},
   "outputs": [
    {
     "name": "stdout",
     "output_type": "stream",
     "text": [
      "Full set has 217 0-d nodes\n",
      "Full set has 2217 2-d triangles\n"
     ]
    }
   ],
   "source": [
    "hh = list(g_hasse.nodes)\n",
    "hhszs = np.array([len(h) for h in hh])\n",
    "fullSetNodes = list(compress(hh,hhszs==1))\n",
    "print('Full set has ' + str(len(fullSetNodes)) + ' 0-d nodes')\n",
    "fullSetTriangles = list(compress(hh,hhszs==3))\n",
    "print('Full set has ' + str(len(fullSetTriangles)) + ' 2-d triangles')"
   ]
  },
  {
   "cell_type": "code",
   "execution_count": 5,
   "metadata": {},
   "outputs": [
    {
     "name": "stdout",
     "output_type": "stream",
     "text": [
      "Partial set has 217 0-d nodes\n",
      "Partial set has 1969 2-d triangles\n"
     ]
    }
   ],
   "source": [
    "hh = list(g_hasse_head.nodes)\n",
    "hhszs = np.array([len(h) for h in hh])\n",
    "partialSetNodes = list(compress(hh,hhszs==1))\n",
    "print('Partial set has ' + str(len(partialSetNodes)) + ' 0-d nodes')\n",
    "partialSetTriangles = list(compress(hh,hhszs==3))\n",
    "print('Partial set has ' + str(len(partialSetTriangles)) + ' 2-d triangles')"
   ]
  },
  {
   "cell_type": "code",
   "execution_count": 6,
   "metadata": {},
   "outputs": [
    {
     "name": "stdout",
     "output_type": "stream",
     "text": [
      "248\n"
     ]
    }
   ],
   "source": [
    "testSet = []\n",
    "for f in fullSetTriangles:\n",
    "    if not any(list(f <= ex for ex in partialSetTriangles)):\n",
    "        testSet.append(f)\n",
    "print(len(testSet))"
   ]
  },
  {
   "cell_type": "code",
   "execution_count": 12,
   "metadata": {},
   "outputs": [
    {
     "data": {
      "application/vnd.jupyter.widget-view+json": {
       "model_id": "c8b33d90438e46a2b5b798a22c64e5b8",
       "version_major": 2,
       "version_minor": 0
      },
      "text/plain": [
       "HBox(children=(IntProgress(value=0, description='Precomputing probabilities', max=6994, style=ProgressStyle(de…"
      ]
     },
     "metadata": {},
     "output_type": "display_data"
    },
    {
     "name": "stdout",
     "output_type": "stream",
     "text": [
      "\n",
      " "
     ]
    },
    {
     "data": {
      "application/vnd.jupyter.widget-view+json": {
       "model_id": "d4a4085670de419b883d0c17ce9bb9ab",
       "version_major": 2,
       "version_minor": 0
      },
      "text/plain": [
       "HBox(children=(IntProgress(value=0, description='Generating walks : CPU: 0', max=6994, style=ProgressStyle(des…"
      ]
     },
     "metadata": {},
     "output_type": "display_data"
    },
    {
     "name": "stdout",
     "output_type": "stream",
     "text": [
      "\n",
      "DONE!\n",
      "Fitting the Word2Vec..\n",
      "len of X is 3347\n",
      "len of X_ik is 211\n",
      "shape of X dist is (211, 211)\n",
      "Histogram of perimeters from already closed triangle\n",
      "(array([195, 120,  67,   5,  10,   5,   4,   3,   0,   2]), array([1.01453891, 1.83446523, 2.65439156, 3.47431789, 4.29424422,\n",
      "       5.11417055, 5.93409688, 6.75402321, 7.57394954, 8.39387586,\n",
      "       9.21380219]))\n",
      "Histogram of perimeters from triangles yet to close\n",
      "(array([31, 72, 40, 26, 27, 24, 13,  6,  4,  5]), array([ 0.68182183,  1.67530325,  2.66878466,  3.66226608,  4.6557475 ,\n",
      "        5.64922891,  6.64271033,  7.63619174,  8.62967316,  9.62315458,\n",
      "       10.61663599]))\n",
      "Histogram of preimeters of random node triangle\n",
      "(array([ 216, 1311, 1740, 1593, 1397, 1427, 1126,  651,  464,   75]), array([ 0.25809616,  1.33610615,  2.41411613,  3.49212612,  4.57013611,\n",
      "        5.64814609,  6.72615608,  7.80416607,  8.88217606,  9.96018604,\n",
      "       11.03819603]))\n"
     ]
    },
    {
     "data": {
      "image/png": "[encoded data removed]",
      "text/plain": [
       "<Figure size 432x288 with 1 Axes>"
      ]
     },
     "metadata": {
      "needs_background": "light"
     },
     "output_type": "display_data"
    },
    {
     "name": "stdout",
     "output_type": "stream",
     "text": [
      "One-sided Kolmogorov-Smirnov statistic that test distribution is less than control, p value: 0.9409687326087589\n",
      "One-sided Kolmogorov-Smirnov statistic that ideal distribution is less than control, p value: 0.9349698630038411\n",
      "len of X is 3347\n",
      "len of X_ik is 211\n",
      "shape of X dist is (211, 211)\n",
      "Histogram of perimeters from already closed triangle\n",
      "(array([ 35,  73, 103,  90,  60,  34,  12,   3,   0,   1]), array([0.00167728, 0.00589325, 0.01010923, 0.0143252 , 0.01854117,\n",
      "       0.02275715, 0.02697312, 0.03118909, 0.03540507, 0.03962104,\n",
      "       0.04383701]))\n",
      "Histogram of perimeters from triangles yet to close\n",
      "(array([84, 73, 35, 26, 16, 10,  2,  1,  0,  1]), array([0.00082241, 0.00829482, 0.01576723, 0.02323964, 0.03071204,\n",
      "       0.03818445, 0.04565686, 0.05312927, 0.06060167, 0.06807408,\n",
      "       0.07554649]))\n",
      "Histogram of preimeters of random node triangle\n",
      "(array([5520, 2574,  990,  502,  281,   85,   29,    8,    7,    4]), array([0.00061671, 0.01125095, 0.02188518, 0.03251941, 0.04315365,\n",
      "       0.05378788, 0.06442211, 0.07505635, 0.08569058, 0.09632481,\n",
      "       0.10695905]))\n"
     ]
    },
    {
     "data": {
      "image/png": "[encoded data removed]",
      "text/plain": [
       "<Figure size 432x288 with 1 Axes>"
      ]
     },
     "metadata": {
      "needs_background": "light"
     },
     "output_type": "display_data"
    },
    {
     "name": "stdout",
     "output_type": "stream",
     "text": [
      "One-sided Kolmogorov-Smirnov statistic that test distribution is less than control, p value: 0.0001296367091470453\n",
      "One-sided Kolmogorov-Smirnov statistic that ideal distribution is less than control, p value: 9.95770454824616e-26\n"
     ]
    }
   ],
   "source": [
    "s2v = Simplex2Vec.from_hasse_diagram(g_hasse_head, n_walks=1, walk_length=10, hasse_max_order=None)\n",
    "\n",
    "model = s2v.fit()\n",
    "\n",
    "check_prediction(s2v,testSet,metric='euclidean')\n",
    "check_prediction(s2v,testSet,metric='cosine')"
   ]
  },
  {
   "cell_type": "markdown",
   "metadata": {},
   "source": [
    "#### Model significantly improves after further training of embedding"
   ]
  },
  {
   "cell_type": "code",
   "execution_count": 9,
   "metadata": {},
   "outputs": [
    {
     "data": {
      "application/vnd.jupyter.widget-view+json": {
       "model_id": "16b55419d1fd4ac7951174df86ccbe83",
       "version_major": 2,
       "version_minor": 0
      },
      "text/plain": [
       "HBox(children=(IntProgress(value=0, description='Precomputing probabilities', max=6994, style=ProgressStyle(de…"
      ]
     },
     "metadata": {},
     "output_type": "display_data"
    },
    {
     "name": "stdout",
     "output_type": "stream",
     "text": [
      "\n",
      " "
     ]
    },
    {
     "data": {
      "application/vnd.jupyter.widget-view+json": {
       "model_id": "8aa8b39d4bbe448d8573d4dbf5f696af",
       "version_major": 2,
       "version_minor": 0
      },
      "text/plain": [
       "HBox(children=(IntProgress(value=0, description='Generating walks : CPU: 0', max=6994, style=ProgressStyle(des…"
      ]
     },
     "metadata": {},
     "output_type": "display_data"
    },
    {
     "name": "stdout",
     "output_type": "stream",
     "text": [
      "\n",
      "DONE!\n",
      "Fitting the Word2Vec..\n",
      "len of X is 6994\n",
      "len of X_ik is 217\n",
      "shape of X dist is (217, 217)\n",
      "Histogram of perimeters from already closed triangle\n",
      "(array([  8,  58, 120, 300, 509, 565, 259, 115,  27,   8]), array([1.29622285, 1.46170836, 1.62719387, 1.79267939, 1.9581649 ,\n",
      "       2.12365041, 2.28913593, 2.45462144, 2.62010696, 2.78559247,\n",
      "       2.95107798]))\n",
      "Histogram of perimeters from triangles yet to close\n",
      "(array([ 6, 11, 11, 22, 34, 60, 54, 34, 10,  6]), array([1.39326429, 1.53865518, 1.68404608, 1.82943697, 1.97482786,\n",
      "       2.12021876, 2.26560965, 2.41100054, 2.55639144, 2.70178233,\n",
      "       2.84717322]))\n",
      "Histogram of preimeters of random node triangle\n",
      "(array([   8,   32,  100,  256,  906, 2196, 3408, 2542,  534,   18]), array([1.60284571, 1.81951743, 2.03618914, 2.25286086, 2.46953257,\n",
      "       2.68620429, 2.90287601, 3.11954772, 3.33621944, 3.55289115,\n",
      "       3.76956287]))\n"
     ]
    },
    {
     "data": {
      "image/png": "[encoded data removed]",
      "text/plain": [
       "<Figure size 432x288 with 1 Axes>"
      ]
     },
     "metadata": {
      "needs_background": "light"
     },
     "output_type": "display_data"
    },
    {
     "name": "stdout",
     "output_type": "stream",
     "text": [
      "One-sided Kolmogorov-Smirnov statistic that test distribution is less than control, p value: 1.0\n",
      "One-sided Kolmogorov-Smirnov statistic that ideal distribution is less than control, p value: 1.0\n"
     ]
    }
   ],
   "source": [
    "s2v = Simplex2Vec.from_hasse_diagram(g_hasse_head, n_walks=10, walk_length=100, hasse_max_order=None)\n",
    "\n",
    "model = s2v.fit()\n",
    "\n",
    "check_prediction(s2v,testSet,metric='cosine')"
   ]
  },
  {
   "cell_type": "code",
   "execution_count": 10,
   "metadata": {},
   "outputs": [
    {
     "name": "stdout",
     "output_type": "stream",
     "text": [
      "len of X is 6994\n",
      "len of X_ik is 217\n",
      "shape of X dist is (217, 217)\n",
      "Histogram of perimeters from already closed triangle\n",
      "(array([  9,  21,  71, 234, 598, 443, 341, 179,  60,  13]), array([ 62.49205625,  66.90122406,  71.31039188,  75.7195597 ,\n",
      "        80.12872752,  84.53789533,  88.94706315,  93.35623097,\n",
      "        97.76539879, 102.1745666 , 106.58373442]))\n",
      "Histogram of perimeters from triangles yet to close\n",
      "(array([ 7,  7, 16, 34, 38, 59, 38, 33, 11,  5]), array([ 70.23603942,  73.60555459,  76.97506977,  80.34458494,\n",
      "        83.71410012,  87.0836153 ,  90.45313047,  93.82264565,\n",
      "        97.19216082, 100.561676  , 103.93119118]))\n",
      "Histogram of preimeters of random node triangle\n",
      "(array([   5,    5,   25,  100,  324, 1083, 2052, 3666, 2512,  228]), array([ 38.21270534,  46.50023059,  54.78775583,  63.07528108,\n",
      "        71.36280632,  79.65033156,  87.93785681,  96.22538205,\n",
      "       104.5129073 , 112.80043254, 121.08795779]))\n"
     ]
    },
    {
     "data": {
      "image/png": "[encoded data removed]",
      "text/plain": [
       "<Figure size 432x288 with 1 Axes>"
      ]
     },
     "metadata": {
      "needs_background": "light"
     },
     "output_type": "display_data"
    },
    {
     "name": "stdout",
     "output_type": "stream",
     "text": [
      "One-sided Kolmogorov-Smirnov statistic that test distribution is less than control, p value: 0.929557048139781\n",
      "One-sided Kolmogorov-Smirnov statistic that ideal distribution is less than control, p value: 0.917712662600911\n"
     ]
    }
   ],
   "source": [
    "check_prediction(s2v,testSet,metric='euclidean')"
   ]
  },
  {
   "cell_type": "markdown",
   "metadata": {},
   "source": [
    "#### Note: The original hasse_diag graph is not modified by limiting the simplex order in the creation of the Simplex2vec object and can thus be reused."
   ]
  },
  {
   "cell_type": "markdown",
   "metadata": {},
   "source": [
    "# Example: Clustering \n",
    "\n",
    "The data we use here is the cluster encounters at school. Simplices are formed if students spend time together for sufficient time. The data has labels also for teachers, however we do not know which class they belong to. Thus we specifically exclude them from the data and keep track of their labels in **teachers_labels**."
   ]
  },
  {
   "cell_type": "code",
   "execution_count": 23,
   "metadata": {},
   "outputs": [
    {
     "name": "stdout",
     "output_type": "stream",
     "text": [
      "Number of students 329\n",
      "Number of classes 9\n"
     ]
    }
   ],
   "source": [
    "import numpy as np\n",
    "import networkx as nx\n",
    "import json\n",
    "from collections import defaultdict\n",
    "\n",
    "from Simplex2Vec.Simplex2Vec import Simplex2Vec\n",
    "\n",
    "from Simplex2Vec.utils import read_simplex_json\n",
    "from Simplex2Vec.simplex2hasse import *\n",
    "\n",
    "def Data2Simplex(path):\n",
    "    data = open(path)\n",
    "    list_simplices = json.load(data)\n",
    "    list_simplices_fs=[frozenset([str(i) for i in li]) for li in list_simplices]\n",
    "    return list_simplices_fs\n",
    "\n",
    "data_dir = \"./data/sociopatterns_facets/\"\n",
    "data_file = \"aggr_10min_cliques_Thiers13.json\"\n",
    "in_file = os.path.join(data_dir, data_file)\n",
    "\n",
    "meta_data_path = \"./data/sociopatterns_meta/META_cliques_Thiers13.tsv\"\n",
    "\n",
    "data = Data2Simplex(in_file)\n",
    "\n",
    "# META information\n",
    "with open(meta_data_path, 'r') as fh:\n",
    "    f_meta = np.loadtxt(fh, dtype=str, delimiter='\\t')\n",
    "    \n",
    "teachers_labels = set([])\n",
    "for x,c in f_meta[:,[0,1]]:\n",
    "    if c == 'Teachers':\n",
    "        teachers_labels.add(x)\n",
    "\n",
    "num_students = 0\n",
    "classes_list = set([])\n",
    "for person in f_meta:\n",
    "    if person[1] != 'Teachers':\n",
    "        classes_list.add(person[1])\n",
    "        num_students += 1\n",
    "        \n",
    "num_classes = len(classes_list)\n",
    "print(\"Number of students\", num_students)\n",
    "print(\"Number of classes\", num_classes)"
   ]
  },
  {
   "cell_type": "code",
   "execution_count": 34,
   "metadata": {
    "collapsed": true
   },
   "outputs": [],
   "source": [
    "# requirement: sklearn and clusim packages . can be installed through pip.\n",
    "import clusim.sim as sim\n",
    "from clusim.clustering import Clustering\n",
    "from sklearn.cluster import KMeans, DBSCAN, AgglomerativeClustering\n",
    "from sklearn.manifold import TSNE\n",
    "\n",
    "# sample function that clusters the embedding using KMeans clustering. You may use any other clustering algorithm\n",
    "def clusterer(model, num_classes, teachers_labels = set([])):\n",
    "    X = []\n",
    "    X_labels = []\n",
    "\n",
    "    for u in model.wv.vocab.keys():\n",
    "        if len(u.split('-')) == 1 and u not in teachers_labels:\n",
    "            X.append(model[u])\n",
    "            X_labels.append(u)\n",
    "\n",
    "    clusterer = KMeans(n_clusters=num_classes)\n",
    "    pred_cluster_labels = clusterer.fit_predict(X)\n",
    "\n",
    "    X_labels_pred_clusters = []\n",
    "    predicted_clusters_dict = defaultdict(list)\n",
    "    for x,c in zip(X_labels, pred_cluster_labels):\n",
    "        predicted_clusters_dict[x].append(c)\n",
    "        X_labels_pred_clusters.append((x,c))\n",
    "\n",
    "    true_cluster_indices_dict = dict([(c,i) for i,c in enumerate(np.unique(f_meta[:,1]))])\n",
    "\n",
    "    true_clusters_dict = defaultdict(list)\n",
    "    for x, c in f_meta[:,[0,1]]:\n",
    "        if x in predicted_clusters_dict:\n",
    "            true_clusters_dict[x].append(true_cluster_indices_dict[c])\n",
    "    \n",
    "    X_labels_true_clusters = []\n",
    "    for lbl in X_labels:\n",
    "        X_labels_true_clusters.append((lbl, true_clusters_dict[lbl][0]))\n",
    "        \n",
    "    return X, X_labels_pred_clusters, X_labels_true_clusters\n",
    "\n",
    "# Output NMI - normalized mutual information of two clusterings\n",
    "def get_NMI(X_labels_pred_clusters, X_labels_true_clusters):\n",
    "    warnings.filterwarnings(\"ignore\")\n",
    "    \n",
    "    true_clusters_dict = {node: [lbl] for node, lbl in X_labels_true_clusters}\n",
    "    predicted_clusters_dict = {node: [lbl] for node, lbl in X_labels_pred_clusters}\n",
    "    \n",
    "    c_true = Clustering(true_clusters_dict)\n",
    "    c_pred = Clustering(predicted_clusters_dict)\n",
    "    NMI = sim.nmi(c_pred, c_true)\n",
    "    \n",
    "    return NMI\n",
    "\n",
    "# find relabelling of the predicted clusters, that match the true labels with max accuracy\n",
    "def get_max_accuracy_labels(X_labels_pred_clusters, X_labels_true_clusters):\n",
    "    from tqdm import tqdm\n",
    "    def accuracy_score(y_pred, y_true):\n",
    "        score = 0\n",
    "        for i in range(len(y_pred)):\n",
    "            if y_pred[i] == y_true[i]:\n",
    "                score += 1\n",
    "        score /= float(len(y_pred))\n",
    "        return score\n",
    "    \n",
    "    sorted_predicted_clusters = sorted(X_labels_pred_clusters, key = lambda x: x[0])\n",
    "    predicted_clusters = [v[1] for v in sorted_predicted_clusters]\n",
    "    \n",
    "    sorted_true_clusters = sorted(X_labels_true_clusters, key = lambda x: x[0])\n",
    "    true_clusters = [v[1] for v in sorted_true_clusters]\n",
    "    sorted_labels = [v[0] for v in sorted_true_clusters]\n",
    "    \n",
    "    max_accuracy = 0\n",
    "    max_accuracy_clusters = []\n",
    "    label_permutations_list = list(itertools.permutations(range(max(true_clusters)+1)))\n",
    "    for perm_map in tqdm(label_permutations_list, desc = \"Max accuracy\"):\n",
    "        predicted_clusters_temp = []\n",
    "        for i in predicted_clusters:\n",
    "            predicted_clusters_temp.append(perm_map[i])\n",
    "        if max_accuracy < accuracy_score(predicted_clusters_temp, true_clusters):\n",
    "            max_accuracy = accuracy_score(predicted_clusters_temp, true_clusters)\n",
    "            max_accuracy_clusters.clear()\n",
    "            max_accuracy_clusters = predicted_clusters_temp\n",
    "            \n",
    "    max_acc_dict = {x: max_accuracy_clusters[i] for i, x in enumerate(sorted_labels)}\n",
    "    return max_acc_dict\n",
    "\n",
    "# plot graphically the embedding\n",
    "def plot_clusterings(X, X_labels_pred_clusters, X_labels_true_clusters, teachers_labels = set([]),\n",
    "                     max_accuracy_dict = {}):\n",
    "    import matplotlib.pyplot as plt\n",
    "    from matplotlib import cm\n",
    "    \n",
    "    X_transform = TSNE(n_components=2).fit_transform(X)\n",
    "    X_labels = [node for node, lbl in X_labels_pred_clusters]\n",
    "    if len(max_accuracy_dict):\n",
    "        cluster_labels_pred = [max_accuracy_dict[node] for node, lbl in X_labels_pred_clusters]\n",
    "    else:\n",
    "        cluster_labels_pred = [lbl for node, lbl in X_labels_pred_clusters]\n",
    "    \n",
    "    fig, axs = plt.subplots(1,2,figsize = (10,5), dpi = 96)\n",
    "\n",
    "    # Plot showing the predicted clusters formed\n",
    "    colors_list = cm.nipy_spectral(np.asarray(cluster_labels_pred).astype(float) / num_classes)\n",
    "    axs[0].scatter(*zip(*X_transform), marker='.', s=50, lw=0, alpha=0.7,\n",
    "                     c = colors_list, edgecolor='k')\n",
    "\n",
    "    for i, label in enumerate(X_labels):\n",
    "        x,y = X_transform[i]\n",
    "        if label in teachers_labels:\n",
    "            axs[0].annotate(\"TEACHER\", (x,y))\n",
    "    axs[0].set_title('Predicted clustering', fontsize=20)\n",
    "    \n",
    "    # Plot showing the actual clusters formed\n",
    "    cluster_labels_true = [lbl for node, lbl in X_labels_true_clusters]\n",
    "    colors_list = cm.nipy_spectral(np.asarray(cluster_labels_true).astype(float) / num_classes)\n",
    "    axs[1].scatter(*zip(*X_transform), marker='.', s=50, lw=0, alpha=0.7,\n",
    "                     c = colors_list, edgecolor='k')\n",
    "\n",
    "    for i, label in enumerate(X_labels):\n",
    "        x,y = X_transform[i]\n",
    "        if label in teachers_labels:\n",
    "            axs[1].annotate(\"TEACHER\", (x,y))\n",
    "    axs[1].set_title('True Clustering', fontsize=15)\n",
    "\n",
    "    fig.suptitle(in_file.rsplit('/',1)[-1].split('.')[0], fontsize=20)\n",
    "    plt.show()"
   ]
  },
  {
   "cell_type": "code",
   "execution_count": null,
   "metadata": {},
   "outputs": [],
   "source": [
    "# create Hasse diagram\n",
    "g_hasse = simplex2hasse_uniform(data, max_order = None)\n",
    "\n",
    "# perform embedding with the below mentioned parameters\n",
    "n_walks = 1\n",
    "w_len = 100\n",
    "rw_bias = \"LOexp\"\n",
    "p_return = 1000000000.\n",
    "w2v_size = 100\n",
    "w2v_window = 10\n",
    "workers = 3\n",
    "\n",
    "s2v = Simplex2Vec.from_hasse_diagram(g_hasse, n_walks=n_walks, walk_length=w_len, rw_bias = rw_bias,\n",
    "                                        p = p_return, workers = workers, is_quiet = False)\n",
    "s2v_model = s2v.fit(size = w2v_size, window = w2v_window)\n",
    "\n",
    "# cluster the data \n",
    "X, X_labels_pred_clusters, X_labels_true_clusters = clusterer(s2v_model, num_classes, \n",
    "                                                              teachers_labels = teachers_labels)\n",
    "# produce NMI of the clustering\n",
    "NMI = get_NMI(X_labels_pred_clusters, X_labels_true_clusters)"
   ]
  },
  {
   "cell_type": "code",
   "execution_count": 36,
   "metadata": {},
   "outputs": [
    {
     "name": "stdout",
     "output_type": "stream",
     "text": [
      "NMI: 1.0\n"
     ]
    },
    {
     "data": {
      "image/png": "[encoded data removed]",
      "text/plain": [
       "<Figure size 960x480 with 2 Axes>"
      ]
     },
     "metadata": {
      "needs_background": "light"
     },
     "output_type": "display_data"
    }
   ],
   "source": [
    "print(\"NMI:\", NMI)\n",
    "max_acc_dict = get_max_accuracy_labels(X_labels_pred_clusters, X_labels_true_clusters)\n",
    "plot_clusterings(X, X_labels_pred_clusters, X_labels_true_clusters, teachers_labels = teachers_labels,\n",
    "                max_accuracy_dict=max_acc_dict)"
   ]
  },
  {
   "cell_type": "markdown",
   "metadata": {},
   "source": [
    "# USE CASE\n",
    "\n",
    "!! Currently under development !! "
   ]
  },
  {
   "cell_type": "code",
   "execution_count": null,
   "metadata": {
    "collapsed": true
   },
   "outputs": [],
   "source": [
    "### EXAMPLE: create embeddings using increasingly higher orders without re-building hasse diag.\n",
    "\n",
    "\n",
    "#Build hasse diagram externally\n",
    "\n",
    "import numpy as np\n",
    "import networkx as nx\n",
    "\n",
    "from Simplex2Vec.Simplex2Vec import Simplex2Vec\n",
    "\n",
    "from Simplex2Vec.utils import read_simplex_json\n",
    "from Simplex2Vec.simplex2hasse import *\n",
    "\n",
    "in_file = \"./data/sociopatterns_facets/aggr_5min_cliques_InVS15.json\"\n",
    "\n",
    "data = read_simplex_json(in_file)"
   ]
  },
  {
   "cell_type": "code",
   "execution_count": null,
   "metadata": {
    "collapsed": true
   },
   "outputs": [],
   "source": [
    "hasse_diag = simplex2hasse_proportional(data, max_order=None)"
   ]
  },
  {
   "cell_type": "code",
   "execution_count": null,
   "metadata": {
    "collapsed": true
   },
   "outputs": [],
   "source": [
    "\n",
    "for order in range(1,4):\n",
    "    \n",
    "    s2v = Simplex2Vec.from_hasse_diagram(hasse_diag, n_walks=1, walk_length=10, hasse_max_order=order)\n",
    "    \n",
    "    print('\\nMAX ORDER = {}'.format(order))\n",
    "    print(nx.info(s2v.get_hasse_diagram(copy=False)))\n",
    "    \n",
    "    #model = s2v.fit()\n"
   ]
  },
  {
   "cell_type": "code",
   "execution_count": null,
   "metadata": {
    "collapsed": true
   },
   "outputs": [],
   "source": [
    "hasse_diag = simplex2hasse_LOadjusted(data, max_order=None)"
   ]
  },
  {
   "cell_type": "code",
   "execution_count": null,
   "metadata": {
    "collapsed": true
   },
   "outputs": [],
   "source": [
    "for order in range(1,4):\n",
    "    \n",
    "    s2v = Simplex2Vec.from_hasse_diagram(hasse_diag, n_walks=1, walk_length=10, hasse_max_order=order)\n",
    "    \n",
    "    print('\\nMAX ORDER = {}'.format(order))\n",
    "    print(nx.info(s2v.get_hasse_diagram(copy=False)))\n",
    "    \n",
    "    #model = s2v.fit()\n",
    "    "
   ]
  },
  {
   "cell_type": "markdown",
   "metadata": {},
   "source": [
    "# Weighted distance matrix of brain data"
   ]
  },
  {
   "cell_type": "code",
   "execution_count": null,
   "metadata": {
    "collapsed": true
   },
   "outputs": [],
   "source": [
    "import numpy as np\n",
    "import networkx as nx\n",
    "\n",
    "from Simplex2Vec.Simplex2Vec import Simplex2Vec\n",
    "from Simplex2Vec.utils import read_data_HCP\n",
    "from os.path import join as osjoin"
   ]
  },
  {
   "cell_type": "code",
   "execution_count": null,
   "metadata": {
    "collapsed": true
   },
   "outputs": [],
   "source": [
    "ICAOrder = 15\n",
    "data_path = \"./data/HCP_Netmats/ICA\" + str(ICAOrder) \n",
    "#data_path = \"/home/jcwbillings/Documents/complexity72h/doublenegroni/data/HCP_PTN1200/netmats_3T_HCP1200_MSMAll_ICAd\" + str(ICAOrder) + \"_ts2/netmats/3T_HCP1200_MSMAll_d\" + str(ICAOrder) + \"_ts2\"\n",
    "filename = osjoin(data_path, 'Mnet2.pconn.nii')\n",
    "\n",
    "data = read_data_HCP(filename)              \n",
    "# HCP ICA data are delivered as gaussian distributed correlation z-stats. Proceed accordingly\n",
    "# Take caution for thresholds less than the 50th percentile, self-loops and negative correlations will be included"
   ]
  },
  {
   "cell_type": "code",
   "execution_count": null,
   "metadata": {
    "collapsed": true
   },
   "outputs": [],
   "source": [
    "s2v = Simplex2Vec.from_graph(data, \n",
    "                               threshold=np.percentile(data,55), \n",
    "                               n_walks=10, \n",
    "                               walk_length=20, \n",
    "                               workers=1,\n",
    "                               hasse_max_order = 3)"
   ]
  },
  {
   "cell_type": "code",
   "execution_count": null,
   "metadata": {
    "collapsed": true
   },
   "outputs": [],
   "source": [
    "model=s2v.fit()"
   ]
  },
  {
   "cell_type": "code",
   "execution_count": null,
   "metadata": {
    "collapsed": true
   },
   "outputs": [],
   "source": [
    "model=s2v.refit()"
   ]
  },
  {
   "cell_type": "code",
   "execution_count": null,
   "metadata": {
    "collapsed": true
   },
   "outputs": [],
   "source": [
    "from ast import literal_eval\n",
    "from sklearn.manifold import TSNE\n",
    "from sklearn.cluster import KMeans, DBSCAN\n",
    "import matplotlib.pyplot as plt\n",
    "import matplotlib.cm as cm\n",
    "\n",
    "X = []\n",
    "X_labels = []\n",
    "X_bNodes = []\n",
    "X_sizes = []\n",
    "for u in model.wv.vocab.keys():\n",
    "    X.append(model[u])\n",
    "    #X_labels.append(\"\".join(list(u)))\n",
    "    X_labels.append(u)\n",
    "    X_bNodes.append(literal_eval(X_labels[-1]))\n",
    "    X_sizes.append(np.size(X_bNodes[-1]))\n",
    "\n",
    "\n",
    "X_transform = TSNE(n_components=2).fit_transform(X)"
   ]
  },
  {
   "cell_type": "code",
   "execution_count": null,
   "metadata": {
    "collapsed": true
   },
   "outputs": [],
   "source": [
    "n_clusters = 4\n",
    "\n",
    "clusterer = KMeans(n_clusters=n_clusters)\n",
    "cluster_labels = clusterer.fit_predict(X)\n",
    "clusterer_for_labels = KMeans(n_clusters=n_clusters, random_state=10)\n",
    "clusterer_for_labels_centers = clusterer_for_labels.fit_predict(X_transform)\n",
    "\n",
    "colors2 = cm.nipy_spectral(np.arange(n_clusters) / n_clusters)\n",
    "\n",
    "for hh in range(max(X_sizes)):\n",
    "\n",
    "    plt.figure(figsize = (12,9))\n",
    "    ax = plt.gca()\n",
    "    # 2nd Plot showing the actual clusters formed\n",
    "    colors = cm.nipy_spectral(cluster_labels.astype(float) / n_clusters)\n",
    "    ax.scatter(*zip(*X_transform), marker='o', s=50, lw=0, alpha=0.7,\n",
    "                     c = colors, edgecolor='k')\n",
    "    \n",
    "    for i, label in enumerate(X_labels):\n",
    "        x,y = X_transform[i]\n",
    "        if X_sizes[i]==hh+1:\n",
    "            ax.annotate(label, (x,y))\n",
    "    ax.set_title(\"PCA embedding of the data into 2-dim space\")\n",
    "    plt.show()"
   ]
  },
  {
   "cell_type": "code",
   "execution_count": null,
   "metadata": {
    "collapsed": true
   },
   "outputs": [],
   "source": []
  }
 ],
 "metadata": {
  "kernelspec": {
   "display_name": "Python 3",
   "language": "python",
   "name": "python3"
  },
  "language_info": {
   "codemirror_mode": {
    "name": "ipython",
    "version": 3
   },
   "file_extension": ".py",
   "mimetype": "text/x-python",
   "name": "python",
   "nbconvert_exporter": "python",
   "pygments_lexer": "ipython3",
   "version": "3.6.8"
  }
 },
 "nbformat": 4,
 "nbformat_minor": 2
}
