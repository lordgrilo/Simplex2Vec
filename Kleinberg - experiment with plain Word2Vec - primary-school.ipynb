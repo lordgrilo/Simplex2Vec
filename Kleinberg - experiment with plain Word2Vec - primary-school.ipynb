{
 "cells": [
  {
   "cell_type": "code",
   "execution_count": null,
   "metadata": {},
   "outputs": [],
   "source": [
    "import math\n",
    "import numpy as np\n",
    "import matplotlib.pyplot as plt\n",
    "import networkx as nx\n",
    "import pickle\n",
    "import json\n",
    "import itertools\n",
    "from tqdm import tqdm_notebook\n",
    "from scipy.spatial.distance import pdist\n",
    "from sklearn.metrics import precision_recall_curve, auc, f1_score\n",
    "from Simplex2Vec.utils import read_simplex_json\n",
    "\n",
    "from kleinberg_experiment import *\n",
    "plt.style.use('seaborn')"
   ]
  },
  {
   "cell_type": "markdown",
   "metadata": {},
   "source": [
    "# Upload Kleinberg data into memory"
   ]
  },
  {
   "cell_type": "markdown",
   "metadata": {},
   "source": [
    "We use the dataset of primary school contacts first (from Sociopatterns). We use the dataset provided by Kleinberg et al. Below we upload the simplices to the memory."
   ]
  },
  {
   "cell_type": "code",
   "execution_count": null,
   "metadata": {},
   "outputs": [],
   "source": [
    "dataset = \"contact-primary-school\"\n",
    "data_dir = \"./data/kleinberg/{}/\".format(dataset)\n",
    "simplex_file = \"{}-simplices.txt\".format(dataset)\n",
    "size_file = \"{}-nverts.txt\".format(dataset)\n",
    "\n",
    "simplexf = open(data_dir + simplex_file, 'r')\n",
    "sizef = open(data_dir + size_file, 'r')"
   ]
  },
  {
   "cell_type": "code",
   "execution_count": null,
   "metadata": {},
   "outputs": [],
   "source": [
    "simplex_sizes = []\n",
    "for s in tqdm_notebook(sizef):\n",
    "    ss = s.strip()\n",
    "    simplex_sizes.append(int(ss))\n",
    "\n",
    "print(\"Min simplex size: {}, max simplex_size: {}\".format(min(simplex_sizes), max(simplex_sizes)))"
   ]
  },
  {
   "cell_type": "code",
   "execution_count": null,
   "metadata": {},
   "outputs": [],
   "source": [
    "node_list = set([])\n",
    "simplex_list = []\n",
    "exceptions = []\n",
    "cut_size = 200000\n",
    "cut_len_size = 7\n",
    "for s in tqdm_notebook(simplex_sizes):\n",
    "    if s <= cut_len_size:\n",
    "        one_simplex = []\n",
    "        for i in range(s):\n",
    "            rl = simplexf.readline()\n",
    "            n = rl.strip()\n",
    "            try:\n",
    "                one_simplex.append(int(n))\n",
    "                node_list.add(int(n))\n",
    "            except:\n",
    "                exceptions.append(rl)\n",
    "        simplex_list.append(frozenset(one_simplex))\n",
    "        if len(simplex_list) > cut_size:\n",
    "            break\n",
    "print(\"Exceptions:\", len(exceptions))"
   ]
  },
  {
   "cell_type": "markdown",
   "metadata": {},
   "source": [
    "# Upload our data into memory"
   ]
  },
  {
   "cell_type": "code",
   "execution_count": null,
   "metadata": {},
   "outputs": [],
   "source": [
    "in_file = \"./data/sociopatterns_facets/aggr_5min_cliques_InVS15.json\"\n",
    "\n",
    "simplex_list = read_simplex_json(in_file)"
   ]
  },
  {
   "cell_type": "markdown",
   "metadata": {},
   "source": [
    "Kleinberg's sets their experiment as follows. On the first 80% of data they find the set of *open* triangles, i.e. the triangles in the projected graph (the one you obtain by projecting all interactions) which have all edges participating in some cliques, but not all three together in one clique. \n",
    "\n",
    "Then on the test set, they make a prediction  which open triangles from the test set will close (there will appear a clique containing this triangle). \n",
    "\n",
    "They compare their prediction with random null model, where each clique has independent probability to close which is equal to the number of closed triangles/total number of open triangles. \n",
    "\n",
    "The measure they compare is the AUC PR (area under the precision-recall curve), relative to AUC PR of the random null model. "
   ]
  },
  {
   "cell_type": "markdown",
   "metadata": {},
   "source": [
    "# Find open triangles"
   ]
  },
  {
   "cell_type": "markdown",
   "metadata": {},
   "source": [
    "Split the set of all simplices to train set (first 80%) and test set (rest 20%)."
   ]
  },
  {
   "cell_type": "code",
   "execution_count": null,
   "metadata": {},
   "outputs": [],
   "source": [
    "threshold = int(0.8*len(simplex_list))\n",
    "train_simplices = simplex_list[:threshold]\n",
    "test_simplices = simplex_list[threshold:]"
   ]
  },
  {
   "cell_type": "markdown",
   "metadata": {},
   "source": [
    "Find all closed and open triangles in the train and test set"
   ]
  },
  {
   "cell_type": "code",
   "execution_count": null,
   "metadata": {},
   "outputs": [],
   "source": [
    "g_train = get_projected_graph(train_simplices, info = True)\n",
    "open_train, closed_train = get_open_closed_triangles(g_train, info = True)"
   ]
  },
  {
   "cell_type": "code",
   "execution_count": null,
   "metadata": {},
   "outputs": [],
   "source": [
    "g_total = get_projected_graph(simplex_list, info = True)\n",
    "open_total, closed_total = get_open_closed_triangles(g_total, info = True)"
   ]
  },
  {
   "cell_type": "markdown",
   "metadata": {},
   "source": [
    "Look which triangles have closed"
   ]
  },
  {
   "cell_type": "code",
   "execution_count": null,
   "metadata": {},
   "outputs": [],
   "source": [
    "closed_from_test = [t for t in closed_total if t in open_train]\n",
    "print(len(closed_from_test))\n",
    "open_from_test = [t for t in open_total if t in open_train]\n",
    "print(len(open_from_test))"
   ]
  },
  {
   "cell_type": "markdown",
   "metadata": {},
   "source": [
    "Get the probability vector for null model and y_true for future comparison."
   ]
  },
  {
   "cell_type": "code",
   "execution_count": null,
   "metadata": {},
   "outputs": [],
   "source": [
    "y_true = [1 if t in closed_from_test else 0 for t in open_train]\n",
    "print(len(y_true))\n",
    "prediction_null_model = np.asarray([sum(y_true)/len(y_true)]*len(y_true))\n",
    "print(sum(prediction_null_model))"
   ]
  },
  {
   "cell_type": "markdown",
   "metadata": {},
   "source": [
    "# Simplex2Vec  test\n",
    "\n",
    "Launch and train the Simplex2Vec model. "
   ]
  },
  {
   "cell_type": "code",
   "execution_count": null,
   "metadata": {},
   "outputs": [],
   "source": [
    "# import clusim.sim as sim\n",
    "# from clusim.clustering import Clustering\n",
    "from sklearn.cluster import KMeans, DBSCAN, AgglomerativeClustering\n",
    "from sklearn.manifold import TSNE\n",
    "\n",
    "from gensim.models import Word2Vec"
   ]
  },
  {
   "cell_type": "code",
   "execution_count": null,
   "metadata": {},
   "outputs": [],
   "source": [
    "simplex_sentences = []\n",
    "for s in tqdm_notebook(train_simplices):\n",
    "    for u,v in itertools.combinations(s, 2):\n",
    "        simplex_sentences.append([str(u),str(v)])"
   ]
  },
  {
   "cell_type": "code",
   "execution_count": null,
   "metadata": {},
   "outputs": [],
   "source": [
    "simplex_sentences[:10]"
   ]
  },
  {
   "cell_type": "code",
   "execution_count": null,
   "metadata": {},
   "outputs": [],
   "source": [
    "model = Word2Vec(simplex_sentences, size=240, window=2, workers = 1,)\n",
    "\n",
    "# model = s2v.train(compute_loss = True, total_examples = len(simplex_sentences), epochs = 1)"
   ]
  },
  {
   "cell_type": "code",
   "execution_count": null,
   "metadata": {},
   "outputs": [],
   "source": [
    "s2v = Simplex2Vec.from_hasse_diagram(g_hasse, p = 1, n_walks=1, \n",
    "                                     walk_length=40, workers = 1)"
   ]
  },
  {
   "cell_type": "code",
   "execution_count": null,
   "metadata": {
    "scrolled": true
   },
   "outputs": [],
   "source": [
    "class EpochShowLoss():\n",
    "    '''Callback to show training loss after each epoch '''\n",
    "\n",
    "    def __init__(self):\n",
    "        self.epoch = 0\n",
    "    \n",
    "    def on_train_begin(self, model):\n",
    "        pass\n",
    "    def on_train_end(self, model):\n",
    "        pass\n",
    "    def on_epoch_begin(self, model):\n",
    "        pass\n",
    "    def on_batch_begin(self, model):\n",
    "        pass\n",
    "    def on_batch_end(self, model):\n",
    "        pass\n",
    "        \n",
    "    def on_epoch_end(self, model):\n",
    "        print(\"Epoch {} - Model loss: {}\".format(self.epoch,\n",
    "                                              model.get_latest_training_loss()))\n",
    "        model_loss.append((self.epoch, model.get_latest_training_loss()))\n",
    "        self.epoch += 1\n",
    "model_loss = []\n",
    "model = s2v.fit(iter = 1, size=1200, window=8, workers = 1, callbacks = [EpochShowLoss()])\n",
    "# for _ in range(20):  \n",
    "#     model = s2v.refit(epochs = 1, callbacks = [EpochShowLoss()])\n",
    "    "
   ]
  },
  {
   "cell_type": "markdown",
   "metadata": {},
   "source": [
    "## Plot the embedding\n",
    "\n",
    "Extract the embedding vectors for nodes or edges and plot it on the plane using tSNE embedding."
   ]
  },
  {
   "cell_type": "code",
   "execution_count": null,
   "metadata": {},
   "outputs": [],
   "source": [
    "X = []\n",
    "X_labels = []\n",
    "\n",
    "for u in model.wv.vocab.keys():\n",
    "    if len(u.split(',')) == 1: # get all embedding vectors \n",
    "        X.append(model.wv[u])\n",
    "        \n",
    "X_transform = TSNE(n_components=2).fit_transform(X)"
   ]
  },
  {
   "cell_type": "code",
   "execution_count": 51,
   "metadata": {},
   "outputs": [
    {
     "data": {
      "image/png": "[encoded data removed]",
      "text/plain": [
       "<Figure size 576x576 with 1 Axes>"
      ]
     },
     "metadata": {
      "needs_background": "light"
     },
     "output_type": "display_data"
    }
   ],
   "source": [
    "fig = plt.figure(figsize = (6,6), dpi = 96)\n",
    "# colors_list = cm.nipy_spectral(np.asarray(pred_cluster_labels).astype(float) / num_classes)\n",
    "plt.scatter(*zip(*X_transform), marker='o', s=50, lw=0, alpha=0.7,)\n",
    "#                      c = colors_list)\n",
    "text_params = {'ha': 'center', 'va': 'center', 'family': 'oswald-light',\n",
    "                   'fontweight': 'normal', \"size\": 12}\n",
    "# for i, z in enumerate(Z_labels):\n",
    "#     x,y = X_transform[i]\n",
    "#     plt.text(x,y, z, color = \"black\", alpha=0.8)\n",
    "\n",
    "plt.title(\"Node clusters\", fontsize = 16)\n",
    "plt.show()"
   ]
  },
  {
   "cell_type": "markdown",
   "metadata": {},
   "source": [
    "# Analyze open and closed triangles distance distribution"
   ]
  },
  {
   "cell_type": "markdown",
   "metadata": {},
   "source": [
    "### Sum of pairwise cosine similarities as a predictor"
   ]
  },
  {
   "cell_type": "code",
   "execution_count": 47,
   "metadata": {},
   "outputs": [
    {
     "data": {
      "application/vnd.jupyter.widget-view+json": {
       "model_id": "9325a26af9aa45c8bd9b0b4310c241b1",
       "version_major": 2,
       "version_minor": 0
      },
      "text/plain": [
       "HBox(children=(IntProgress(value=0, max=4258), HTML(value='')))"
      ]
     },
     "metadata": {},
     "output_type": "display_data"
    },
    {
     "name": "stdout",
     "output_type": "stream",
     "text": [
      "\n",
      "Histogram of perimeters from already closed triangles\n"
     ]
    },
    {
     "data": {
      "image/png": "[encoded data removed]",
      "text/plain": [
       "<Figure size 432x288 with 1 Axes>"
      ]
     },
     "metadata": {
      "needs_background": "light"
     },
     "output_type": "display_data"
    }
   ],
   "source": [
    "already_closed_triangles_dist = []\n",
    "for t in tqdm_notebook(closed_train):\n",
    "    distance_scores = []\n",
    "    for u,v in itertools.combinations(t,2):\n",
    "        uf = str(u)\n",
    "        vf = str(v)\n",
    "        distance_scores.append(model.wv.similarity(uf,vf))\n",
    "    already_closed_triangles_dist.append(np.sum(distance_scores))\n",
    "\n",
    "len(already_closed_triangles_dist)\n",
    "\n",
    "print('Histogram of perimeters from already closed triangles')\n",
    "hist, bins = np.histogram(already_closed_triangles_dist, bins = 10)\n",
    "bin_width = bins[1] - bins[0]\n",
    "plt.bar(bins[:-1], hist, width = 0.88*bin_width)\n",
    "plt.show()"
   ]
  },
  {
   "cell_type": "code",
   "execution_count": 48,
   "metadata": {},
   "outputs": [
    {
     "data": {
      "application/vnd.jupyter.widget-view+json": {
       "model_id": "caf8a39435174429b5d47b1679fe22f6",
       "version_major": 2,
       "version_minor": 0
      },
      "text/plain": [
       "HBox(children=(IntProgress(value=0, max=685), HTML(value='')))"
      ]
     },
     "metadata": {},
     "output_type": "display_data"
    },
    {
     "name": "stdout",
     "output_type": "stream",
     "text": [
      "\n",
      "685\n",
      "Histogram of perimeters of future close triangles\n"
     ]
    },
    {
     "data": {
      "image/png": "[encoded data removed]",
      "text/plain": [
       "<Figure size 432x288 with 1 Axes>"
      ]
     },
     "metadata": {
      "needs_background": "light"
     },
     "output_type": "display_data"
    }
   ],
   "source": [
    "future_close_triangles_dist = []\n",
    "for t in tqdm_notebook(closed_from_test):\n",
    "    distance_scores = []\n",
    "    \n",
    "    for u,v in itertools.combinations(t,2):\n",
    "        uf = str(u)\n",
    "        vf = str(v)\n",
    "        distance_scores.append(model.wv.similarity(uf,vf))\n",
    "    future_close_triangles_dist.append(np.sum(distance_scores))\n",
    "\n",
    "print(len(future_close_triangles_dist))\n",
    "\n",
    "print('Histogram of perimeters of future close triangles')\n",
    "hist, bins = np.histogram(future_close_triangles_dist, bins = 10)\n",
    "bin_width = bins[1] - bins[0]\n",
    "plt.bar(bins[:-1], hist, width = 0.88*bin_width)\n",
    "plt.show()"
   ]
  },
  {
   "cell_type": "code",
   "execution_count": 49,
   "metadata": {},
   "outputs": [
    {
     "data": {
      "application/vnd.jupyter.widget-view+json": {
       "model_id": "b9035a384f0a42e0b04a5f1bf6fc0e42",
       "version_major": 2,
       "version_minor": 0
      },
      "text/plain": [
       "HBox(children=(IntProgress(value=0, max=79762), HTML(value='')))"
      ]
     },
     "metadata": {},
     "output_type": "display_data"
    },
    {
     "name": "stdout",
     "output_type": "stream",
     "text": [
      "\n",
      "79762\n",
      "Histogram of perimeters of still open triangles\n"
     ]
    },
    {
     "data": {
      "image/png": "[encoded data removed]",
      "text/plain": [
       "<Figure size 432x288 with 1 Axes>"
      ]
     },
     "metadata": {
      "needs_background": "light"
     },
     "output_type": "display_data"
    }
   ],
   "source": [
    "future_open_triangles_dist = []\n",
    "for t in tqdm_notebook(open_from_test):\n",
    "    distance_scores = []\n",
    "    for u,v in itertools.combinations(t,2):\n",
    "        uf = str(u)\n",
    "        vf = str(v)\n",
    "        distance_scores.append(model.wv.similarity(uf,vf))\n",
    "    future_open_triangles_dist.append(np.sum(distance_scores))\n",
    "\n",
    "print(len(future_open_triangles_dist))\n",
    "\n",
    "print('Histogram of perimeters of still open triangles')\n",
    "hist, bins = np.histogram(future_open_triangles_dist, bins = 10)\n",
    "bin_width = bins[1] - bins[0]\n",
    "plt.bar(bins[:-1], hist, width = 0.88*bin_width)\n",
    "plt.show()"
   ]
  },
  {
   "cell_type": "code",
   "execution_count": 50,
   "metadata": {},
   "outputs": [
    {
     "name": "stdout",
     "output_type": "stream",
     "text": [
      "Histogram of perimeters of open train triangles\n",
      "Histogram of perimeters of future close triangles\n"
     ]
    },
    {
     "data": {
      "image/png": "[encoded data removed]",
      "text/plain": [
       "<Figure size 720x480 with 1 Axes>"
      ]
     },
     "metadata": {
      "needs_background": "light"
     },
     "output_type": "display_data"
    }
   ],
   "source": [
    "plt.figure(figsize = (6,4), dpi = 120)\n",
    "\n",
    "print('Histogram of perimeters of open train triangles')\n",
    "hist, bins = np.histogram(future_open_triangles_dist, bins = 10, density=True)\n",
    "bin_width = bins[1] - bins[0]\n",
    "plt.bar(bins[:-1], hist, width = 0.88*bin_width, color = \"C2\", label = \"All open test triangles\", alpha = 0.9)\n",
    "\n",
    "print('Histogram of perimeters of future close triangles')\n",
    "hist, bins = np.histogram(np.array(future_close_triangles_dist), bins = 10, density=True)\n",
    "bin_width = bins[1] - bins[0]\n",
    "plt.bar(bins[:-1], hist, width = 0.88*bin_width, color = \"C0\", label = \"Triangles that further close\", alpha = 0.7)\n",
    "plt.legend(loc = \"best\")\n",
    "plt.ylabel(\"Density\")\n",
    "plt.xlabel(\"Sum of avg cosine similarities\")\n",
    "plt.title(\"Histogram of avg cosine distances for all open\\n triangles and those which eventually close\")\n",
    "plt.show()"
   ]
  },
  {
   "cell_type": "markdown",
   "metadata": {},
   "source": [
    "# Scoring the closing triangles - v1\n",
    "\n",
    "Now we test the predictive model based on cosine similarity. The idea is simple: if an open triangle has all nodes that have high cosine similarity to each other, then this triangle is highly likely to close in future. We use simple sum of all three similarities as a decision function.\n",
    "\n",
    "In v1 we use the similarity of pairs of nodes in a triangle."
   ]
  },
  {
   "cell_type": "code",
   "execution_count": 52,
   "metadata": {},
   "outputs": [
    {
     "data": {
      "application/vnd.jupyter.widget-view+json": {
       "model_id": "af5f005c0bbe44b7839e99f25f94439c",
       "version_major": 2,
       "version_minor": 0
      },
      "text/plain": [
       "HBox(children=(IntProgress(value=0, max=80447), HTML(value='')))"
      ]
     },
     "metadata": {},
     "output_type": "display_data"
    },
    {
     "name": "stdout",
     "output_type": "stream",
     "text": [
      "\n",
      "80447\n"
     ]
    }
   ],
   "source": [
    "from sklearn.metrics import precision_recall_curve, auc, f1_score\n",
    "closure_similarity = []\n",
    "for t in tqdm_notebook(open_train):\n",
    "    similarity_scores = []\n",
    "    for u,v in itertools.combinations(t,2):\n",
    "        uf = str(u)\n",
    "        vf = str(v)\n",
    "        if uf in model.wv and vf in model.wv:\n",
    "            similarity_scores.append(model.wv.similarity(uf,vf))\n",
    "    if len(similarity_scores):\n",
    "        closure_similarity.append(np.mean(similarity_scores))\n",
    "    else:\n",
    "        closure_similarity.append(0)\n",
    "  \n",
    "print(len(closure_similarity))"
   ]
  },
  {
   "cell_type": "code",
   "execution_count": 66,
   "metadata": {},
   "outputs": [
    {
     "name": "stdout",
     "output_type": "stream",
     "text": [
      "AUCPR RND: 0.008514922868472408 | AUCPR S2V: 0.02767959984197677\n",
      "Ratio as in Kleinberg --  AUCPR S2V/AUCPR RND : 3.2507164503467236\n"
     ]
    },
    {
     "data": {
      "image/png": "[encoded data removed]",
      "text/plain": [
       "<Figure size 384x288 with 1 Axes>"
      ]
     },
     "metadata": {
      "needs_background": "light"
     },
     "output_type": "display_data"
    }
   ],
   "source": [
    "s2v_precision, s2v_recall, _ = precision_recall_curve(y_true, closure_similarity)\n",
    "null_recall = np.linspace(0,1,len(prediction_null_model))\n",
    "\n",
    "aucpr_null = auc(null_recall, prediction_null_model)\n",
    "aucpr_s2v = auc(s2v_recall, s2v_precision)\n",
    "\n",
    "print(\"AUCPR RND: {} | AUCPR S2V: {}\".format(aucpr_null, aucpr_s2v))\n",
    "kleinberg_ratio = aucpr_s2v/aucpr_null\n",
    "print(\"Ratio as in Kleinberg --  AUCPR S2V/AUCPR RND :\", kleinberg_ratio)\n",
    "\n",
    "plt.figure(figsize = (4,3), dpi = 96)\n",
    "plt.title(\"Primary-school, PR curve, \\n sum pairwise similarity - plain Word2Vec\")\n",
    "plt.plot(null_recall, prediction_null_model)\n",
    "plt.plot(s2v_recall, s2v_precision)\n",
    "\n",
    "ax = plt.gca()\n",
    "plt_label = \"AUCPR S2V/AUCPR RND : {}\".format(round(kleinberg_ratio,2))\n",
    "text_params = {'ha': 'center', 'va': 'center', 'family': 'sans-serif',\n",
    "                   'fontweight': 'bold', \"size\": 10}\n",
    "plt.text(0.6,0.9, plt_label, color = \"white\", \n",
    "         bbox=dict(facecolor='black', alpha=0.8), transform=ax.transAxes, **text_params)\n",
    "plt.show()"
   ]
  },
  {
   "cell_type": "markdown",
   "metadata": {},
   "source": [
    "# Scoring the closing triangles - v2\n",
    "\n",
    "In v2 we use sum of all average pairwise similarities of simplices that pass through the edges that constitute a triangle. The results a disappointing as well."
   ]
  },
  {
   "cell_type": "code",
   "execution_count": 61,
   "metadata": {},
   "outputs": [
    {
     "data": {
      "application/vnd.jupyter.widget-view+json": {
       "model_id": "0494fd0b4cef4167bfc6908d2ac2203b",
       "version_major": 2,
       "version_minor": 0
      },
      "text/plain": [
       "HBox(children=(IntProgress(value=0, max=80447), HTML(value='')))"
      ]
     },
     "metadata": {},
     "output_type": "display_data"
    },
    {
     "name": "stdout",
     "output_type": "stream",
     "text": [
      "\n",
      "80447\n",
      "Histogram of perimeters of open train triangles\n"
     ]
    },
    {
     "data": {
      "image/png": "[encoded data removed]",
      "text/plain": [
       "<Figure size 432x288 with 1 Axes>"
      ]
     },
     "metadata": {
      "needs_background": "light"
     },
     "output_type": "display_data"
    }
   ],
   "source": [
    "# All open triangles from the train set\n",
    "from scipy.stats.mstats import gmean\n",
    "from scipy.stats import hmean\n",
    "\n",
    "mega_closure_similarity = []\n",
    "for t in tqdm_notebook(list(open_train)):\n",
    "    similarity_scores = []\n",
    "    for u,v in itertools.combinations(t,2):\n",
    "        passing_simplices = g_train[u][v][\"simplices\"]\n",
    "        passing_simplices_similarities = []\n",
    "        for s1,s2 in itertools.combinations(passing_simplices,2):\n",
    "            for x,y in itertools.product(s1,s2):\n",
    "                if x != y:\n",
    "                    xs = str(x)\n",
    "                    ys = str(y)\n",
    "                    sim_score = model.wv.similarity(xs, ys)\n",
    "                    passing_simplices_similarities.append(sim_score)\n",
    "        if len(passing_simplices_similarities):\n",
    "            similarity_scores.append(np.mean(passing_simplices_similarities))\n",
    "        else:\n",
    "            similarity_scores.append(0)\n",
    "    mega_closure_similarity.append(np.sum(similarity_scores))\n",
    "print(len(mega_closure_similarity))\n",
    "\n",
    "print('Histogram of perimeters of open train triangles')\n",
    "hist, bins = np.histogram(mega_closure_similarity, bins = 10)\n",
    "bin_width = bins[1] - bins[0]\n",
    "plt.bar(bins[:-1], hist, width = 0.88*bin_width)\n",
    "plt.show()"
   ]
  },
  {
   "cell_type": "code",
   "execution_count": 62,
   "metadata": {},
   "outputs": [
    {
     "data": {
      "application/vnd.jupyter.widget-view+json": {
       "model_id": "aed5546179534e0f9821549cff21ca2a",
       "version_major": 2,
       "version_minor": 0
      },
      "text/plain": [
       "HBox(children=(IntProgress(value=0, max=685), HTML(value='')))"
      ]
     },
     "metadata": {},
     "output_type": "display_data"
    },
    {
     "name": "stdout",
     "output_type": "stream",
     "text": [
      "\n"
     ]
    },
    {
     "ename": "KeyError",
     "evalue": "\"word '29,52,242' not in vocabulary\"",
     "output_type": "error",
     "traceback": [
      "\u001b[0;31m\u001b[0m",
      "\u001b[0;31mKeyError\u001b[0mTraceback (most recent call last)",
      "\u001b[0;32m<ipython-input-62-6c14d760743a>\u001b[0m in \u001b[0;36m<module>\u001b[0;34m\u001b[0m\n\u001b[1;32m     12\u001b[0m             \u001b[0ms2_int\u001b[0m \u001b[0;34m=\u001b[0m \u001b[0msorted\u001b[0m\u001b[0;34m(\u001b[0m\u001b[0;34m[\u001b[0m\u001b[0mint\u001b[0m\u001b[0;34m(\u001b[0m\u001b[0mx\u001b[0m\u001b[0;34m)\u001b[0m \u001b[0;32mfor\u001b[0m \u001b[0mx\u001b[0m \u001b[0;32min\u001b[0m \u001b[0mlist\u001b[0m\u001b[0;34m(\u001b[0m\u001b[0ms2\u001b[0m\u001b[0;34m)\u001b[0m\u001b[0;34m]\u001b[0m\u001b[0;34m)\u001b[0m\u001b[0;34m\u001b[0m\u001b[0m\n\u001b[1;32m     13\u001b[0m             \u001b[0ms2_model\u001b[0m \u001b[0;34m=\u001b[0m \u001b[0;34m\",\"\u001b[0m\u001b[0;34m.\u001b[0m\u001b[0mjoin\u001b[0m\u001b[0;34m(\u001b[0m\u001b[0;34m[\u001b[0m\u001b[0mstr\u001b[0m\u001b[0;34m(\u001b[0m\u001b[0mx\u001b[0m\u001b[0;34m)\u001b[0m \u001b[0;32mfor\u001b[0m \u001b[0mx\u001b[0m \u001b[0;32min\u001b[0m \u001b[0ms2_int\u001b[0m\u001b[0;34m]\u001b[0m\u001b[0;34m)\u001b[0m\u001b[0;34m\u001b[0m\u001b[0m\n\u001b[0;32m---> 14\u001b[0;31m             \u001b[0mpassing_simplices_similarities\u001b[0m\u001b[0;34m.\u001b[0m\u001b[0mappend\u001b[0m\u001b[0;34m(\u001b[0m\u001b[0mmodel\u001b[0m\u001b[0;34m.\u001b[0m\u001b[0mwv\u001b[0m\u001b[0;34m.\u001b[0m\u001b[0msimilarity\u001b[0m\u001b[0;34m(\u001b[0m\u001b[0ms1_model\u001b[0m\u001b[0;34m,\u001b[0m\u001b[0ms2_model\u001b[0m\u001b[0;34m)\u001b[0m\u001b[0;34m)\u001b[0m\u001b[0;34m\u001b[0m\u001b[0m\n\u001b[0m\u001b[1;32m     15\u001b[0m         \u001b[0;32mif\u001b[0m \u001b[0mlen\u001b[0m\u001b[0;34m(\u001b[0m\u001b[0mpassing_simplices_similarities\u001b[0m\u001b[0;34m)\u001b[0m\u001b[0;34m:\u001b[0m\u001b[0;34m\u001b[0m\u001b[0m\n\u001b[1;32m     16\u001b[0m             \u001b[0msimilarity_scores\u001b[0m\u001b[0;34m.\u001b[0m\u001b[0mappend\u001b[0m\u001b[0;34m(\u001b[0m\u001b[0mnp\u001b[0m\u001b[0;34m.\u001b[0m\u001b[0mmean\u001b[0m\u001b[0;34m(\u001b[0m\u001b[0mpassing_simplices_similarities\u001b[0m\u001b[0;34m)\u001b[0m\u001b[0;34m)\u001b[0m\u001b[0;34m\u001b[0m\u001b[0m\n",
      "\u001b[0;32m/usr/local/lib/python3.5/dist-packages/gensim/models/keyedvectors.py\u001b[0m in \u001b[0;36msimilarity\u001b[0;34m(self, w1, w2)\u001b[0m\n\u001b[1;32m    972\u001b[0m \u001b[0;34m\u001b[0m\u001b[0m\n\u001b[1;32m    973\u001b[0m         \"\"\"\n\u001b[0;32m--> 974\u001b[0;31m         \u001b[0;32mreturn\u001b[0m \u001b[0mdot\u001b[0m\u001b[0;34m(\u001b[0m\u001b[0mmatutils\u001b[0m\u001b[0;34m.\u001b[0m\u001b[0munitvec\u001b[0m\u001b[0;34m(\u001b[0m\u001b[0mself\u001b[0m\u001b[0;34m[\u001b[0m\u001b[0mw1\u001b[0m\u001b[0;34m]\u001b[0m\u001b[0;34m)\u001b[0m\u001b[0;34m,\u001b[0m \u001b[0mmatutils\u001b[0m\u001b[0;34m.\u001b[0m\u001b[0munitvec\u001b[0m\u001b[0;34m(\u001b[0m\u001b[0mself\u001b[0m\u001b[0;34m[\u001b[0m\u001b[0mw2\u001b[0m\u001b[0;34m]\u001b[0m\u001b[0;34m)\u001b[0m\u001b[0;34m)\u001b[0m\u001b[0;34m\u001b[0m\u001b[0m\n\u001b[0m\u001b[1;32m    975\u001b[0m \u001b[0;34m\u001b[0m\u001b[0m\n\u001b[1;32m    976\u001b[0m     \u001b[0;32mdef\u001b[0m \u001b[0mn_similarity\u001b[0m\u001b[0;34m(\u001b[0m\u001b[0mself\u001b[0m\u001b[0;34m,\u001b[0m \u001b[0mws1\u001b[0m\u001b[0;34m,\u001b[0m \u001b[0mws2\u001b[0m\u001b[0;34m)\u001b[0m\u001b[0;34m:\u001b[0m\u001b[0;34m\u001b[0m\u001b[0m\n",
      "\u001b[0;32m/usr/local/lib/python3.5/dist-packages/gensim/models/keyedvectors.py\u001b[0m in \u001b[0;36m__getitem__\u001b[0;34m(self, entities)\u001b[0m\n\u001b[1;32m    351\u001b[0m         \u001b[0;32mif\u001b[0m \u001b[0misinstance\u001b[0m\u001b[0;34m(\u001b[0m\u001b[0mentities\u001b[0m\u001b[0;34m,\u001b[0m \u001b[0mstring_types\u001b[0m\u001b[0;34m)\u001b[0m\u001b[0;34m:\u001b[0m\u001b[0;34m\u001b[0m\u001b[0m\n\u001b[1;32m    352\u001b[0m             \u001b[0;31m# allow calls like trained_model['office'], as a shorthand for trained_model[['office']]\u001b[0m\u001b[0;34m\u001b[0m\u001b[0;34m\u001b[0m\u001b[0m\n\u001b[0;32m--> 353\u001b[0;31m             \u001b[0;32mreturn\u001b[0m \u001b[0mself\u001b[0m\u001b[0;34m.\u001b[0m\u001b[0mget_vector\u001b[0m\u001b[0;34m(\u001b[0m\u001b[0mentities\u001b[0m\u001b[0;34m)\u001b[0m\u001b[0;34m\u001b[0m\u001b[0m\n\u001b[0m\u001b[1;32m    354\u001b[0m \u001b[0;34m\u001b[0m\u001b[0m\n\u001b[1;32m    355\u001b[0m         \u001b[0;32mreturn\u001b[0m \u001b[0mvstack\u001b[0m\u001b[0;34m(\u001b[0m\u001b[0;34m[\u001b[0m\u001b[0mself\u001b[0m\u001b[0;34m.\u001b[0m\u001b[0mget_vector\u001b[0m\u001b[0;34m(\u001b[0m\u001b[0mentity\u001b[0m\u001b[0;34m)\u001b[0m \u001b[0;32mfor\u001b[0m \u001b[0mentity\u001b[0m \u001b[0;32min\u001b[0m \u001b[0mentities\u001b[0m\u001b[0;34m]\u001b[0m\u001b[0;34m)\u001b[0m\u001b[0;34m\u001b[0m\u001b[0m\n",
      "\u001b[0;32m/usr/local/lib/python3.5/dist-packages/gensim/models/keyedvectors.py\u001b[0m in \u001b[0;36mget_vector\u001b[0;34m(self, word)\u001b[0m\n\u001b[1;32m    469\u001b[0m \u001b[0;34m\u001b[0m\u001b[0m\n\u001b[1;32m    470\u001b[0m     \u001b[0;32mdef\u001b[0m \u001b[0mget_vector\u001b[0m\u001b[0;34m(\u001b[0m\u001b[0mself\u001b[0m\u001b[0;34m,\u001b[0m \u001b[0mword\u001b[0m\u001b[0;34m)\u001b[0m\u001b[0;34m:\u001b[0m\u001b[0;34m\u001b[0m\u001b[0m\n\u001b[0;32m--> 471\u001b[0;31m         \u001b[0;32mreturn\u001b[0m \u001b[0mself\u001b[0m\u001b[0;34m.\u001b[0m\u001b[0mword_vec\u001b[0m\u001b[0;34m(\u001b[0m\u001b[0mword\u001b[0m\u001b[0;34m)\u001b[0m\u001b[0;34m\u001b[0m\u001b[0m\n\u001b[0m\u001b[1;32m    472\u001b[0m \u001b[0;34m\u001b[0m\u001b[0m\n\u001b[1;32m    473\u001b[0m     \u001b[0;32mdef\u001b[0m \u001b[0mwords_closer_than\u001b[0m\u001b[0;34m(\u001b[0m\u001b[0mself\u001b[0m\u001b[0;34m,\u001b[0m \u001b[0mw1\u001b[0m\u001b[0;34m,\u001b[0m \u001b[0mw2\u001b[0m\u001b[0;34m)\u001b[0m\u001b[0;34m:\u001b[0m\u001b[0;34m\u001b[0m\u001b[0m\n",
      "\u001b[0;32m/usr/local/lib/python3.5/dist-packages/gensim/models/keyedvectors.py\u001b[0m in \u001b[0;36mword_vec\u001b[0;34m(self, word, use_norm)\u001b[0m\n\u001b[1;32m    466\u001b[0m             \u001b[0;32mreturn\u001b[0m \u001b[0mresult\u001b[0m\u001b[0;34m\u001b[0m\u001b[0m\n\u001b[1;32m    467\u001b[0m         \u001b[0;32melse\u001b[0m\u001b[0;34m:\u001b[0m\u001b[0;34m\u001b[0m\u001b[0m\n\u001b[0;32m--> 468\u001b[0;31m             \u001b[0;32mraise\u001b[0m \u001b[0mKeyError\u001b[0m\u001b[0;34m(\u001b[0m\u001b[0;34m\"word '%s' not in vocabulary\"\u001b[0m \u001b[0;34m%\u001b[0m \u001b[0mword\u001b[0m\u001b[0;34m)\u001b[0m\u001b[0;34m\u001b[0m\u001b[0m\n\u001b[0m\u001b[1;32m    469\u001b[0m \u001b[0;34m\u001b[0m\u001b[0m\n\u001b[1;32m    470\u001b[0m     \u001b[0;32mdef\u001b[0m \u001b[0mget_vector\u001b[0m\u001b[0;34m(\u001b[0m\u001b[0mself\u001b[0m\u001b[0;34m,\u001b[0m \u001b[0mword\u001b[0m\u001b[0;34m)\u001b[0m\u001b[0;34m:\u001b[0m\u001b[0;34m\u001b[0m\u001b[0m\n",
      "\u001b[0;31mKeyError\u001b[0m: \"word '29,52,242' not in vocabulary\""
     ]
    }
   ],
   "source": [
    "# Only those triangles which further close\n",
    "future_close_triangles_dist = []\n",
    "for t in tqdm_notebook(closed_from_test):\n",
    "    similarity_scores = []\n",
    "    triangle_edges = [\",\".join([str(u), str(v)]) for u,v in itertools.combinations(t,2)]\n",
    "    for u, v in itertools.combinations(list(t),2):\n",
    "        passing_simplices = g_train[u][v][\"simplices\"]\n",
    "        passing_simplices_similarities = []\n",
    "        for s1,s2 in itertools.combinations(passing_simplices,2):\n",
    "            s1_int = sorted([int(x) for x in list(s1)])\n",
    "            s1_model = \",\".join([str(x) for x in s1_int])\n",
    "            s2_int = sorted([int(x) for x in list(s2)])\n",
    "            s2_model = \",\".join([str(x) for x in s2_int])\n",
    "            passing_simplices_similarities.append(model.wv.similarity(s1_model,s2_model))\n",
    "        if len(passing_simplices_similarities):\n",
    "            similarity_scores.append(np.mean(passing_simplices_similarities))\n",
    "        else:\n",
    "            similarity_scores.append(0)\n",
    "    future_close_triangles_dist.append(np.sum(similarity_scores))\n",
    "print(len(future_close_triangles_dist))\n",
    "\n",
    "print('Histogram of perimeters of future close triangles')\n",
    "hist, bins = np.histogram(future_close_triangles_dist, bins = 10)\n",
    "bin_width = bins[1] - bins[0]\n",
    "plt.bar(bins[:-1], hist, width = 0.88*bin_width)\n",
    "plt.show()"
   ]
  },
  {
   "cell_type": "code",
   "execution_count": null,
   "metadata": {},
   "outputs": [],
   "source": [
    "plt.figure(figsize = (6,4), dpi = 120)\n",
    "\n",
    "print('Histogram of perimeters of open train triangles')\n",
    "hist, bins = np.histogram(mega_closure_similarity, bins = 10, density=True)\n",
    "bin_width = bins[1] - bins[0]\n",
    "plt.bar(bins[:-1], hist, width = 0.88*bin_width, color = \"C2\", label = \"All open test triangles\", alpha = 0.9)\n",
    "\n",
    "print('Histogram of perimeters of future close triangles')\n",
    "hist, bins = np.histogram(np.array(future_close_triangles_dist), bins = 10, density=True)\n",
    "bin_width = bins[1] - bins[0]\n",
    "plt.bar(bins[:-1], hist, width = 0.88*bin_width, color = \"C0\", label = \"Triangles that further close\", alpha = 0.7)\n",
    "plt.legend(loc = \"best\")\n",
    "plt.ylabel(\"Density\")\n",
    "plt.xlabel(\"Sum of avg cosine similarities\")\n",
    "plt.title(\"Histogram of avg cosine distances for all open\\n triangles and those which eventually close\")\n",
    "plt.show()"
   ]
  },
  {
   "cell_type": "code",
   "execution_count": 65,
   "metadata": {},
   "outputs": [
    {
     "name": "stdout",
     "output_type": "stream",
     "text": [
      "AUCPR RND: 0.008514922868472408 | AUCPR S2V: 0.02834886842798847\n",
      "Ratio as in Kleinberg --  AUCPR S2V/AUCPR RND : 3.3293159393085974\n"
     ]
    },
    {
     "data": {
      "image/png": "[encoded data removed]",
      "text/plain": [
       "<Figure size 384x288 with 1 Axes>"
      ]
     },
     "metadata": {
      "needs_background": "light"
     },
     "output_type": "display_data"
    }
   ],
   "source": [
    "s2v_precision, s2v_recall, _ = precision_recall_curve(y_true, mega_closure_similarity)\n",
    "\n",
    "null_recall = np.linspace(0,1,len(prediction_null_model))\n",
    "aucpr_null = auc(null_recall, prediction_null_model)\n",
    "aucpr_s2v = auc(s2v_recall, s2v_precision)\n",
    "\n",
    "print(\"AUCPR RND: {} | AUCPR S2V: {}\".format(aucpr_null, aucpr_s2v))\n",
    "kleinberg_ratio = aucpr_s2v/aucpr_null\n",
    "print(\"Ratio as in Kleinberg --  AUCPR S2V/AUCPR RND :\", kleinberg_ratio)\n",
    "\n",
    "plt.figure(figsize = (4,3), dpi = 96)\n",
    "plt.plot(null_recall, prediction_null_model)\n",
    "plt.plot(s2v_recall, s2v_precision)\n",
    "plt.title(\"Primary-school, PR curve, \\n Mega score - plain Word2Vec\")\n",
    "\n",
    "ax = plt.gca()\n",
    "plt_label = \"AUCPR S2V/AUCPR RND : {}\".format(round(kleinberg_ratio,2))\n",
    "text_params = {'ha': 'center', 'va': 'center', 'family': 'sans-serif',\n",
    "                   'fontweight': 'bold', \"size\": 10}\n",
    "plt.text(0.6,0.9, plt_label, color = \"white\", \n",
    "         bbox=dict(facecolor='black', alpha=0.8), transform=ax.transAxes, **text_params)\n",
    "\n",
    "plt.show()"
   ]
  },
  {
   "cell_type": "code",
   "execution_count": null,
   "metadata": {},
   "outputs": [],
   "source": [
    "for clos_sim, y_t in list(zip(closure_similarity, y_true)):\n",
    "    if clos_sim > 2.3:\n",
    "        print(round(clos_sim, 2), y_t)"
   ]
  },
  {
   "cell_type": "markdown",
   "metadata": {},
   "source": [
    "# Kleinberg Geometric mean "
   ]
  },
  {
   "cell_type": "code",
   "execution_count": null,
   "metadata": {},
   "outputs": [],
   "source": [
    "from scipy.stats.mstats import gmean\n",
    "\n",
    "geom_mean_similarity = []\n",
    "for t in tqdm_notebook(open_train):\n",
    "    similarity_scores = []\n",
    "    for u,v in itertools.combinations(t,2):\n",
    "        similarity_scores.append(len(g_train[u][v][\"simplices\"]))\n",
    "    geom_mean_similarity.append(gmean(similarity_scores))"
   ]
  },
  {
   "cell_type": "code",
   "execution_count": null,
   "metadata": {},
   "outputs": [],
   "source": [
    "s2v_precision, s2v_recall, _ = precision_recall_curve(y_true, geom_mean_similarity)\n",
    "\n",
    "null_recall = np.linspace(0,1,len(prediction_null_model))\n",
    "aucpr_null = auc(null_recall, prediction_null_model)\n",
    "aucpr_s2v = auc(s2v_recall, s2v_precision)\n",
    "\n",
    "print(\"AUCPR RND: {} | AUCPR S2V: {}\".format(aucpr_null, aucpr_s2v))\n",
    "kleinberg_ratio = aucpr_s2v/aucpr_null\n",
    "print(\"Ratio as in Kleinberg --  AUCPR S2V/AUCPR RND :\", kleinberg_ratio)\n",
    "\n",
    "plt.plot(null_recall, prediction_null_model)\n",
    "plt.plot(s2v_recall, s2v_precision)\n",
    "plt.show()"
   ]
  },
  {
   "cell_type": "code",
   "execution_count": null,
   "metadata": {},
   "outputs": [],
   "source": [
    "from scipy.stats.mstats import gmean\n",
    "\n",
    "future_close_geom_mean_similarity = []\n",
    "for t in tqdm_notebook(closed_from_test):\n",
    "    similarity_scores = []\n",
    "    for u,v in itertools.combinations(t,2):\n",
    "        similarity_scores.append(len(g_train[u][v][\"simplices\"]))\n",
    "    future_close_geom_mean_similarity.append(gmean(similarity_scores))"
   ]
  },
  {
   "cell_type": "code",
   "execution_count": null,
   "metadata": {},
   "outputs": [],
   "source": [
    "plt.figure(figsize = (6,4), dpi = 120)\n",
    "\n",
    "print('Geometric mean Kleinberg of open train triangles')\n",
    "hist, bins = np.histogram(geom_mean_similarity, bins = 10, density=True)\n",
    "bin_width = bins[1] - bins[0]\n",
    "plt.bar(bins[:-1], hist, width = 0.88*bin_width, color = \"C2\", label = \"All open test triangles\", alpha = 0.9)\n",
    "\n",
    "print('Geometric mean Kleinberg of future close triangles')\n",
    "hist, bins = np.histogram(future_close_geom_mean_similarity, bins = 10, density=True)\n",
    "bin_width = bins[1] - bins[0]\n",
    "plt.bar(bins[:-1], hist, width = 0.88*bin_width, color = \"C0\", label = \"Triangles that further close\", alpha = 0.7)\n",
    "plt.legend(loc = \"best\")\n",
    "plt.show()"
   ]
  },
  {
   "cell_type": "code",
   "execution_count": null,
   "metadata": {},
   "outputs": [],
   "source": []
  }
 ],
 "metadata": {
  "kernelspec": {
   "display_name": "Python 3",
   "language": "python",
   "name": "python3"
  },
  "language_info": {
   "codemirror_mode": {
    "name": "ipython",
    "version": 3
   },
   "file_extension": ".py",
   "mimetype": "text/x-python",
   "name": "python",
   "nbconvert_exporter": "python",
   "pygments_lexer": "ipython3",
   "version": "3.5.3"
  }
 },
 "nbformat": 4,
 "nbformat_minor": 2
}
